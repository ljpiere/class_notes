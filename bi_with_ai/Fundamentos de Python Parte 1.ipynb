{
 "cells": [
  {
   "cell_type": "markdown",
   "metadata": {
    "id": "nQRZ3u_b9bZd"
   },
   "source": [
    "# Fundamentos de Python\n",
    "\n",
    "## Python Notebooks\n",
    "Los notebooks de Python proveen un ambiente interactivo para experimentación de código, visualización y publicación de resultados.\n",
    "\n",
    "Las casillas de color gris claro que se encuentran a continuación se denominan celdas y estas pueden contener código (code) o texto formateado (Markdown).\n",
    "\n",
    "* [Flechas arriba / abajo] Mover arriba y abajo de celda a celda.\n",
    "* [Enter] Ingresa una celda para editarla.\n",
    "* [Shift + Enter] Evalúa una celda, muestra el resultado y pasa a la siguiente celda.\n",
    "* [Ctrl + Enter] Evalúa una celda, muestra el resultado y permanece en la celda.\n",
    "* [Alt + Enter] Evalúa una celda, muestra el resultado e inserta una celda abajo.\n",
    "* [Esc] - [D] - [D] Eliminar una celda.\n",
    "* [Esc] - [Z] Deshacer eliminar una celda.\n",
    "* [Esc] - [B] Insertar una celda debajo de la celda actual.\n",
    "* [Esc] - [A] Insertar una celda sobre la celda actual.\n",
    "* [Esc] - [M] Convierte la celda de código en markdown.\n",
    "* [Esc] - [Y] Convierte la celda de Markdown a código.\n",
    "\n",
    "Para más atajos de teclado vaya al menú Ayuda -> Atajos de teclado"
   ]
  },
  {
   "cell_type": "markdown",
   "metadata": {
    "id": "sXKKKcpE9oUB"
   },
   "source": [
    "## Variables en Python\n",
    "\n",
    "**Variable**: Es donde se guarda determinada información (texto, números, booleanas, etc.)\n",
    "\n",
    "Cada variable tiene un nombre para referirse a ella, Python tiene en cuenta si escribimos en mayúsculas o minúsculas la variable (case sensitive).\n",
    "\n",
    "Para definir variables en Python se realiza de la siguiente manera:\n",
    "\n",
    "```python\n",
    "# Asignando un valor\n",
    "variable = valor\n",
    "# Asignando varios valores\n",
    "variable1, variable2 = valor1, valor2\n",
    "```\n",
    "\n",
    "Python al asignar la variable define cual es el tipo de datos más apropiado.  \n",
    "\n",
    "### Números\n",
    "\n",
    "En números hay dos tipos principales, los números enteros (int) y los reales (float).  El separador decimal es el punto.\n",
    "\n",
    "```python\n",
    "entero = 2\n",
    "real = 2.5\n",
    "```\n",
    "\n",
    "### Texto\n",
    "\n",
    "Las variables que almacenan texto se denominan strings (str).  Se deben de poner entre commillas sencillas o dobles, si el texto es multilinea con triple comilla.\n",
    "\n",
    "```python\n",
    "cadena = \"Hola\"\n",
    "cadena = 'Hola'\n",
    "multilinea = \"\"\" Hola\n",
    "                Mundo \"\"\"\n",
    "multilinea = ''' Hola\n",
    "                Mundo '''             \n",
    "```\n",
    "\n",
    "### Listas\n",
    "\n",
    "Son conjuntos ordenados de elementos (números, texto, listas, etc). Se delimitan por corchetes (`[]`) y los elementos se separan por comas. Las listas son dinamicas, es decir que son mutables.\n",
    "\n",
    "```python\n",
    "listaNumeros = [1,2,3]\n",
    "listaCadenas = ['a','b','c']\n",
    "listaListas = [[1,2],[3,4],[5,6]]\n",
    "listaMixtas = [1,'Grupo',[1,2,3,4]]\n",
    "listaVacia = []\n",
    "```\n",
    "\n",
    "### Tuplas\n",
    "\n",
    "Es un conjunto ordenado e inmutable de elementos del mismo o diferente tipo. Las tuplas se representan escribiendo los elementos entre paréntesis (`()`) y separados por comas. Las tuplas son estaticas, son inmutables, una vez creada no puede ser modificada.\n",
    "\n",
    "```python\n",
    "tuplaNumeros = (1,2,3)\n",
    "tuplaCadenas = ('a','b','c')\n",
    "tuplaListas = ([1,2],[3,4],[5,6])\n",
    "tuplaMixtas = (1,'Grupo',[1,2,3,4])\n",
    "```\n",
    "\n",
    "### Diccionarios\n",
    "\n",
    "Permite almacenar cualquier tipo de valor como enteros, cadenas, listas, etc.  Los diccionarios permiten además identificar cada elemento por una clave (key)\n",
    "\n",
    "```python\n",
    "dictNumeros = {'k1':1,'k2':2}\n",
    "dictCadenas = {'k1':'a','k2':'b','k3':'c'}\n",
    "dictListas = {'k1':[1,2],'k2':[3,4],'k3':[5,6]}\n",
    "dictMixto = {'k1':1,'k2':'Grupo','k3':[1,2,3,4]}\n",
    "```\n",
    "\n",
    "### Booleano\n",
    "\n",
    "Una variable booleana es una variable que sólo puede tomar dos posibles valores: Verdadero (True) o Falso (False).\n",
    "\n",
    "```python\n",
    "verdadero = True\n",
    "falso = False\n",
    "```\n",
    "\n",
    "### None\n",
    "\n",
    "Es el tipo de dato que en otros lenguajes se conoce como Nulo (NAN).  En Python es NoneType.\n",
    "\n",
    "```python\n",
    "nulo = None\n",
    "```\n",
    "\n",
    "### Imprimir variables\n",
    "\n",
    "El comando `print(variable)` imprime el valor de la variable.\n",
    "\n",
    "\n",
    "### Comentarios\n",
    "\n",
    "Los comentarios en linea se define con `#`"
   ]
  },
  {
   "cell_type": "code",
   "execution_count": 139,
   "metadata": {
    "id": "bQIyZLg4ExwB"
   },
   "outputs": [],
   "source": [
    "dict = {5 : 3}"
   ]
  },
  {
   "cell_type": "code",
   "execution_count": 140,
   "metadata": {
    "colab": {
     "base_uri": "https://localhost:8080/"
    },
    "executionInfo": {
     "elapsed": 203,
     "status": "ok",
     "timestamp": 1714163024535,
     "user": {
      "displayName": "Christian Arias",
      "userId": "06594569667371018215"
     },
     "user_tz": 300
    },
    "id": "lzetR0nzE7xn",
    "outputId": "c4465653-3ac8-426b-e9be-2bbb93200c9d"
   },
   "outputs": [
    {
     "data": {
      "text/plain": [
       "3"
      ]
     },
     "execution_count": 140,
     "metadata": {},
     "output_type": "execute_result"
    }
   ],
   "source": [
    "dict.get(5)"
   ]
  },
  {
   "cell_type": "code",
   "execution_count": 141,
   "metadata": {
    "colab": {
     "base_uri": "https://localhost:8080/"
    },
    "executionInfo": {
     "elapsed": 183,
     "status": "ok",
     "timestamp": 1714163054794,
     "user": {
      "displayName": "Christian Arias",
      "userId": "06594569667371018215"
     },
     "user_tz": 300
    },
    "id": "1WGZbChQFDbt",
    "outputId": "fc009cdc-c765-4719-9924-45a91701464b"
   },
   "outputs": [
    {
     "data": {
      "text/plain": [
       "3"
      ]
     },
     "execution_count": 141,
     "metadata": {},
     "output_type": "execute_result"
    }
   ],
   "source": [
    "dict[5]"
   ]
  },
  {
   "cell_type": "code",
   "execution_count": 142,
   "metadata": {
    "colab": {
     "base_uri": "https://localhost:8080/"
    },
    "executionInfo": {
     "elapsed": 221,
     "status": "ok",
     "timestamp": 1714164291851,
     "user": {
      "displayName": "Christian Arias",
      "userId": "06594569667371018215"
     },
     "user_tz": 300
    },
    "id": "BFipE-Vt9n-3",
    "outputId": "037297eb-3d27-4df8-a9d2-2cce1e26642c"
   },
   "outputs": [
    {
     "name": "stdout",
     "output_type": "stream",
     "text": [
      "Es un entero:  5\n"
     ]
    }
   ],
   "source": [
    "# Declarando un entero (int)\n",
    "x = 5\n",
    "print(\"Es un entero: \", x)"
   ]
  },
  {
   "cell_type": "code",
   "execution_count": 143,
   "metadata": {
    "colab": {
     "base_uri": "https://localhost:8080/"
    },
    "executionInfo": {
     "elapsed": 391,
     "status": "ok",
     "timestamp": 1714164292997,
     "user": {
      "displayName": "Christian Arias",
      "userId": "06594569667371018215"
     },
     "user_tz": 300
    },
    "id": "Okg6MQ0Wcxt_",
    "outputId": "4cb1e7bc-df4b-4d8b-c645-875392ad5a6d"
   },
   "outputs": [
    {
     "data": {
      "text/plain": [
       "5"
      ]
     },
     "execution_count": 143,
     "metadata": {},
     "output_type": "execute_result"
    }
   ],
   "source": [
    "x"
   ]
  },
  {
   "cell_type": "code",
   "execution_count": 144,
   "metadata": {
    "colab": {
     "base_uri": "https://localhost:8080/",
     "height": 36
    },
    "executionInfo": {
     "elapsed": 24,
     "status": "ok",
     "timestamp": 1714164292997,
     "user": {
      "displayName": "Christian Arias",
      "userId": "06594569667371018215"
     },
     "user_tz": 300
    },
    "id": "SbQ89mjKFc5I",
    "outputId": "e3a8c500-9a9b-464b-8359-98c9c68e9752"
   },
   "outputs": [
    {
     "data": {
      "text/plain": [
       "' Este es\\nun comentario\\nmultilinea '"
      ]
     },
     "execution_count": 144,
     "metadata": {},
     "output_type": "execute_result"
    }
   ],
   "source": [
    "\"\"\" Este es\n",
    "un comentario\n",
    "multilinea \"\"\"\n"
   ]
  },
  {
   "cell_type": "code",
   "execution_count": 145,
   "metadata": {
    "colab": {
     "base_uri": "https://localhost:8080/"
    },
    "executionInfo": {
     "elapsed": 24,
     "status": "ok",
     "timestamp": 1714164292998,
     "user": {
      "displayName": "Christian Arias",
      "userId": "06594569667371018215"
     },
     "user_tz": 300
    },
    "id": "9PwUJ1adFreY",
    "outputId": "183ca306-cd62-41ed-e86e-f3481a5ad743"
   },
   "outputs": [
    {
     "name": "stdout",
     "output_type": "stream",
     "text": [
      "Es un real:  2.5\n"
     ]
    }
   ],
   "source": [
    "# Declarando un real (float)\n",
    "y = 2.5\n",
    "print(\"Es un real: \", y)"
   ]
  },
  {
   "cell_type": "code",
   "execution_count": 146,
   "metadata": {
    "colab": {
     "base_uri": "https://localhost:8080/"
    },
    "executionInfo": {
     "elapsed": 19,
     "status": "ok",
     "timestamp": 1714164292998,
     "user": {
      "displayName": "Christian Arias",
      "userId": "06594569667371018215"
     },
     "user_tz": 300
    },
    "id": "F_m4IRhqEo9r",
    "outputId": "e9c998d0-f1e9-4daf-b39f-43f74073e670"
   },
   "outputs": [
    {
     "name": "stdout",
     "output_type": "stream",
     "text": [
      "Hola Mundo  Grupo\n",
      "Hola Mundo Grupo\n"
     ]
    }
   ],
   "source": [
    "# Declarando un texto\n",
    "mensaje = \"Hola Mundo\"\n",
    "print(mensaje, \" Grupo\")\n",
    "mensaje = 'Hola Mundo'\n",
    "print(mensaje, \"Grupo\")"
   ]
  },
  {
   "cell_type": "code",
   "execution_count": 147,
   "metadata": {
    "colab": {
     "base_uri": "https://localhost:8080/"
    },
    "executionInfo": {
     "elapsed": 18,
     "status": "ok",
     "timestamp": 1714164292998,
     "user": {
      "displayName": "Christian Arias",
      "userId": "06594569667371018215"
     },
     "user_tz": 300
    },
    "id": "Ef0qUaAE9Qg-",
    "outputId": "b49e34ff-4aa2-4bc3-da7e-88e71d9612d3"
   },
   "outputs": [
    {
     "name": "stdout",
     "output_type": "stream",
     "text": [
      "Hola\n",
      "                Mundo  Grupo\n",
      "Hola\n",
      "                Mundo  Grupo\n"
     ]
    }
   ],
   "source": [
    "# Multilinea\n",
    "multilinea = \"\"\"Hola\n",
    "                Mundo\"\"\"\n",
    "print(multilinea, \" Grupo\")\n",
    "multilinea = '''Hola\n",
    "                Mundo'''\n",
    "print(multilinea, \" Grupo\")"
   ]
  },
  {
   "cell_type": "code",
   "execution_count": 148,
   "metadata": {
    "colab": {
     "base_uri": "https://localhost:8080/",
     "height": 36
    },
    "executionInfo": {
     "elapsed": 17,
     "status": "ok",
     "timestamp": 1714164292998,
     "user": {
      "displayName": "Christian Arias",
      "userId": "06594569667371018215"
     },
     "user_tz": 300
    },
    "id": "eo2ybr55dFy1",
    "outputId": "a899d323-5d9e-4f31-c033-47b899f946f7"
   },
   "outputs": [
    {
     "data": {
      "text/plain": [
       "'Hola\\n                Mundo'"
      ]
     },
     "execution_count": 148,
     "metadata": {},
     "output_type": "execute_result"
    }
   ],
   "source": [
    "multilinea"
   ]
  },
  {
   "cell_type": "code",
   "execution_count": 149,
   "metadata": {
    "colab": {
     "base_uri": "https://localhost:8080/"
    },
    "executionInfo": {
     "elapsed": 16,
     "status": "ok",
     "timestamp": 1714164292998,
     "user": {
      "displayName": "Christian Arias",
      "userId": "06594569667371018215"
     },
     "user_tz": 300
    },
    "id": "4TeMiF79RuWZ",
    "outputId": "6b9b3cf0-2194-41f5-ac80-875bcd91d496",
    "scrolled": true
   },
   "outputs": [
    {
     "name": "stdout",
     "output_type": "stream",
     "text": [
      "[1, 2, 3]\n",
      "['a', 'b', 'c']\n",
      "[[1, 2], [3, 4], [5, 6]]\n",
      "[1, 'Grupo', [1, 2, 3, 4]]\n",
      "[]\n"
     ]
    }
   ],
   "source": [
    "# Declarando una lista\n",
    "listaNumeros = [1,2,3]\n",
    "print(listaNumeros)\n",
    "listaCadenas = ['a','b','c']\n",
    "print(listaCadenas)\n",
    "listaListas = [[1,2],[3,4],[5,6]]\n",
    "print(listaListas)\n",
    "listaMixtas = [1,'Grupo',[1,2,3,4]]\n",
    "print(listaMixtas)\n",
    "listaVacia = []\n",
    "print(listaVacia)"
   ]
  },
  {
   "cell_type": "code",
   "execution_count": 150,
   "metadata": {
    "colab": {
     "base_uri": "https://localhost:8080/"
    },
    "executionInfo": {
     "elapsed": 15,
     "status": "ok",
     "timestamp": 1714164292998,
     "user": {
      "displayName": "Christian Arias",
      "userId": "06594569667371018215"
     },
     "user_tz": 300
    },
    "id": "-vZwr-fiSElu",
    "outputId": "6614711e-c46d-4b98-aee8-18ebf267a967"
   },
   "outputs": [
    {
     "name": "stdout",
     "output_type": "stream",
     "text": [
      "(1, 2, 3)\n",
      "('a', 'b', 'c')\n",
      "([1, 2], [3, 4], [5, 6])\n",
      "(1, 'Grupo', [1, 2, 3, 4])\n"
     ]
    }
   ],
   "source": [
    "# Declarando una Tupla\n",
    "tuplaNumeros = (1,2,3)\n",
    "print(tuplaNumeros)\n",
    "tuplaCadenas = ('a','b','c')\n",
    "print(tuplaCadenas)\n",
    "tuplaListas = ([1,2],[3,4],[5,6])\n",
    "print(tuplaListas)\n",
    "tuplaMixtas = (1,'Grupo',[1,2,3,4])\n",
    "print(tuplaMixtas)"
   ]
  },
  {
   "cell_type": "code",
   "execution_count": 151,
   "metadata": {
    "colab": {
     "base_uri": "https://localhost:8080/"
    },
    "executionInfo": {
     "elapsed": 46,
     "status": "ok",
     "timestamp": 1714164293577,
     "user": {
      "displayName": "Christian Arias",
      "userId": "06594569667371018215"
     },
     "user_tz": 300
    },
    "id": "eEfYQVO0QUK0",
    "outputId": "35a60927-2d31-40b3-8aae-b1066e679a0b"
   },
   "outputs": [
    {
     "name": "stdout",
     "output_type": "stream",
     "text": [
      "{'k1': 1, 'k2': 2}\n",
      "{'k1': 'a', 'k2': 'b', 'k3': 'c'}\n",
      "{'k1': [1, 2], 'k2': [3, 4], 'k3': [5, 6]}\n",
      "{'k1': 1, 'k2': 'Grupo', 'k3': [1, 2, 3, 4]}\n"
     ]
    }
   ],
   "source": [
    "# Declarando Diccionarios\n",
    "dictNumeros = {'k1':1,'k2':2}\n",
    "print(dictNumeros)\n",
    "dictCadenas = {'k1':'a','k2':'b','k3':'c'}\n",
    "print(dictCadenas)\n",
    "dictListas = {'k1':[1,2],'k2':[3,4],'k3':[5,6]}\n",
    "print(dictListas)\n",
    "dictMixto = {'k1':1,'k2':'Grupo','k3':[1,2,3,4]}\n",
    "print(dictMixto)"
   ]
  },
  {
   "cell_type": "code",
   "execution_count": 152,
   "metadata": {
    "id": "XVxY6TvdT3Wq"
   },
   "outputs": [],
   "source": [
    "# Declarando Booleanos\n",
    "verdadero = True\n",
    "falso = False"
   ]
  },
  {
   "cell_type": "code",
   "execution_count": 153,
   "metadata": {
    "id": "EkoVYvtxV1HE"
   },
   "outputs": [],
   "source": [
    "# Declarando Nulos\n",
    "nulo = None"
   ]
  },
  {
   "cell_type": "code",
   "execution_count": 154,
   "metadata": {
    "colab": {
     "base_uri": "https://localhost:8080/"
    },
    "executionInfo": {
     "elapsed": 42,
     "status": "ok",
     "timestamp": 1714164293577,
     "user": {
      "displayName": "Christian Arias",
      "userId": "06594569667371018215"
     },
     "user_tz": 300
    },
    "id": "ePanpd5_yuvs",
    "outputId": "f2b68b3f-790d-476e-f22c-c523aca36032"
   },
   "outputs": [
    {
     "name": "stdout",
     "output_type": "stream",
     "text": [
      "var1 = 9\n",
      "var2 = Sara\n",
      "var3 = [13, 17, 23]\n"
     ]
    }
   ],
   "source": [
    "# Asignaciones Múltiples\n",
    "var1, var2, var3 =  ( 5 + 4),  \"Sara\", [13, 17, 23]\n",
    "print( \"var1 =\", var1 )\n",
    "print( \"var2 =\", var2 )\n",
    "print( \"var3 =\", var3 )"
   ]
  },
  {
   "cell_type": "code",
   "execution_count": 155,
   "metadata": {
    "colab": {
     "base_uri": "https://localhost:8080/"
    },
    "executionInfo": {
     "elapsed": 37,
     "status": "ok",
     "timestamp": 1714164293577,
     "user": {
      "displayName": "Christian Arias",
      "userId": "06594569667371018215"
     },
     "user_tz": 300
    },
    "id": "ng7xqXo1y1OK",
    "outputId": "cd5cc427-1f25-4521-d5cc-174384ac0b90"
   },
   "outputs": [
    {
     "name": "stdout",
     "output_type": "stream",
     "text": [
      "var1 = Sara\n",
      "var2 = 9\n"
     ]
    }
   ],
   "source": [
    "# Cambiar valores entre variables\n",
    "var1, var2 = var2, var1\n",
    "\n",
    "print( \"var1 =\", var1 )\n",
    "print( \"var2 =\", var2 )"
   ]
  },
  {
   "cell_type": "code",
   "execution_count": 156,
   "metadata": {
    "colab": {
     "base_uri": "https://localhost:8080/"
    },
    "executionInfo": {
     "elapsed": 30,
     "status": "ok",
     "timestamp": 1714164293577,
     "user": {
      "displayName": "Christian Arias",
      "userId": "06594569667371018215"
     },
     "user_tz": 300
    },
    "id": "lzYcQo3xy3X1",
    "outputId": "4bdce6b2-6f16-4f34-d990-81cb9acd6c48"
   },
   "outputs": [
    {
     "name": "stdout",
     "output_type": "stream",
     "text": [
      "('Sara', 9, [13, 17, 23])\n"
     ]
    }
   ],
   "source": [
    "# Crear una tupla con variables\n",
    "tupla = var1, var2, var3\n",
    "print(tupla)"
   ]
  },
  {
   "cell_type": "code",
   "execution_count": 157,
   "metadata": {
    "colab": {
     "base_uri": "https://localhost:8080/"
    },
    "executionInfo": {
     "elapsed": 25,
     "status": "ok",
     "timestamp": 1714164293577,
     "user": {
      "displayName": "Christian Arias",
      "userId": "06594569667371018215"
     },
     "user_tz": 300
    },
    "id": "xmychpyTzbpH",
    "outputId": "7dca0234-2301-47c1-d00d-ae66acb9ace8"
   },
   "outputs": [
    {
     "name": "stdout",
     "output_type": "stream",
     "text": [
      "  x1 = Sara    x2 = 9    x3 = [13, 17, 23]\n"
     ]
    }
   ],
   "source": [
    "# Asignar valores de una tupla a variables\n",
    "x1, x2, x3 = tupla\n",
    "\n",
    "print( \"  x1 =\", x1, \"   x2 =\", x2, \"   x3 =\", x3 )"
   ]
  },
  {
   "cell_type": "markdown",
   "metadata": {
    "id": "4oeZ9NOVSrCp"
   },
   "source": [
    "## Tipo de Datos\n",
    "\n",
    "Para conocer el tipo de dato de una variable se usa el metodo `type`\n",
    "\n",
    "```python\n",
    "type(x)\n",
    "````"
   ]
  },
  {
   "cell_type": "code",
   "execution_count": 158,
   "metadata": {
    "colab": {
     "base_uri": "https://localhost:8080/"
    },
    "executionInfo": {
     "elapsed": 20,
     "status": "ok",
     "timestamp": 1714164293577,
     "user": {
      "displayName": "Christian Arias",
      "userId": "06594569667371018215"
     },
     "user_tz": 300
    },
    "id": "3YewJ_loS_Ia",
    "outputId": "edc4786d-656c-4457-e897-359969e32841"
   },
   "outputs": [
    {
     "name": "stdout",
     "output_type": "stream",
     "text": [
      "5\n"
     ]
    },
    {
     "data": {
      "text/plain": [
       "int"
      ]
     },
     "execution_count": 158,
     "metadata": {},
     "output_type": "execute_result"
    }
   ],
   "source": [
    "print(x)\n",
    "type(x)"
   ]
  },
  {
   "cell_type": "code",
   "execution_count": 159,
   "metadata": {
    "colab": {
     "base_uri": "https://localhost:8080/"
    },
    "executionInfo": {
     "elapsed": 17,
     "status": "ok",
     "timestamp": 1714164293577,
     "user": {
      "displayName": "Christian Arias",
      "userId": "06594569667371018215"
     },
     "user_tz": 300
    },
    "id": "G-4cFZyOTCnn",
    "outputId": "8487439d-6f7f-4e89-997f-869e00f3b262"
   },
   "outputs": [
    {
     "name": "stdout",
     "output_type": "stream",
     "text": [
      "2.5\n"
     ]
    },
    {
     "data": {
      "text/plain": [
       "float"
      ]
     },
     "execution_count": 159,
     "metadata": {},
     "output_type": "execute_result"
    }
   ],
   "source": [
    "print(y)\n",
    "type(y)"
   ]
  },
  {
   "cell_type": "code",
   "execution_count": 160,
   "metadata": {
    "colab": {
     "base_uri": "https://localhost:8080/"
    },
    "executionInfo": {
     "elapsed": 15,
     "status": "ok",
     "timestamp": 1714164293577,
     "user": {
      "displayName": "Christian Arias",
      "userId": "06594569667371018215"
     },
     "user_tz": 300
    },
    "id": "2f0ISTp8TMQ9",
    "outputId": "b4ff14be-058e-4e9e-c3e5-8380e41132ff"
   },
   "outputs": [
    {
     "data": {
      "text/plain": [
       "str"
      ]
     },
     "execution_count": 160,
     "metadata": {},
     "output_type": "execute_result"
    }
   ],
   "source": [
    "type(mensaje)"
   ]
  },
  {
   "cell_type": "code",
   "execution_count": 161,
   "metadata": {
    "colab": {
     "base_uri": "https://localhost:8080/"
    },
    "executionInfo": {
     "elapsed": 13,
     "status": "ok",
     "timestamp": 1714164293577,
     "user": {
      "displayName": "Christian Arias",
      "userId": "06594569667371018215"
     },
     "user_tz": 300
    },
    "id": "EElQqkS5TDrA",
    "outputId": "a3df746c-2897-4e1e-a8b2-918e0c0095c7"
   },
   "outputs": [
    {
     "data": {
      "text/plain": [
       "list"
      ]
     },
     "execution_count": 161,
     "metadata": {},
     "output_type": "execute_result"
    }
   ],
   "source": [
    "type(listaNumeros)"
   ]
  },
  {
   "cell_type": "code",
   "execution_count": 162,
   "metadata": {
    "colab": {
     "base_uri": "https://localhost:8080/"
    },
    "executionInfo": {
     "elapsed": 8,
     "status": "ok",
     "timestamp": 1714164293577,
     "user": {
      "displayName": "Christian Arias",
      "userId": "06594569667371018215"
     },
     "user_tz": 300
    },
    "id": "h3vxZvYHTFv0",
    "outputId": "1b91a341-76f9-41ba-a314-80a99d54149a"
   },
   "outputs": [
    {
     "data": {
      "text/plain": [
       "tuple"
      ]
     },
     "execution_count": 162,
     "metadata": {},
     "output_type": "execute_result"
    }
   ],
   "source": [
    "type(tuplaListas)"
   ]
  },
  {
   "cell_type": "code",
   "execution_count": 163,
   "metadata": {
    "colab": {
     "base_uri": "https://localhost:8080/"
    },
    "executionInfo": {
     "elapsed": 503,
     "status": "ok",
     "timestamp": 1714164294076,
     "user": {
      "displayName": "Christian Arias",
      "userId": "06594569667371018215"
     },
     "user_tz": 300
    },
    "id": "htItuqj8THum",
    "outputId": "b5501486-d2dd-4e21-ff4a-9775cb21a7a0"
   },
   "outputs": [
    {
     "data": {
      "text/plain": [
       "dict"
      ]
     },
     "execution_count": 163,
     "metadata": {},
     "output_type": "execute_result"
    }
   ],
   "source": [
    "type(dictCadenas)"
   ]
  },
  {
   "cell_type": "code",
   "execution_count": 164,
   "metadata": {
    "colab": {
     "base_uri": "https://localhost:8080/"
    },
    "executionInfo": {
     "elapsed": 18,
     "status": "ok",
     "timestamp": 1714164294076,
     "user": {
      "displayName": "Christian Arias",
      "userId": "06594569667371018215"
     },
     "user_tz": 300
    },
    "id": "Nw0sMJ5jTKP5",
    "outputId": "fcb264b2-edc5-4599-bf96-0290d9a1a1e6"
   },
   "outputs": [
    {
     "data": {
      "text/plain": [
       "bool"
      ]
     },
     "execution_count": 164,
     "metadata": {},
     "output_type": "execute_result"
    }
   ],
   "source": [
    "type(verdadero)"
   ]
  },
  {
   "cell_type": "code",
   "execution_count": 165,
   "metadata": {
    "colab": {
     "base_uri": "https://localhost:8080/"
    },
    "executionInfo": {
     "elapsed": 13,
     "status": "ok",
     "timestamp": 1714164294076,
     "user": {
      "displayName": "Christian Arias",
      "userId": "06594569667371018215"
     },
     "user_tz": 300
    },
    "id": "KAUkTMqlT_zw",
    "outputId": "2b26fefa-baa6-48b3-f1d8-94aef8706bc0"
   },
   "outputs": [
    {
     "name": "stdout",
     "output_type": "stream",
     "text": [
      "<class 'NoneType'>\n"
     ]
    }
   ],
   "source": [
    "print(type(nulo))"
   ]
  },
  {
   "cell_type": "code",
   "execution_count": 166,
   "metadata": {
    "colab": {
     "base_uri": "https://localhost:8080/"
    },
    "executionInfo": {
     "elapsed": 8,
     "status": "ok",
     "timestamp": 1714164294076,
     "user": {
      "displayName": "Christian Arias",
      "userId": "06594569667371018215"
     },
     "user_tz": 300
    },
    "id": "7FX-oBDhCaSk",
    "outputId": "5c6862a4-bd0c-4ee1-c6f2-c423eb61acd4"
   },
   "outputs": [
    {
     "name": "stdout",
     "output_type": "stream",
     "text": [
      "None\n"
     ]
    }
   ],
   "source": [
    "print(nulo)"
   ]
  },
  {
   "cell_type": "markdown",
   "metadata": {
    "id": "QXww97zYV-tL"
   },
   "source": [
    "## Operadores Aritméticos\n",
    "\n",
    "| Symbol | Task Performed |\n",
    "|----|---|\n",
    "| +  | Addition |\n",
    "| -  | Subtraction |\n",
    "| /  | division |\n",
    "| %  | mod |\n",
    "| *  | multiplication |\n",
    "| //  | floor division |\n",
    "| **  | exponentiation |\n",
    "| ~   | negation |\n",
    "\n",
    "Python dependiendo del tipo de dato realiza las operaciones."
   ]
  },
  {
   "cell_type": "code",
   "execution_count": 167,
   "metadata": {
    "colab": {
     "base_uri": "https://localhost:8080/"
    },
    "executionInfo": {
     "elapsed": 6,
     "status": "ok",
     "timestamp": 1714164294076,
     "user": {
      "displayName": "Christian Arias",
      "userId": "06594569667371018215"
     },
     "user_tz": 300
    },
    "id": "SIaOq1g5V407",
    "outputId": "8a2337ab-5857-4595-9f3b-4490d8cb1dc6"
   },
   "outputs": [
    {
     "name": "stdout",
     "output_type": "stream",
     "text": [
      "10\n",
      "0\n"
     ]
    }
   ],
   "source": [
    "# Adición y sustracción\n",
    "print(5 + 5)\n",
    "print(5 - 5)"
   ]
  },
  {
   "cell_type": "code",
   "execution_count": 168,
   "metadata": {
    "colab": {
     "base_uri": "https://localhost:8080/"
    },
    "executionInfo": {
     "elapsed": 5,
     "status": "ok",
     "timestamp": 1714164294076,
     "user": {
      "displayName": "Christian Arias",
      "userId": "06594569667371018215"
     },
     "user_tz": 300
    },
    "id": "lMphMtfOWXRj",
    "outputId": "5fc1af0e-3319-4e2f-fc3e-5abf5723b2ae"
   },
   "outputs": [
    {
     "name": "stdout",
     "output_type": "stream",
     "text": [
      "15\n",
      "5.0\n"
     ]
    }
   ],
   "source": [
    "# Multiplicación y división\n",
    "print(3 * 5)\n",
    "print(10 / 2)"
   ]
  },
  {
   "cell_type": "code",
   "execution_count": 169,
   "metadata": {
    "colab": {
     "base_uri": "https://localhost:8080/"
    },
    "executionInfo": {
     "elapsed": 3,
     "status": "ok",
     "timestamp": 1714164294076,
     "user": {
      "displayName": "Christian Arias",
      "userId": "06594569667371018215"
     },
     "user_tz": 300
    },
    "id": "JthtByGXWZRX",
    "outputId": "89b91c6e-3ebe-4846-c9d5-92bc469bccbb"
   },
   "outputs": [
    {
     "name": "stdout",
     "output_type": "stream",
     "text": [
      "16\n",
      "4\n"
     ]
    }
   ],
   "source": [
    "# Exponenciación y Modulo\n",
    "print(4 ** 2)\n",
    "print(18 % 7)"
   ]
  },
  {
   "cell_type": "code",
   "execution_count": 170,
   "metadata": {
    "colab": {
     "base_uri": "https://localhost:8080/"
    },
    "executionInfo": {
     "elapsed": 372,
     "status": "ok",
     "timestamp": 1714164294446,
     "user": {
      "displayName": "Christian Arias",
      "userId": "06594569667371018215"
     },
     "user_tz": 300
    },
    "id": "QYBATeTNWbry",
    "outputId": "af49b1d5-a8ad-4301-ea5c-ecaf5be5e9f9"
   },
   "outputs": [
    {
     "name": "stdout",
     "output_type": "stream",
     "text": [
      "HolaGrupo\n",
      "Hola Grupo\n"
     ]
    }
   ],
   "source": [
    "# Operaciones con cadenas\n",
    "mensaje1 = \"Hola\"\n",
    "mensaje2 = \"Grupo\"\n",
    "print(mensaje1 + mensaje2)\n",
    "print(mensaje1 , mensaje2)"
   ]
  },
  {
   "cell_type": "code",
   "execution_count": 171,
   "metadata": {
    "colab": {
     "base_uri": "https://localhost:8080/"
    },
    "executionInfo": {
     "elapsed": 53,
     "status": "ok",
     "timestamp": 1714164294446,
     "user": {
      "displayName": "Christian Arias",
      "userId": "06594569667371018215"
     },
     "user_tz": 300
    },
    "id": "Fo_L_km3vFk2",
    "outputId": "e911ae38-b769-49ee-cf67-aae84e360667"
   },
   "outputs": [
    {
     "name": "stdout",
     "output_type": "stream",
     "text": [
      "Hola Hola \n"
     ]
    }
   ],
   "source": [
    "# Operaciones con cadenas\n",
    "mensaje1 = \"Hola \"\n",
    "print(mensaje1*2)"
   ]
  },
  {
   "cell_type": "code",
   "execution_count": 172,
   "metadata": {
    "colab": {
     "base_uri": "https://localhost:8080/"
    },
    "executionInfo": {
     "elapsed": 51,
     "status": "ok",
     "timestamp": 1714164294446,
     "user": {
      "displayName": "Christian Arias",
      "userId": "06594569667371018215"
     },
     "user_tz": 300
    },
    "id": "okHLoEPPe_6_",
    "outputId": "7ee9ea1c-7bf7-4cba-8bf6-2400c8156794"
   },
   "outputs": [
    {
     "name": "stdout",
     "output_type": "stream",
     "text": [
      "1\n",
      "2\n",
      "0\n",
      "6\n"
     ]
    }
   ],
   "source": [
    "print(verdadero + falso)\n",
    "print(verdadero + verdadero)\n",
    "print(falso + falso)\n",
    "print(verdadero +5)"
   ]
  },
  {
   "cell_type": "code",
   "execution_count": 173,
   "metadata": {
    "colab": {
     "base_uri": "https://localhost:8080/"
    },
    "executionInfo": {
     "elapsed": 50,
     "status": "ok",
     "timestamp": 1714164294446,
     "user": {
      "displayName": "Christian Arias",
      "userId": "06594569667371018215"
     },
     "user_tz": 300
    },
    "id": "gFjXYgP7tUYP",
    "outputId": "0ac08a95-ef06-4a23-e24a-07274e354b23"
   },
   "outputs": [
    {
     "name": "stdout",
     "output_type": "stream",
     "text": [
      "True\n"
     ]
    }
   ],
   "source": [
    "print(verdadero)"
   ]
  },
  {
   "cell_type": "code",
   "execution_count": 174,
   "metadata": {
    "colab": {
     "base_uri": "https://localhost:8080/"
    },
    "executionInfo": {
     "elapsed": 49,
     "status": "ok",
     "timestamp": 1714164294446,
     "user": {
      "displayName": "Christian Arias",
      "userId": "06594569667371018215"
     },
     "user_tz": 300
    },
    "id": "askudcvgtUYQ",
    "outputId": "cad7b677-90b2-4cfc-8b77-3789902ec523"
   },
   "outputs": [
    {
     "name": "stdout",
     "output_type": "stream",
     "text": [
      "2\n"
     ]
    }
   ],
   "source": [
    "print(verdadero + verdadero)"
   ]
  },
  {
   "cell_type": "code",
   "execution_count": 175,
   "metadata": {
    "colab": {
     "base_uri": "https://localhost:8080/"
    },
    "executionInfo": {
     "elapsed": 48,
     "status": "ok",
     "timestamp": 1714164294446,
     "user": {
      "displayName": "Christian Arias",
      "userId": "06594569667371018215"
     },
     "user_tz": 300
    },
    "id": "T2QB3OertUYQ",
    "outputId": "0326a685-8f85-4e22-f1a4-a6e76e2e8a82",
    "scrolled": true
   },
   "outputs": [
    {
     "name": "stdout",
     "output_type": "stream",
     "text": [
      "0\n"
     ]
    }
   ],
   "source": [
    "print(falso + falso)"
   ]
  },
  {
   "cell_type": "code",
   "execution_count": 176,
   "metadata": {
    "colab": {
     "base_uri": "https://localhost:8080/"
    },
    "executionInfo": {
     "elapsed": 48,
     "status": "ok",
     "timestamp": 1714164294446,
     "user": {
      "displayName": "Christian Arias",
      "userId": "06594569667371018215"
     },
     "user_tz": 300
    },
    "id": "JfFkdW_QfGI1",
    "outputId": "e9ef71cc-c0fa-4579-9e8a-b3f1ab16a349"
   },
   "outputs": [
    {
     "name": "stdout",
     "output_type": "stream",
     "text": [
      "3.5\n"
     ]
    }
   ],
   "source": [
    "print(1 + 2.5)"
   ]
  },
  {
   "cell_type": "code",
   "execution_count": 177,
   "metadata": {
    "colab": {
     "base_uri": "https://localhost:8080/"
    },
    "executionInfo": {
     "elapsed": 224,
     "status": "ok",
     "timestamp": 1714164877228,
     "user": {
      "displayName": "Christian Arias",
      "userId": "06594569667371018215"
     },
     "user_tz": 300
    },
    "id": "9JmZa8icKvid",
    "outputId": "b6d0a317-c9c0-446a-b641-4ea1a780dcb7"
   },
   "outputs": [
    {
     "name": "stdout",
     "output_type": "stream",
     "text": [
      "5\n",
      "-6\n",
      "45\n",
      "46\n"
     ]
    }
   ],
   "source": [
    "x=5\n",
    "print(x)\n",
    "x=~5\n",
    "print(x)\n",
    "x=45\n",
    "print(x)\n",
    "x=~~46\n",
    "print(x)"
   ]
  },
  {
   "cell_type": "markdown",
   "metadata": {
    "id": "ewhJQUd1xIzk"
   },
   "source": [
    "## Operadores Relacionales\n",
    "\n",
    "| Symbol | Task Performed |\n",
    "|----|---|\n",
    "| == | True, if values are equal |\n",
    "| is | True, if identical, i.e. the **same** object  |\n",
    "| !=  | True, if not equal to |\n",
    "| < | less than |\n",
    "| > | greater than |\n",
    "| <=  | less than or equal to |\n",
    "| >=  | greater than or equal to |\n",
    "| in  | test pertenence to a collection (list, set, dictionary) |"
   ]
  },
  {
   "cell_type": "code",
   "execution_count": 178,
   "metadata": {
    "colab": {
     "base_uri": "https://localhost:8080/"
    },
    "executionInfo": {
     "elapsed": 47,
     "status": "ok",
     "timestamp": 1714164294446,
     "user": {
      "displayName": "Christian Arias",
      "userId": "06594569667371018215"
     },
     "user_tz": 300
    },
    "id": "DX7u7Bwuvqju",
    "outputId": "f6a77446-ea78-4ee6-facc-4b5cef825ac3"
   },
   "outputs": [
    {
     "data": {
      "text/plain": [
       "False"
      ]
     },
     "execution_count": 178,
     "metadata": {},
     "output_type": "execute_result"
    }
   ],
   "source": [
    "x == 2"
   ]
  },
  {
   "cell_type": "code",
   "execution_count": 179,
   "metadata": {
    "id": "cfvmwQUhJY7k"
   },
   "outputs": [],
   "source": [
    "X = 2"
   ]
  },
  {
   "cell_type": "code",
   "execution_count": 180,
   "metadata": {
    "colab": {
     "base_uri": "https://localhost:8080/"
    },
    "executionInfo": {
     "elapsed": 13,
     "status": "ok",
     "timestamp": 1714164294446,
     "user": {
      "displayName": "Christian Arias",
      "userId": "06594569667371018215"
     },
     "user_tz": 300
    },
    "id": "_ePQNuWsxVyn",
    "outputId": "2ea1681a-5db1-40fa-c401-70a5f310bb8e"
   },
   "outputs": [
    {
     "data": {
      "text/plain": [
       "True"
      ]
     },
     "execution_count": 180,
     "metadata": {},
     "output_type": "execute_result"
    }
   ],
   "source": [
    "x != 2"
   ]
  },
  {
   "cell_type": "code",
   "execution_count": 181,
   "metadata": {
    "colab": {
     "base_uri": "https://localhost:8080/"
    },
    "executionInfo": {
     "elapsed": 7,
     "status": "ok",
     "timestamp": 1714164294446,
     "user": {
      "displayName": "Christian Arias",
      "userId": "06594569667371018215"
     },
     "user_tz": 300
    },
    "id": "o0sZeceWxe1q",
    "outputId": "d9020086-aee5-42b8-c898-eb523eb79551"
   },
   "outputs": [
    {
     "data": {
      "text/plain": [
       "True"
      ]
     },
     "execution_count": 181,
     "metadata": {},
     "output_type": "execute_result"
    }
   ],
   "source": [
    "x > 1"
   ]
  },
  {
   "cell_type": "code",
   "execution_count": 182,
   "metadata": {
    "colab": {
     "base_uri": "https://localhost:8080/"
    },
    "executionInfo": {
     "elapsed": 4,
     "status": "ok",
     "timestamp": 1714164294446,
     "user": {
      "displayName": "Christian Arias",
      "userId": "06594569667371018215"
     },
     "user_tz": 300
    },
    "id": "_9Q8YFgFJ7tC",
    "outputId": "ef8aabdf-ddfd-49ab-c2b6-1dcb44b6de21"
   },
   "outputs": [
    {
     "data": {
      "text/plain": [
       "2"
      ]
     },
     "execution_count": 182,
     "metadata": {},
     "output_type": "execute_result"
    }
   ],
   "source": [
    "X"
   ]
  },
  {
   "cell_type": "code",
   "execution_count": 183,
   "metadata": {
    "colab": {
     "base_uri": "https://localhost:8080/"
    },
    "executionInfo": {
     "elapsed": 609,
     "status": "ok",
     "timestamp": 1714164295053,
     "user": {
      "displayName": "Christian Arias",
      "userId": "06594569667371018215"
     },
     "user_tz": 300
    },
    "id": "zODGTdObJzKL",
    "outputId": "9564b63e-c7ef-41f0-a771-a1f9a1129f79"
   },
   "outputs": [
    {
     "data": {
      "text/plain": [
       "False"
      ]
     },
     "execution_count": 183,
     "metadata": {},
     "output_type": "execute_result"
    }
   ],
   "source": [
    "X < 1 + 1"
   ]
  },
  {
   "cell_type": "code",
   "execution_count": 184,
   "metadata": {
    "colab": {
     "base_uri": "https://localhost:8080/"
    },
    "executionInfo": {
     "elapsed": 25,
     "status": "ok",
     "timestamp": 1714164295054,
     "user": {
      "displayName": "Christian Arias",
      "userId": "06594569667371018215"
     },
     "user_tz": 300
    },
    "id": "OMzRVPLCU0tY",
    "outputId": "ad1070e6-ae48-422f-ff66-2be75992cb3a"
   },
   "outputs": [
    {
     "data": {
      "text/plain": [
       "[1, 2, 3]"
      ]
     },
     "execution_count": 184,
     "metadata": {},
     "output_type": "execute_result"
    }
   ],
   "source": [
    "listaNumeros"
   ]
  },
  {
   "cell_type": "code",
   "execution_count": 185,
   "metadata": {
    "colab": {
     "base_uri": "https://localhost:8080/"
    },
    "executionInfo": {
     "elapsed": 25,
     "status": "ok",
     "timestamp": 1714164295055,
     "user": {
      "displayName": "Christian Arias",
      "userId": "06594569667371018215"
     },
     "user_tz": 300
    },
    "id": "lSxRyT8yxhXl",
    "outputId": "38c8f457-90ec-416f-81a6-09ceaa9b3ffe"
   },
   "outputs": [
    {
     "data": {
      "text/plain": [
       "True"
      ]
     },
     "execution_count": 185,
     "metadata": {},
     "output_type": "execute_result"
    }
   ],
   "source": [
    "listaNumeros == [1,2,3]"
   ]
  },
  {
   "cell_type": "code",
   "execution_count": 186,
   "metadata": {
    "colab": {
     "base_uri": "https://localhost:8080/"
    },
    "executionInfo": {
     "elapsed": 25,
     "status": "ok",
     "timestamp": 1714164295055,
     "user": {
      "displayName": "Christian Arias",
      "userId": "06594569667371018215"
     },
     "user_tz": 300
    },
    "id": "Xbizfxw9Kg4p",
    "outputId": "d29ecf5c-a93b-4fd9-90e0-69ecc4ad50c5"
   },
   "outputs": [
    {
     "data": {
      "text/plain": [
       "False"
      ]
     },
     "execution_count": 186,
     "metadata": {},
     "output_type": "execute_result"
    }
   ],
   "source": [
    "listaNumeros == [1,2,1]"
   ]
  },
  {
   "cell_type": "code",
   "execution_count": 187,
   "metadata": {
    "colab": {
     "base_uri": "https://localhost:8080/"
    },
    "executionInfo": {
     "elapsed": 24,
     "status": "ok",
     "timestamp": 1714164295055,
     "user": {
      "displayName": "Christian Arias",
      "userId": "06594569667371018215"
     },
     "user_tz": 300
    },
    "id": "7xANJ8z0yGiT",
    "outputId": "8d084b7a-c320-49f3-9cba-5181e81c7281"
   },
   "outputs": [
    {
     "data": {
      "text/plain": [
       "False"
      ]
     },
     "execution_count": 187,
     "metadata": {},
     "output_type": "execute_result"
    }
   ],
   "source": [
    "listaNumeros is [1,2,3]"
   ]
  },
  {
   "cell_type": "code",
   "execution_count": 188,
   "metadata": {
    "id": "jYTQcIrQyNPO"
   },
   "outputs": [],
   "source": [
    "objecto = listaNumeros"
   ]
  },
  {
   "cell_type": "code",
   "execution_count": 189,
   "metadata": {
    "colab": {
     "base_uri": "https://localhost:8080/"
    },
    "executionInfo": {
     "elapsed": 24,
     "status": "ok",
     "timestamp": 1714164295056,
     "user": {
      "displayName": "Christian Arias",
      "userId": "06594569667371018215"
     },
     "user_tz": 300
    },
    "id": "tcfMl4DkySoV",
    "outputId": "537435ed-2e01-4cbe-a4b2-ef1ef79979bc"
   },
   "outputs": [
    {
     "data": {
      "text/plain": [
       "True"
      ]
     },
     "execution_count": 189,
     "metadata": {},
     "output_type": "execute_result"
    }
   ],
   "source": [
    "listaNumeros is objecto"
   ]
  },
  {
   "cell_type": "code",
   "execution_count": 190,
   "metadata": {
    "colab": {
     "base_uri": "https://localhost:8080/"
    },
    "executionInfo": {
     "elapsed": 25,
     "status": "ok",
     "timestamp": 1714164295057,
     "user": {
      "displayName": "Christian Arias",
      "userId": "06594569667371018215"
     },
     "user_tz": 300
    },
    "id": "d0ukty2gyU_g",
    "outputId": "d4d35c84-00b2-4fc3-d1d2-85082b7b2325"
   },
   "outputs": [
    {
     "data": {
      "text/plain": [
       "True"
      ]
     },
     "execution_count": 190,
     "metadata": {},
     "output_type": "execute_result"
    }
   ],
   "source": [
    "nulo is None"
   ]
  },
  {
   "cell_type": "code",
   "execution_count": null,
   "metadata": {
    "id": "JhbntJYyLqQ2"
   },
   "outputs": [],
   "source": []
  },
  {
   "cell_type": "markdown",
   "metadata": {
    "id": "6wJlJ4wbzryr"
   },
   "source": [
    "## Conversiones entre tipos\n",
    "\n",
    "Python cuenta con la conversión de tipos de datos (*cast* o *casting*) que especifica explicitamente el tipo de dato.\n",
    "\n",
    "```python\n",
    "int(variable)\n",
    "float(variable)\n",
    "str(variable)\n",
    "bool(variable)\n",
    "list(variable)\n",
    "tuple(variable)\n",
    "dict(variable)\n",
    "```"
   ]
  },
  {
   "cell_type": "code",
   "execution_count": 191,
   "metadata": {
    "colab": {
     "base_uri": "https://localhost:8080/"
    },
    "executionInfo": {
     "elapsed": 24,
     "status": "ok",
     "timestamp": 1714164295057,
     "user": {
      "displayName": "Christian Arias",
      "userId": "06594569667371018215"
     },
     "user_tz": 300
    },
    "id": "ISaM6FKyyZ3M",
    "outputId": "fd6e13a4-1d78-418d-efa3-1fc1c1408913"
   },
   "outputs": [
    {
     "name": "stdout",
     "output_type": "stream",
     "text": [
      "['a', 'b', 'c']\n",
      "<class 'list'>\n",
      "('a', 'b', 'c')\n",
      "<class 'tuple'>\n"
     ]
    }
   ],
   "source": [
    "# Convertir Lista a tupla\n",
    "print(listaCadenas)\n",
    "print(type(listaCadenas))\n",
    "print(tuple(listaCadenas))\n",
    "print(type(tuple(listaCadenas)))"
   ]
  },
  {
   "cell_type": "code",
   "execution_count": 192,
   "metadata": {
    "colab": {
     "base_uri": "https://localhost:8080/"
    },
    "executionInfo": {
     "elapsed": 23,
     "status": "ok",
     "timestamp": 1714164295057,
     "user": {
      "displayName": "Christian Arias",
      "userId": "06594569667371018215"
     },
     "user_tz": 300
    },
    "id": "UBIJVcId0wW8",
    "outputId": "77077daf-9ca6-422b-e70d-6142a6bee5c3"
   },
   "outputs": [
    {
     "name": "stdout",
     "output_type": "stream",
     "text": [
      "123\n",
      "<class 'str'>\n",
      "123\n",
      "<class 'int'>\n"
     ]
    }
   ],
   "source": [
    "# Convertir de cadena a entero\n",
    "print('123')\n",
    "print(type('123'))\n",
    "print(int('123'))\n",
    "print(type(int('123')))"
   ]
  },
  {
   "cell_type": "code",
   "execution_count": 193,
   "metadata": {
    "colab": {
     "base_uri": "https://localhost:8080/",
     "height": 141
    },
    "executionInfo": {
     "elapsed": 23,
     "status": "error",
     "timestamp": 1714164295058,
     "user": {
      "displayName": "Christian Arias",
      "userId": "06594569667371018215"
     },
     "user_tz": 300
    },
    "id": "BRiLSVzzgjtY",
    "outputId": "faa8fff2-9a3e-4e0d-e0ee-d58c153e71be"
   },
   "outputs": [],
   "source": [
    "# Comportamiento normal en el cambio de tipo de variable\n",
    "# Dejaremos comentado esto mientras\n",
    "\n",
    "#float(\"Juan\")"
   ]
  },
  {
   "cell_type": "code",
   "execution_count": 194,
   "metadata": {
    "id": "siabGN-CKQPI"
   },
   "outputs": [],
   "source": [
    "x:str\n",
    "x='jota'"
   ]
  },
  {
   "cell_type": "code",
   "execution_count": 195,
   "metadata": {
    "colab": {
     "base_uri": "https://localhost:8080/"
    },
    "executionInfo": {
     "elapsed": 204,
     "status": "ok",
     "timestamp": 1714164466447,
     "user": {
      "displayName": "Christian Arias",
      "userId": "06594569667371018215"
     },
     "user_tz": 300
    },
    "id": "nXuGwrOCKVES",
    "outputId": "74375a9c-8e41-49b2-9efb-5c0d1ad6b227"
   },
   "outputs": [],
   "source": [
    "#w:int\n",
    "#print(type(w))\n",
    "#w='p'\n",
    "#print(type(w))\n"
   ]
  },
  {
   "cell_type": "markdown",
   "metadata": {
    "id": "DVpFtIj32mmw"
   },
   "source": [
    "## Funciones Integradas (Built-in Functions)\n",
    "\n",
    "**Funciones:** Una función es un bloque de código con un nombre asociado, que recibe $0$ o más argumentos como entrada, sigue una serie de instrucciones y devuelve un valor o realiza una tarea.\n",
    "\n",
    "Python dispone de una serie de funciones intregradas al lenguaje( [built-in](https://docs.python.org/3/library/functions.html))\n",
    "\n",
    "Un ejemplo de estas funciones son las vistas en los anteriores puntos como las de convertir tipos de datos y la de imprimir."
   ]
  },
  {
   "cell_type": "code",
   "execution_count": null,
   "metadata": {
    "colab": {
     "base_uri": "https://localhost:8080/"
    },
    "executionInfo": {
     "elapsed": 7252,
     "status": "ok",
     "timestamp": 1714166289388,
     "user": {
      "displayName": "Christian Arias",
      "userId": "06594569667371018215"
     },
     "user_tz": 300
    },
    "id": "Qb6bB4_w2HyO",
    "outputId": "ed27e9db-58b8-40e1-b55e-3972dddd3e8f"
   },
   "outputs": [],
   "source": [
    "# Ingresar valor por teclado\n",
    "entrada = int(input(\"Ingrese un número entero: \"))\n",
    "print(entrada**2)"
   ]
  },
  {
   "cell_type": "code",
   "execution_count": 1,
   "metadata": {
    "colab": {
     "base_uri": "https://localhost:8080/"
    },
    "executionInfo": {
     "elapsed": 6973,
     "status": "ok",
     "timestamp": 1714166296359,
     "user": {
      "displayName": "Christian Arias",
      "userId": "06594569667371018215"
     },
     "user_tz": 300
    },
    "id": "HjRNCpJohOKw",
    "outputId": "924b9968-dcee-4819-df46-30437f805ed0"
   },
   "outputs": [
    {
     "name": "stdout",
     "output_type": "stream",
     "text": [
      "\n"
     ]
    }
   ],
   "source": [
    "# Ingresar valor por teclado\n",
    "entrada = input(\"Ingrese un número entero: \")\n",
    "print(entrada*2)"
   ]
  },
  {
   "cell_type": "code",
   "execution_count": 2,
   "metadata": {
    "colab": {
     "base_uri": "https://localhost:8080/"
    },
    "executionInfo": {
     "elapsed": 17,
     "status": "ok",
     "timestamp": 1714166296359,
     "user": {
      "displayName": "Christian Arias",
      "userId": "06594569667371018215"
     },
     "user_tz": 300
    },
    "id": "woZoZTWq4Gtt",
    "outputId": "9abfae44-059f-4884-e922-a7d6901932ff"
   },
   "outputs": [
    {
     "name": "stdout",
     "output_type": "stream",
     "text": [
      "1\n"
     ]
    }
   ],
   "source": [
    "# Valor absoluto de un numero\n",
    "print(abs(-1))"
   ]
  },
  {
   "cell_type": "code",
   "execution_count": 3,
   "metadata": {
    "id": "viMnfEJmVJVD"
   },
   "outputs": [
    {
     "name": "stdout",
     "output_type": "stream",
     "text": [
      "holahola\n"
     ]
    }
   ],
   "source": [
    "v1='hola'\n",
    "print(v1*2)"
   ]
  },
  {
   "cell_type": "markdown",
   "metadata": {
    "id": "N40jkNVI4YmN"
   },
   "source": [
    "### Ejercicio 1:\n",
    "\n",
    "\n",
    "Ejecute las siguientes 3 celdas e infiera lo que hace la función round incorporada con uno o dos argumentos."
   ]
  },
  {
   "cell_type": "code",
   "execution_count": 4,
   "metadata": {
    "colab": {
     "base_uri": "https://localhost:8080/"
    },
    "executionInfo": {
     "elapsed": 16,
     "status": "ok",
     "timestamp": 1714166296359,
     "user": {
      "displayName": "Christian Arias",
      "userId": "06594569667371018215"
     },
     "user_tz": 300
    },
    "id": "VkyhSmMk4RaH",
    "outputId": "600e338d-1a20-48ad-a1af-7c852a24193b"
   },
   "outputs": [
    {
     "data": {
      "text/plain": [
       "-5"
      ]
     },
     "execution_count": 4,
     "metadata": {},
     "output_type": "execute_result"
    }
   ],
   "source": [
    "round( -4.78 )"
   ]
  },
  {
   "cell_type": "code",
   "execution_count": 5,
   "metadata": {
    "colab": {
     "base_uri": "https://localhost:8080/"
    },
    "executionInfo": {
     "elapsed": 14,
     "status": "ok",
     "timestamp": 1714166296359,
     "user": {
      "displayName": "Christian Arias",
      "userId": "06594569667371018215"
     },
     "user_tz": 300
    },
    "id": "WapQDqox4cHj",
    "outputId": "80d4dc5c-7f5f-4bb7-96ed-22e1bc54995d"
   },
   "outputs": [
    {
     "data": {
      "text/plain": [
       "-3.1415"
      ]
     },
     "execution_count": 5,
     "metadata": {},
     "output_type": "execute_result"
    }
   ],
   "source": [
    "round( -3.141516297, 4 )"
   ]
  },
  {
   "cell_type": "code",
   "execution_count": 6,
   "metadata": {
    "colab": {
     "base_uri": "https://localhost:8080/"
    },
    "executionInfo": {
     "elapsed": 13,
     "status": "ok",
     "timestamp": 1714166296359,
     "user": {
      "displayName": "Christian Arias",
      "userId": "06594569667371018215"
     },
     "user_tz": 300
    },
    "id": "-U7anAw14hOp",
    "outputId": "4aa09967-14a7-4c60-aa74-a22cba56ce88"
   },
   "outputs": [
    {
     "data": {
      "text/plain": [
       "-3.14152"
      ]
     },
     "execution_count": 6,
     "metadata": {},
     "output_type": "execute_result"
    }
   ],
   "source": [
    "round( -3.141516297, 5 )"
   ]
  },
  {
   "cell_type": "markdown",
   "metadata": {
    "id": "08Nk8EON4nI-"
   },
   "source": [
    "### Ejercicio 2:\n",
    "\n",
    "\n",
    "Desde la pagina de las funciones integradas [built-in](https://docs.python.org/3/library/functions.html), consulte la forma de usar la función `min()` y `max()`.\n",
    "\n",
    "- Cree una lista con los valores 42, 17 y 68.\n",
    "- Usando la función `min()`, imprima el valor minimo.\n",
    "- Usando la función `max()`, imprima el valor maximo.\n",
    "- Validar si hay una función que me devuelva la suma?"
   ]
  },
  {
   "cell_type": "code",
   "execution_count": null,
   "metadata": {
    "colab": {
     "base_uri": "https://localhost:8080/"
    },
    "executionInfo": {
     "elapsed": 12,
     "status": "ok",
     "timestamp": 1714166296359,
     "user": {
      "displayName": "Christian Arias",
      "userId": "06594569667371018215"
     },
     "user_tz": 300
    },
    "id": "Be4ueHtS48L9",
    "outputId": "4b18ab43-b550-4d4e-b3f5-02e04e9b362a"
   },
   "outputs": [
    {
     "name": "stdout",
     "output_type": "stream",
     "text": [
      "17\n",
      "68\n"
     ]
    }
   ],
   "source": [
    "# Su Código\n",
    "lista = [42,17,68]\n",
    "print(min(lista))\n",
    "print(max(lista))"
   ]
  },
  {
   "cell_type": "code",
   "execution_count": null,
   "metadata": {
    "colab": {
     "base_uri": "https://localhost:8080/"
    },
    "executionInfo": {
     "elapsed": 11,
     "status": "ok",
     "timestamp": 1714166296359,
     "user": {
      "displayName": "Christian Arias",
      "userId": "06594569667371018215"
     },
     "user_tz": 300
    },
    "id": "PD7hO8N3tUYX",
    "outputId": "c48672d1-0900-48e4-fc72-54c0b22287c1"
   },
   "outputs": [
    {
     "name": "stdout",
     "output_type": "stream",
     "text": [
      "127\n"
     ]
    }
   ],
   "source": [
    "print(sum(lista))"
   ]
  },
  {
   "cell_type": "code",
   "execution_count": null,
   "metadata": {
    "colab": {
     "base_uri": "https://localhost:8080/"
    },
    "executionInfo": {
     "elapsed": 9,
     "status": "ok",
     "timestamp": 1714166296359,
     "user": {
      "displayName": "Christian Arias",
      "userId": "06594569667371018215"
     },
     "user_tz": 300
    },
    "id": "n5FnKkm4tUYX",
    "outputId": "ab97290b-6fe8-4f53-e895-19bcead4f227"
   },
   "outputs": [
    {
     "name": "stdout",
     "output_type": "stream",
     "text": [
      "42.333333333333336\n"
     ]
    }
   ],
   "source": [
    "print(sum(lista)/len(lista))"
   ]
  },
  {
   "cell_type": "markdown",
   "metadata": {
    "id": "8EcYyyUg5sje"
   },
   "source": [
    "## Ayuda\n",
    "\n",
    "Python cuenta con `help()` y `?` que nos devuelve una descripción de la función que queremos conocer."
   ]
  },
  {
   "cell_type": "code",
   "execution_count": null,
   "metadata": {
    "id": "FhI6URox5r1C"
   },
   "outputs": [],
   "source": [
    "#help(range)"
   ]
  },
  {
   "cell_type": "code",
   "execution_count": null,
   "metadata": {
    "id": "NwiBPFNL4htU"
   },
   "outputs": [],
   "source": [
    "?range"
   ]
  },
  {
   "cell_type": "markdown",
   "metadata": {
    "id": "LVu8VIk46X8P"
   },
   "source": [
    "### Ejercicio 3:\n",
    "\n",
    "Cree una variable llamada rango y asignele range(1, 100, 5), luego imprima la variable convirtiendola primero a lista, cual es el resultado?"
   ]
  },
  {
   "cell_type": "code",
   "execution_count": null,
   "metadata": {
    "colab": {
     "base_uri": "https://localhost:8080/"
    },
    "executionInfo": {
     "elapsed": 48,
     "status": "ok",
     "timestamp": 1714166296717,
     "user": {
      "displayName": "Christian Arias",
      "userId": "06594569667371018215"
     },
     "user_tz": 300
    },
    "id": "VH9a6FPw6Q5o",
    "outputId": "c3d63bde-eb74-42a2-d720-5817c83a9491"
   },
   "outputs": [
    {
     "data": {
      "text/plain": [
       "range(1, 100, 5)"
      ]
     },
     "execution_count": 23,
     "metadata": {},
     "output_type": "execute_result"
    }
   ],
   "source": [
    "# Su código\n",
    "rango = range(1,100,5)\n",
    "rango"
   ]
  },
  {
   "cell_type": "code",
   "execution_count": null,
   "metadata": {
    "colab": {
     "base_uri": "https://localhost:8080/"
    },
    "executionInfo": {
     "elapsed": 46,
     "status": "ok",
     "timestamp": 1714166296718,
     "user": {
      "displayName": "Christian Arias",
      "userId": "06594569667371018215"
     },
     "user_tz": 300
    },
    "id": "w83VduMQO8Ey",
    "outputId": "3c138a2f-0ec7-4242-d161-2997c15dbb2b"
   },
   "outputs": [
    {
     "name": "stdout",
     "output_type": "stream",
     "text": [
      "[1, 6, 11, 16, 21, 26, 31, 36, 41, 46, 51, 56, 61, 66, 71, 76, 81, 86, 91, 96]\n"
     ]
    }
   ],
   "source": [
    "print(list(rango))"
   ]
  },
  {
   "cell_type": "markdown",
   "metadata": {
    "id": "Q8gb4Oeu64PR"
   },
   "source": [
    "## Manejo de Strings\n",
    "\n",
    "**IMPORTANTE:** Strings pueden ser definidos con doble comilla (\"...\") or comilla simple ('...'), las dos sintaxis hacen exactamente lo mismo!"
   ]
  },
  {
   "cell_type": "code",
   "execution_count": null,
   "metadata": {
    "colab": {
     "base_uri": "https://localhost:8080/"
    },
    "executionInfo": {
     "elapsed": 44,
     "status": "ok",
     "timestamp": 1714166296718,
     "user": {
      "displayName": "Christian Arias",
      "userId": "06594569667371018215"
     },
     "user_tz": 300
    },
    "id": "jSLgU0z66-zg",
    "outputId": "93d88fa5-1ace-45bb-da3d-29bc3d8f4859"
   },
   "outputs": [
    {
     "data": {
      "text/plain": [
       "True"
      ]
     },
     "execution_count": 25,
     "metadata": {},
     "output_type": "execute_result"
    }
   ],
   "source": [
    "'Juan' == \"Juan\""
   ]
  },
  {
   "cell_type": "code",
   "execution_count": null,
   "metadata": {
    "colab": {
     "base_uri": "https://localhost:8080/"
    },
    "executionInfo": {
     "elapsed": 43,
     "status": "ok",
     "timestamp": 1714166296718,
     "user": {
      "displayName": "Christian Arias",
      "userId": "06594569667371018215"
     },
     "user_tz": 300
    },
    "id": "GKPmUo9t7BGL",
    "outputId": "c2735f83-691e-43fc-f7d9-abe12922d67e"
   },
   "outputs": [
    {
     "data": {
      "text/plain": [
       "True"
      ]
     },
     "execution_count": 78,
     "metadata": {},
     "output_type": "execute_result"
    }
   ],
   "source": [
    "'Juan said: \"Yeah\"' == \"Juan said: \\\"Yeah\\\"\""
   ]
  },
  {
   "cell_type": "code",
   "execution_count": null,
   "metadata": {
    "colab": {
     "base_uri": "https://localhost:8080/"
    },
    "executionInfo": {
     "elapsed": 43,
     "status": "ok",
     "timestamp": 1714166296718,
     "user": {
      "displayName": "Christian Arias",
      "userId": "06594569667371018215"
     },
     "user_tz": 300
    },
    "id": "JBC5jESk7Cg5",
    "outputId": "6e5aef38-e303-4da7-e9fe-bc8c3333d18b"
   },
   "outputs": [
    {
     "data": {
      "text/plain": [
       "True"
      ]
     },
     "execution_count": 79,
     "metadata": {},
     "output_type": "execute_result"
    }
   ],
   "source": [
    "\"Juan's sisters\" == 'Juan\\'s sisters'"
   ]
  },
  {
   "cell_type": "code",
   "execution_count": null,
   "metadata": {
    "colab": {
     "base_uri": "https://localhost:8080/",
     "height": 36
    },
    "executionInfo": {
     "elapsed": 42,
     "status": "ok",
     "timestamp": 1714166296718,
     "user": {
      "displayName": "Christian Arias",
      "userId": "06594569667371018215"
     },
     "user_tz": 300
    },
    "id": "AecDLAtz7EaW",
    "outputId": "0aeda3a6-9b08-41ca-c1f0-d91a706c9540"
   },
   "outputs": [
    {
     "data": {
      "application/vnd.google.colaboratory.intrinsic+json": {
       "type": "string"
      },
      "text/plain": [
       "'I feel 😄'"
      ]
     },
     "execution_count": 80,
     "metadata": {},
     "output_type": "execute_result"
    }
   ],
   "source": [
    "'I feel \\U0001F604'"
   ]
  },
  {
   "cell_type": "markdown",
   "metadata": {
    "id": "q2HaBEgu7Q09"
   },
   "source": [
    "### Interpolación de Cadenas\n",
    "\n",
    "El camino más facil para insertar dinamicamente variable en cadenas es a través de la interpolación de cadenas usando:\n",
    "\n",
    "la sintaxis f\"....{var1}... {var2}\"."
   ]
  },
  {
   "cell_type": "code",
   "execution_count": null,
   "metadata": {
    "colab": {
     "base_uri": "https://localhost:8080/"
    },
    "executionInfo": {
     "elapsed": 179,
     "status": "ok",
     "timestamp": 1714167837101,
     "user": {
      "displayName": "Christian Arias",
      "userId": "06594569667371018215"
     },
     "user_tz": 300
    },
    "id": "IC5e0-u8WxLY",
    "outputId": "393bee7c-c55f-49be-8b82-d8f915202d3a"
   },
   "outputs": [
    {
     "name": "stdout",
     "output_type": "stream",
     "text": [
      "Tengo 5 dedos en cada mano\n",
      "diasdiasdiasdiasdiasdiasdiasdias\n"
     ]
    }
   ],
   "source": [
    "a=5\n",
    "b=8\n",
    "c='Tengo '+str(a)+' dedos en cada mano'\n",
    "print(c)\n",
    "print('dias'*b)"
   ]
  },
  {
   "cell_type": "code",
   "execution_count": null,
   "metadata": {
    "colab": {
     "base_uri": "https://localhost:8080/",
     "height": 36
    },
    "executionInfo": {
     "elapsed": 41,
     "status": "ok",
     "timestamp": 1714166296718,
     "user": {
      "displayName": "Christian Arias",
      "userId": "06594569667371018215"
     },
     "user_tz": 300
    },
    "id": "XvtpEddD7N34",
    "outputId": "48e5df0f-57bc-486d-d865-2b27f44ab619"
   },
   "outputs": [
    {
     "data": {
      "application/vnd.google.colaboratory.intrinsic+json": {
       "type": "string"
      },
      "text/plain": [
       "'Juan is 1.7 meters tall and has 2 brothers and sisters'"
      ]
     },
     "execution_count": 81,
     "metadata": {},
     "output_type": "execute_result"
    }
   ],
   "source": [
    "juans_height = 1.70\n",
    "num_siblings = 2\n",
    "\n",
    "f\"Juan is {juans_height} meters tall and has {num_siblings} brothers and sisters\""
   ]
  },
  {
   "cell_type": "markdown",
   "metadata": {
    "id": "aR8X5EiE7coN"
   },
   "source": [
    "También se puede especificar la precisión con la sintaxis \"...{var:.#f}...\", donde # es el número de digitos decimales."
   ]
  },
  {
   "cell_type": "code",
   "execution_count": null,
   "metadata": {
    "colab": {
     "base_uri": "https://localhost:8080/",
     "height": 36
    },
    "executionInfo": {
     "elapsed": 41,
     "status": "ok",
     "timestamp": 1714166296718,
     "user": {
      "displayName": "Christian Arias",
      "userId": "06594569667371018215"
     },
     "user_tz": 300
    },
    "id": "MYGFxfZw7GIg",
    "outputId": "92b2a84c-298d-42fc-a860-5ceddbfd1ac6"
   },
   "outputs": [
    {
     "data": {
      "application/vnd.google.colaboratory.intrinsic+json": {
       "type": "string"
      },
      "text/plain": [
       "'Juan is 1.70 meters tall'"
      ]
     },
     "execution_count": 82,
     "metadata": {},
     "output_type": "execute_result"
    }
   ],
   "source": [
    "f\"Juan is {juans_height:.2f} meters tall\""
   ]
  },
  {
   "cell_type": "markdown",
   "metadata": {
    "id": "5eaX-VOl8gNH"
   },
   "source": [
    "Expresiones Full incluyendo llamado a funciones:"
   ]
  },
  {
   "cell_type": "code",
   "execution_count": null,
   "metadata": {
    "colab": {
     "base_uri": "https://localhost:8080/",
     "height": 36
    },
    "executionInfo": {
     "elapsed": 40,
     "status": "ok",
     "timestamp": 1714166296718,
     "user": {
      "displayName": "Christian Arias",
      "userId": "06594569667371018215"
     },
     "user_tz": 300
    },
    "id": "kd7aEh247fiA",
    "outputId": "089624cf-21d2-46c4-f3cf-0429813ccdd9"
   },
   "outputs": [
    {
     "data": {
      "application/vnd.google.colaboratory.intrinsic+json": {
       "type": "string"
      },
      "text/plain": [
       "'Juan is 10 cm taller than Luisa'"
      ]
     },
     "execution_count": 83,
     "metadata": {},
     "output_type": "execute_result"
    }
   ],
   "source": [
    "luisas_height = 1.60\n",
    "f\"Juan is { round( (juans_height - luisas_height)* 100 )  } cm taller than Luisa\""
   ]
  },
  {
   "cell_type": "markdown",
   "metadata": {
    "id": "9k8nP6KfUqP-"
   },
   "source": [
    "Una sintaxis ligeramente más nueva y que mejor utiliza el método de formato en cadenas:"
   ]
  },
  {
   "cell_type": "code",
   "execution_count": null,
   "metadata": {
    "colab": {
     "base_uri": "https://localhost:8080/",
     "height": 36
    },
    "executionInfo": {
     "elapsed": 40,
     "status": "ok",
     "timestamp": 1714166296718,
     "user": {
      "displayName": "Christian Arias",
      "userId": "06594569667371018215"
     },
     "user_tz": 300
    },
    "id": "LQZPEbML8jE1",
    "outputId": "51c91367-134e-40e1-b1e3-b432ffc2e136"
   },
   "outputs": [
    {
     "data": {
      "application/vnd.google.colaboratory.intrinsic+json": {
       "type": "string"
      },
      "text/plain": [
       "'Juan is 1.7 meters tall and has 2 brothers and sisters'"
      ]
     },
     "execution_count": 84,
     "metadata": {},
     "output_type": "execute_result"
    }
   ],
   "source": [
    "\"Juan is {jh} meters tall and has {ns} brothers and sisters\".format( jh= juans_height, ns=num_siblings  )"
   ]
  },
  {
   "cell_type": "markdown",
   "metadata": {
    "id": "1apCM1CGUwW1"
   },
   "source": [
    "La siguiente es también una solución común simple, aunque no la más eficiente."
   ]
  },
  {
   "cell_type": "code",
   "execution_count": null,
   "metadata": {
    "colab": {
     "base_uri": "https://localhost:8080/",
     "height": 36
    },
    "executionInfo": {
     "elapsed": 39,
     "status": "ok",
     "timestamp": 1714166296718,
     "user": {
      "displayName": "Christian Arias",
      "userId": "06594569667371018215"
     },
     "user_tz": 300
    },
    "id": "TBunBtXjUsoR",
    "outputId": "9a0895fc-1fb9-47cd-c9d4-8be51544bf5a"
   },
   "outputs": [
    {
     "data": {
      "application/vnd.google.colaboratory.intrinsic+json": {
       "type": "string"
      },
      "text/plain": [
       "'Juan is 1.7 meters tall and has 2 brothers and sisters'"
      ]
     },
     "execution_count": 85,
     "metadata": {},
     "output_type": "execute_result"
    }
   ],
   "source": [
    "\"Juan is \" + str(juans_height) + \" meters tall and has \" + str(num_siblings) + \" brothers and sisters\""
   ]
  },
  {
   "cell_type": "markdown",
   "metadata": {
    "id": "moIWuEuSVDeY"
   },
   "source": [
    "Como en C/Java, etc., una cadena puede también contener códigos especiales como salto de linea ('\\n') y tabulación ('\\t')."
   ]
  },
  {
   "cell_type": "code",
   "execution_count": null,
   "metadata": {
    "colab": {
     "base_uri": "https://localhost:8080/"
    },
    "executionInfo": {
     "elapsed": 39,
     "status": "ok",
     "timestamp": 1714166296718,
     "user": {
      "displayName": "Christian Arias",
      "userId": "06594569667371018215"
     },
     "user_tz": 300
    },
    "id": "muMtTOvCUyTA",
    "outputId": "2ef6a35f-81c8-4adc-f13d-dbd8438cb3fc"
   },
   "outputs": [
    {
     "name": "stdout",
     "output_type": "stream",
     "text": [
      "Juan is 1.7 meters tall\n",
      "\tand has 2 brothers\n",
      "and sisters\n"
     ]
    }
   ],
   "source": [
    "a_str = f\"Juan is {juans_height} meters tall\\n\\tand has {num_siblings} brothers\\nand sisters\"\n",
    "print( a_str )"
   ]
  },
  {
   "cell_type": "markdown",
   "metadata": {
    "id": "ogKJg_EnV6Rz"
   },
   "source": [
    "### Indexación de Cadenas\n",
    "\n",
    "Las cadenas de Python son cadenas de caracteres, y cada carácter reside en un índice a partir de $0$ (para el primer carácter) y terminando en longitud de cadena $-1$ (para el último carácter).\n",
    "\n",
    "|G|r|u|p|o|\n",
    "|-|-|-|-|-|\n",
    "|0|1|2|3|4|\n",
    "|-|-|-|-|-|\n",
    "|-5|-4|-3|-2|-1|\n"
   ]
  },
  {
   "cell_type": "code",
   "execution_count": null,
   "metadata": {
    "id": "eH2_X2f_VHb_"
   },
   "outputs": [],
   "source": [
    "cadena = \"Juan's height u\""
   ]
  },
  {
   "cell_type": "code",
   "execution_count": null,
   "metadata": {
    "colab": {
     "base_uri": "https://localhost:8080/"
    },
    "executionInfo": {
     "elapsed": 8,
     "status": "ok",
     "timestamp": 1714166296872,
     "user": {
      "displayName": "Christian Arias",
      "userId": "06594569667371018215"
     },
     "user_tz": 300
    },
    "id": "NxDyPy2eX-c3",
    "outputId": "6d026f52-7542-4f1a-ea95-163f5ca5d41f"
   },
   "outputs": [
    {
     "name": "stdout",
     "output_type": "stream",
     "text": [
      "Primer caracter:  J\n",
      "Ultimo caracter:  u\n"
     ]
    }
   ],
   "source": [
    "print(\"Primer caracter: \",cadena[0])\n",
    "print(\"Ultimo caracter: \",cadena[-1])"
   ]
  },
  {
   "cell_type": "code",
   "execution_count": null,
   "metadata": {
    "colab": {
     "base_uri": "https://localhost:8080/"
    },
    "executionInfo": {
     "elapsed": 7,
     "status": "ok",
     "timestamp": 1714166296872,
     "user": {
      "displayName": "Christian Arias",
      "userId": "06594569667371018215"
     },
     "user_tz": 300
    },
    "id": "anXi-2fLYBA7",
    "outputId": "b6674be5-e380-4fe0-958a-91a13b897c19"
   },
   "outputs": [
    {
     "name": "stdout",
     "output_type": "stream",
     "text": [
      "<class 'str'>\n"
     ]
    }
   ],
   "source": [
    "print(type(cadena[0]))"
   ]
  },
  {
   "cell_type": "markdown",
   "metadata": {
    "id": "qrpLrpeZYUvH"
   },
   "source": [
    "Las cadenas son inmutables"
   ]
  },
  {
   "cell_type": "code",
   "execution_count": null,
   "metadata": {
    "colab": {
     "base_uri": "https://localhost:8080/",
     "height": 141
    },
    "executionInfo": {
     "elapsed": 6,
     "status": "error",
     "timestamp": 1714166296872,
     "user": {
      "displayName": "Christian Arias",
      "userId": "06594569667371018215"
     },
     "user_tz": 300
    },
    "id": "9uvqrUN7YPk2",
    "outputId": "7f4c4d62-30de-4477-ba28-82e182bef884"
   },
   "outputs": [
    {
     "ename": "TypeError",
     "evalue": "'str' object does not support item assignment",
     "output_type": "error",
     "traceback": [
      "\u001b[0;31m---------------------------------------------------------------------------\u001b[0m",
      "\u001b[0;31mTypeError\u001b[0m                                 Traceback (most recent call last)",
      "\u001b[0;32m<ipython-input-90-00a3dd25daf6>\u001b[0m in \u001b[0;36m<cell line: 1>\u001b[0;34m()\u001b[0m\n\u001b[0;32m----> 1\u001b[0;31m \u001b[0mcadena\u001b[0m\u001b[0;34m[\u001b[0m\u001b[0;36m1\u001b[0m\u001b[0;34m]\u001b[0m \u001b[0;34m=\u001b[0m \u001b[0;34m'o'\u001b[0m\u001b[0;34m\u001b[0m\u001b[0;34m\u001b[0m\u001b[0m\n\u001b[0m",
      "\u001b[0;31mTypeError\u001b[0m: 'str' object does not support item assignment"
     ]
    }
   ],
   "source": [
    "cadena[1] = 'o'"
   ]
  },
  {
   "cell_type": "markdown",
   "metadata": {
    "id": "Qgn2BDHPZSlV"
   },
   "source": [
    "Si se desea cambiar el valor de un caracter de una cadena se debe de usar las funciones propias del objeto string."
   ]
  },
  {
   "cell_type": "code",
   "execution_count": null,
   "metadata": {
    "colab": {
     "base_uri": "https://localhost:8080/",
     "height": 36
    },
    "executionInfo": {
     "elapsed": 168,
     "status": "ok",
     "timestamp": 1714166345083,
     "user": {
      "displayName": "Christian Arias",
      "userId": "06594569667371018215"
     },
     "user_tz": 300
    },
    "id": "vz3CFTw0ZR4l",
    "outputId": "7ff94e34-b2aa-4b48-d81a-7f09a13e4e05"
   },
   "outputs": [
    {
     "data": {
      "application/vnd.google.colaboratory.intrinsic+json": {
       "type": "string"
      },
      "text/plain": [
       "\"Joan's height o\""
      ]
     },
     "execution_count": 91,
     "metadata": {},
     "output_type": "execute_result"
    }
   ],
   "source": [
    "str.replace(cadena,'u','o')"
   ]
  },
  {
   "cell_type": "code",
   "execution_count": null,
   "metadata": {
    "colab": {
     "base_uri": "https://localhost:8080/",
     "height": 36
    },
    "executionInfo": {
     "elapsed": 198,
     "status": "ok",
     "timestamp": 1714166345533,
     "user": {
      "displayName": "Christian Arias",
      "userId": "06594569667371018215"
     },
     "user_tz": 300
    },
    "id": "SwFs43R4XEb3",
    "outputId": "744a54a3-83d8-477c-f9ba-b718d3e4fcb5"
   },
   "outputs": [
    {
     "data": {
      "application/vnd.google.colaboratory.intrinsic+json": {
       "type": "string"
      },
      "text/plain": [
       "\"Juan's height u\""
      ]
     },
     "execution_count": 92,
     "metadata": {},
     "output_type": "execute_result"
    }
   ],
   "source": [
    "cadena"
   ]
  },
  {
   "cell_type": "code",
   "execution_count": null,
   "metadata": {
    "colab": {
     "base_uri": "https://localhost:8080/"
    },
    "executionInfo": {
     "elapsed": 271,
     "status": "ok",
     "timestamp": 1714166345802,
     "user": {
      "displayName": "Christian Arias",
      "userId": "06594569667371018215"
     },
     "user_tz": 300
    },
    "id": "jQRoC1ccuaPO",
    "outputId": "edff84d1-d878-4cec-b880-5d7a590efb38"
   },
   "outputs": [
    {
     "name": "stdout",
     "output_type": "stream",
     "text": [
      "Joan's height o\n"
     ]
    }
   ],
   "source": [
    "cadena = str.replace(cadena,'u','o')\n",
    "print(cadena)"
   ]
  },
  {
   "cell_type": "markdown",
   "metadata": {
    "id": "-NR8eEZuZ8CI"
   },
   "source": [
    "Si se desea conocer el tamaño de la cadena de caracteres se usa el metodo `len(cadena)`."
   ]
  },
  {
   "cell_type": "code",
   "execution_count": null,
   "metadata": {
    "colab": {
     "base_uri": "https://localhost:8080/"
    },
    "executionInfo": {
     "elapsed": 24,
     "status": "ok",
     "timestamp": 1714166345803,
     "user": {
      "displayName": "Christian Arias",
      "userId": "06594569667371018215"
     },
     "user_tz": 300
    },
    "id": "R-DN26BbYaKe",
    "outputId": "38347f90-c8a8-4c08-bae2-b706cfca0218"
   },
   "outputs": [
    {
     "data": {
      "text/plain": [
       "15"
      ]
     },
     "execution_count": 94,
     "metadata": {},
     "output_type": "execute_result"
    }
   ],
   "source": [
    "len(cadena)"
   ]
  },
  {
   "cell_type": "markdown",
   "metadata": {
    "id": "dRYVXYPbg-Up"
   },
   "source": [
    "Si se desea conocer si un caracter esta en una cadena de caracteres se usa el operador `in`."
   ]
  },
  {
   "cell_type": "code",
   "execution_count": null,
   "metadata": {
    "colab": {
     "base_uri": "https://localhost:8080/"
    },
    "executionInfo": {
     "elapsed": 22,
     "status": "ok",
     "timestamp": 1714166345803,
     "user": {
      "displayName": "Christian Arias",
      "userId": "06594569667371018215"
     },
     "user_tz": 300
    },
    "id": "Em3epH4FgyuK",
    "outputId": "58f110fb-19cf-454b-e0f2-d7e481b47776"
   },
   "outputs": [
    {
     "data": {
      "text/plain": [
       "True"
      ]
     },
     "execution_count": 95,
     "metadata": {},
     "output_type": "execute_result"
    }
   ],
   "source": [
    "'a' in cadena"
   ]
  },
  {
   "cell_type": "markdown",
   "metadata": {
    "id": "2ExiuuVDbAjU"
   },
   "source": [
    "### Cortar (Slicing) Cadenas\n",
    "\n",
    "**Slicing** en Python es un camino poderoso para extraer sub-partes de una cadena, listas y tuplas.\n",
    "\n",
    "```\n",
    "str[start:end]\n",
    "````\n",
    "**start**: sub-cadena inicia desde este elemento\n",
    "\n",
    "**end**: fin sub-cadena, excluye el elemento en este index.\n",
    "\n",
    "|G|r|u|p|o|\n",
    "|-|-|-|-|-|\n",
    "|0|1|2|3|4|\n",
    "\n",
    "```python\n",
    "cadena = \"Grupo\"\n",
    "print(cadena[0:2])\n",
    "```\n",
    "|G|r|\n",
    "|-|-|\n",
    "|0|1|\n"
   ]
  },
  {
   "cell_type": "code",
   "execution_count": null,
   "metadata": {
    "colab": {
     "base_uri": "https://localhost:8080/"
    },
    "executionInfo": {
     "elapsed": 21,
     "status": "ok",
     "timestamp": 1714166345803,
     "user": {
      "displayName": "Christian Arias",
      "userId": "06594569667371018215"
     },
     "user_tz": 300
    },
    "id": "bYxBWAfha9JH",
    "outputId": "99cd010b-374b-4eec-c87e-3657889c1b4b"
   },
   "outputs": [
    {
     "name": "stdout",
     "output_type": "stream",
     "text": [
      "Gr\n"
     ]
    }
   ],
   "source": [
    "cadena = \"Grupo\"\n",
    "print(cadena[0:2])"
   ]
  },
  {
   "cell_type": "code",
   "execution_count": null,
   "metadata": {
    "colab": {
     "base_uri": "https://localhost:8080/"
    },
    "executionInfo": {
     "elapsed": 21,
     "status": "ok",
     "timestamp": 1714166345803,
     "user": {
      "displayName": "Christian Arias",
      "userId": "06594569667371018215"
     },
     "user_tz": 300
    },
    "id": "RC9_OuVYaDfS",
    "outputId": "32bd7fcb-948d-4626-dbf9-2f3f69d8dd30"
   },
   "outputs": [
    {
     "name": "stdout",
     "output_type": "stream",
     "text": [
      "Grup\n"
     ]
    }
   ],
   "source": [
    "# Sub-cadena desde la posicion inicial, 4 caracteres.\n",
    "print(cadena[0:4])"
   ]
  },
  {
   "cell_type": "code",
   "execution_count": null,
   "metadata": {
    "colab": {
     "base_uri": "https://localhost:8080/"
    },
    "executionInfo": {
     "elapsed": 15,
     "status": "ok",
     "timestamp": 1714166345803,
     "user": {
      "displayName": "Christian Arias",
      "userId": "06594569667371018215"
     },
     "user_tz": 300
    },
    "id": "ca384-4JSqrl",
    "outputId": "b58d8a8e-ecc1-4a16-9342-f69cf27fe319"
   },
   "outputs": [
    {
     "name": "stdout",
     "output_type": "stream",
     "text": [
      "ru\n"
     ]
    }
   ],
   "source": [
    "print(cadena[1:3])"
   ]
  },
  {
   "cell_type": "code",
   "execution_count": null,
   "metadata": {
    "colab": {
     "base_uri": "https://localhost:8080/"
    },
    "executionInfo": {
     "elapsed": 15,
     "status": "ok",
     "timestamp": 1714166345803,
     "user": {
      "displayName": "Christian Arias",
      "userId": "06594569667371018215"
     },
     "user_tz": 300
    },
    "id": "TvEA0WgEcbwD",
    "outputId": "319b17dc-02e0-491b-b404-1538b0257ea6"
   },
   "outputs": [
    {
     "name": "stdout",
     "output_type": "stream",
     "text": [
      "Grup\n"
     ]
    }
   ],
   "source": [
    "# Exactamente igual al anterior, solo que el 0 es el índice inicial implícito)\n",
    "print(cadena[:4])"
   ]
  },
  {
   "cell_type": "code",
   "execution_count": null,
   "metadata": {
    "colab": {
     "base_uri": "https://localhost:8080/"
    },
    "executionInfo": {
     "elapsed": 12,
     "status": "ok",
     "timestamp": 1714166345803,
     "user": {
      "displayName": "Christian Arias",
      "userId": "06594569667371018215"
     },
     "user_tz": 300
    },
    "id": "_BaUosZ4df_C",
    "outputId": "1ea9b622-cbad-4b30-9b0d-9af2820dfe65"
   },
   "outputs": [
    {
     "name": "stdout",
     "output_type": "stream",
     "text": [
      "o\n"
     ]
    }
   ],
   "source": [
    "# Sub-cadena desde el cuarto caracter hasta el final\n",
    "print(cadena[4:])"
   ]
  },
  {
   "cell_type": "code",
   "execution_count": null,
   "metadata": {
    "colab": {
     "base_uri": "https://localhost:8080/"
    },
    "executionInfo": {
     "elapsed": 11,
     "status": "ok",
     "timestamp": 1714166345803,
     "user": {
      "displayName": "Christian Arias",
      "userId": "06594569667371018215"
     },
     "user_tz": 300
    },
    "id": "HhjF7fNzfYSD",
    "outputId": "487bf385-8f6a-4a35-cd51-a8012cbbd46a"
   },
   "outputs": [
    {
     "name": "stdout",
     "output_type": "stream",
     "text": [
      "rup\n"
     ]
    }
   ],
   "source": [
    "# Sub-cadena desde el caracter en la posicion 1 hasta el caracter en la posicion 4\n",
    "print(cadena[1:4])"
   ]
  },
  {
   "cell_type": "code",
   "execution_count": null,
   "metadata": {
    "colab": {
     "base_uri": "https://localhost:8080/"
    },
    "executionInfo": {
     "elapsed": 10,
     "status": "ok",
     "timestamp": 1714166345803,
     "user": {
      "displayName": "Christian Arias",
      "userId": "06594569667371018215"
     },
     "user_tz": 300
    },
    "id": "dHhDxLfNfnMP",
    "outputId": "f26bcf34-7f4c-4608-cd31-8a175873a161"
   },
   "outputs": [
    {
     "name": "stdout",
     "output_type": "stream",
     "text": [
      "upo\n"
     ]
    }
   ],
   "source": [
    "# Sub-cadena con indices negativos, el -1 es el índice final implícito.\n",
    "print(cadena[-3:])"
   ]
  },
  {
   "cell_type": "code",
   "execution_count": null,
   "metadata": {
    "colab": {
     "base_uri": "https://localhost:8080/"
    },
    "executionInfo": {
     "elapsed": 9,
     "status": "ok",
     "timestamp": 1714166345803,
     "user": {
      "displayName": "Christian Arias",
      "userId": "06594569667371018215"
     },
     "user_tz": 300
    },
    "id": "_43uhB74fwah",
    "outputId": "b8e2b4d7-f2cf-462a-f2b6-f76babaea2ee"
   },
   "outputs": [
    {
     "name": "stdout",
     "output_type": "stream",
     "text": [
      "rup\n"
     ]
    }
   ],
   "source": [
    "# Sub-cadena con indices negativos\n",
    "print(cadena[-4:-1])"
   ]
  },
  {
   "cell_type": "markdown",
   "metadata": {
    "id": "7aZp14WQgk-b"
   },
   "source": [
    "## Manejo de Listas\n",
    "\n",
    "Una lista es un arreglo de elementos donde podemos ingresar cualquier tipo de dato, para acceder a estos datos lo podemos hacer mediante un índice."
   ]
  },
  {
   "cell_type": "code",
   "execution_count": null,
   "metadata": {
    "id": "rJfiHrfOhdOI"
   },
   "outputs": [],
   "source": [
    "lista = [1,2.5,'Grupo',[1,2],10,'Grupo']"
   ]
  },
  {
   "cell_type": "code",
   "execution_count": null,
   "metadata": {
    "colab": {
     "base_uri": "https://localhost:8080/"
    },
    "executionInfo": {
     "elapsed": 246,
     "status": "ok",
     "timestamp": 1714168593055,
     "user": {
      "displayName": "Christian Arias",
      "userId": "06594569667371018215"
     },
     "user_tz": 300
    },
    "id": "Eqkpt_OehqHd",
    "outputId": "178878ca-6941-4a46-feee-49793c7dfd54"
   },
   "outputs": [
    {
     "name": "stdout",
     "output_type": "stream",
     "text": [
      "Primer elemento de la lista:  1\n",
      "Ultimo elemento de la lista:  Grupo\n"
     ]
    }
   ],
   "source": [
    "print(\"Primer elemento de la lista: \",lista[0])\n",
    "print(\"Ultimo elemento de la lista: \",lista[-1])"
   ]
  },
  {
   "cell_type": "code",
   "execution_count": null,
   "metadata": {
    "colab": {
     "base_uri": "https://localhost:8080/"
    },
    "executionInfo": {
     "elapsed": 264,
     "status": "ok",
     "timestamp": 1714168594214,
     "user": {
      "displayName": "Christian Arias",
      "userId": "06594569667371018215"
     },
     "user_tz": 300
    },
    "id": "hrQ2yMfjh-Le",
    "outputId": "ee418a72-caa9-4648-8135-f917c098caf9"
   },
   "outputs": [
    {
     "name": "stdout",
     "output_type": "stream",
     "text": [
      "[1, 2]\n"
     ]
    }
   ],
   "source": [
    "# Obtener el elemento de la posicion 3\n",
    "print(lista[3])"
   ]
  },
  {
   "cell_type": "markdown",
   "metadata": {
    "id": "2K5o5O7aiOXq"
   },
   "source": [
    "Si la posición 3 es una lista, para acceder a los elementos de esta lista se realiza de la siguiente manera."
   ]
  },
  {
   "cell_type": "code",
   "execution_count": null,
   "metadata": {
    "colab": {
     "base_uri": "https://localhost:8080/"
    },
    "executionInfo": {
     "elapsed": 1,
     "status": "ok",
     "timestamp": 1714168595045,
     "user": {
      "displayName": "Christian Arias",
      "userId": "06594569667371018215"
     },
     "user_tz": 300
    },
    "id": "vZZHIxiCiKF-",
    "outputId": "2a0e2653-b37d-49dd-c14e-e97656f36e86"
   },
   "outputs": [
    {
     "name": "stdout",
     "output_type": "stream",
     "text": [
      "2\n"
     ]
    }
   ],
   "source": [
    "# Obtener el elemento de la posicion 3, obtener el elemento 1 de esta lista\n",
    "print(lista[3][1])"
   ]
  },
  {
   "cell_type": "code",
   "execution_count": null,
   "metadata": {
    "colab": {
     "base_uri": "https://localhost:8080/"
    },
    "executionInfo": {
     "elapsed": 185,
     "status": "ok",
     "timestamp": 1714168596677,
     "user": {
      "displayName": "Christian Arias",
      "userId": "06594569667371018215"
     },
     "user_tz": 300
    },
    "id": "UUduKW-ZiNa0",
    "outputId": "3cd22592-c67e-4aae-a48c-4a923e02623e"
   },
   "outputs": [
    {
     "name": "stdout",
     "output_type": "stream",
     "text": [
      "[2.5, 'Grupo']\n"
     ]
    }
   ],
   "source": [
    "# Obtener los elementos de la posicion 1 hasta la 3\n",
    "print(lista[1:3])"
   ]
  },
  {
   "cell_type": "code",
   "execution_count": null,
   "metadata": {
    "colab": {
     "base_uri": "https://localhost:8080/"
    },
    "executionInfo": {
     "elapsed": 194,
     "status": "ok",
     "timestamp": 1714168597510,
     "user": {
      "displayName": "Christian Arias",
      "userId": "06594569667371018215"
     },
     "user_tz": 300
    },
    "id": "K56Tf3SDiv9D",
    "outputId": "e1503b1f-c154-42ca-cfec-c16d7f11c18c"
   },
   "outputs": [
    {
     "name": "stdout",
     "output_type": "stream",
     "text": [
      "[1, 2.5, 'Grupo', [1, 2], 10, 'Grupo', 'Nuevo']\n"
     ]
    }
   ],
   "source": [
    "# Adicionar un elemento a la lista\n",
    "lista.append('Nuevo')\n",
    "print(lista)"
   ]
  },
  {
   "cell_type": "code",
   "execution_count": null,
   "metadata": {
    "colab": {
     "base_uri": "https://localhost:8080/"
    },
    "executionInfo": {
     "elapsed": 196,
     "status": "ok",
     "timestamp": 1714168599592,
     "user": {
      "displayName": "Christian Arias",
      "userId": "06594569667371018215"
     },
     "user_tz": 300
    },
    "id": "jL7rmUmEjQf3",
    "outputId": "33452420-e7f7-4c9d-8bba-0272e19eccf5"
   },
   "outputs": [
    {
     "name": "stdout",
     "output_type": "stream",
     "text": [
      "[1, 2.5, 'Grupo', [1, 2], 10, 'Grupo', 'Nuevo', 'Elemento', 45]\n"
     ]
    }
   ],
   "source": [
    "# Extend permite agregar elementos pero al agregar una lista cada elemento de esta se agrega como un elemento mas dentro de la otra lista\n",
    "lista.extend(['Elemento',45])\n",
    "print(lista)"
   ]
  },
  {
   "cell_type": "code",
   "execution_count": null,
   "metadata": {
    "colab": {
     "base_uri": "https://localhost:8080/"
    },
    "executionInfo": {
     "elapsed": 164,
     "status": "ok",
     "timestamp": 1714168602713,
     "user": {
      "displayName": "Christian Arias",
      "userId": "06594569667371018215"
     },
     "user_tz": 300
    },
    "id": "1b8gvBDqaJbj",
    "outputId": "20f76a33-2507-4c67-d198-b9c45cf7dc80"
   },
   "outputs": [
    {
     "name": "stdout",
     "output_type": "stream",
     "text": [
      "[1, 2.5, 'Grupo', [1, 2], 10, 'Grupo', 'Nuevo', 'Elemento', 45, ['Elemento', 45]]\n"
     ]
    }
   ],
   "source": [
    "lista.append(['Elemento',45])\n",
    "print(lista)"
   ]
  },
  {
   "cell_type": "code",
   "execution_count": null,
   "metadata": {
    "colab": {
     "base_uri": "https://localhost:8080/"
    },
    "executionInfo": {
     "elapsed": 198,
     "status": "ok",
     "timestamp": 1714168617325,
     "user": {
      "displayName": "Christian Arias",
      "userId": "06594569667371018215"
     },
     "user_tz": 300
    },
    "id": "u0siyZF8UG0y",
    "outputId": "5012e862-eeab-4f5c-d749-2befea5d6b89"
   },
   "outputs": [
    {
     "name": "stdout",
     "output_type": "stream",
     "text": [
      "[1, 2, 3, [4, 5]]\n",
      "[1, 2, 3, [4, 5], 4, 5]\n",
      "None\n",
      "None\n"
     ]
    }
   ],
   "source": [
    "l=[1,2,3]\n",
    "x=[4,5]\n",
    "a=l.append(x)\n",
    "print(l)\n",
    "b=l.extend(x)\n",
    "print(l)\n",
    "print(a)\n",
    "print(b)"
   ]
  },
  {
   "cell_type": "code",
   "execution_count": null,
   "metadata": {
    "colab": {
     "base_uri": "https://localhost:8080/"
    },
    "executionInfo": {
     "elapsed": 13,
     "status": "ok",
     "timestamp": 1714166346320,
     "user": {
      "displayName": "Christian Arias",
      "userId": "06594569667371018215"
     },
     "user_tz": 300
    },
    "id": "l9PyPRKsAJOZ",
    "outputId": "03fa59ce-2043-4e8c-d713-f3d06b7e8758"
   },
   "outputs": [
    {
     "name": "stdout",
     "output_type": "stream",
     "text": [
      "[1, 2.5, 'Grupo', 1, [1, 2], 10, 'Grupo', 'Nuevo', 'Elemento', 45]\n"
     ]
    }
   ],
   "source": [
    "# Inserta un elemento en la posicion dada\n",
    "lista.insert(3,1)\n",
    "print(lista)"
   ]
  },
  {
   "cell_type": "code",
   "execution_count": null,
   "metadata": {
    "colab": {
     "base_uri": "https://localhost:8080/"
    },
    "executionInfo": {
     "elapsed": 10,
     "status": "ok",
     "timestamp": 1714166346320,
     "user": {
      "displayName": "Christian Arias",
      "userId": "06594569667371018215"
     },
     "user_tz": 300
    },
    "id": "oBzaPwCSjh9X",
    "outputId": "d8076b9c-20b1-44a4-c07c-ffd0b9dec9ac"
   },
   "outputs": [
    {
     "name": "stdout",
     "output_type": "stream",
     "text": [
      "[1, 2.5, 'Grupo', 1, [1, 2], 'Grupo', 'Nuevo', 'Elemento', 45]\n"
     ]
    }
   ],
   "source": [
    "# Eliminar un elemento de la lista\n",
    "lista.remove(10)\n",
    "print(lista)"
   ]
  },
  {
   "cell_type": "code",
   "execution_count": null,
   "metadata": {
    "colab": {
     "base_uri": "https://localhost:8080/"
    },
    "executionInfo": {
     "elapsed": 230,
     "status": "ok",
     "timestamp": 1714168705540,
     "user": {
      "displayName": "Christian Arias",
      "userId": "06594569667371018215"
     },
     "user_tz": 300
    },
    "id": "PYAuUj1Ajrct",
    "outputId": "2c230b01-65c9-4f1c-8980-7d6647f43817"
   },
   "outputs": [
    {
     "name": "stdout",
     "output_type": "stream",
     "text": [
      "7\n"
     ]
    }
   ],
   "source": [
    "# Devuelve el número de indice del elemento que le pasamor por parámetro\n",
    "print(lista.index('Grupo'))"
   ]
  },
  {
   "cell_type": "code",
   "execution_count": null,
   "metadata": {
    "colab": {
     "base_uri": "https://localhost:8080/"
    },
    "executionInfo": {
     "elapsed": 6,
     "status": "ok",
     "timestamp": 1714166346320,
     "user": {
      "displayName": "Christian Arias",
      "userId": "06594569667371018215"
     },
     "user_tz": 300
    },
    "id": "1aH6nX11AiWG",
    "outputId": "b0324684-aa69-45a3-8aa5-cd68e8e59ae9"
   },
   "outputs": [
    {
     "name": "stdout",
     "output_type": "stream",
     "text": [
      "Grupo\n",
      "[1, 2.5, 1, [1, 2], 'Grupo', 'Nuevo', 'Elemento', 45]\n"
     ]
    }
   ],
   "source": [
    "# Devuelve el elemento en la posicion dada de la lista y lo elimina\n",
    "print(lista.pop(2))\n",
    "print(lista)"
   ]
  },
  {
   "cell_type": "code",
   "execution_count": null,
   "metadata": {
    "colab": {
     "base_uri": "https://localhost:8080/"
    },
    "executionInfo": {
     "elapsed": 5,
     "status": "ok",
     "timestamp": 1714166346320,
     "user": {
      "displayName": "Christian Arias",
      "userId": "06594569667371018215"
     },
     "user_tz": 300
    },
    "id": "9R6HePjPkA-Q",
    "outputId": "12a11492-e366-4afe-f3d2-1457d7db4ffc"
   },
   "outputs": [
    {
     "name": "stdout",
     "output_type": "stream",
     "text": [
      "1\n"
     ]
    }
   ],
   "source": [
    "# Devuelve cuantas veces un elemento de una lista se repite\n",
    "print(lista.count('Nuevo'))"
   ]
  },
  {
   "cell_type": "code",
   "execution_count": null,
   "metadata": {
    "colab": {
     "base_uri": "https://localhost:8080/"
    },
    "executionInfo": {
     "elapsed": 3,
     "status": "ok",
     "timestamp": 1714166346320,
     "user": {
      "displayName": "Christian Arias",
      "userId": "06594569667371018215"
     },
     "user_tz": 300
    },
    "id": "i3OWc52-kMZH",
    "outputId": "372e865b-40ba-453b-9130-c81e40242345"
   },
   "outputs": [
    {
     "name": "stdout",
     "output_type": "stream",
     "text": [
      "[45, 'Elemento', 'Nuevo', 'Grupo', [1, 2], 1, 2.5, 1]\n"
     ]
    }
   ],
   "source": [
    "# Invertir los elementos de una lista\n",
    "lista.reverse()\n",
    "print(lista)"
   ]
  },
  {
   "cell_type": "code",
   "execution_count": null,
   "metadata": {
    "colab": {
     "base_uri": "https://localhost:8080/"
    },
    "executionInfo": {
     "elapsed": 198,
     "status": "ok",
     "timestamp": 1714169506117,
     "user": {
      "displayName": "Christian Arias",
      "userId": "06594569667371018215"
     },
     "user_tz": 300
    },
    "id": "e9BzUYVcax0K",
    "outputId": "5387169d-e1ec-496f-935a-1865589ff2df"
   },
   "outputs": [
    {
     "name": "stdout",
     "output_type": "stream",
     "text": [
      "['a', 'n', 'i', 't', 'a', 'l', 'a', 'v', 'a', 'l', 'a', 't', 'i', 'n', 'a', 'Z']\n",
      "None\n",
      "['a', 'n', 'i', 't', 'a', 'l', 'a', 'v', 'a', 'l', 'a', 't', 'i', 'n', 'a', 'Z']\n"
     ]
    }
   ],
   "source": [
    "palabra='anitalavalatinaZ'\n",
    "l=list(palabra)\n",
    "#p=str.reverse(palabra)\n",
    "#palabra==p\n",
    "print(l)\n",
    "print(l.reverse())\n",
    "l.reverse()\n",
    "print(l)"
   ]
  },
  {
   "cell_type": "code",
   "execution_count": null,
   "metadata": {
    "colab": {
     "base_uri": "https://localhost:8080/"
    },
    "executionInfo": {
     "elapsed": 7169,
     "status": "ok",
     "timestamp": 1714169660327,
     "user": {
      "displayName": "Christian Arias",
      "userId": "06594569667371018215"
     },
     "user_tz": 300
    },
    "id": "gUaSilARWO1G",
    "outputId": "dfd974e6-8c1b-48ee-8687-bd716c21df01"
   },
   "outputs": [
    {
     "name": "stdout",
     "output_type": "stream",
     "text": [
      "Digite la cadena a evaluar:papa\n"
     ]
    }
   ],
   "source": [
    "palabra=input(\"Digite la cadena a evaluar:\")"
   ]
  },
  {
   "cell_type": "code",
   "execution_count": null,
   "metadata": {
    "colab": {
     "base_uri": "https://localhost:8080/"
    },
    "executionInfo": {
     "elapsed": 33,
     "status": "ok",
     "timestamp": 1714169660327,
     "user": {
      "displayName": "Christian Arias",
      "userId": "06594569667371018215"
     },
     "user_tz": 300
    },
    "id": "gfVh3m7FWu9E",
    "outputId": "de205301-da11-4a53-a96d-3b3d6cd902b2"
   },
   "outputs": [
    {
     "name": "stdout",
     "output_type": "stream",
     "text": [
      "<class 'list'>\n",
      "['p', 'a', 'p', 'a']\n"
     ]
    }
   ],
   "source": [
    "palabraLista=list(palabra)\n",
    "print(type(palabraLista))\n",
    "print(palabraLista)"
   ]
  },
  {
   "cell_type": "code",
   "execution_count": null,
   "metadata": {
    "colab": {
     "base_uri": "https://localhost:8080/"
    },
    "executionInfo": {
     "elapsed": 26,
     "status": "ok",
     "timestamp": 1714169660327,
     "user": {
      "displayName": "Christian Arias",
      "userId": "06594569667371018215"
     },
     "user_tz": 300
    },
    "id": "CSRwpcOBXYP9",
    "outputId": "b1c0137b-fab7-401c-ca96-e9581b32687f"
   },
   "outputs": [
    {
     "name": "stdout",
     "output_type": "stream",
     "text": [
      "papa\n"
     ]
    }
   ],
   "source": [
    "list(palabra).reverse()\n",
    "print(palabra)"
   ]
  },
  {
   "cell_type": "code",
   "execution_count": null,
   "metadata": {
    "colab": {
     "base_uri": "https://localhost:8080/"
    },
    "executionInfo": {
     "elapsed": 22,
     "status": "ok",
     "timestamp": 1714169660327,
     "user": {
      "displayName": "Christian Arias",
      "userId": "06594569667371018215"
     },
     "user_tz": 300
    },
    "id": "um3vEK09W7wg",
    "outputId": "1f9d4ea1-dc62-4d64-8f02-c04e4eb46733"
   },
   "outputs": [
    {
     "name": "stdout",
     "output_type": "stream",
     "text": [
      "<class 'NoneType'>\n",
      "None\n"
     ]
    }
   ],
   "source": [
    "palabraListaReversa=list(palabra).reverse()\n",
    "print(type(palabraListaReversa))\n",
    "print(palabraListaReversa)"
   ]
  },
  {
   "cell_type": "code",
   "execution_count": null,
   "metadata": {
    "colab": {
     "base_uri": "https://localhost:8080/"
    },
    "executionInfo": {
     "elapsed": 17,
     "status": "ok",
     "timestamp": 1714169660327,
     "user": {
      "displayName": "Christian Arias",
      "userId": "06594569667371018215"
     },
     "user_tz": 300
    },
    "id": "HEem_3XfYOkc",
    "outputId": "104f2080-a16f-41ef-9168-9eb56a09eed3"
   },
   "outputs": [
    {
     "name": "stdout",
     "output_type": "stream",
     "text": [
      "['a', 'p', 'a', 'p']\n"
     ]
    }
   ],
   "source": [
    "palabraListaReversa=list(palabra)\n",
    "palabraListaReversa.reverse()\n",
    "print(palabraListaReversa)"
   ]
  },
  {
   "cell_type": "code",
   "execution_count": null,
   "metadata": {
    "colab": {
     "base_uri": "https://localhost:8080/"
    },
    "executionInfo": {
     "elapsed": 13,
     "status": "ok",
     "timestamp": 1714169660327,
     "user": {
      "displayName": "Christian Arias",
      "userId": "06594569667371018215"
     },
     "user_tz": 300
    },
    "id": "F5hf2AqVWZKH",
    "outputId": "e0122de2-88b3-46f1-a1aa-f5bc97abc40a"
   },
   "outputs": [
    {
     "data": {
      "text/plain": [
       "False"
      ]
     },
     "execution_count": 32,
     "metadata": {},
     "output_type": "execute_result"
    }
   ],
   "source": [
    "list(palabra)==list(palabra).reverse()"
   ]
  },
  {
   "cell_type": "code",
   "execution_count": null,
   "metadata": {
    "colab": {
     "base_uri": "https://localhost:8080/"
    },
    "executionInfo": {
     "elapsed": 8,
     "status": "ok",
     "timestamp": 1714169660328,
     "user": {
      "displayName": "Christian Arias",
      "userId": "06594569667371018215"
     },
     "user_tz": 300
    },
    "id": "lBL7TgShYZ6r",
    "outputId": "da50ca84-495e-496e-b385-910425d21f93"
   },
   "outputs": [
    {
     "data": {
      "text/plain": [
       "False"
      ]
     },
     "execution_count": 33,
     "metadata": {},
     "output_type": "execute_result"
    }
   ],
   "source": [
    "palabraListaReversa==palabraLista"
   ]
  },
  {
   "cell_type": "code",
   "execution_count": null,
   "metadata": {
    "colab": {
     "base_uri": "https://localhost:8080/",
     "height": 36
    },
    "executionInfo": {
     "elapsed": 27,
     "status": "ok",
     "timestamp": 1714169660634,
     "user": {
      "displayName": "Christian Arias",
      "userId": "06594569667371018215"
     },
     "user_tz": 300
    },
    "id": "3slBDe2P_VCz",
    "outputId": "0d652242-a18f-4a34-8e2d-74e2e409bb96"
   },
   "outputs": [
    {
     "data": {
      "application/vnd.google.colaboratory.intrinsic+json": {
       "type": "string"
      },
      "text/plain": [
       "'papa'"
      ]
     },
     "execution_count": 34,
     "metadata": {},
     "output_type": "execute_result"
    }
   ],
   "source": [
    "palabra"
   ]
  },
  {
   "cell_type": "code",
   "execution_count": null,
   "metadata": {
    "colab": {
     "base_uri": "https://localhost:8080/",
     "height": 106
    },
    "executionInfo": {
     "elapsed": 24,
     "status": "error",
     "timestamp": 1714169660635,
     "user": {
      "displayName": "Christian Arias",
      "userId": "06594569667371018215"
     },
     "user_tz": 300
    },
    "id": "JJwVdUg1AJFe",
    "outputId": "64e2397d-df59-412b-cf57-3f24c9873b6d"
   },
   "outputs": [
    {
     "ename": "SyntaxError",
     "evalue": "invalid syntax. Maybe you meant '==' or ':=' instead of '='? (<ipython-input-35-fef48c1c0c34>, line 1)",
     "output_type": "error",
     "traceback": [
      "\u001b[0;36m  File \u001b[0;32m\"<ipython-input-35-fef48c1c0c34>\"\u001b[0;36m, line \u001b[0;32m1\u001b[0m\n\u001b[0;31m    (palabraListaReversa=list(palabra)).reverse()\u001b[0m\n\u001b[0m     ^\u001b[0m\n\u001b[0;31mSyntaxError\u001b[0m\u001b[0;31m:\u001b[0m invalid syntax. Maybe you meant '==' or ':=' instead of '='?\n"
     ]
    }
   ],
   "source": [
    "(palabraListaReversa=list(palabra)).reverse()"
   ]
  },
  {
   "cell_type": "code",
   "execution_count": null,
   "metadata": {
    "id": "djMAaRAay0cc"
   },
   "outputs": [],
   "source": [
    "help(lista.reverse())"
   ]
  },
  {
   "cell_type": "code",
   "execution_count": null,
   "metadata": {
    "id": "svNMggBgCq6_"
   },
   "outputs": [],
   "source": [
    "# Las listas son mutables\n",
    "lista[0] = 3\n",
    "print(lista)"
   ]
  },
  {
   "cell_type": "code",
   "execution_count": null,
   "metadata": {
    "id": "1s6yNFss1HLM"
   },
   "outputs": [],
   "source": [
    "3 in lista"
   ]
  },
  {
   "cell_type": "markdown",
   "metadata": {
    "id": "cww9WuV7Atw5"
   },
   "source": [
    "## Manejo de Diccionarios\n",
    "\n",
    "Al contrario de las listas los diccionarios no tienen orden, un diccionario es una palabra que tiene asociado algo.\n",
    "\n",
    "Se crean poniendo sus elementos entre llaves (`{\"a\":\"Alicante\",\"b\":\"Barcelona\"}`). Se denominan keys a las **palabras** y values a las **definiciones**. Lógicamente no puede haber dos keys iguales, pero si dos values iguales.\n"
   ]
  },
  {
   "cell_type": "code",
   "execution_count": null,
   "metadata": {
    "colab": {
     "base_uri": "https://localhost:8080/"
    },
    "executionInfo": {
     "elapsed": 4,
     "status": "ok",
     "timestamp": 1714219756450,
     "user": {
      "displayName": "Christian Arias",
      "userId": "06594569667371018215"
     },
     "user_tz": 300
    },
    "id": "_fJ3dy5fAsw-",
    "outputId": "48785f0c-4b0b-426f-9244-5a01011b42bf"
   },
   "outputs": [
    {
     "name": "stdout",
     "output_type": "stream",
     "text": [
      "{'Piloto 1': 'Fernando Alonso', 'Piloto 2': 'Kimi Raikkonen', 'Piloto 3': 'Felipe Massa'}\n"
     ]
    }
   ],
   "source": [
    "diccionario = {'Piloto 1':'Fernando Alonso', 'Piloto 2':'Kimi Raikkonen', 'Piloto 3':'Felipe Massa'}\n",
    "print(diccionario)"
   ]
  },
  {
   "cell_type": "code",
   "execution_count": null,
   "metadata": {
    "colab": {
     "base_uri": "https://localhost:8080/"
    },
    "executionInfo": {
     "elapsed": 210,
     "status": "ok",
     "timestamp": 1714219776527,
     "user": {
      "displayName": "Christian Arias",
      "userId": "06594569667371018215"
     },
     "user_tz": 300
    },
    "id": "nKRs88CoCL8y",
    "outputId": "29e55a49-2711-498b-ae30-b2490a9f0ffa"
   },
   "outputs": [
    {
     "name": "stdout",
     "output_type": "stream",
     "text": [
      "Fernando Alonso\n",
      "Fernando Alonso\n"
     ]
    }
   ],
   "source": [
    "# Devuelve el valor que corresponde con la key introducida.\n",
    "print(diccionario.get('Piloto 1'))\n",
    "print(diccionario['Piloto 1'])"
   ]
  },
  {
   "cell_type": "code",
   "execution_count": null,
   "metadata": {
    "colab": {
     "base_uri": "https://localhost:8080/"
    },
    "executionInfo": {
     "elapsed": 193,
     "status": "ok",
     "timestamp": 1714219804185,
     "user": {
      "displayName": "Christian Arias",
      "userId": "06594569667371018215"
     },
     "user_tz": 300
    },
    "id": "7rore5CBCYmu",
    "outputId": "f3d30c07-c3c4-4010-acb4-1cf255b61810"
   },
   "outputs": [
    {
     "name": "stdout",
     "output_type": "stream",
     "text": [
      "Fernando Alonso\n",
      "{'Piloto 2': 'Kimi Raikkonen', 'Piloto 3': 'Felipe Massa'}\n"
     ]
    }
   ],
   "source": [
    "# Devuelve el valor que corresponde con la key introducida, y luego borra la key y el valor.\n",
    "print(diccionario.pop('Piloto 1'))\n",
    "print(diccionario)"
   ]
  },
  {
   "cell_type": "code",
   "execution_count": null,
   "metadata": {
    "colab": {
     "base_uri": "https://localhost:8080/"
    },
    "executionInfo": {
     "elapsed": 189,
     "status": "ok",
     "timestamp": 1714219862065,
     "user": {
      "displayName": "Christian Arias",
      "userId": "06594569667371018215"
     },
     "user_tz": 300
    },
    "id": "S6sRHQy-CmkT",
    "outputId": "4770a5d1-d4fe-4395-974a-f9ac042da034"
   },
   "outputs": [
    {
     "name": "stdout",
     "output_type": "stream",
     "text": [
      "{'Piloto 2': 'Sebastian Vettel', 'Piloto 3': 'Felipe Massa', 'Piloto 4': 'Lewis Hamilton'}\n"
     ]
    }
   ],
   "source": [
    "# Actualiza el valor de una determinada key o lo crea si no existe.\n",
    "diccionario.update({'Piloto 4':'Lewis Hamilton'})\n",
    "diccionario.update({'Piloto 2':'Sebastian Vettel'})\n",
    "print(diccionario)"
   ]
  },
  {
   "cell_type": "code",
   "execution_count": null,
   "metadata": {
    "colab": {
     "base_uri": "https://localhost:8080/"
    },
    "executionInfo": {
     "elapsed": 182,
     "status": "ok",
     "timestamp": 1714219905896,
     "user": {
      "displayName": "Christian Arias",
      "userId": "06594569667371018215"
     },
     "user_tz": 300
    },
    "id": "0DONnb6b0V8G",
    "outputId": "d2a35d09-e50a-41c9-d6ec-9884fedb7b8e"
   },
   "outputs": [
    {
     "name": "stdout",
     "output_type": "stream",
     "text": [
      "{'Piloto 2': 'Sebastian Vettel', 'Piloto 3': 'Felipe Massa', 'Piloto 4': 'Lewis Hamilton', 'Piloto 5': 'Juan Perez'}\n"
     ]
    }
   ],
   "source": [
    "diccionario['Piloto 5'] = 'Juan Perez'\n",
    "print(diccionario)"
   ]
  },
  {
   "cell_type": "code",
   "execution_count": null,
   "metadata": {
    "colab": {
     "base_uri": "https://localhost:8080/"
    },
    "executionInfo": {
     "elapsed": 182,
     "status": "ok",
     "timestamp": 1714219926993,
     "user": {
      "displayName": "Christian Arias",
      "userId": "06594569667371018215"
     },
     "user_tz": 300
    },
    "id": "RpqEwTofC-hX",
    "outputId": "a3fee56d-7104-4ede-fe4e-57fd7d289419"
   },
   "outputs": [
    {
     "name": "stdout",
     "output_type": "stream",
     "text": [
      "True\n",
      "False\n",
      "False\n"
     ]
    }
   ],
   "source": [
    "# \"key\" in diccionario: devuelve verdadero (True) o falso (False) si la key existe en el diccionario.\n",
    "print (\"Piloto 2\" in diccionario)\n",
    "print (\"piloto 1\" in diccionario)\n",
    "print (\"Sebastian Vettel\" in diccionario)"
   ]
  },
  {
   "cell_type": "code",
   "execution_count": null,
   "metadata": {
    "colab": {
     "base_uri": "https://localhost:8080/"
    },
    "executionInfo": {
     "elapsed": 172,
     "status": "ok",
     "timestamp": 1714219972087,
     "user": {
      "displayName": "Christian Arias",
      "userId": "06594569667371018215"
     },
     "user_tz": 300
    },
    "id": "ZMddoLF0DOXe",
    "outputId": "ad602edf-53d3-4864-ada1-cce5ac89a9a2"
   },
   "outputs": [
    {
     "name": "stdout",
     "output_type": "stream",
     "text": [
      "True\n"
     ]
    }
   ],
   "source": [
    "# \"definición\" in diccionario.values(): devuelve verdadero (True) o falso (False) si la definición existe en el diccionario.\n",
    "print (\"Sebastian Vettel\" in diccionario.values())"
   ]
  },
  {
   "cell_type": "code",
   "execution_count": null,
   "metadata": {
    "colab": {
     "base_uri": "https://localhost:8080/"
    },
    "executionInfo": {
     "elapsed": 194,
     "status": "ok",
     "timestamp": 1714220021838,
     "user": {
      "displayName": "Christian Arias",
      "userId": "06594569667371018215"
     },
     "user_tz": 300
    },
    "id": "yQFfmXyCDTAb",
    "outputId": "063cd611-39c3-4c62-ac36-9dc9474091cb"
   },
   "outputs": [
    {
     "name": "stdout",
     "output_type": "stream",
     "text": [
      "{'Piloto 3': 'Felipe Massa', 'Piloto 4': 'Lewis Hamilton', 'Piloto 5': 'Juan Perez'}\n"
     ]
    }
   ],
   "source": [
    "# del diccionario['key']: Elimina el valor (y el key) asociado a la key indicada.\n",
    "del diccionario['Piloto 2']\n",
    "print(diccionario)"
   ]
  },
  {
   "cell_type": "markdown",
   "metadata": {
    "id": "SGhcO1nd_7qa"
   },
   "source": [
    "## Manejo de Tuplas\n",
    "\n",
    "Las tuplas son inmutables, una vez creada, no se puede cambiar ni su contenido ni su tamaño."
   ]
  },
  {
   "cell_type": "code",
   "execution_count": null,
   "metadata": {
    "executionInfo": {
     "elapsed": 172,
     "status": "ok",
     "timestamp": 1714220066218,
     "user": {
      "displayName": "Christian Arias",
      "userId": "06594569667371018215"
     },
     "user_tz": 300
    },
    "id": "0iID8f9fFr6r"
   },
   "outputs": [],
   "source": [
    "tuple1 = (1,2,3,4,5)\n",
    "tuple2 = (6,7,8,9,10)"
   ]
  },
  {
   "cell_type": "code",
   "execution_count": null,
   "metadata": {
    "colab": {
     "base_uri": "https://localhost:8080/"
    },
    "executionInfo": {
     "elapsed": 210,
     "status": "ok",
     "timestamp": 1714220069886,
     "user": {
      "displayName": "Christian Arias",
      "userId": "06594569667371018215"
     },
     "user_tz": 300
    },
    "id": "2YqtrLDNFxW4",
    "outputId": "ff207d23-3432-403c-9be3-966c95f18d08"
   },
   "outputs": [
    {
     "name": "stdout",
     "output_type": "stream",
     "text": [
      "(1, 2, 3, 4, 5, 6, 7, 8, 9, 10)\n"
     ]
    }
   ],
   "source": [
    "# Concatenar tuplas\n",
    "tuple3 = tuple1 + tuple2\n",
    "print(tuple3)"
   ]
  },
  {
   "cell_type": "code",
   "execution_count": null,
   "metadata": {
    "colab": {
     "base_uri": "https://localhost:8080/"
    },
    "executionInfo": {
     "elapsed": 218,
     "status": "ok",
     "timestamp": 1714220077089,
     "user": {
      "displayName": "Christian Arias",
      "userId": "06594569667371018215"
     },
     "user_tz": 300
    },
    "id": "zBobFz2QF_LE",
    "outputId": "4979475d-c826-48b2-b796-c9a9a9e93196"
   },
   "outputs": [
    {
     "name": "stdout",
     "output_type": "stream",
     "text": [
      "(1, 2, 3, 4, 5, 1, 2, 3, 4, 5, 1, 2, 3, 4, 5)\n"
     ]
    }
   ],
   "source": [
    "# Repetir tuplas\n",
    "print(tuple1 * 3)"
   ]
  },
  {
   "cell_type": "code",
   "execution_count": null,
   "metadata": {
    "colab": {
     "base_uri": "https://localhost:8080/"
    },
    "executionInfo": {
     "elapsed": 199,
     "status": "ok",
     "timestamp": 1714220095918,
     "user": {
      "displayName": "Christian Arias",
      "userId": "06594569667371018215"
     },
     "user_tz": 300
    },
    "id": "sgAWbjg6GEbd",
    "outputId": "02ce54c2-925f-446e-876c-c03ad254d885"
   },
   "outputs": [
    {
     "name": "stdout",
     "output_type": "stream",
     "text": [
      "False\n",
      "True\n"
     ]
    }
   ],
   "source": [
    "# Validar si un elemento esta en la tupla\n",
    "print(7 in tuple1)\n",
    "print(7 in tuple2)"
   ]
  },
  {
   "cell_type": "code",
   "execution_count": null,
   "metadata": {
    "colab": {
     "base_uri": "https://localhost:8080/"
    },
    "executionInfo": {
     "elapsed": 176,
     "status": "ok",
     "timestamp": 1714220107899,
     "user": {
      "displayName": "Christian Arias",
      "userId": "06594569667371018215"
     },
     "user_tz": 300
    },
    "id": "cqgdN7jpGOEM",
    "outputId": "6b090a30-faa1-4a11-b2d8-5e3767e0afa5"
   },
   "outputs": [
    {
     "name": "stdout",
     "output_type": "stream",
     "text": [
      "4\n"
     ]
    }
   ],
   "source": [
    "# Devuelve el indice del elemento\n",
    "print(tuple1.index(5))"
   ]
  },
  {
   "cell_type": "code",
   "execution_count": null,
   "metadata": {
    "colab": {
     "base_uri": "https://localhost:8080/",
     "height": 147
    },
    "executionInfo": {
     "elapsed": 208,
     "status": "error",
     "timestamp": 1714220162124,
     "user": {
      "displayName": "Christian Arias",
      "userId": "06594569667371018215"
     },
     "user_tz": 300
    },
    "id": "CbQllFilCAKS",
    "outputId": "5a75743d-cb70-44dc-bfac-743589781453"
   },
   "outputs": [
    {
     "ename": "ValueError",
     "evalue": "tuple.index(x): x not in tuple",
     "output_type": "error",
     "traceback": [
      "\u001b[0;31m---------------------------------------------------------------------------\u001b[0m",
      "\u001b[0;31mValueError\u001b[0m                                Traceback (most recent call last)",
      "\u001b[0;32m<ipython-input-14-6e4222339369>\u001b[0m in \u001b[0;36m<cell line: 1>\u001b[0;34m()\u001b[0m\n\u001b[0;32m----> 1\u001b[0;31m \u001b[0mprint\u001b[0m\u001b[0;34m(\u001b[0m\u001b[0mtuple1\u001b[0m\u001b[0;34m.\u001b[0m\u001b[0mindex\u001b[0m\u001b[0;34m(\u001b[0m\u001b[0;36m6\u001b[0m\u001b[0;34m)\u001b[0m\u001b[0;34m)\u001b[0m\u001b[0;34m\u001b[0m\u001b[0;34m\u001b[0m\u001b[0m\n\u001b[0m",
      "\u001b[0;31mValueError\u001b[0m: tuple.index(x): x not in tuple"
     ]
    }
   ],
   "source": [
    "print(tuple1.index(6))"
   ]
  },
  {
   "cell_type": "code",
   "execution_count": null,
   "metadata": {
    "colab": {
     "base_uri": "https://localhost:8080/"
    },
    "executionInfo": {
     "elapsed": 221,
     "status": "ok",
     "timestamp": 1714220188367,
     "user": {
      "displayName": "Christian Arias",
      "userId": "06594569667371018215"
     },
     "user_tz": 300
    },
    "id": "drA9XgaDGZHt",
    "outputId": "11f8fa61-47f2-4fda-efc4-71f01262bc3a"
   },
   "outputs": [
    {
     "name": "stdout",
     "output_type": "stream",
     "text": [
      "4\n"
     ]
    }
   ],
   "source": [
    "# Devuelve cuantas veces esta un elemento repetido\n",
    "tuple4 = (65,67,5,67,34,76,67,231,98,67)\n",
    "print(tuple4.count(67))"
   ]
  },
  {
   "cell_type": "code",
   "execution_count": null,
   "metadata": {
    "colab": {
     "base_uri": "https://localhost:8080/"
    },
    "executionInfo": {
     "elapsed": 189,
     "status": "ok",
     "timestamp": 1714220206801,
     "user": {
      "displayName": "Christian Arias",
      "userId": "06594569667371018215"
     },
     "user_tz": 300
    },
    "id": "PHhpT6TeCX20",
    "outputId": "8eb2df29-330a-4423-c678-bd8640e80d48"
   },
   "outputs": [
    {
     "name": "stdout",
     "output_type": "stream",
     "text": [
      "4\n"
     ]
    }
   ],
   "source": [
    "lista4 =[65,67,5,67,34,76,67,231,98,67]\n",
    "print(lista4.count(67))"
   ]
  },
  {
   "cell_type": "code",
   "execution_count": null,
   "metadata": {
    "colab": {
     "base_uri": "https://localhost:8080/"
    },
    "executionInfo": {
     "elapsed": 196,
     "status": "ok",
     "timestamp": 1714220216774,
     "user": {
      "displayName": "Christian Arias",
      "userId": "06594569667371018215"
     },
     "user_tz": 300
    },
    "id": "bI1ej2m4GqMW",
    "outputId": "fc739312-6f56-4841-c7f6-006881a5cfd4"
   },
   "outputs": [
    {
     "name": "stdout",
     "output_type": "stream",
     "text": [
      "34\n",
      "67\n",
      "(65, 67, 5, 67)\n",
      "(76, 67, 231, 98, 67)\n",
      "(34, 76, 67, 231)\n",
      "(67, 34, 76)\n"
     ]
    }
   ],
   "source": [
    "# Indexación\n",
    "print(tuple4[4])\n",
    "print(tuple4[-4])\n",
    "print(tuple4[:4])\n",
    "print(tuple4[5:])\n",
    "print(tuple4[-6:-2])\n",
    "print(tuple4[3:6])"
   ]
  },
  {
   "cell_type": "markdown",
   "metadata": {
    "id": "e091jzoIgnHz"
   },
   "source": [
    "## Funciones de Usuario\n",
    "\n",
    "En Python, la definición de funciones se realiza mediante la instruccion `def`.  La definición de la función finaliza con dos puntos (`:`) y el algoritmo que la compone, irá con tabulación.\n",
    "\n"
   ]
  },
  {
   "cell_type": "code",
   "execution_count": null,
   "metadata": {
    "colab": {
     "base_uri": "https://localhost:8080/"
    },
    "executionInfo": {
     "elapsed": 183,
     "status": "ok",
     "timestamp": 1714220555836,
     "user": {
      "displayName": "Christian Arias",
      "userId": "06594569667371018215"
     },
     "user_tz": 300
    },
    "id": "B-oMd4YVgh-3",
    "outputId": "7e3a1896-58f7-44a6-f748-c2ebfa7ecc44"
   },
   "outputs": [
    {
     "name": "stdout",
     "output_type": "stream",
     "text": [
      "X\n"
     ]
    }
   ],
   "source": [
    "def miFuncion():\n",
    "  print(\"Hola Mundo\")\n",
    "print(\"X\")"
   ]
  },
  {
   "cell_type": "code",
   "execution_count": null,
   "metadata": {
    "colab": {
     "base_uri": "https://localhost:8080/"
    },
    "executionInfo": {
     "elapsed": 168,
     "status": "ok",
     "timestamp": 1714220558406,
     "user": {
      "displayName": "Christian Arias",
      "userId": "06594569667371018215"
     },
     "user_tz": 300
    },
    "id": "EX3W5HRJgCGY",
    "outputId": "d242a312-da92-4c97-d34f-db6822c2f629"
   },
   "outputs": [
    {
     "name": "stdout",
     "output_type": "stream",
     "text": [
      "Hola Mundo\n"
     ]
    }
   ],
   "source": [
    "miFuncion()"
   ]
  },
  {
   "cell_type": "code",
   "execution_count": null,
   "metadata": {
    "id": "nWFS9JEv2_88"
   },
   "outputs": [],
   "source": [
    "valor = miFuncion()\n",
    "print(valor)"
   ]
  },
  {
   "cell_type": "markdown",
   "metadata": {
    "id": "nt47tYe6lXk4"
   },
   "source": [
    "Las funciones tambien pueden retornar un valor, este puede ser asignado a una variable.\n",
    "\n",
    "```Python\n",
    "def miFuncion():\n",
    "  return \"Hola Mundo\"\n",
    "````"
   ]
  },
  {
   "cell_type": "code",
   "execution_count": null,
   "metadata": {
    "executionInfo": {
     "elapsed": 185,
     "status": "ok",
     "timestamp": 1714220578033,
     "user": {
      "displayName": "Christian Arias",
      "userId": "06594569667371018215"
     },
     "user_tz": 300
    },
    "id": "aBZ2fGXslUKW"
   },
   "outputs": [],
   "source": [
    "def miFuncion():\n",
    "  return \"Hola Mundo\""
   ]
  },
  {
   "cell_type": "code",
   "execution_count": null,
   "metadata": {
    "colab": {
     "base_uri": "https://localhost:8080/"
    },
    "executionInfo": {
     "elapsed": 171,
     "status": "ok",
     "timestamp": 1714220579750,
     "user": {
      "displayName": "Christian Arias",
      "userId": "06594569667371018215"
     },
     "user_tz": 300
    },
    "id": "iwUwBPdmln5G",
    "outputId": "acf5171a-c263-4921-e1dc-cef00d0da386"
   },
   "outputs": [
    {
     "name": "stdout",
     "output_type": "stream",
     "text": [
      "Hola Mundo\n",
      "Hola Mundo\n"
     ]
    }
   ],
   "source": [
    "mensaje = miFuncion()\n",
    "print(mensaje)\n",
    "print(miFuncion())"
   ]
  },
  {
   "cell_type": "markdown",
   "metadata": {
    "id": "UnADeiPAlvbJ"
   },
   "source": [
    "Las funciones tambien pueden recibir parametros de entrada.\n",
    "\n",
    "```Python\n",
    "def miFuncion(nombre, apellido):\n",
    "  return nombre + ' ' + apellido\n",
    "````"
   ]
  },
  {
   "cell_type": "code",
   "execution_count": null,
   "metadata": {
    "executionInfo": {
     "elapsed": 190,
     "status": "ok",
     "timestamp": 1714220617973,
     "user": {
      "displayName": "Christian Arias",
      "userId": "06594569667371018215"
     },
     "user_tz": 300
    },
    "id": "Jkk_pRIGlr5R"
   },
   "outputs": [],
   "source": [
    "def miFuncion(nombre, apellido):\n",
    "  return nombre + ' ' + apellido"
   ]
  },
  {
   "cell_type": "code",
   "execution_count": null,
   "metadata": {
    "colab": {
     "base_uri": "https://localhost:8080/"
    },
    "executionInfo": {
     "elapsed": 2,
     "status": "ok",
     "timestamp": 1714220619431,
     "user": {
      "displayName": "Christian Arias",
      "userId": "06594569667371018215"
     },
     "user_tz": 300
    },
    "id": "RHNUpJVPl-Ab",
    "outputId": "32e86854-a02f-4b94-c6af-f6c839f2e6fb"
   },
   "outputs": [
    {
     "name": "stdout",
     "output_type": "stream",
     "text": [
      "Juan Perez\n"
     ]
    }
   ],
   "source": [
    "mensaje = miFuncion(\"Juan\",\"Perez\")\n",
    "print(mensaje)"
   ]
  },
  {
   "cell_type": "markdown",
   "metadata": {
    "id": "som2cF3NoNNi"
   },
   "source": [
    "Las funciones pueden tener parametros de entrada con valores por defecto.\n",
    "\n",
    "```Python\n",
    "def miFuncion(nombre, apellido, mensaje = 'Hola'):\n",
    "  return mensaje + ' ' + nombre + ' ' + apellido\n",
    "````"
   ]
  },
  {
   "cell_type": "code",
   "execution_count": null,
   "metadata": {
    "executionInfo": {
     "elapsed": 177,
     "status": "ok",
     "timestamp": 1714220624629,
     "user": {
      "displayName": "Christian Arias",
      "userId": "06594569667371018215"
     },
     "user_tz": 300
    },
    "id": "ORPtW5HcoerO"
   },
   "outputs": [],
   "source": [
    "def miFuncion(nombre, apellido, mensaje = 'Hola'):\n",
    "  return mensaje + ' ' + nombre + ' ' + apellido"
   ]
  },
  {
   "cell_type": "code",
   "execution_count": null,
   "metadata": {
    "colab": {
     "base_uri": "https://localhost:8080/"
    },
    "executionInfo": {
     "elapsed": 175,
     "status": "ok",
     "timestamp": 1714220633727,
     "user": {
      "displayName": "Christian Arias",
      "userId": "06594569667371018215"
     },
     "user_tz": 300
    },
    "id": "zDWgEwOOoh7_",
    "outputId": "d548bb3f-11b4-42e8-8199-fda80826dc7e"
   },
   "outputs": [
    {
     "name": "stdout",
     "output_type": "stream",
     "text": [
      "Hola Juan Perez\n"
     ]
    }
   ],
   "source": [
    "mensaje = miFuncion(\"Juan\",\"Perez\")\n",
    "print(mensaje)"
   ]
  },
  {
   "cell_type": "code",
   "execution_count": null,
   "metadata": {
    "colab": {
     "base_uri": "https://localhost:8080/"
    },
    "executionInfo": {
     "elapsed": 171,
     "status": "ok",
     "timestamp": 1714220635363,
     "user": {
      "displayName": "Christian Arias",
      "userId": "06594569667371018215"
     },
     "user_tz": 300
    },
    "id": "fSS2k2ZQojfM",
    "outputId": "d66f057c-07fb-4915-c64a-b9da66a051e3"
   },
   "outputs": [
    {
     "name": "stdout",
     "output_type": "stream",
     "text": [
      "Chao Juan Perez\n"
     ]
    }
   ],
   "source": [
    "mensaje = miFuncion(\"Juan\",\"Perez\",\"Chao\")\n",
    "print(mensaje)"
   ]
  },
  {
   "cell_type": "markdown",
   "metadata": {
    "id": "hFTNODUAmD-v"
   },
   "source": [
    "### Ejercicio 4\n",
    "\n",
    "Escriba una función que calcule un valor según una formula dada:\n",
    "\n",
    "$Q = sqrt( (2 * C)/H )$\n",
    "\n",
    "$C$ Es un numero entero\n",
    "\n",
    "$H$ Es un numero entero\n",
    "\n",
    "La función debe de retornar el valor de $Q$.\n",
    "\n",
    "**Tip:** En Python se pueden importar librerias o paquetes usando `import`, para este ejercicio se importarña la libreria de matematicas `math`. Para usar el metodo `sqrt` se realiza el llamado de la siguiente manera `math.sqrt(numero)`"
   ]
  },
  {
   "cell_type": "code",
   "execution_count": null,
   "metadata": {
    "executionInfo": {
     "elapsed": 233,
     "status": "ok",
     "timestamp": 1714221008881,
     "user": {
      "displayName": "Christian Arias",
      "userId": "06594569667371018215"
     },
     "user_tz": 300
    },
    "id": "IPmk2xcim1s2"
   },
   "outputs": [],
   "source": [
    "# Su Codigo\n",
    "import math\n",
    "def fun1(C,H):\n",
    "  return math.sqrt((2*C)/H)"
   ]
  },
  {
   "cell_type": "code",
   "execution_count": null,
   "metadata": {
    "colab": {
     "base_uri": "https://localhost:8080/"
    },
    "executionInfo": {
     "elapsed": 12,
     "status": "ok",
     "timestamp": 1714221009107,
     "user": {
      "displayName": "Christian Arias",
      "userId": "06594569667371018215"
     },
     "user_tz": 300
    },
    "id": "tEgasf2pILrx",
    "outputId": "e66c43ac-1069-4574-cb2b-f8c25489e84d"
   },
   "outputs": [
    {
     "name": "stdout",
     "output_type": "stream",
     "text": [
      "1.5811388300841898\n"
     ]
    }
   ],
   "source": [
    "print(fun1(5,4))"
   ]
  },
  {
   "cell_type": "markdown",
   "metadata": {
    "id": "MEZrtKFBo9D3"
   },
   "source": [
    "### Ejercicio 5\n",
    "\n",
    "Escriba una función que calcule el area de un triangulo:\n",
    "\n",
    "$Area = (Base*Altura)/2 $\n",
    "\n",
    "$Base$ Es un numero entero o real.\n",
    "$Altura$ Es un numero entero o real.\n",
    "\n",
    "La función debe de retornar el valor del $Area$."
   ]
  },
  {
   "cell_type": "code",
   "execution_count": null,
   "metadata": {
    "executionInfo": {
     "elapsed": 11,
     "status": "ok",
     "timestamp": 1714221009107,
     "user": {
      "displayName": "Christian Arias",
      "userId": "06594569667371018215"
     },
     "user_tz": 300
    },
    "id": "zYVK465Oo8R2"
   },
   "outputs": [],
   "source": [
    "# Su Codigo\n",
    "def areaT(B,A):\n",
    "  return (B*A)/2"
   ]
  },
  {
   "cell_type": "markdown",
   "metadata": {
    "id": "6d7bbtJhp4KL"
   },
   "source": [
    "### Ejercicio 6\n",
    "\n",
    "Escriba una función que reciba como parametro un número entero y una lista, debe de adicionar a la lista el numero elevado al cubo y devolver la lista con el nuevo elemento."
   ]
  },
  {
   "cell_type": "code",
   "execution_count": null,
   "metadata": {
    "executionInfo": {
     "elapsed": 11,
     "status": "ok",
     "timestamp": 1714221009107,
     "user": {
      "displayName": "Christian Arias",
      "userId": "06594569667371018215"
     },
     "user_tz": 300
    },
    "id": "hal1dT42p1tC"
   },
   "outputs": [],
   "source": [
    "# Su Codigo\n",
    "def fun3(N,L):\n",
    "  #L.append(N**3)\n",
    "  return L +  [N**3]\n",
    "  #return L"
   ]
  },
  {
   "cell_type": "code",
   "execution_count": null,
   "metadata": {
    "colab": {
     "base_uri": "https://localhost:8080/"
    },
    "executionInfo": {
     "elapsed": 10,
     "status": "ok",
     "timestamp": 1714221009107,
     "user": {
      "displayName": "Christian Arias",
      "userId": "06594569667371018215"
     },
     "user_tz": 300
    },
    "id": "sX_5hdQXIyEF",
    "outputId": "ef91f0bf-e4a5-4a5e-b659-11fe22363d93"
   },
   "outputs": [
    {
     "name": "stdout",
     "output_type": "stream",
     "text": [
      "[1, 2, 3, 27]\n"
     ]
    }
   ],
   "source": [
    "print(fun3(3,[1,2,3]))"
   ]
  },
  {
   "cell_type": "markdown",
   "metadata": {
    "id": "_BJi1dmXHe9e"
   },
   "source": [
    "## Conjuntos en Python\n",
    "\n",
    "Python tiene un tipo de dato `set` el cual nos permite trabajar con conjuntos y realizar operaciones de conjuntos con estas variables.  Se define entre llaves (`{}`) y se separan los elementos con comas.\n",
    "\n",
    "```python\n",
    "conjunto = {1,2,3}\n",
    "````"
   ]
  },
  {
   "cell_type": "code",
   "execution_count": null,
   "metadata": {
    "executionInfo": {
     "elapsed": 10,
     "status": "ok",
     "timestamp": 1714221009108,
     "user": {
      "displayName": "Christian Arias",
      "userId": "06594569667371018215"
     },
     "user_tz": 300
    },
    "id": "vH2b2v91HeGu"
   },
   "outputs": [],
   "source": [
    "# Definiendo conjuntos\n",
    "c1 = {1, 2, 3, 4, 5, 6}\n",
    "c2 = {2, 4, 6, 8, 10}\n",
    "c3 = {1, 2, 3}\n",
    "c4 = {4, 5, 6}"
   ]
  },
  {
   "cell_type": "code",
   "execution_count": null,
   "metadata": {
    "colab": {
     "base_uri": "https://localhost:8080/"
    },
    "executionInfo": {
     "elapsed": 10,
     "status": "ok",
     "timestamp": 1714221009108,
     "user": {
      "displayName": "Christian Arias",
      "userId": "06594569667371018215"
     },
     "user_tz": 300
    },
    "id": "1ZN6ZH3zIGFu",
    "outputId": "6f746ad5-38eb-49bb-9ff7-b797e7f6735f"
   },
   "outputs": [
    {
     "name": "stdout",
     "output_type": "stream",
     "text": [
      "{1, 2, 3, 4, 5, 6, 8, 10}\n",
      "{1, 2, 3, 4, 5, 6, 8, 10}\n"
     ]
    }
   ],
   "source": [
    "# Union de conjuntos\n",
    "print(c1|c2)\n",
    "print(c1|c2|c3)"
   ]
  },
  {
   "cell_type": "code",
   "execution_count": null,
   "metadata": {
    "colab": {
     "base_uri": "https://localhost:8080/"
    },
    "executionInfo": {
     "elapsed": 7,
     "status": "ok",
     "timestamp": 1714221009108,
     "user": {
      "displayName": "Christian Arias",
      "userId": "06594569667371018215"
     },
     "user_tz": 300
    },
    "id": "06giFyw4IhSG",
    "outputId": "e4c906f3-0c91-4716-9b6f-be44756bb69a"
   },
   "outputs": [
    {
     "name": "stdout",
     "output_type": "stream",
     "text": [
      "{1, 2, 3, 4, 5, 6, 8, 10}\n"
     ]
    }
   ],
   "source": [
    "# Tambien puede hacerse la union con el metodo\n",
    "print(c1.union(c2))"
   ]
  },
  {
   "cell_type": "code",
   "execution_count": null,
   "metadata": {
    "colab": {
     "base_uri": "https://localhost:8080/"
    },
    "executionInfo": {
     "elapsed": 5,
     "status": "ok",
     "timestamp": 1714221009108,
     "user": {
      "displayName": "Christian Arias",
      "userId": "06594569667371018215"
     },
     "user_tz": 300
    },
    "id": "PU7yfesqIKnD",
    "outputId": "9366a66c-e0fa-4565-a374-ce8f36868d25"
   },
   "outputs": [
    {
     "name": "stdout",
     "output_type": "stream",
     "text": [
      "{2, 4, 6}\n",
      "set()\n"
     ]
    }
   ],
   "source": [
    "# Intersección de conjuntos\n",
    "print(c1&c2)\n",
    "print(c1 & c2 & c3 & c4)"
   ]
  },
  {
   "cell_type": "code",
   "execution_count": null,
   "metadata": {
    "colab": {
     "base_uri": "https://localhost:8080/"
    },
    "executionInfo": {
     "elapsed": 26,
     "status": "ok",
     "timestamp": 1714221009289,
     "user": {
      "displayName": "Christian Arias",
      "userId": "06594569667371018215"
     },
     "user_tz": 300
    },
    "id": "lBva9uaFIm7z",
    "outputId": "971d7900-86cc-4735-906b-eaba54b24292"
   },
   "outputs": [
    {
     "name": "stdout",
     "output_type": "stream",
     "text": [
      "{2}\n"
     ]
    }
   ],
   "source": [
    "# Tambien puede hacerse la intersección con el metodo\n",
    "print(c1.intersection(c2,c3))"
   ]
  },
  {
   "cell_type": "code",
   "execution_count": null,
   "metadata": {
    "colab": {
     "base_uri": "https://localhost:8080/"
    },
    "executionInfo": {
     "elapsed": 26,
     "status": "ok",
     "timestamp": 1714221009290,
     "user": {
      "displayName": "Christian Arias",
      "userId": "06594569667371018215"
     },
     "user_tz": 300
    },
    "id": "yflsGQ9hIW9t",
    "outputId": "9ce361a2-cae6-4542-b76c-c97e4f862c83"
   },
   "outputs": [
    {
     "name": "stdout",
     "output_type": "stream",
     "text": [
      "{1, 3, 5}\n"
     ]
    }
   ],
   "source": [
    "# Diferencia de conjuntos\n",
    "print(c1-c2)"
   ]
  },
  {
   "cell_type": "code",
   "execution_count": null,
   "metadata": {
    "colab": {
     "base_uri": "https://localhost:8080/"
    },
    "executionInfo": {
     "elapsed": 24,
     "status": "ok",
     "timestamp": 1714221009290,
     "user": {
      "displayName": "Christian Arias",
      "userId": "06594569667371018215"
     },
     "user_tz": 300
    },
    "id": "V8zVSdByRq8c",
    "outputId": "9fdb5843-07b2-4c07-e370-9f9c747755ef"
   },
   "outputs": [
    {
     "name": "stdout",
     "output_type": "stream",
     "text": [
      "{8, 10}\n"
     ]
    }
   ],
   "source": [
    "# Diferencia de conjuntos\n",
    "print(c2-c1)"
   ]
  },
  {
   "cell_type": "code",
   "execution_count": null,
   "metadata": {
    "colab": {
     "base_uri": "https://localhost:8080/"
    },
    "executionInfo": {
     "elapsed": 22,
     "status": "ok",
     "timestamp": 1714221009290,
     "user": {
      "displayName": "Christian Arias",
      "userId": "06594569667371018215"
     },
     "user_tz": 300
    },
    "id": "aEMq5n2MJAns",
    "outputId": "b6c90672-8dba-4516-a60f-d72f61517644"
   },
   "outputs": [
    {
     "name": "stdout",
     "output_type": "stream",
     "text": [
      "{1, 3, 5}\n"
     ]
    }
   ],
   "source": [
    "# Diferencia de conjuntos con el metodo\n",
    "print(c1.difference(c2))"
   ]
  },
  {
   "cell_type": "code",
   "execution_count": null,
   "metadata": {
    "colab": {
     "base_uri": "https://localhost:8080/"
    },
    "executionInfo": {
     "elapsed": 20,
     "status": "ok",
     "timestamp": 1714221009290,
     "user": {
      "displayName": "Christian Arias",
      "userId": "06594569667371018215"
     },
     "user_tz": 300
    },
    "id": "CF1rCOAXIbpC",
    "outputId": "1f000201-5047-47ac-a13c-4d576940ee81"
   },
   "outputs": [
    {
     "name": "stdout",
     "output_type": "stream",
     "text": [
      "{1, 3, 5, 8, 10}\n"
     ]
    }
   ],
   "source": [
    "# Union exclusiva\n",
    "print(c1^c2)"
   ]
  },
  {
   "cell_type": "code",
   "execution_count": null,
   "metadata": {
    "colab": {
     "base_uri": "https://localhost:8080/"
    },
    "executionInfo": {
     "elapsed": 18,
     "status": "ok",
     "timestamp": 1714221009290,
     "user": {
      "displayName": "Christian Arias",
      "userId": "06594569667371018215"
     },
     "user_tz": 300
    },
    "id": "Z82kOAwuJHrr",
    "outputId": "3daa6ea8-45de-4c32-e864-e6c4d717c8b1"
   },
   "outputs": [
    {
     "name": "stdout",
     "output_type": "stream",
     "text": [
      "{1, 3, 5, 8, 10}\n"
     ]
    }
   ],
   "source": [
    "# Union exclusiva con el metodo\n",
    "print(c1.symmetric_difference(c2))"
   ]
  },
  {
   "cell_type": "markdown",
   "metadata": {
    "id": "pqHkQ1qn7Dwk"
   },
   "source": [
    "## Estructuras de control\n",
    "\n",
    "### Ciclos FOR\n",
    "\n",
    "Los ciclos For en Python son simples. La estructura basica esta dada por **`for <var-name> in <iterable> :`**\n",
    "**Importante** finalizando el for siempre debe de ir **:**, es obligatorio y para los constructores del flujo de control son obligación.\n",
    "\n",
    "El bloque que sera iterado esta determinado por la tabulación de las lineas siguientes del for.   \n",
    "   \n",
    "La linea en blanco despues de las dos sentencias no es obligatoria, pero es considerada buena practica. Las lineas luego del ciclo for no llevan tabulación, por lo tanto ya estan fuera del ciclo."
   ]
  },
  {
   "cell_type": "code",
   "execution_count": null,
   "metadata": {
    "executionInfo": {
     "elapsed": 16,
     "status": "ok",
     "timestamp": 1714221009290,
     "user": {
      "displayName": "Christian Arias",
      "userId": "06594569667371018215"
     },
     "user_tz": 300
    },
    "id": "lSixF4Ga7C3R"
   },
   "outputs": [],
   "source": [
    "string_list = [ \"Juan\", \"is\", \"1.70\", \"metres\", \"high\"]"
   ]
  },
  {
   "cell_type": "code",
   "execution_count": null,
   "metadata": {
    "colab": {
     "base_uri": "https://localhost:8080/"
    },
    "executionInfo": {
     "elapsed": 15,
     "status": "ok",
     "timestamp": 1714221009290,
     "user": {
      "displayName": "Christian Arias",
      "userId": "06594569667371018215"
     },
     "user_tz": 300
    },
    "id": "A28Sqg6Y7Joj",
    "outputId": "a8c44c3c-e2a9-4f5b-ee29-3424fb4108a8"
   },
   "outputs": [
    {
     "name": "stdout",
     "output_type": "stream",
     "text": [
      "Juan\n",
      "4 characters\n",
      "\n",
      "is\n",
      "2 characters\n",
      "\n",
      "1.70\n",
      "4 characters\n",
      "\n",
      "metres\n",
      "6 characters\n",
      "\n",
      "high\n",
      "4 characters\n",
      "\n",
      "The loop is done\n"
     ]
    }
   ],
   "source": [
    "for elem in string_list :\n",
    "    print( elem )\n",
    "    print( len(elem), 'characters\\n' )\n",
    "\n",
    "print( \"The loop is done\")"
   ]
  },
  {
   "cell_type": "code",
   "execution_count": null,
   "metadata": {
    "colab": {
     "base_uri": "https://localhost:8080/"
    },
    "executionInfo": {
     "elapsed": 14,
     "status": "ok",
     "timestamp": 1714221009290,
     "user": {
      "displayName": "Christian Arias",
      "userId": "06594569667371018215"
     },
     "user_tz": 300
    },
    "id": "cmT-cI_yBqWG",
    "outputId": "5cbad0be-d47e-4d89-9a5e-28bbbde3a42b"
   },
   "outputs": [
    {
     "name": "stdout",
     "output_type": "stream",
     "text": [
      "0\n",
      "Juan\n",
      "4\n",
      "1\n",
      "is\n",
      "2\n",
      "2\n",
      "1.70\n",
      "4\n",
      "3\n",
      "metres\n",
      "6\n",
      "4\n",
      "high\n",
      "4\n"
     ]
    }
   ],
   "source": [
    "for idx in range(len(string_list)):\n",
    "  print(idx)\n",
    "  print(string_list[idx])\n",
    "  print(len(string_list[idx]))"
   ]
  },
  {
   "cell_type": "markdown",
   "metadata": {
    "id": "GsZQs3v57OAR"
   },
   "source": [
    "#### Otra forma de iterar un ciclo for : range ( a, b, s )\n",
    "\n",
    "Una forma común de iterar un ciclo for es desde 0 hasta n-1.  Esto se puede implementar con una funcion range."
   ]
  },
  {
   "cell_type": "code",
   "execution_count": null,
   "metadata": {
    "colab": {
     "base_uri": "https://localhost:8080/"
    },
    "executionInfo": {
     "elapsed": 13,
     "status": "ok",
     "timestamp": 1714221009290,
     "user": {
      "displayName": "Christian Arias",
      "userId": "06594569667371018215"
     },
     "user_tz": 300
    },
    "id": "36Le1FsL7Qfk",
    "outputId": "71b2605c-d95d-4848-c751-88a91924a839"
   },
   "outputs": [
    {
     "name": "stdout",
     "output_type": "stream",
     "text": [
      "i = 0\n",
      "i = 1\n",
      "i = 2\n",
      "i = 3\n",
      "i = 4\n",
      "i = 5\n",
      "i = 6\n",
      "i = 7\n",
      "i = 8\n",
      "i = 9\n"
     ]
    }
   ],
   "source": [
    "n = 10 # desired number of iterations\n",
    "\n",
    "for  i in range(0,10) :\n",
    "    print( f\"i = {i}\")"
   ]
  },
  {
   "cell_type": "code",
   "execution_count": null,
   "metadata": {
    "colab": {
     "base_uri": "https://localhost:8080/"
    },
    "executionInfo": {
     "elapsed": 12,
     "status": "ok",
     "timestamp": 1714221009290,
     "user": {
      "displayName": "Christian Arias",
      "userId": "06594569667371018215"
     },
     "user_tz": 300
    },
    "id": "HW1jcO9a7SFM",
    "outputId": "3c097c70-ce2d-4667-ec5b-1892b0675e62"
   },
   "outputs": [
    {
     "name": "stdout",
     "output_type": "stream",
     "text": [
      "i = 3\n",
      "i = 4\n",
      "i = 5\n",
      "i = 6\n",
      "i = 7\n",
      "i = 8\n",
      "i = 9\n"
     ]
    }
   ],
   "source": [
    "for  i in range(3,10) :\n",
    "    print( f\"i = {i}\")"
   ]
  },
  {
   "cell_type": "code",
   "execution_count": null,
   "metadata": {
    "colab": {
     "base_uri": "https://localhost:8080/"
    },
    "executionInfo": {
     "elapsed": 9,
     "status": "ok",
     "timestamp": 1714221009290,
     "user": {
      "displayName": "Christian Arias",
      "userId": "06594569667371018215"
     },
     "user_tz": 300
    },
    "id": "MDOf7ZMA7VvR",
    "outputId": "971d3d57-d805-4da6-937f-5ba3895715ac"
   },
   "outputs": [
    {
     "name": "stdout",
     "output_type": "stream",
     "text": [
      "i = 20\n",
      "i = 15\n",
      "i = 10\n",
      "i = 5\n"
     ]
    }
   ],
   "source": [
    "for  i in range(20, 3, -5) :\n",
    "    print( f\"i = {i}\")"
   ]
  },
  {
   "cell_type": "markdown",
   "metadata": {
    "id": "TVYDGddg7XHh"
   },
   "source": [
    "### Condicional IF - ELIF - ELSE\n",
    "\n",
    "**Nota:**\n",
    "\n",
    "* No hay paréntesis alrededor de las condiciones booleanas.\n",
    "* Puede haber tantas ramas elif como desee cada una con una condición explícita.\n",
    "* ¡Sólo puede haber una más al final, sin condición, por supuesto!"
   ]
  },
  {
   "cell_type": "code",
   "execution_count": null,
   "metadata": {
    "colab": {
     "base_uri": "https://localhost:8080/"
    },
    "executionInfo": {
     "elapsed": 8,
     "status": "ok",
     "timestamp": 1714221009290,
     "user": {
      "displayName": "Christian Arias",
      "userId": "06594569667371018215"
     },
     "user_tz": 300
    },
    "id": "e5IINCKi7bq0",
    "outputId": "7bd1710f-d214-4807-cb88-ef7f2028ba6d"
   },
   "outputs": [
    {
     "name": "stdout",
     "output_type": "stream",
     "text": [
      "z is between -10 and 10 but not zero\n"
     ]
    }
   ],
   "source": [
    "z = -6\n",
    "if  z > 10 :\n",
    "    print( \"A: This is big!!!\")\n",
    "    print( \"B: That's what she said!\")\n",
    "elif z == 0 :\n",
    "    print( \"z is Zero!!!\")\n",
    "elif z > -10 :\n",
    "    print( \"z is between -10 and 10 but not zero\")\n",
    "else :\n",
    "    print( \"z is probably negative. Who knows... computers are weird...\")"
   ]
  },
  {
   "cell_type": "code",
   "execution_count": null,
   "metadata": {
    "colab": {
     "base_uri": "https://localhost:8080/"
    },
    "executionInfo": {
     "elapsed": 220,
     "status": "ok",
     "timestamp": 1714221914965,
     "user": {
      "displayName": "Christian Arias",
      "userId": "06594569667371018215"
     },
     "user_tz": 300
    },
    "id": "jgiwzvtaAoNg",
    "outputId": "5b6b3973-28a6-4b2e-87c7-6df916dfd73f"
   },
   "outputs": [
    {
     "name": "stdout",
     "output_type": "stream",
     "text": [
      "no\n"
     ]
    }
   ],
   "source": [
    "z = 11\n",
    "if  z > 10 and z == 0 :\n",
    "  print(\"ok\")\n",
    "else:\n",
    "  print(\"no\")"
   ]
  }
 ],
 "metadata": {
  "colab": {
   "provenance": [
    {
     "file_id": "1JccNwcj5e4lD5IpLCyoXvYLfFvZGW0dx",
     "timestamp": 1591047389141
    }
   ],
   "toc_visible": true
  },
  "kernelspec": {
   "display_name": "base",
   "language": "python",
   "name": "python3"
  },
  "language_info": {
   "codemirror_mode": {
    "name": "ipython",
    "version": 3
   },
   "file_extension": ".py",
   "mimetype": "text/x-python",
   "name": "python",
   "nbconvert_exporter": "python",
   "pygments_lexer": "ipython3",
   "version": "3.12.7"
  }
 },
 "nbformat": 4,
 "nbformat_minor": 0
}

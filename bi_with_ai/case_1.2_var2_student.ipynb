{
 "cells": [
  {
   "cell_type": "markdown",
   "metadata": {
    "id": "0zF6EzG746cl"
   },
   "source": [
    "<h1>How are trading volume and volatility related for energy stocks?</h1>"
   ]
  },
  {
   "cell_type": "markdown",
   "metadata": {
    "id": "1lNV2XQh46cu"
   },
   "source": [
    "<h2>Goals</h2>\n",
    "<p>By the end of this case, we will have introduced the <code>pandas</code> library within Python. You will also have gained experience with the <code>numpy</code> library, know how to read data files, and conduct descriptive statistics.</p>\n",
    "<p>You should also begin to develop a proper mindset for investigating the library on your own, via documentation or other resources such as StackOverflow. Self-research of existing documentation is a crucial part of developing as a data professional.</p>"
   ]
  },
  {
   "cell_type": "markdown",
   "metadata": {},
   "source": [
    "**Members:**\n",
    "\n",
    "- Daniel Montenegro\n",
    "- Ricardo Cordoba\n",
    "- Leyton Castro"
   ]
  },
  {
   "cell_type": "markdown",
   "metadata": {
    "id": "ZMVQFJ7346cv"
   },
   "source": [
    "<h2>Introduction</h2>"
   ]
  },
  {
   "cell_type": "markdown",
   "metadata": {
    "collapsed": true,
    "id": "YJ5TUAw246cw",
    "jupyter": {
     "outputs_hidden": true
    }
   },
   "source": [
    "<p><strong>Business Context.</strong> You are an analyst at a large bank focused on natural resource stock investments. Natural resources are vital for a variety of industries in our economy. Recently, your division has taken interest in the following stocks:</p>\n",
    "<ol>\n",
    "<li>Dominion Energy Inc.</li>\n",
    "<li>Exelon Corp.</li>\n",
    "<li>NextEra Energy Inc.</li>\n",
    "<li>Southern Co.</li>\n",
    "<li>Duke Energy Corp.</li>\n",
    "</ol>\n",
    "<p>These stocks are all part of the energy sector, an important but volatile sector of the stock market. While high volatility increases the chance of great gains, it also makes it more likely to have large losses, so risk must be carefully managed with high-volatility stocks.</p>\n",
    "<p>Because your firm is quite large, there must be enough trading volume (average amount of shares transacted per day) so that it can easily transact in these stocks. Otherwise, this effect compounded with the stocks' naturally high volatility could make these too risky for the bank to invest in.</p>"
   ]
  },
  {
   "cell_type": "markdown",
   "metadata": {
    "id": "1E23GQRI46cw"
   },
   "source": [
    "<p><strong>Business Problem.</strong> Given that both low trading volume and high volatility present risks to your investments, your team lead asks you to investigate the following: <strong>\"How is the volatility of energy stocks related to their average daily trading volume?\"</strong></p>"
   ]
  },
  {
   "cell_type": "markdown",
   "metadata": {
    "id": "Gd1WtaKo46cx"
   },
   "source": [
    "<p><strong>Analytical Context.</strong> The data you've been given is in the <a href=\"https://frictionlessdata.io/docs//\">Comma Separated Value (CSV) format</a>, and comprises price and trading volume data for the above stocks. This case begins with a brief overview of this data, after which you will: (1) learn how to use the Python library <a href=\"https://towardsdatascience.com/a-quick-introduction-to-the-pandas-python-library-f1b678f34673\">pandas</a> to load the data; (2) use <code>pandas</code> transform this data into a form amenable for analysis; and finally (3) use <code>pandas</code> to analyze the above question and come to a conclusion. As you may have guessed, <code>pandas</code> is an enormously useful library for data analysis and manipulation.</p>"
   ]
  },
  {
   "cell_type": "markdown",
   "metadata": {
    "id": "MwoL8tRs46cx"
   },
   "source": [
    "<h2>Importing packages to aid in data analysis</h2>\n",
    "<p><a href=\"https://www.learnpython.org/en/Modules_and_Packages\">External libraries (a.k.a. packages)</a> are code bases that contain a variety of pre-written functions and tools. This allows you to perform a variety of complex tasks in Python without having to \"reinvent the wheel\" build everything from the ground up. We will use two core packages: <code>pandas</code> and <code>numpy</code>.</p>\n",
    "<p><code>pandas</code> is an external library that provides functionality for data analysis. Pandas specifically offers a variety of data structures and data manipulation methods that allow you to perform complex tasks with simple, one-line commands.</p>\n",
    "<p><code>numpy</code> is a package that we will use later in the case that offers numerous mathematical operations. Together, <a href=\"https://pandas.pydata.org/pandas-docs/stable/whatsnew/v1.0.0.html\">pandas</a> and <a href=\"https://numpy.org/\">numpy</a> allow you to create a data science workflow within Python. <code>numpy</code> is in many ways foundational to <code>pandas</code>, providing vectorized operations, while <code>pandas</code> provides higher level abstractions built on top of <code>numpy</code>.</font></p>\n",
    "<p>Let's import both packages using the <code>import</code> keyword. We will rename <code>pandas</code> to <code>pd</code> and <code>numpy</code> to <code>np</code> using the <code>as</code> keyword. This allows us to use the short name abbreviation when we want to reference any function that is inside either package. The abbreviations we chose are standard across the data science industry and should be followed unless there is a very good reason not to.</p>"
   ]
  },
  {
   "cell_type": "code",
   "execution_count": 1,
   "metadata": {
    "executionInfo": {
     "elapsed": 878,
     "status": "ok",
     "timestamp": 1716249135839,
     "user": {
      "displayName": "Christian Arias",
      "userId": "06594569667371018215"
     },
     "user_tz": 300
    },
    "id": "Vjqeh2bJ46cy"
   },
   "outputs": [],
   "source": [
    "# Import the Pandas package\n",
    "import pandas as pd\n",
    "\n",
    "# Import the NumPy package\n",
    "import numpy as np"
   ]
  },
  {
   "cell_type": "markdown",
   "metadata": {
    "id": "iGjrsaNp46c0"
   },
   "source": [
    "<p>Now that these packages are loaded into Python, we can use their contents. Let's first take a look at <code>pandas</code> as it has a variety of features we will use to load and analyze our stock data.</p>"
   ]
  },
  {
   "cell_type": "markdown",
   "metadata": {
    "id": "fk1rPJHd46c1"
   },
   "source": [
    "<h2>Fundamentals of <code>pandas</code></h2>"
   ]
  },
  {
   "cell_type": "markdown",
   "metadata": {
    "collapsed": true,
    "id": "43GIkGpE46c1",
    "jupyter": {
     "outputs_hidden": true
    }
   },
   "source": [
    "<p><code>pandas</code> is a Python library that facilitates a wide range of data analysis and manipulation. Before, you saw basic data structures in Python such as lists and dictionaries. While you can build a basic data table (similar to an Excel spreadsheet) using nested lists in Python, they get quite difficult to work with. By contrast, in <code>pandas</code> the table data structure, known as a <code>DataFrame</code>, is a first-class citizen and you can easily manipulate your data thinking of it in rows and columns.</p>\n",
    "<p>If you've ever used or heard of R or SQL before, <code>pandas</code> brings some functionality from each of these to Python, allowing you to structure and filter data more efficiently than pure Python. This efficiency is seen in two distinct ways:</p>\n",
    "<ul>\n",
    "<li>Scripts written using <code>pandas</code> will often run faster than scripts written in pure Python</li>\n",
    "<li>Scripts written using <code>pandas</code> will often contain far fewer lines of code than the equivalent script written in pure Python.</li>\n",
    "</ul>\n",
    "<p>At the core of the <code>pandas</code> library are two fundamental data structures/objects:\n",
    "1. <a href=\"https://pandas.pydata.org/pandas-docs/stable/reference/api/pandas.Series.html\">Series</a>\n",
    "2. <a href=\"https://pandas.pydata.org/pandas-docs/stable/reference/api/pandas.DataFrame.html\">DataFrame</a></p>\n",
    "<p>A <code>Series</code> object stores single-column data along with an <strong>index</strong>. An index is just a way of \"numbering\" the <code>Series</code> object. For example, in this case study, the indices will be dates, while the single-column data may be stock prices or daily trading volume.</p>\n",
    "<p>A <code>DataFrame</code> object is a two-dimensional tabular data structure with labeled axes. It is conceptually helpful to think of a DataFrame object as a collection of Series objects. Namely, think of each column in a DataFrame as a single Series object, where each of these Series objects shares a common index -  the index of the DataFrame object.</p>\n",
    "<p>Below is the syntax for creating a Series object, followed by the syntax for creating a DataFrame object. Note that DataFrame objects can also have a single-column – think of this as a DataFrame consisting of a single Series object:</p>"
   ]
  },
  {
   "cell_type": "code",
   "execution_count": 2,
   "metadata": {
    "colab": {
     "base_uri": "https://localhost:8080/"
    },
    "executionInfo": {
     "elapsed": 213,
     "status": "ok",
     "timestamp": 1716249160650,
     "user": {
      "displayName": "Christian Arias",
      "userId": "06594569667371018215"
     },
     "user_tz": 300
    },
    "id": "BcA8czE146c3",
    "outputId": "92ae71e0-be66-4a50-e4b1-a23fd26fb614"
   },
   "outputs": [
    {
     "data": {
      "text/plain": [
       "0     1000\n",
       "1     2600\n",
       "2     1524\n",
       "3    98000\n",
       "Name: Volume, dtype: int64"
      ]
     },
     "execution_count": 2,
     "metadata": {},
     "output_type": "execute_result"
    }
   ],
   "source": [
    "# Create a simple Series object\n",
    "simple_series = pd.Series(\n",
    "    index=[0, 1, 2, 3], name=\"Volume\", data=[1000, 2600, 1524, 98000]\n",
    ")\n",
    "simple_series"
   ]
  },
  {
   "cell_type": "markdown",
   "metadata": {
    "id": "-iYSga0F46c4"
   },
   "source": [
    "<p>By changing <code>pd.Series</code> to <code>pd.DataFrame</code>, and adding a columns input list, a DataFrame object can be created:</p>"
   ]
  },
  {
   "cell_type": "code",
   "execution_count": 3,
   "metadata": {
    "colab": {
     "base_uri": "https://localhost:8080/",
     "height": 175
    },
    "executionInfo": {
     "elapsed": 199,
     "status": "ok",
     "timestamp": 1716249222550,
     "user": {
      "displayName": "Christian Arias",
      "userId": "06594569667371018215"
     },
     "user_tz": 300
    },
    "id": "QpnHsSP-46c4",
    "outputId": "f925b6af-5c5f-47c8-d61c-9bf07e126dfa"
   },
   "outputs": [
    {
     "data": {
      "text/html": [
       "<div>\n",
       "<style scoped>\n",
       "    .dataframe tbody tr th:only-of-type {\n",
       "        vertical-align: middle;\n",
       "    }\n",
       "\n",
       "    .dataframe tbody tr th {\n",
       "        vertical-align: top;\n",
       "    }\n",
       "\n",
       "    .dataframe thead th {\n",
       "        text-align: right;\n",
       "    }\n",
       "</style>\n",
       "<table border=\"1\" class=\"dataframe\">\n",
       "  <thead>\n",
       "    <tr style=\"text-align: right;\">\n",
       "      <th></th>\n",
       "      <th>Volume</th>\n",
       "    </tr>\n",
       "  </thead>\n",
       "  <tbody>\n",
       "    <tr>\n",
       "      <th>0</th>\n",
       "      <td>1000</td>\n",
       "    </tr>\n",
       "    <tr>\n",
       "      <th>1</th>\n",
       "      <td>2600</td>\n",
       "    </tr>\n",
       "    <tr>\n",
       "      <th>2</th>\n",
       "      <td>1524</td>\n",
       "    </tr>\n",
       "    <tr>\n",
       "      <th>3</th>\n",
       "      <td>98000</td>\n",
       "    </tr>\n",
       "  </tbody>\n",
       "</table>\n",
       "</div>"
      ],
      "text/plain": [
       "   Volume\n",
       "0    1000\n",
       "1    2600\n",
       "2    1524\n",
       "3   98000"
      ]
     },
     "execution_count": 3,
     "metadata": {},
     "output_type": "execute_result"
    }
   ],
   "source": [
    "# Create a simple DataFrame object\n",
    "simple_df = pd.DataFrame(\n",
    "    index=[0, 1, 2, 3], columns=[\"Volume\"], data=[1000, 2600, 1524, 98000]\n",
    ")\n",
    "simple_df"
   ]
  },
  {
   "cell_type": "markdown",
   "metadata": {
    "id": "eAOfPsKu46c5"
   },
   "source": [
    "<p>DataFrame objects are more general than Series objects, and one DataFrame can hold many Series objects, each as a different column. Let's create a two-column DataFrame object:</p>"
   ]
  },
  {
   "cell_type": "code",
   "execution_count": 4,
   "metadata": {
    "colab": {
     "base_uri": "https://localhost:8080/",
     "height": 175
    },
    "executionInfo": {
     "elapsed": 215,
     "status": "ok",
     "timestamp": 1716249244458,
     "user": {
      "displayName": "Christian Arias",
      "userId": "06594569667371018215"
     },
     "user_tz": 300
    },
    "id": "cLCYxbOS46c5",
    "outputId": "fe779fd4-568b-417b-d06b-69d1bda845d6"
   },
   "outputs": [
    {
     "data": {
      "text/html": [
       "<div>\n",
       "<style scoped>\n",
       "    .dataframe tbody tr th:only-of-type {\n",
       "        vertical-align: middle;\n",
       "    }\n",
       "\n",
       "    .dataframe tbody tr th {\n",
       "        vertical-align: top;\n",
       "    }\n",
       "\n",
       "    .dataframe thead th {\n",
       "        text-align: right;\n",
       "    }\n",
       "</style>\n",
       "<table border=\"1\" class=\"dataframe\">\n",
       "  <thead>\n",
       "    <tr style=\"text-align: right;\">\n",
       "      <th></th>\n",
       "      <th>Date</th>\n",
       "      <th>Volume</th>\n",
       "    </tr>\n",
       "  </thead>\n",
       "  <tbody>\n",
       "    <tr>\n",
       "      <th>0</th>\n",
       "      <td>20190101</td>\n",
       "      <td>1000</td>\n",
       "    </tr>\n",
       "    <tr>\n",
       "      <th>1</th>\n",
       "      <td>20190102</td>\n",
       "      <td>2600</td>\n",
       "    </tr>\n",
       "    <tr>\n",
       "      <th>2</th>\n",
       "      <td>20190103</td>\n",
       "      <td>1524</td>\n",
       "    </tr>\n",
       "    <tr>\n",
       "      <th>3</th>\n",
       "      <td>20190104</td>\n",
       "      <td>98000</td>\n",
       "    </tr>\n",
       "  </tbody>\n",
       "</table>\n",
       "</div>"
      ],
      "text/plain": [
       "       Date  Volume\n",
       "0  20190101    1000\n",
       "1  20190102    2600\n",
       "2  20190103    1524\n",
       "3  20190104   98000"
      ]
     },
     "execution_count": 4,
     "metadata": {},
     "output_type": "execute_result"
    }
   ],
   "source": [
    "# Create another DataFrame object\n",
    "another_df = pd.DataFrame(\n",
    "    index=[0, 1, 2, 3],\n",
    "    columns=[\"Date\", \"Volume\"],\n",
    "    data=[[20190101, 1000], [20190102, 2600], [20190103, 1524], [20190104, 98000]],\n",
    ")\n",
    "another_df"
   ]
  },
  {
   "cell_type": "markdown",
   "metadata": {
    "id": "wZ7TFeGT46c5"
   },
   "source": [
    "<p>Notice how a list of lists was used to specify the data in the <code>another_df</code> DataFrame. Each element of the list corresponds to a row in the DataFrame, so the list has 4 elements because there are 4 indices. Each element of the list of lists has 2 elements because the DataFrame has two columns.</p>"
   ]
  },
  {
   "cell_type": "markdown",
   "metadata": {
    "id": "2OZWGKvJ46c6"
   },
   "source": [
    "<h2>Using <code>pandas</code> to analyze stock data</h2>"
   ]
  },
  {
   "cell_type": "markdown",
   "metadata": {
    "collapsed": true,
    "id": "A78db0aw46c6",
    "jupyter": {
     "outputs_hidden": true
    }
   },
   "source": [
    "<p>Recall that we have CSV files that include data for each of the following stocks:</p>\n",
    "<ol>\n",
    "<li>Dominion Energy Inc. (Stock Symbol: D)</li>\n",
    "<li>Exelon Corp. (Stock Symbol: EXC)</li>\n",
    "<li>NextEra Energy Inc. (Stock Symbol: NEE)</li>\n",
    "<li>Southern Co. (Stock Symbol: SO)</li>\n",
    "<li>Duke Energy Corp. (Stock Symbol: DUK)</li>\n",
    "</ol>\n",
    "<p>The available data for each stock includes:</p>\n",
    "<ol>\n",
    "<li><strong>Date:</strong> The day of the year</li>\n",
    "<li><strong>Open:</strong> The stock opening price of the day</li>\n",
    "<li><strong>High:</strong> The highest observed stock price of the day</li>\n",
    "<li><strong>Low:</strong> The lowest observed stock price of the day</li>\n",
    "<li><strong>Close:</strong> The stock closing price of the day</li>\n",
    "<li><strong>Adj Close:</strong> The adjusted stock closing price for the day (adjusted for splits and dividends)</li>\n",
    "<li><strong>Volume:</strong> The volume of the stock traded over the day</li>\n",
    "</ol>\n",
    "<p>To get a better sense of the available data, let's first take a look at just the data for Dominion Energy, listed on the New York Stock Exchange under the symbol D. You are given a CSV file that contains the company's stock data, <code>D.</code>. <code>pandas</code> allows easy loading of CSV files through the use of the method <a href=\"https://pandas.pydata.org/pandas-docs/stable/reference/api/pandas.read_csv.html\">pd.read_csv()</a>:</p>"
   ]
  },
  {
   "cell_type": "code",
   "execution_count": null,
   "metadata": {
    "colab": {
     "base_uri": "https://localhost:8080/"
    },
    "executionInfo": {
     "elapsed": 35961,
     "status": "ok",
     "timestamp": 1716249422151,
     "user": {
      "displayName": "Christian Arias",
      "userId": "06594569667371018215"
     },
     "user_tz": 300
    },
    "id": "2WvHSIAq_dYG",
    "outputId": "d5fd9bff-216f-4ce1-a88e-25df26adf1e9"
   },
   "outputs": [
    {
     "name": "stdout",
     "output_type": "stream",
     "text": [
      "Mounted at /content/drive\n"
     ]
    }
   ],
   "source": [
    "# Only for Google Colab\n",
    "from google.colab import drive\n",
    "drive.mount('/content/drive')"
   ]
  },
  {
   "cell_type": "code",
   "execution_count": 6,
   "metadata": {
    "executionInfo": {
     "elapsed": 469,
     "status": "ok",
     "timestamp": 1716249432148,
     "user": {
      "displayName": "Christian Arias",
      "userId": "06594569667371018215"
     },
     "user_tz": 300
    },
    "id": "axN9sKut46c7",
    "scrolled": true
   },
   "outputs": [],
   "source": [
    "# Load a file as a DataFrame and assign to df\n",
    "df = pd.read_csv(\"drive/MyDrive/Colab Notebooks/case_1.2_var2_student/data/D.csv\")"
   ]
  },
  {
   "cell_type": "code",
   "execution_count": 2,
   "metadata": {},
   "outputs": [],
   "source": [
    "# Load a file as a DataFrame and assign to df\n",
    "df = pd.read_csv(\"../datasets/D.csv\")"
   ]
  },
  {
   "cell_type": "markdown",
   "metadata": {
    "id": "RZygq92D46c7"
   },
   "source": [
    "<p>The contents of the file <code>D.</code> are now stored in the DataFrame object <code>df</code>.</p>\n",
    "<p>There are several common methods and attributes available to take a peek at the data and get a sense of it:</p>\n",
    "<ol>\n",
    "<li><code>DataFrame.head()</code>  -&gt; returns the column names and first 5 rows by default</li>\n",
    "<li><code>DataFrame.tail()</code>  -&gt; returns the column names and last 5 rows by default</li>\n",
    "<li><code>DataFrame.shape</code>   -&gt; returns (num_rows, num_columns)</li>\n",
    "<li><code>DataFrame.columns</code> -&gt; returns index of columns</li>\n",
    "<li><code>DataFrame.index</code>   -&gt; returns index of rows</li>\n",
    "</ol>\n",
    "<p>In your spare time please check the <a href=\"https://pandas.pydata.org/pandas-docs/stable/\">pandas documentation</a> and explore the parameters of these methods as well as other methods. Familiarity with this library will dramatically improve your productivity as a data scientist.</p>\n",
    "<p>Using <code>df.head()</code> and <code>df.tail()</code> we can take a look at the data contents. Unless specified otherwise, Series and DataFrame objects have indices starting at 0 and increase monotonically upward along the integers.</p>"
   ]
  },
  {
   "cell_type": "code",
   "execution_count": 3,
   "metadata": {
    "colab": {
     "base_uri": "https://localhost:8080/",
     "height": 206
    },
    "executionInfo": {
     "elapsed": 211,
     "status": "ok",
     "timestamp": 1716249501093,
     "user": {
      "displayName": "Christian Arias",
      "userId": "06594569667371018215"
     },
     "user_tz": 300
    },
    "id": "-USS2Gax46c8",
    "outputId": "330c5811-af1f-4c42-81e2-25f73ec514d6"
   },
   "outputs": [
    {
     "data": {
      "text/html": [
       "<div>\n",
       "<style scoped>\n",
       "    .dataframe tbody tr th:only-of-type {\n",
       "        vertical-align: middle;\n",
       "    }\n",
       "\n",
       "    .dataframe tbody tr th {\n",
       "        vertical-align: top;\n",
       "    }\n",
       "\n",
       "    .dataframe thead th {\n",
       "        text-align: right;\n",
       "    }\n",
       "</style>\n",
       "<table border=\"1\" class=\"dataframe\">\n",
       "  <thead>\n",
       "    <tr style=\"text-align: right;\">\n",
       "      <th></th>\n",
       "      <th>Date</th>\n",
       "      <th>Open</th>\n",
       "      <th>High</th>\n",
       "      <th>Low</th>\n",
       "      <th>Close</th>\n",
       "      <th>Adj Close</th>\n",
       "      <th>Volume</th>\n",
       "    </tr>\n",
       "  </thead>\n",
       "  <tbody>\n",
       "    <tr>\n",
       "      <th>0</th>\n",
       "      <td>2014-07-28</td>\n",
       "      <td>69.750000</td>\n",
       "      <td>71.059998</td>\n",
       "      <td>69.750000</td>\n",
       "      <td>70.879997</td>\n",
       "      <td>57.963978</td>\n",
       "      <td>1806400</td>\n",
       "    </tr>\n",
       "    <tr>\n",
       "      <th>1</th>\n",
       "      <td>2014-07-29</td>\n",
       "      <td>70.669998</td>\n",
       "      <td>70.980003</td>\n",
       "      <td>69.930000</td>\n",
       "      <td>69.930000</td>\n",
       "      <td>57.187099</td>\n",
       "      <td>2231100</td>\n",
       "    </tr>\n",
       "    <tr>\n",
       "      <th>2</th>\n",
       "      <td>2014-07-30</td>\n",
       "      <td>70.000000</td>\n",
       "      <td>70.660004</td>\n",
       "      <td>68.400002</td>\n",
       "      <td>68.970001</td>\n",
       "      <td>56.402020</td>\n",
       "      <td>2588900</td>\n",
       "    </tr>\n",
       "    <tr>\n",
       "      <th>3</th>\n",
       "      <td>2014-07-31</td>\n",
       "      <td>68.629997</td>\n",
       "      <td>68.849998</td>\n",
       "      <td>67.580002</td>\n",
       "      <td>67.639999</td>\n",
       "      <td>55.314388</td>\n",
       "      <td>3266900</td>\n",
       "    </tr>\n",
       "    <tr>\n",
       "      <th>4</th>\n",
       "      <td>2014-08-01</td>\n",
       "      <td>67.330002</td>\n",
       "      <td>68.410004</td>\n",
       "      <td>67.220001</td>\n",
       "      <td>67.589996</td>\n",
       "      <td>55.273487</td>\n",
       "      <td>2601800</td>\n",
       "    </tr>\n",
       "  </tbody>\n",
       "</table>\n",
       "</div>"
      ],
      "text/plain": [
       "         Date       Open       High        Low      Close  Adj Close   Volume\n",
       "0  2014-07-28  69.750000  71.059998  69.750000  70.879997  57.963978  1806400\n",
       "1  2014-07-29  70.669998  70.980003  69.930000  69.930000  57.187099  2231100\n",
       "2  2014-07-30  70.000000  70.660004  68.400002  68.970001  56.402020  2588900\n",
       "3  2014-07-31  68.629997  68.849998  67.580002  67.639999  55.314388  3266900\n",
       "4  2014-08-01  67.330002  68.410004  67.220001  67.589996  55.273487  2601800"
      ]
     },
     "execution_count": 3,
     "metadata": {},
     "output_type": "execute_result"
    }
   ],
   "source": [
    "# Look at the head of the DataFrame (i.e. the top rows of the DataFrame)\n",
    "df.head()"
   ]
  },
  {
   "cell_type": "code",
   "execution_count": 4,
   "metadata": {
    "colab": {
     "base_uri": "https://localhost:8080/",
     "height": 206
    },
    "executionInfo": {
     "elapsed": 209,
     "status": "ok",
     "timestamp": 1716249594927,
     "user": {
      "displayName": "Christian Arias",
      "userId": "06594569667371018215"
     },
     "user_tz": 300
    },
    "id": "xMMjMbIA46c8",
    "outputId": "307b2949-4b9e-4e70-f12b-3c18d3626db6"
   },
   "outputs": [
    {
     "data": {
      "text/html": [
       "<div>\n",
       "<style scoped>\n",
       "    .dataframe tbody tr th:only-of-type {\n",
       "        vertical-align: middle;\n",
       "    }\n",
       "\n",
       "    .dataframe tbody tr th {\n",
       "        vertical-align: top;\n",
       "    }\n",
       "\n",
       "    .dataframe thead th {\n",
       "        text-align: right;\n",
       "    }\n",
       "</style>\n",
       "<table border=\"1\" class=\"dataframe\">\n",
       "  <thead>\n",
       "    <tr style=\"text-align: right;\">\n",
       "      <th></th>\n",
       "      <th>Date</th>\n",
       "      <th>Open</th>\n",
       "      <th>High</th>\n",
       "      <th>Low</th>\n",
       "      <th>Close</th>\n",
       "      <th>Adj Close</th>\n",
       "      <th>Volume</th>\n",
       "    </tr>\n",
       "  </thead>\n",
       "  <tbody>\n",
       "    <tr>\n",
       "      <th>1254</th>\n",
       "      <td>2019-07-22</td>\n",
       "      <td>76.879997</td>\n",
       "      <td>76.930000</td>\n",
       "      <td>75.779999</td>\n",
       "      <td>76.260002</td>\n",
       "      <td>76.260002</td>\n",
       "      <td>2956500</td>\n",
       "    </tr>\n",
       "    <tr>\n",
       "      <th>1255</th>\n",
       "      <td>2019-07-23</td>\n",
       "      <td>76.099998</td>\n",
       "      <td>76.199997</td>\n",
       "      <td>75.269997</td>\n",
       "      <td>75.430000</td>\n",
       "      <td>75.430000</td>\n",
       "      <td>3175600</td>\n",
       "    </tr>\n",
       "    <tr>\n",
       "      <th>1256</th>\n",
       "      <td>2019-07-24</td>\n",
       "      <td>75.660004</td>\n",
       "      <td>75.720001</td>\n",
       "      <td>74.889999</td>\n",
       "      <td>75.180000</td>\n",
       "      <td>75.180000</td>\n",
       "      <td>3101900</td>\n",
       "    </tr>\n",
       "    <tr>\n",
       "      <th>1257</th>\n",
       "      <td>2019-07-25</td>\n",
       "      <td>75.150002</td>\n",
       "      <td>75.430000</td>\n",
       "      <td>74.610001</td>\n",
       "      <td>74.860001</td>\n",
       "      <td>74.860001</td>\n",
       "      <td>3417200</td>\n",
       "    </tr>\n",
       "    <tr>\n",
       "      <th>1258</th>\n",
       "      <td>2019-07-26</td>\n",
       "      <td>74.730003</td>\n",
       "      <td>75.349998</td>\n",
       "      <td>74.610001</td>\n",
       "      <td>75.150002</td>\n",
       "      <td>75.150002</td>\n",
       "      <td>3076500</td>\n",
       "    </tr>\n",
       "  </tbody>\n",
       "</table>\n",
       "</div>"
      ],
      "text/plain": [
       "            Date       Open       High        Low      Close  Adj Close  \\\n",
       "1254  2019-07-22  76.879997  76.930000  75.779999  76.260002  76.260002   \n",
       "1255  2019-07-23  76.099998  76.199997  75.269997  75.430000  75.430000   \n",
       "1256  2019-07-24  75.660004  75.720001  74.889999  75.180000  75.180000   \n",
       "1257  2019-07-25  75.150002  75.430000  74.610001  74.860001  74.860001   \n",
       "1258  2019-07-26  74.730003  75.349998  74.610001  75.150002  75.150002   \n",
       "\n",
       "       Volume  \n",
       "1254  2956500  \n",
       "1255  3175600  \n",
       "1256  3101900  \n",
       "1257  3417200  \n",
       "1258  3076500  "
      ]
     },
     "execution_count": 4,
     "metadata": {},
     "output_type": "execute_result"
    }
   ],
   "source": [
    "# Look at the tail of the DataFrame (i.e. the top rows of the DataFrame)\n",
    "df.tail()"
   ]
  },
  {
   "cell_type": "markdown",
   "metadata": {
    "id": "I01QfySH46c9"
   },
   "source": [
    "<p>Thus, we see there are 1259 data entries (each with 7 data points) for Dominion Energy. The shape of a DataFrame is accessed using the <code>shape</code> attribute:</p>"
   ]
  },
  {
   "cell_type": "code",
   "execution_count": 5,
   "metadata": {
    "colab": {
     "base_uri": "https://localhost:8080/"
    },
    "executionInfo": {
     "elapsed": 201,
     "status": "ok",
     "timestamp": 1716249600050,
     "user": {
      "displayName": "Christian Arias",
      "userId": "06594569667371018215"
     },
     "user_tz": 300
    },
    "id": "usB9rlkg46c9",
    "outputId": "c8d4bb89-053c-492a-f31c-ad714c2c1758"
   },
   "outputs": [
    {
     "data": {
      "text/plain": [
       "(1259, 7)"
      ]
     },
     "execution_count": 5,
     "metadata": {},
     "output_type": "execute_result"
    }
   ],
   "source": [
    "# Determine the shape of the two-dimensional structure, that is (num_rows, num_columns)\n",
    "df.shape"
   ]
  },
  {
   "cell_type": "markdown",
   "metadata": {
    "id": "5zyxa_jS46c_"
   },
   "source": [
    "<p>It's important to note that <code>DataFrame.columns</code> and <code>DataFrame.index</code> return an index object instead of a list. To cast an index to a list for further list manipulation, we use the <code>list()</code> method:</p>"
   ]
  },
  {
   "cell_type": "code",
   "execution_count": 6,
   "metadata": {
    "colab": {
     "base_uri": "https://localhost:8080/"
    },
    "executionInfo": {
     "elapsed": 200,
     "status": "ok",
     "timestamp": 1716249607004,
     "user": {
      "displayName": "Christian Arias",
      "userId": "06594569667371018215"
     },
     "user_tz": 300
    },
    "id": "JoPypGX146dA",
    "outputId": "79546c33-94ba-4c1e-da57-f91e275e8d7d"
   },
   "outputs": [
    {
     "data": {
      "text/plain": [
       "['Date', 'Open', 'High', 'Low', 'Close', 'Adj Close', 'Volume']"
      ]
     },
     "execution_count": 6,
     "metadata": {},
     "output_type": "execute_result"
    }
   ],
   "source": [
    "# List of the column names of the DataFrame\n",
    "list(df.columns)"
   ]
  },
  {
   "cell_type": "code",
   "execution_count": 7,
   "metadata": {
    "colab": {
     "base_uri": "https://localhost:8080/"
    },
    "executionInfo": {
     "elapsed": 327,
     "status": "ok",
     "timestamp": 1677268803987,
     "user": {
      "displayName": "Christian Arias",
      "userId": "06594569667371018215"
     },
     "user_tz": 300
    },
    "id": "vpjCxmCz46dC",
    "outputId": "db53f50f-a86d-4eb6-9b8c-768220b8ce84"
   },
   "outputs": [
    {
     "data": {
      "text/plain": [
       "[0, 1, 2, 3, 4, 5, 6, 7, 8, 9, 10, 11, 12, 13, 14, 15, 16, 17, 18, 19]"
      ]
     },
     "execution_count": 7,
     "metadata": {},
     "output_type": "execute_result"
    }
   ],
   "source": [
    "# List of the column names of the DataFrame\n",
    "list(df.index)[0:20]  # only showing first 20 index values so reduce screen output"
   ]
  },
  {
   "cell_type": "markdown",
   "metadata": {
    "id": "FIW_1TDw46dD"
   },
   "source": [
    "<h2>Creating additional variables relevant to stock volatility</h2>"
   ]
  },
  {
   "cell_type": "markdown",
   "metadata": {
    "id": "8sejDRT646dF"
   },
   "source": [
    "<p>Oftentimes, the data provided to you will not be sufficient to achieve your goal. You may have to add additional variables or data features to assist you. Recall that our original question concerned the relationship between stock trading volume and volatility. Therefore, our DataFrame must have features related to both of these quantities.</p>\n",
    "<p>It can be helpful to think about adding columns to DataFrames as adding adjacent columns one-by-one in Excel. Here is an example of how to do it:</p>"
   ]
  },
  {
   "cell_type": "code",
   "execution_count": 8,
   "metadata": {
    "colab": {
     "base_uri": "https://localhost:8080/",
     "height": 206
    },
    "executionInfo": {
     "elapsed": 213,
     "status": "ok",
     "timestamp": 1716249793887,
     "user": {
      "displayName": "Christian Arias",
      "userId": "06594569667371018215"
     },
     "user_tz": 300
    },
    "id": "Hwvsq8Qa46dH",
    "outputId": "60eb59f8-eccf-4fe9-9eaa-d898c26382ca"
   },
   "outputs": [
    {
     "data": {
      "text/html": [
       "<div>\n",
       "<style scoped>\n",
       "    .dataframe tbody tr th:only-of-type {\n",
       "        vertical-align: middle;\n",
       "    }\n",
       "\n",
       "    .dataframe tbody tr th {\n",
       "        vertical-align: top;\n",
       "    }\n",
       "\n",
       "    .dataframe thead th {\n",
       "        text-align: right;\n",
       "    }\n",
       "</style>\n",
       "<table border=\"1\" class=\"dataframe\">\n",
       "  <thead>\n",
       "    <tr style=\"text-align: right;\">\n",
       "      <th></th>\n",
       "      <th>Date</th>\n",
       "      <th>Open</th>\n",
       "      <th>High</th>\n",
       "      <th>Low</th>\n",
       "      <th>Close</th>\n",
       "      <th>Adj Close</th>\n",
       "      <th>Volume</th>\n",
       "      <th>Symbol</th>\n",
       "    </tr>\n",
       "  </thead>\n",
       "  <tbody>\n",
       "    <tr>\n",
       "      <th>0</th>\n",
       "      <td>2014-07-28</td>\n",
       "      <td>69.750000</td>\n",
       "      <td>71.059998</td>\n",
       "      <td>69.750000</td>\n",
       "      <td>70.879997</td>\n",
       "      <td>57.963978</td>\n",
       "      <td>1806400</td>\n",
       "      <td>D</td>\n",
       "    </tr>\n",
       "    <tr>\n",
       "      <th>1</th>\n",
       "      <td>2014-07-29</td>\n",
       "      <td>70.669998</td>\n",
       "      <td>70.980003</td>\n",
       "      <td>69.930000</td>\n",
       "      <td>69.930000</td>\n",
       "      <td>57.187099</td>\n",
       "      <td>2231100</td>\n",
       "      <td>D</td>\n",
       "    </tr>\n",
       "    <tr>\n",
       "      <th>2</th>\n",
       "      <td>2014-07-30</td>\n",
       "      <td>70.000000</td>\n",
       "      <td>70.660004</td>\n",
       "      <td>68.400002</td>\n",
       "      <td>68.970001</td>\n",
       "      <td>56.402020</td>\n",
       "      <td>2588900</td>\n",
       "      <td>D</td>\n",
       "    </tr>\n",
       "    <tr>\n",
       "      <th>3</th>\n",
       "      <td>2014-07-31</td>\n",
       "      <td>68.629997</td>\n",
       "      <td>68.849998</td>\n",
       "      <td>67.580002</td>\n",
       "      <td>67.639999</td>\n",
       "      <td>55.314388</td>\n",
       "      <td>3266900</td>\n",
       "      <td>D</td>\n",
       "    </tr>\n",
       "    <tr>\n",
       "      <th>4</th>\n",
       "      <td>2014-08-01</td>\n",
       "      <td>67.330002</td>\n",
       "      <td>68.410004</td>\n",
       "      <td>67.220001</td>\n",
       "      <td>67.589996</td>\n",
       "      <td>55.273487</td>\n",
       "      <td>2601800</td>\n",
       "      <td>D</td>\n",
       "    </tr>\n",
       "  </tbody>\n",
       "</table>\n",
       "</div>"
      ],
      "text/plain": [
       "         Date       Open       High        Low      Close  Adj Close   Volume  \\\n",
       "0  2014-07-28  69.750000  71.059998  69.750000  70.879997  57.963978  1806400   \n",
       "1  2014-07-29  70.669998  70.980003  69.930000  69.930000  57.187099  2231100   \n",
       "2  2014-07-30  70.000000  70.660004  68.400002  68.970001  56.402020  2588900   \n",
       "3  2014-07-31  68.629997  68.849998  67.580002  67.639999  55.314388  3266900   \n",
       "4  2014-08-01  67.330002  68.410004  67.220001  67.589996  55.273487  2601800   \n",
       "\n",
       "  Symbol  \n",
       "0      D  \n",
       "1      D  \n",
       "2      D  \n",
       "3      D  \n",
       "4      D  "
      ]
     },
     "execution_count": 8,
     "metadata": {},
     "output_type": "execute_result"
    }
   ],
   "source": [
    "# Add a new column named \"Symbol\"\n",
    "df[\"Symbol\"] = \"D\"\n",
    "df.head()"
   ]
  },
  {
   "cell_type": "code",
   "execution_count": 9,
   "metadata": {
    "colab": {
     "base_uri": "https://localhost:8080/"
    },
    "executionInfo": {
     "elapsed": 197,
     "status": "ok",
     "timestamp": 1716249732522,
     "user": {
      "displayName": "Christian Arias",
      "userId": "06594569667371018215"
     },
     "user_tz": 300
    },
    "id": "QSRGWlUk46dM",
    "outputId": "710ba441-5f40-4ced-a4f0-275df82a2ec6"
   },
   "outputs": [
    {
     "data": {
      "text/plain": [
       "0    1806400\n",
       "1    2231100\n",
       "2    2588900\n",
       "3    3266900\n",
       "4    2601800\n",
       "Name: Volume, dtype: int64"
      ]
     },
     "execution_count": 9,
     "metadata": {},
     "output_type": "execute_result"
    }
   ],
   "source": [
    "# We can access a column by using [] brackets and the column name\n",
    "df['Volume'].head() # added .head() to suppress output"
   ]
  },
  {
   "cell_type": "code",
   "execution_count": 10,
   "metadata": {
    "colab": {
     "base_uri": "https://localhost:8080/",
     "height": 206
    },
    "executionInfo": {
     "elapsed": 218,
     "status": "ok",
     "timestamp": 1716249773148,
     "user": {
      "displayName": "Christian Arias",
      "userId": "06594569667371018215"
     },
     "user_tz": 300
    },
    "id": "ppqeLYmb46dQ",
    "outputId": "40f1f8dd-ce80-4e48-f33d-e98449b224b3"
   },
   "outputs": [
    {
     "data": {
      "text/html": [
       "<div>\n",
       "<style scoped>\n",
       "    .dataframe tbody tr th:only-of-type {\n",
       "        vertical-align: middle;\n",
       "    }\n",
       "\n",
       "    .dataframe tbody tr th {\n",
       "        vertical-align: top;\n",
       "    }\n",
       "\n",
       "    .dataframe thead th {\n",
       "        text-align: right;\n",
       "    }\n",
       "</style>\n",
       "<table border=\"1\" class=\"dataframe\">\n",
       "  <thead>\n",
       "    <tr style=\"text-align: right;\">\n",
       "      <th></th>\n",
       "      <th>Date</th>\n",
       "      <th>Open</th>\n",
       "      <th>High</th>\n",
       "      <th>Low</th>\n",
       "      <th>Close</th>\n",
       "      <th>Adj Close</th>\n",
       "      <th>Volume</th>\n",
       "      <th>Symbol</th>\n",
       "      <th>Volume_Millions</th>\n",
       "    </tr>\n",
       "  </thead>\n",
       "  <tbody>\n",
       "    <tr>\n",
       "      <th>0</th>\n",
       "      <td>2014-07-28</td>\n",
       "      <td>69.750000</td>\n",
       "      <td>71.059998</td>\n",
       "      <td>69.750000</td>\n",
       "      <td>70.879997</td>\n",
       "      <td>57.963978</td>\n",
       "      <td>1806400</td>\n",
       "      <td>D</td>\n",
       "      <td>1.8064</td>\n",
       "    </tr>\n",
       "    <tr>\n",
       "      <th>1</th>\n",
       "      <td>2014-07-29</td>\n",
       "      <td>70.669998</td>\n",
       "      <td>70.980003</td>\n",
       "      <td>69.930000</td>\n",
       "      <td>69.930000</td>\n",
       "      <td>57.187099</td>\n",
       "      <td>2231100</td>\n",
       "      <td>D</td>\n",
       "      <td>2.2311</td>\n",
       "    </tr>\n",
       "    <tr>\n",
       "      <th>2</th>\n",
       "      <td>2014-07-30</td>\n",
       "      <td>70.000000</td>\n",
       "      <td>70.660004</td>\n",
       "      <td>68.400002</td>\n",
       "      <td>68.970001</td>\n",
       "      <td>56.402020</td>\n",
       "      <td>2588900</td>\n",
       "      <td>D</td>\n",
       "      <td>2.5889</td>\n",
       "    </tr>\n",
       "    <tr>\n",
       "      <th>3</th>\n",
       "      <td>2014-07-31</td>\n",
       "      <td>68.629997</td>\n",
       "      <td>68.849998</td>\n",
       "      <td>67.580002</td>\n",
       "      <td>67.639999</td>\n",
       "      <td>55.314388</td>\n",
       "      <td>3266900</td>\n",
       "      <td>D</td>\n",
       "      <td>3.2669</td>\n",
       "    </tr>\n",
       "    <tr>\n",
       "      <th>4</th>\n",
       "      <td>2014-08-01</td>\n",
       "      <td>67.330002</td>\n",
       "      <td>68.410004</td>\n",
       "      <td>67.220001</td>\n",
       "      <td>67.589996</td>\n",
       "      <td>55.273487</td>\n",
       "      <td>2601800</td>\n",
       "      <td>D</td>\n",
       "      <td>2.6018</td>\n",
       "    </tr>\n",
       "  </tbody>\n",
       "</table>\n",
       "</div>"
      ],
      "text/plain": [
       "         Date       Open       High        Low      Close  Adj Close   Volume  \\\n",
       "0  2014-07-28  69.750000  71.059998  69.750000  70.879997  57.963978  1806400   \n",
       "1  2014-07-29  70.669998  70.980003  69.930000  69.930000  57.187099  2231100   \n",
       "2  2014-07-30  70.000000  70.660004  68.400002  68.970001  56.402020  2588900   \n",
       "3  2014-07-31  68.629997  68.849998  67.580002  67.639999  55.314388  3266900   \n",
       "4  2014-08-01  67.330002  68.410004  67.220001  67.589996  55.273487  2601800   \n",
       "\n",
       "  Symbol  Volume_Millions  \n",
       "0      D           1.8064  \n",
       "1      D           2.2311  \n",
       "2      D           2.5889  \n",
       "3      D           3.2669  \n",
       "4      D           2.6018  "
      ]
     },
     "execution_count": 10,
     "metadata": {},
     "output_type": "execute_result"
    }
   ],
   "source": [
    "# Add a new column named \"Volume_Millions\", which is calculated from the Volume column currently in df\n",
    "# divide every row in df['Volume'] by 1 million, store in new column\n",
    "df[\"Volume_Millions\"] = df[\"Volume\"] / 1000000.0\n",
    "df.head()"
   ]
  },
  {
   "cell_type": "code",
   "execution_count": 11,
   "metadata": {
    "colab": {
     "base_uri": "https://localhost:8080/"
    },
    "executionInfo": {
     "elapsed": 187,
     "status": "ok",
     "timestamp": 1716249798377,
     "user": {
      "displayName": "Christian Arias",
      "userId": "06594569667371018215"
     },
     "user_tz": 300
    },
    "id": "WlHQivEu46dR",
    "outputId": "8325d9b8-d397-4614-db0e-abb8fc16cbc3"
   },
   "outputs": [
    {
     "data": {
      "text/plain": [
       "(1259, 9)"
      ]
     },
     "execution_count": 11,
     "metadata": {},
     "output_type": "execute_result"
    }
   ],
   "source": [
    "# Take a look at the updated DataFrame shape. Two new columns have been added.\n",
    "df.shape"
   ]
  },
  {
   "cell_type": "markdown",
   "metadata": {
    "id": "zwh9DbwO46dR"
   },
   "source": [
    "<p>As discussed, we need to have a feature in our DataFrame that is related to volatility. Because this currently does not exist, we must create it from the already available features. Recall that volatility is the standard deviation of daily returns over a period of time, so let's create a feature for daily returns:</p>"
   ]
  },
  {
   "cell_type": "code",
   "execution_count": 12,
   "metadata": {
    "executionInfo": {
     "elapsed": 229,
     "status": "ok",
     "timestamp": 1716250263603,
     "user": {
      "displayName": "Christian Arias",
      "userId": "06594569667371018215"
     },
     "user_tz": 300
    },
    "id": "Lt7AWZR346dS"
   },
   "outputs": [],
   "source": [
    "df[\"VolStat\"] = (df[\"High\"] - df[\"Low\"]) / df[\"Open\"]\n",
    "df[\"Return\"] = (df[\"Close\"] / df[\"Open\"]) - 1.0"
   ]
  },
  {
   "cell_type": "markdown",
   "metadata": {
    "id": "TmkivUv846dS"
   },
   "source": [
    "<p>Here we see the power of <code>pandas</code>. We can simply perform mathematical operations on columns of DataFrames just as if the DataFrames were single variables themselves.</p>"
   ]
  },
  {
   "cell_type": "code",
   "execution_count": 13,
   "metadata": {
    "colab": {
     "base_uri": "https://localhost:8080/",
     "height": 206
    },
    "executionInfo": {
     "elapsed": 199,
     "status": "ok",
     "timestamp": 1716250665360,
     "user": {
      "displayName": "Christian Arias",
      "userId": "06594569667371018215"
     },
     "user_tz": 300
    },
    "id": "3oQe1JLj46dS",
    "outputId": "1ed65400-d5db-48d3-bc52-c3c296f355d0"
   },
   "outputs": [
    {
     "data": {
      "text/html": [
       "<div>\n",
       "<style scoped>\n",
       "    .dataframe tbody tr th:only-of-type {\n",
       "        vertical-align: middle;\n",
       "    }\n",
       "\n",
       "    .dataframe tbody tr th {\n",
       "        vertical-align: top;\n",
       "    }\n",
       "\n",
       "    .dataframe thead th {\n",
       "        text-align: right;\n",
       "    }\n",
       "</style>\n",
       "<table border=\"1\" class=\"dataframe\">\n",
       "  <thead>\n",
       "    <tr style=\"text-align: right;\">\n",
       "      <th></th>\n",
       "      <th>Date</th>\n",
       "      <th>Open</th>\n",
       "      <th>High</th>\n",
       "      <th>Low</th>\n",
       "      <th>Close</th>\n",
       "      <th>Adj Close</th>\n",
       "      <th>Volume</th>\n",
       "      <th>Symbol</th>\n",
       "      <th>Volume_Millions</th>\n",
       "      <th>VolStat</th>\n",
       "      <th>Return</th>\n",
       "    </tr>\n",
       "  </thead>\n",
       "  <tbody>\n",
       "    <tr>\n",
       "      <th>0</th>\n",
       "      <td>2014-07-28</td>\n",
       "      <td>69.750000</td>\n",
       "      <td>71.059998</td>\n",
       "      <td>69.750000</td>\n",
       "      <td>70.879997</td>\n",
       "      <td>57.963978</td>\n",
       "      <td>1806400</td>\n",
       "      <td>D</td>\n",
       "      <td>1.8064</td>\n",
       "      <td>0.018781</td>\n",
       "      <td>0.016201</td>\n",
       "    </tr>\n",
       "    <tr>\n",
       "      <th>1</th>\n",
       "      <td>2014-07-29</td>\n",
       "      <td>70.669998</td>\n",
       "      <td>70.980003</td>\n",
       "      <td>69.930000</td>\n",
       "      <td>69.930000</td>\n",
       "      <td>57.187099</td>\n",
       "      <td>2231100</td>\n",
       "      <td>D</td>\n",
       "      <td>2.2311</td>\n",
       "      <td>0.014858</td>\n",
       "      <td>-0.010471</td>\n",
       "    </tr>\n",
       "    <tr>\n",
       "      <th>2</th>\n",
       "      <td>2014-07-30</td>\n",
       "      <td>70.000000</td>\n",
       "      <td>70.660004</td>\n",
       "      <td>68.400002</td>\n",
       "      <td>68.970001</td>\n",
       "      <td>56.402020</td>\n",
       "      <td>2588900</td>\n",
       "      <td>D</td>\n",
       "      <td>2.5889</td>\n",
       "      <td>0.032286</td>\n",
       "      <td>-0.014714</td>\n",
       "    </tr>\n",
       "    <tr>\n",
       "      <th>3</th>\n",
       "      <td>2014-07-31</td>\n",
       "      <td>68.629997</td>\n",
       "      <td>68.849998</td>\n",
       "      <td>67.580002</td>\n",
       "      <td>67.639999</td>\n",
       "      <td>55.314388</td>\n",
       "      <td>3266900</td>\n",
       "      <td>D</td>\n",
       "      <td>3.2669</td>\n",
       "      <td>0.018505</td>\n",
       "      <td>-0.014425</td>\n",
       "    </tr>\n",
       "    <tr>\n",
       "      <th>4</th>\n",
       "      <td>2014-08-01</td>\n",
       "      <td>67.330002</td>\n",
       "      <td>68.410004</td>\n",
       "      <td>67.220001</td>\n",
       "      <td>67.589996</td>\n",
       "      <td>55.273487</td>\n",
       "      <td>2601800</td>\n",
       "      <td>D</td>\n",
       "      <td>2.6018</td>\n",
       "      <td>0.017674</td>\n",
       "      <td>0.003861</td>\n",
       "    </tr>\n",
       "  </tbody>\n",
       "</table>\n",
       "</div>"
      ],
      "text/plain": [
       "         Date       Open       High        Low      Close  Adj Close   Volume  \\\n",
       "0  2014-07-28  69.750000  71.059998  69.750000  70.879997  57.963978  1806400   \n",
       "1  2014-07-29  70.669998  70.980003  69.930000  69.930000  57.187099  2231100   \n",
       "2  2014-07-30  70.000000  70.660004  68.400002  68.970001  56.402020  2588900   \n",
       "3  2014-07-31  68.629997  68.849998  67.580002  67.639999  55.314388  3266900   \n",
       "4  2014-08-01  67.330002  68.410004  67.220001  67.589996  55.273487  2601800   \n",
       "\n",
       "  Symbol  Volume_Millions   VolStat    Return  \n",
       "0      D           1.8064  0.018781  0.016201  \n",
       "1      D           2.2311  0.014858 -0.010471  \n",
       "2      D           2.5889  0.032286 -0.014714  \n",
       "3      D           3.2669  0.018505 -0.014425  \n",
       "4      D           2.6018  0.017674  0.003861  "
      ]
     },
     "execution_count": 13,
     "metadata": {},
     "output_type": "execute_result"
    }
   ],
   "source": [
    "df.head()"
   ]
  },
  {
   "cell_type": "markdown",
   "metadata": {
    "id": "HiCi_50q46dS"
   },
   "source": [
    "<p>Now we have features relevant to the original question, and can proceed to the analysis step. A common first step in data analysis is to learn about the distribution of the available data. We will do this next.</p>"
   ]
  },
  {
   "cell_type": "markdown",
   "metadata": {
    "id": "X6kFoZqm46dT"
   },
   "source": [
    "<h2>Learning about the data distribution through summary statistics</h2>"
   ]
  },
  {
   "cell_type": "markdown",
   "metadata": {
    "collapsed": true,
    "id": "IjCLlGRd46dT",
    "jupyter": {
     "outputs_hidden": true
    }
   },
   "source": [
    "<p>Let's aggregate summary statistics for the five energy sector companies under study. Fortunately, the DataFrame and Series objects offer a myriad of data summary statistics methods:</p>\n",
    "<ol>\n",
    "<li><code>min()</code></li>\n",
    "<li><code>median()</code></li>\n",
    "<li><code>mean()</code></li>\n",
    "<li><code>max()</code></li>\n",
    "<li><code>quantile()</code></li>\n",
    "</ol>\n",
    "<p>Below, each method is used on the <code>Volume_Millions</code> column. Notice how simple the functions are to apply to the DataFrame. Simply type the name of the DataFrame, followed by a <code>.</code> and then the method name you'd like to calculate. We've chosen to select a single column <code>Volume_Millions</code> from the DataFrame <code>df</code>, but you could have just as easily called these methods on the full DataFrame rather than a single column:</p>"
   ]
  },
  {
   "cell_type": "code",
   "execution_count": 14,
   "metadata": {
    "colab": {
     "base_uri": "https://localhost:8080/"
    },
    "executionInfo": {
     "elapsed": 210,
     "status": "ok",
     "timestamp": 1716250708203,
     "user": {
      "displayName": "Christian Arias",
      "userId": "06594569667371018215"
     },
     "user_tz": 300
    },
    "id": "z_nUth2m46dU",
    "outputId": "74bf78e9-ef62-4173-af15-6ac576425e75"
   },
   "outputs": [
    {
     "data": {
      "text/plain": [
       "0.7384"
      ]
     },
     "execution_count": 14,
     "metadata": {},
     "output_type": "execute_result"
    }
   ],
   "source": [
    "# Calculate the minimum of the Volume_Millions column\n",
    "df[\"Volume_Millions\"].min()"
   ]
  },
  {
   "cell_type": "code",
   "execution_count": 15,
   "metadata": {
    "colab": {
     "base_uri": "https://localhost:8080/"
    },
    "executionInfo": {
     "elapsed": 241,
     "status": "ok",
     "timestamp": 1716250711045,
     "user": {
      "displayName": "Christian Arias",
      "userId": "06594569667371018215"
     },
     "user_tz": 300
    },
    "id": "9_aZEhOm46dU",
    "outputId": "9d4a9f27-9241-460e-aeed-c8869a3757e1"
   },
   "outputs": [
    {
     "data": {
      "text/plain": [
       "2.6957"
      ]
     },
     "execution_count": 15,
     "metadata": {},
     "output_type": "execute_result"
    }
   ],
   "source": [
    "# Calculate the median of the Volume_Millions column\n",
    "df[\"Volume_Millions\"].median()"
   ]
  },
  {
   "cell_type": "code",
   "execution_count": 16,
   "metadata": {
    "colab": {
     "base_uri": "https://localhost:8080/"
    },
    "executionInfo": {
     "elapsed": 230,
     "status": "ok",
     "timestamp": 1716250720404,
     "user": {
      "displayName": "Christian Arias",
      "userId": "06594569667371018215"
     },
     "user_tz": 300
    },
    "id": "ZfvtxfAx46dV",
    "outputId": "93bb7e02-b330-45e2-b5f3-d672bc8d4867"
   },
   "outputs": [
    {
     "data": {
      "text/plain": [
       "3.0881293089753776"
      ]
     },
     "execution_count": 16,
     "metadata": {},
     "output_type": "execute_result"
    }
   ],
   "source": [
    "# Calculate the average of the Volume_Millions column\n",
    "df[\"Volume_Millions\"].mean()"
   ]
  },
  {
   "cell_type": "code",
   "execution_count": 17,
   "metadata": {
    "colab": {
     "base_uri": "https://localhost:8080/"
    },
    "executionInfo": {
     "elapsed": 229,
     "status": "ok",
     "timestamp": 1716250722731,
     "user": {
      "displayName": "Christian Arias",
      "userId": "06594569667371018215"
     },
     "user_tz": 300
    },
    "id": "wLBJpZLu46dV",
    "outputId": "c91c563b-0c62-4618-e31e-495ad636c7d4"
   },
   "outputs": [
    {
     "data": {
      "text/plain": [
       "14.5874"
      ]
     },
     "execution_count": 17,
     "metadata": {},
     "output_type": "execute_result"
    }
   ],
   "source": [
    "# Calculate the maximum of the Volume_Millions column\n",
    "df[\"Volume_Millions\"].max()"
   ]
  },
  {
   "cell_type": "markdown",
   "metadata": {
    "id": "nWdkqqdK46dV"
   },
   "source": [
    "<p>We'd also like to explore the data distribution at a more granular level to see how the distribution looks beyond the simple summary statistics presented above. For this, we can use the <code>quantile()</code> method. The <code>quantile()</code> method will return the value which represents the given percentile of all the data under study (in this case, of the <code>Volume_Millions</code> data):</p>"
   ]
  },
  {
   "cell_type": "code",
   "execution_count": 18,
   "metadata": {
    "colab": {
     "base_uri": "https://localhost:8080/"
    },
    "executionInfo": {
     "elapsed": 223,
     "status": "ok",
     "timestamp": 1716250953018,
     "user": {
      "displayName": "Christian Arias",
      "userId": "06594569667371018215"
     },
     "user_tz": 300
    },
    "id": "kumtbWIl46dW",
    "outputId": "f0bf3120-3b1d-491f-c434-5b437a203e57"
   },
   "outputs": [
    {
     "data": {
      "text/plain": [
       "2.0888"
      ]
     },
     "execution_count": 18,
     "metadata": {},
     "output_type": "execute_result"
    }
   ],
   "source": [
    "# Calculate the 25th percentile\n",
    "df['Volume_Millions'].quantile(0.25)"
   ]
  },
  {
   "cell_type": "code",
   "execution_count": 19,
   "metadata": {
    "colab": {
     "base_uri": "https://localhost:8080/"
    },
    "executionInfo": {
     "elapsed": 217,
     "status": "ok",
     "timestamp": 1716250954575,
     "user": {
      "displayName": "Christian Arias",
      "userId": "06594569667371018215"
     },
     "user_tz": 300
    },
    "id": "kEMVhDMX46dW",
    "outputId": "54257dcf-5611-46ec-80bb-171480f58768"
   },
   "outputs": [
    {
     "data": {
      "text/plain": [
       "3.61285"
      ]
     },
     "execution_count": 19,
     "metadata": {},
     "output_type": "execute_result"
    }
   ],
   "source": [
    "# Calculate the 75th percentile\n",
    "df['Volume_Millions'].quantile(0.75)"
   ]
  },
  {
   "cell_type": "markdown",
   "metadata": {
    "id": "xRms2Rsy46dW"
   },
   "source": [
    "<p>Is there a more efficient method to quickly compute all of these summary statistics? Yes. One incredibly useful method that combines these summary statistics and also adds a couple others is the <a href=\"https://pandas.pydata.org/pandas-docs/stable/reference/api/pandas.DataFrame.describe.html\">describe()</a> method:</p>"
   ]
  },
  {
   "cell_type": "code",
   "execution_count": 20,
   "metadata": {
    "colab": {
     "base_uri": "https://localhost:8080/"
    },
    "executionInfo": {
     "elapsed": 206,
     "status": "ok",
     "timestamp": 1716250968051,
     "user": {
      "displayName": "Christian Arias",
      "userId": "06594569667371018215"
     },
     "user_tz": 300
    },
    "id": "SaohymUY46dX",
    "outputId": "4167ed1b-a2d8-4527-d888-b9d05280a51e"
   },
   "outputs": [
    {
     "data": {
      "text/plain": [
       "count    1259.000000\n",
       "mean        3.088129\n",
       "std         1.548809\n",
       "min         0.738400\n",
       "25%         2.088800\n",
       "50%         2.695700\n",
       "75%         3.612850\n",
       "max        14.587400\n",
       "Name: Volume_Millions, dtype: float64"
      ]
     },
     "execution_count": 20,
     "metadata": {},
     "output_type": "execute_result"
    }
   ],
   "source": [
    "df['Volume_Millions'].describe()"
   ]
  },
  {
   "cell_type": "markdown",
   "metadata": {
    "id": "f2FA5MET46dX"
   },
   "source": [
    "<p>From this distribution analysis of the daily trading volume, we can see that more than 14 million shares would be a very large trading day, whereas below 2 million shares would be a relatively small trading day.</p>"
   ]
  },
  {
   "cell_type": "markdown",
   "metadata": {
    "id": "PRvTOHhU46dX"
   },
   "source": [
    "<p>In addition to describe, there is a <a href=\"https://pandas.pydata.org/pandas-docs/stable/reference/api/pandas.Series.value_counts.html\">value_counts() method</a> for checking the frequency of elements in categorical data. Please be aware that <code>value_counts()</code> is a method of the Series class and NOT the DataFrame class. This means you have to isolate a specific column of a DataFrame before calling <code>value_counts()</code>:</p>"
   ]
  },
  {
   "cell_type": "code",
   "execution_count": 21,
   "metadata": {
    "colab": {
     "base_uri": "https://localhost:8080/",
     "height": 300
    },
    "executionInfo": {
     "elapsed": 193,
     "status": "ok",
     "timestamp": 1716250976569,
     "user": {
      "displayName": "Christian Arias",
      "userId": "06594569667371018215"
     },
     "user_tz": 300
    },
    "id": "471y7-8b46dY",
    "outputId": "6a934aca-072b-42b2-970e-fb424ef7ece5"
   },
   "outputs": [
    {
     "data": {
      "text/html": [
       "<div>\n",
       "<style scoped>\n",
       "    .dataframe tbody tr th:only-of-type {\n",
       "        vertical-align: middle;\n",
       "    }\n",
       "\n",
       "    .dataframe tbody tr th {\n",
       "        vertical-align: top;\n",
       "    }\n",
       "\n",
       "    .dataframe thead th {\n",
       "        text-align: right;\n",
       "    }\n",
       "</style>\n",
       "<table border=\"1\" class=\"dataframe\">\n",
       "  <thead>\n",
       "    <tr style=\"text-align: right;\">\n",
       "      <th></th>\n",
       "      <th>numbers</th>\n",
       "      <th>color</th>\n",
       "    </tr>\n",
       "  </thead>\n",
       "  <tbody>\n",
       "    <tr>\n",
       "      <th>0</th>\n",
       "      <td>3</td>\n",
       "      <td>red</td>\n",
       "    </tr>\n",
       "    <tr>\n",
       "      <th>1</th>\n",
       "      <td>2</td>\n",
       "      <td>red</td>\n",
       "    </tr>\n",
       "    <tr>\n",
       "      <th>2</th>\n",
       "      <td>3</td>\n",
       "      <td>red</td>\n",
       "    </tr>\n",
       "    <tr>\n",
       "      <th>3</th>\n",
       "      <td>4</td>\n",
       "      <td>blue</td>\n",
       "    </tr>\n",
       "    <tr>\n",
       "      <th>4</th>\n",
       "      <td>5</td>\n",
       "      <td>blue</td>\n",
       "    </tr>\n",
       "    <tr>\n",
       "      <th>5</th>\n",
       "      <td>6</td>\n",
       "      <td>green</td>\n",
       "    </tr>\n",
       "    <tr>\n",
       "      <th>6</th>\n",
       "      <td>7</td>\n",
       "      <td>blue</td>\n",
       "    </tr>\n",
       "    <tr>\n",
       "      <th>7</th>\n",
       "      <td>8</td>\n",
       "      <td>green</td>\n",
       "    </tr>\n",
       "  </tbody>\n",
       "</table>\n",
       "</div>"
      ],
      "text/plain": [
       "   numbers  color\n",
       "0        3    red\n",
       "1        2    red\n",
       "2        3    red\n",
       "3        4   blue\n",
       "4        5   blue\n",
       "5        6  green\n",
       "6        7   blue\n",
       "7        8  green"
      ]
     },
     "execution_count": 21,
     "metadata": {},
     "output_type": "execute_result"
    }
   ],
   "source": [
    "dict_data = {\n",
    "    \"numbers\": [3, 2, 3, 4, 5, 6, 7, 8],\n",
    "    \"color\": [\"red\", \"red\", \"red\", \"blue\", \"blue\", \"green\", \"blue\", \"green\"],\n",
    "}\n",
    "category_df = pd.DataFrame(data=dict_data)\n",
    "\n",
    "category_df"
   ]
  },
  {
   "cell_type": "code",
   "execution_count": 22,
   "metadata": {
    "colab": {
     "base_uri": "https://localhost:8080/"
    },
    "executionInfo": {
     "elapsed": 193,
     "status": "ok",
     "timestamp": 1716250984343,
     "user": {
      "displayName": "Christian Arias",
      "userId": "06594569667371018215"
     },
     "user_tz": 300
    },
    "id": "CO_GunU346dY",
    "outputId": "08b54088-97cc-4249-8117-2fa780c5c8a5"
   },
   "outputs": [
    {
     "data": {
      "text/plain": [
       "numbers  color\n",
       "3        red      2\n",
       "2        red      1\n",
       "4        blue     1\n",
       "5        blue     1\n",
       "6        green    1\n",
       "7        blue     1\n",
       "8        green    1\n",
       "Name: count, dtype: int64"
      ]
     },
     "execution_count": 22,
     "metadata": {},
     "output_type": "execute_result"
    }
   ],
   "source": [
    "#why doesn't this work? (uncomment the expression that follows)\n",
    "category_df.value_counts()"
   ]
  },
  {
   "cell_type": "code",
   "execution_count": 23,
   "metadata": {
    "colab": {
     "base_uri": "https://localhost:8080/"
    },
    "executionInfo": {
     "elapsed": 314,
     "status": "ok",
     "timestamp": 1677270593138,
     "user": {
      "displayName": "Christian Arias",
      "userId": "06594569667371018215"
     },
     "user_tz": 300
    },
    "id": "RwC5UjeL46dY",
    "outputId": "118b58e2-4c6c-4d56-dced-a5862da2add7"
   },
   "outputs": [
    {
     "data": {
      "text/plain": [
       "color\n",
       "red      3\n",
       "blue     3\n",
       "green    2\n",
       "Name: count, dtype: int64"
      ]
     },
     "execution_count": 23,
     "metadata": {},
     "output_type": "execute_result"
    }
   ],
   "source": [
    "# only Series objects can call this method (uncomment the following expression)\n",
    "category_df['color'].value_counts()"
   ]
  },
  {
   "cell_type": "markdown",
   "metadata": {
    "id": "4GGxgP1W46dZ"
   },
   "source": [
    "<h3>Exercise 1:</h3>\n",
    "<p>Determine the 25th, 50th, and 75th percentile for the <code>Open</code>, <code>High</code>, <code>Low</code>, and <code>Close</code> columns of <code>df</code>.</p>"
   ]
  },
  {
   "cell_type": "markdown",
   "metadata": {
    "id": "RhtKAbi646dZ",
    "tags": [
     "ans_st"
    ]
   },
   "source": [
    "**Answer.**"
   ]
  },
  {
   "cell_type": "code",
   "execution_count": 24,
   "metadata": {
    "id": "hGMxMF4fIGRm"
   },
   "outputs": [
    {
     "data": {
      "text/html": [
       "<div>\n",
       "<style scoped>\n",
       "    .dataframe tbody tr th:only-of-type {\n",
       "        vertical-align: middle;\n",
       "    }\n",
       "\n",
       "    .dataframe tbody tr th {\n",
       "        vertical-align: top;\n",
       "    }\n",
       "\n",
       "    .dataframe thead th {\n",
       "        text-align: right;\n",
       "    }\n",
       "</style>\n",
       "<table border=\"1\" class=\"dataframe\">\n",
       "  <thead>\n",
       "    <tr style=\"text-align: right;\">\n",
       "      <th></th>\n",
       "      <th>Open</th>\n",
       "      <th>High</th>\n",
       "      <th>Low</th>\n",
       "      <th>Close</th>\n",
       "    </tr>\n",
       "  </thead>\n",
       "  <tbody>\n",
       "    <tr>\n",
       "      <th>count</th>\n",
       "      <td>1259.000000</td>\n",
       "      <td>1259.000000</td>\n",
       "      <td>1259.000000</td>\n",
       "      <td>1259.000000</td>\n",
       "    </tr>\n",
       "    <tr>\n",
       "      <th>mean</th>\n",
       "      <td>73.253765</td>\n",
       "      <td>73.780842</td>\n",
       "      <td>72.697911</td>\n",
       "      <td>73.274940</td>\n",
       "    </tr>\n",
       "    <tr>\n",
       "      <th>std</th>\n",
       "      <td>4.187696</td>\n",
       "      <td>4.162946</td>\n",
       "      <td>4.177581</td>\n",
       "      <td>4.182135</td>\n",
       "    </tr>\n",
       "    <tr>\n",
       "      <th>min</th>\n",
       "      <td>61.790001</td>\n",
       "      <td>62.840000</td>\n",
       "      <td>61.529999</td>\n",
       "      <td>61.750000</td>\n",
       "    </tr>\n",
       "    <tr>\n",
       "      <th>25%</th>\n",
       "      <td>70.220001</td>\n",
       "      <td>70.829998</td>\n",
       "      <td>69.685001</td>\n",
       "      <td>70.239998</td>\n",
       "    </tr>\n",
       "    <tr>\n",
       "      <th>50%</th>\n",
       "      <td>73.180000</td>\n",
       "      <td>73.690002</td>\n",
       "      <td>72.550003</td>\n",
       "      <td>73.150002</td>\n",
       "    </tr>\n",
       "    <tr>\n",
       "      <th>75%</th>\n",
       "      <td>76.560001</td>\n",
       "      <td>76.954998</td>\n",
       "      <td>75.959999</td>\n",
       "      <td>76.510002</td>\n",
       "    </tr>\n",
       "    <tr>\n",
       "      <th>max</th>\n",
       "      <td>85.110001</td>\n",
       "      <td>85.300003</td>\n",
       "      <td>83.900002</td>\n",
       "      <td>84.910004</td>\n",
       "    </tr>\n",
       "  </tbody>\n",
       "</table>\n",
       "</div>"
      ],
      "text/plain": [
       "              Open         High          Low        Close\n",
       "count  1259.000000  1259.000000  1259.000000  1259.000000\n",
       "mean     73.253765    73.780842    72.697911    73.274940\n",
       "std       4.187696     4.162946     4.177581     4.182135\n",
       "min      61.790001    62.840000    61.529999    61.750000\n",
       "25%      70.220001    70.829998    69.685001    70.239998\n",
       "50%      73.180000    73.690002    72.550003    73.150002\n",
       "75%      76.560001    76.954998    75.959999    76.510002\n",
       "max      85.110001    85.300003    83.900002    84.910004"
      ]
     },
     "execution_count": 24,
     "metadata": {},
     "output_type": "execute_result"
    }
   ],
   "source": [
    "df[[\"Open\", \"High\", \"Low\", \"Close\"]].describe()"
   ]
  },
  {
   "cell_type": "code",
   "execution_count": 25,
   "metadata": {},
   "outputs": [
    {
     "data": {
      "text/html": [
       "<div>\n",
       "<style scoped>\n",
       "    .dataframe tbody tr th:only-of-type {\n",
       "        vertical-align: middle;\n",
       "    }\n",
       "\n",
       "    .dataframe tbody tr th {\n",
       "        vertical-align: top;\n",
       "    }\n",
       "\n",
       "    .dataframe thead th {\n",
       "        text-align: right;\n",
       "    }\n",
       "</style>\n",
       "<table border=\"1\" class=\"dataframe\">\n",
       "  <thead>\n",
       "    <tr style=\"text-align: right;\">\n",
       "      <th></th>\n",
       "      <th>Open</th>\n",
       "      <th>High</th>\n",
       "      <th>Low</th>\n",
       "      <th>Close</th>\n",
       "    </tr>\n",
       "  </thead>\n",
       "  <tbody>\n",
       "    <tr>\n",
       "      <th>25%</th>\n",
       "      <td>70.220001</td>\n",
       "      <td>70.829998</td>\n",
       "      <td>69.685001</td>\n",
       "      <td>70.239998</td>\n",
       "    </tr>\n",
       "    <tr>\n",
       "      <th>50%</th>\n",
       "      <td>73.180000</td>\n",
       "      <td>73.690002</td>\n",
       "      <td>72.550003</td>\n",
       "      <td>73.150002</td>\n",
       "    </tr>\n",
       "    <tr>\n",
       "      <th>75%</th>\n",
       "      <td>76.560001</td>\n",
       "      <td>76.954998</td>\n",
       "      <td>75.959999</td>\n",
       "      <td>76.510002</td>\n",
       "    </tr>\n",
       "  </tbody>\n",
       "</table>\n",
       "</div>"
      ],
      "text/plain": [
       "          Open       High        Low      Close\n",
       "25%  70.220001  70.829998  69.685001  70.239998\n",
       "50%  73.180000  73.690002  72.550003  73.150002\n",
       "75%  76.560001  76.954998  75.959999  76.510002"
      ]
     },
     "execution_count": 25,
     "metadata": {},
     "output_type": "execute_result"
    }
   ],
   "source": [
    "stats = df[[\"Open\",\"High\",\"Low\",\"Close\"]].describe()\n",
    "percentiles = stats.loc[[\"25%\",\"50%\",\"75%\"], [\"Open\",\"High\",\"Low\",\"Close\"]]\n",
    "percentiles"
   ]
  },
  {
   "cell_type": "code",
   "execution_count": 26,
   "metadata": {},
   "outputs": [
    {
     "data": {
      "text/html": [
       "<div>\n",
       "<style scoped>\n",
       "    .dataframe tbody tr th:only-of-type {\n",
       "        vertical-align: middle;\n",
       "    }\n",
       "\n",
       "    .dataframe tbody tr th {\n",
       "        vertical-align: top;\n",
       "    }\n",
       "\n",
       "    .dataframe thead th {\n",
       "        text-align: right;\n",
       "    }\n",
       "</style>\n",
       "<table border=\"1\" class=\"dataframe\">\n",
       "  <thead>\n",
       "    <tr style=\"text-align: right;\">\n",
       "      <th></th>\n",
       "      <th>Open</th>\n",
       "      <th>High</th>\n",
       "      <th>Low</th>\n",
       "      <th>Close</th>\n",
       "    </tr>\n",
       "  </thead>\n",
       "  <tbody>\n",
       "    <tr>\n",
       "      <th>25%</th>\n",
       "      <td>70.220001</td>\n",
       "      <td>70.829998</td>\n",
       "      <td>69.685001</td>\n",
       "      <td>70.239998</td>\n",
       "    </tr>\n",
       "    <tr>\n",
       "      <th>50%</th>\n",
       "      <td>73.180000</td>\n",
       "      <td>73.690002</td>\n",
       "      <td>72.550003</td>\n",
       "      <td>73.150002</td>\n",
       "    </tr>\n",
       "    <tr>\n",
       "      <th>75%</th>\n",
       "      <td>76.560001</td>\n",
       "      <td>76.954998</td>\n",
       "      <td>75.959999</td>\n",
       "      <td>76.510002</td>\n",
       "    </tr>\n",
       "  </tbody>\n",
       "</table>\n",
       "</div>"
      ],
      "text/plain": [
       "          Open       High        Low      Close\n",
       "25%  70.220001  70.829998  69.685001  70.239998\n",
       "50%  73.180000  73.690002  72.550003  73.150002\n",
       "75%  76.560001  76.954998  75.959999  76.510002"
      ]
     },
     "execution_count": 26,
     "metadata": {},
     "output_type": "execute_result"
    }
   ],
   "source": [
    "stats2 = df.describe(percentiles=[.25, .5, .75])\n",
    "percentiles2 = stats2.loc[[\"25%\",\"50%\",\"75%\"], [\"Open\",\"High\",\"Low\",\"Close\"]]\n",
    "percentiles2"
   ]
  },
  {
   "cell_type": "markdown",
   "metadata": {},
   "source": [
    "The statistical summary reveals the **25 % (Q1), 50 % (median) and 75 % (Q3) quartiles** for the four price columns—**Open, High, Low,** and **Close**.  \n",
    "- **Q1 (~70 USD)** shows that one‑quarter of the observations fall below this level.  \n",
    "- **Q3 (~76 USD)** marks the point below which 75 % of the data lie.  \n",
    "- The **median (~73 USD)** represents the midpoint of the distribution."
   ]
  },
  {
   "cell_type": "markdown",
   "metadata": {
    "id": "UWXKwL4g46da"
   },
   "source": [
    "-------"
   ]
  },
  {
   "cell_type": "markdown",
   "metadata": {
    "id": "gA1RvCE346da"
   },
   "source": [
    "<h2>Aggregating data from multiple companies</h2>"
   ]
  },
  {
   "cell_type": "markdown",
   "metadata": {
    "collapsed": true,
    "id": "Et3mqLgO46db",
    "jupyter": {
     "outputs_hidden": true
    }
   },
   "source": [
    "<p>So far, we've only been looking at data from one of our five companies. Let's go ahead and combine all five CSV files to analyze the five companies together. This will also reduce the amount of programming work required since the code will be shared across the five companies.</p>\n",
    "<p>One way to accomplish this aggregation task is to use the <a href=\"https://pandas.pydata.org/pandas-docs/stable/reference/api/pandas.concat.html\">pd.concat()</a> method from <code>pandas</code>. An input into this method may be a list of DataFrames that you'd like to concatenate. We will use a <code>for</code> loop to loop over each stock symbol, load the corresponding CSV file, and then append the result to a list which is later aggregated using <code>pd.concat()</code>. Let's take a look at how this is done.</p>"
   ]
  },
  {
   "cell_type": "code",
   "execution_count": null,
   "metadata": {
    "colab": {
     "base_uri": "https://localhost:8080/",
     "height": 449
    },
    "executionInfo": {
     "elapsed": 1701,
     "status": "ok",
     "timestamp": 1677273713329,
     "user": {
      "displayName": "Christian Arias",
      "userId": "06594569667371018215"
     },
     "user_tz": 300
    },
    "id": "ECEPIEMK46db",
    "outputId": "26b72fd5-faff-4cec-a99d-862b4ceab154"
   },
   "outputs": [
    {
     "name": "stdout",
     "output_type": "stream",
     "text": [
      "Defining stock symbols\n",
      " --- Start loop over symbols --- \n",
      "Processing Symbol: D\n",
      "Processing Symbol: EXC\n",
      "Processing Symbol: NEE\n",
      "Processing Symbol: SO\n",
      "Processing Symbol: DUK\n",
      " --- Complete loop over symbols --- \n",
      "\n",
      "Aggregating Data\n",
      "Calculating Salient Features\n",
      "agg_df DataFrame shape (rows, columns): \n",
      "(6295, 11)\n",
      "Head of agg_df DataFrame: \n"
     ]
    },
    {
     "data": {
      "text/html": [
       "\n",
       "  <div id=\"df-83f14144-6f35-41a1-a6f2-629c48bc3637\">\n",
       "    <div class=\"colab-df-container\">\n",
       "      <div>\n",
       "<style scoped>\n",
       "    .dataframe tbody tr th:only-of-type {\n",
       "        vertical-align: middle;\n",
       "    }\n",
       "\n",
       "    .dataframe tbody tr th {\n",
       "        vertical-align: top;\n",
       "    }\n",
       "\n",
       "    .dataframe thead th {\n",
       "        text-align: right;\n",
       "    }\n",
       "</style>\n",
       "<table border=\"1\" class=\"dataframe\">\n",
       "  <thead>\n",
       "    <tr style=\"text-align: right;\">\n",
       "      <th></th>\n",
       "      <th>Date</th>\n",
       "      <th>Open</th>\n",
       "      <th>High</th>\n",
       "      <th>Low</th>\n",
       "      <th>Close</th>\n",
       "      <th>Adj Close</th>\n",
       "      <th>Volume</th>\n",
       "      <th>Volume_Millions</th>\n",
       "      <th>Symbol</th>\n",
       "      <th>VolStat</th>\n",
       "      <th>Return</th>\n",
       "    </tr>\n",
       "  </thead>\n",
       "  <tbody>\n",
       "    <tr>\n",
       "      <th>0</th>\n",
       "      <td>2014-07-28</td>\n",
       "      <td>69.750000</td>\n",
       "      <td>71.059998</td>\n",
       "      <td>69.750000</td>\n",
       "      <td>70.879997</td>\n",
       "      <td>57.963978</td>\n",
       "      <td>1806400</td>\n",
       "      <td>1.8064</td>\n",
       "      <td>D</td>\n",
       "      <td>0.018781</td>\n",
       "      <td>0.016201</td>\n",
       "    </tr>\n",
       "    <tr>\n",
       "      <th>1</th>\n",
       "      <td>2014-07-29</td>\n",
       "      <td>70.669998</td>\n",
       "      <td>70.980003</td>\n",
       "      <td>69.930000</td>\n",
       "      <td>69.930000</td>\n",
       "      <td>57.187099</td>\n",
       "      <td>2231100</td>\n",
       "      <td>2.2311</td>\n",
       "      <td>D</td>\n",
       "      <td>0.014858</td>\n",
       "      <td>-0.010471</td>\n",
       "    </tr>\n",
       "    <tr>\n",
       "      <th>2</th>\n",
       "      <td>2014-07-30</td>\n",
       "      <td>70.000000</td>\n",
       "      <td>70.660004</td>\n",
       "      <td>68.400002</td>\n",
       "      <td>68.970001</td>\n",
       "      <td>56.402020</td>\n",
       "      <td>2588900</td>\n",
       "      <td>2.5889</td>\n",
       "      <td>D</td>\n",
       "      <td>0.032286</td>\n",
       "      <td>-0.014714</td>\n",
       "    </tr>\n",
       "    <tr>\n",
       "      <th>3</th>\n",
       "      <td>2014-07-31</td>\n",
       "      <td>68.629997</td>\n",
       "      <td>68.849998</td>\n",
       "      <td>67.580002</td>\n",
       "      <td>67.639999</td>\n",
       "      <td>55.314388</td>\n",
       "      <td>3266900</td>\n",
       "      <td>3.2669</td>\n",
       "      <td>D</td>\n",
       "      <td>0.018505</td>\n",
       "      <td>-0.014425</td>\n",
       "    </tr>\n",
       "    <tr>\n",
       "      <th>4</th>\n",
       "      <td>2014-08-01</td>\n",
       "      <td>67.330002</td>\n",
       "      <td>68.410004</td>\n",
       "      <td>67.220001</td>\n",
       "      <td>67.589996</td>\n",
       "      <td>55.273487</td>\n",
       "      <td>2601800</td>\n",
       "      <td>2.6018</td>\n",
       "      <td>D</td>\n",
       "      <td>0.017674</td>\n",
       "      <td>0.003861</td>\n",
       "    </tr>\n",
       "  </tbody>\n",
       "</table>\n",
       "</div>\n",
       "      <button class=\"colab-df-convert\" onclick=\"convertToInteractive('df-83f14144-6f35-41a1-a6f2-629c48bc3637')\"\n",
       "              title=\"Convert this dataframe to an interactive table.\"\n",
       "              style=\"display:none;\">\n",
       "        \n",
       "  <svg xmlns=\"http://www.w3.org/2000/svg\" height=\"24px\"viewBox=\"0 0 24 24\"\n",
       "       width=\"24px\">\n",
       "    <path d=\"M0 0h24v24H0V0z\" fill=\"none\"/>\n",
       "    <path d=\"M18.56 5.44l.94 2.06.94-2.06 2.06-.94-2.06-.94-.94-2.06-.94 2.06-2.06.94zm-11 1L8.5 8.5l.94-2.06 2.06-.94-2.06-.94L8.5 2.5l-.94 2.06-2.06.94zm10 10l.94 2.06.94-2.06 2.06-.94-2.06-.94-.94-2.06-.94 2.06-2.06.94z\"/><path d=\"M17.41 7.96l-1.37-1.37c-.4-.4-.92-.59-1.43-.59-.52 0-1.04.2-1.43.59L10.3 9.45l-7.72 7.72c-.78.78-.78 2.05 0 2.83L4 21.41c.39.39.9.59 1.41.59.51 0 1.02-.2 1.41-.59l7.78-7.78 2.81-2.81c.8-.78.8-2.07 0-2.86zM5.41 20L4 18.59l7.72-7.72 1.47 1.35L5.41 20z\"/>\n",
       "  </svg>\n",
       "      </button>\n",
       "      \n",
       "  <style>\n",
       "    .colab-df-container {\n",
       "      display:flex;\n",
       "      flex-wrap:wrap;\n",
       "      gap: 12px;\n",
       "    }\n",
       "\n",
       "    .colab-df-convert {\n",
       "      background-color: #E8F0FE;\n",
       "      border: none;\n",
       "      border-radius: 50%;\n",
       "      cursor: pointer;\n",
       "      display: none;\n",
       "      fill: #1967D2;\n",
       "      height: 32px;\n",
       "      padding: 0 0 0 0;\n",
       "      width: 32px;\n",
       "    }\n",
       "\n",
       "    .colab-df-convert:hover {\n",
       "      background-color: #E2EBFA;\n",
       "      box-shadow: 0px 1px 2px rgba(60, 64, 67, 0.3), 0px 1px 3px 1px rgba(60, 64, 67, 0.15);\n",
       "      fill: #174EA6;\n",
       "    }\n",
       "\n",
       "    [theme=dark] .colab-df-convert {\n",
       "      background-color: #3B4455;\n",
       "      fill: #D2E3FC;\n",
       "    }\n",
       "\n",
       "    [theme=dark] .colab-df-convert:hover {\n",
       "      background-color: #434B5C;\n",
       "      box-shadow: 0px 1px 3px 1px rgba(0, 0, 0, 0.15);\n",
       "      filter: drop-shadow(0px 1px 2px rgba(0, 0, 0, 0.3));\n",
       "      fill: #FFFFFF;\n",
       "    }\n",
       "  </style>\n",
       "\n",
       "      <script>\n",
       "        const buttonEl =\n",
       "          document.querySelector('#df-83f14144-6f35-41a1-a6f2-629c48bc3637 button.colab-df-convert');\n",
       "        buttonEl.style.display =\n",
       "          google.colab.kernel.accessAllowed ? 'block' : 'none';\n",
       "\n",
       "        async function convertToInteractive(key) {\n",
       "          const element = document.querySelector('#df-83f14144-6f35-41a1-a6f2-629c48bc3637');\n",
       "          const dataTable =\n",
       "            await google.colab.kernel.invokeFunction('convertToInteractive',\n",
       "                                                     [key], {});\n",
       "          if (!dataTable) return;\n",
       "\n",
       "          const docLinkHtml = 'Like what you see? Visit the ' +\n",
       "            '<a target=\"_blank\" href=https://colab.research.google.com/notebooks/data_table.ipynb>data table notebook</a>'\n",
       "            + ' to learn more about interactive tables.';\n",
       "          element.innerHTML = '';\n",
       "          dataTable['output_type'] = 'display_data';\n",
       "          await google.colab.output.renderOutput(dataTable, element);\n",
       "          const docLink = document.createElement('div');\n",
       "          docLink.innerHTML = docLinkHtml;\n",
       "          element.appendChild(docLink);\n",
       "        }\n",
       "      </script>\n",
       "    </div>\n",
       "  </div>\n",
       "  "
      ],
      "text/plain": [
       "         Date       Open       High        Low      Close  Adj Close   Volume  \\\n",
       "0  2014-07-28  69.750000  71.059998  69.750000  70.879997  57.963978  1806400   \n",
       "1  2014-07-29  70.669998  70.980003  69.930000  69.930000  57.187099  2231100   \n",
       "2  2014-07-30  70.000000  70.660004  68.400002  68.970001  56.402020  2588900   \n",
       "3  2014-07-31  68.629997  68.849998  67.580002  67.639999  55.314388  3266900   \n",
       "4  2014-08-01  67.330002  68.410004  67.220001  67.589996  55.273487  2601800   \n",
       "\n",
       "   Volume_Millions Symbol   VolStat    Return  \n",
       "0           1.8064      D  0.018781  0.016201  \n",
       "1           2.2311      D  0.014858 -0.010471  \n",
       "2           2.5889      D  0.032286 -0.014714  \n",
       "3           3.2669      D  0.018505 -0.014425  \n",
       "4           2.6018      D  0.017674  0.003861  "
      ]
     },
     "execution_count": 31,
     "metadata": {},
     "output_type": "execute_result"
    }
   ],
   "source": [
    "# For google Colab and drive connection\n",
    "\n",
    "# Load five  files into one dataframe\n",
    "print(\"Defining stock symbols\")\n",
    "symbol_data_to_load = [\"D\", \"EXC\", \"NEE\", \"SO\", \"DUK\"]\n",
    "list_of_df = []\n",
    "\n",
    "# Loop over all symbols\n",
    "print(\" --- Start loop over symbols --- \")\n",
    "for symbol in symbol_data_to_load:\n",
    "    print(\"Processing Symbol: \" + symbol)\n",
    "    temp_df = pd.read_csv(\"drive/MyDrive/Colab Notebooks/case_1.2_var2_student/data/\" + symbol + \".csv\")\n",
    "    temp_df[\"Volume_Millions\"] = temp_df[\"Volume\"] / 1000000.0\n",
    "\n",
    "    # Add new column with symbol name to distinguish in final dataframe\n",
    "    temp_df[\"Symbol\"] = symbol\n",
    "    list_of_df.append(temp_df)\n",
    "\n",
    "# used a line break at the end of this string for aesthetics\n",
    "print(\" --- Complete loop over symbols --- \\n\")\n",
    "\n",
    "# Combine into a single DataFrame by using concat\n",
    "print(\"Aggregating Data\")\n",
    "agg_df = pd.concat(list_of_df, axis=0)\n",
    "\n",
    "# Add salient statistics for this return and volatility analysis\n",
    "print(\"Calculating Salient Features\")\n",
    "agg_df[\"VolStat\"] = (agg_df[\"High\"] - agg_df[\"Low\"]) / agg_df[\"Open\"]\n",
    "agg_df[\"Return\"] = (agg_df[\"Close\"] / agg_df[\"Open\"]) - 1.0\n",
    "\n",
    "print(\"agg_df DataFrame shape (rows, columns): \")\n",
    "print(agg_df.shape)\n",
    "\n",
    "print(\"Head of agg_df DataFrame: \")\n",
    "agg_df.head()"
   ]
  },
  {
   "cell_type": "code",
   "execution_count": 27,
   "metadata": {},
   "outputs": [
    {
     "name": "stdout",
     "output_type": "stream",
     "text": [
      "Defining stock symbols\n",
      " --- Start loop over symbols --- \n",
      "Processing Symbol: D\n",
      "Processing Symbol: EXC\n",
      "Processing Symbol: NEE\n",
      "Processing Symbol: SO\n",
      "Processing Symbol: DUK\n",
      " --- Complete loop over symbols --- \n",
      "\n",
      "Aggregating Data\n",
      "Calculating Salient Features\n",
      "agg_df DataFrame shape (rows, columns): \n",
      "(6295, 11)\n",
      "Head of agg_df DataFrame: \n"
     ]
    },
    {
     "data": {
      "text/html": [
       "<div>\n",
       "<style scoped>\n",
       "    .dataframe tbody tr th:only-of-type {\n",
       "        vertical-align: middle;\n",
       "    }\n",
       "\n",
       "    .dataframe tbody tr th {\n",
       "        vertical-align: top;\n",
       "    }\n",
       "\n",
       "    .dataframe thead th {\n",
       "        text-align: right;\n",
       "    }\n",
       "</style>\n",
       "<table border=\"1\" class=\"dataframe\">\n",
       "  <thead>\n",
       "    <tr style=\"text-align: right;\">\n",
       "      <th></th>\n",
       "      <th>Date</th>\n",
       "      <th>Open</th>\n",
       "      <th>High</th>\n",
       "      <th>Low</th>\n",
       "      <th>Close</th>\n",
       "      <th>Adj Close</th>\n",
       "      <th>Volume</th>\n",
       "      <th>Volume_Millions</th>\n",
       "      <th>Symbol</th>\n",
       "      <th>VolStat</th>\n",
       "      <th>Return</th>\n",
       "    </tr>\n",
       "  </thead>\n",
       "  <tbody>\n",
       "    <tr>\n",
       "      <th>0</th>\n",
       "      <td>2014-07-28</td>\n",
       "      <td>69.750000</td>\n",
       "      <td>71.059998</td>\n",
       "      <td>69.750000</td>\n",
       "      <td>70.879997</td>\n",
       "      <td>57.963978</td>\n",
       "      <td>1806400</td>\n",
       "      <td>1.8064</td>\n",
       "      <td>D</td>\n",
       "      <td>0.018781</td>\n",
       "      <td>0.016201</td>\n",
       "    </tr>\n",
       "    <tr>\n",
       "      <th>1</th>\n",
       "      <td>2014-07-29</td>\n",
       "      <td>70.669998</td>\n",
       "      <td>70.980003</td>\n",
       "      <td>69.930000</td>\n",
       "      <td>69.930000</td>\n",
       "      <td>57.187099</td>\n",
       "      <td>2231100</td>\n",
       "      <td>2.2311</td>\n",
       "      <td>D</td>\n",
       "      <td>0.014858</td>\n",
       "      <td>-0.010471</td>\n",
       "    </tr>\n",
       "    <tr>\n",
       "      <th>2</th>\n",
       "      <td>2014-07-30</td>\n",
       "      <td>70.000000</td>\n",
       "      <td>70.660004</td>\n",
       "      <td>68.400002</td>\n",
       "      <td>68.970001</td>\n",
       "      <td>56.402020</td>\n",
       "      <td>2588900</td>\n",
       "      <td>2.5889</td>\n",
       "      <td>D</td>\n",
       "      <td>0.032286</td>\n",
       "      <td>-0.014714</td>\n",
       "    </tr>\n",
       "    <tr>\n",
       "      <th>3</th>\n",
       "      <td>2014-07-31</td>\n",
       "      <td>68.629997</td>\n",
       "      <td>68.849998</td>\n",
       "      <td>67.580002</td>\n",
       "      <td>67.639999</td>\n",
       "      <td>55.314388</td>\n",
       "      <td>3266900</td>\n",
       "      <td>3.2669</td>\n",
       "      <td>D</td>\n",
       "      <td>0.018505</td>\n",
       "      <td>-0.014425</td>\n",
       "    </tr>\n",
       "    <tr>\n",
       "      <th>4</th>\n",
       "      <td>2014-08-01</td>\n",
       "      <td>67.330002</td>\n",
       "      <td>68.410004</td>\n",
       "      <td>67.220001</td>\n",
       "      <td>67.589996</td>\n",
       "      <td>55.273487</td>\n",
       "      <td>2601800</td>\n",
       "      <td>2.6018</td>\n",
       "      <td>D</td>\n",
       "      <td>0.017674</td>\n",
       "      <td>0.003861</td>\n",
       "    </tr>\n",
       "  </tbody>\n",
       "</table>\n",
       "</div>"
      ],
      "text/plain": [
       "         Date       Open       High        Low      Close  Adj Close   Volume  \\\n",
       "0  2014-07-28  69.750000  71.059998  69.750000  70.879997  57.963978  1806400   \n",
       "1  2014-07-29  70.669998  70.980003  69.930000  69.930000  57.187099  2231100   \n",
       "2  2014-07-30  70.000000  70.660004  68.400002  68.970001  56.402020  2588900   \n",
       "3  2014-07-31  68.629997  68.849998  67.580002  67.639999  55.314388  3266900   \n",
       "4  2014-08-01  67.330002  68.410004  67.220001  67.589996  55.273487  2601800   \n",
       "\n",
       "   Volume_Millions Symbol   VolStat    Return  \n",
       "0           1.8064      D  0.018781  0.016201  \n",
       "1           2.2311      D  0.014858 -0.010471  \n",
       "2           2.5889      D  0.032286 -0.014714  \n",
       "3           3.2669      D  0.018505 -0.014425  \n",
       "4           2.6018      D  0.017674  0.003861  "
      ]
     },
     "execution_count": 27,
     "metadata": {},
     "output_type": "execute_result"
    }
   ],
   "source": [
    "# Load five  files into one dataframe\n",
    "print(\"Defining stock symbols\")\n",
    "symbol_data_to_load = [\"D\", \"EXC\", \"NEE\", \"SO\", \"DUK\"]\n",
    "list_of_df = []\n",
    "\n",
    "# Loop over all symbols\n",
    "print(\" --- Start loop over symbols --- \")\n",
    "for symbol in symbol_data_to_load:\n",
    "    print(\"Processing Symbol: \" + symbol)\n",
    "    # point to! -> datasets folder\n",
    "    temp_df = pd.read_csv(\"../datasets/\" + symbol + \".csv\")\n",
    "    temp_df[\"Volume_Millions\"] = temp_df[\"Volume\"] / 1000000.0\n",
    "\n",
    "    # Add new column with symbol name to distinguish in final dataframe\n",
    "    temp_df[\"Symbol\"] = symbol\n",
    "    list_of_df.append(temp_df)\n",
    "\n",
    "# used a line break at the end of this string for aesthetics\n",
    "print(\" --- Complete loop over symbols --- \\n\")\n",
    "\n",
    "# Combine into a single DataFrame by using concat\n",
    "print(\"Aggregating Data\")\n",
    "agg_df = pd.concat(list_of_df, axis=0)\n",
    "\n",
    "# Add salient statistics for this return and volatility analysis\n",
    "print(\"Calculating Salient Features\")\n",
    "agg_df[\"VolStat\"] = (agg_df[\"High\"] - agg_df[\"Low\"]) / agg_df[\"Open\"]\n",
    "agg_df[\"Return\"] = (agg_df[\"Close\"] / agg_df[\"Open\"]) - 1.0\n",
    "\n",
    "print(\"agg_df DataFrame shape (rows, columns): \")\n",
    "print(agg_df.shape)\n",
    "\n",
    "print(\"Head of agg_df DataFrame: \")\n",
    "agg_df.head()"
   ]
  },
  {
   "cell_type": "markdown",
   "metadata": {
    "id": "WCwge1Jd46dc"
   },
   "source": [
    "<p>After the <code>for</code> loop, we've aggregated and added the relevant features we identified in the previous section. We then printed the head of the aggregated DataFrame to have a peek at the format of the data, and we've also printed the shape of the DataFrame. This is to sanity check that our final DataFrame is roughly what we expect. Notice the aggregated DataFrame has the same number of columns as the original single stock (D) data, however the number of rows have increased five-fold. This makes sense, because each additional symbol contains 1259 data entries, so five symbols leads to a total of <code>1259*5 = 6295</code> rows. So, this passes our sanity check.</p>"
   ]
  },
  {
   "cell_type": "markdown",
   "metadata": {
    "id": "4oanteg-46dd"
   },
   "source": [
    "<p>Now, if we want to reverse this process and extract the data relevant to a single stock symbol from the aggregated DataFrame <code>agg_df</code>, we can do so using the <code>==</code> operator, which returns True when two objects contain the same value, and False otherwise:</p>"
   ]
  },
  {
   "cell_type": "code",
   "execution_count": 28,
   "metadata": {
    "colab": {
     "base_uri": "https://localhost:8080/",
     "height": 206
    },
    "executionInfo": {
     "elapsed": 254,
     "status": "ok",
     "timestamp": 1677274045603,
     "user": {
      "displayName": "Christian Arias",
      "userId": "06594569667371018215"
     },
     "user_tz": 300
    },
    "id": "KAjSYgh446dd",
    "outputId": "51541eec-2f37-4486-8312-3b74d1cf1e92"
   },
   "outputs": [
    {
     "data": {
      "text/html": [
       "<div>\n",
       "<style scoped>\n",
       "    .dataframe tbody tr th:only-of-type {\n",
       "        vertical-align: middle;\n",
       "    }\n",
       "\n",
       "    .dataframe tbody tr th {\n",
       "        vertical-align: top;\n",
       "    }\n",
       "\n",
       "    .dataframe thead th {\n",
       "        text-align: right;\n",
       "    }\n",
       "</style>\n",
       "<table border=\"1\" class=\"dataframe\">\n",
       "  <thead>\n",
       "    <tr style=\"text-align: right;\">\n",
       "      <th></th>\n",
       "      <th>Date</th>\n",
       "      <th>Open</th>\n",
       "      <th>High</th>\n",
       "      <th>Low</th>\n",
       "      <th>Close</th>\n",
       "      <th>Adj Close</th>\n",
       "      <th>Volume</th>\n",
       "      <th>Volume_Millions</th>\n",
       "      <th>Symbol</th>\n",
       "      <th>VolStat</th>\n",
       "      <th>Return</th>\n",
       "    </tr>\n",
       "  </thead>\n",
       "  <tbody>\n",
       "    <tr>\n",
       "      <th>0</th>\n",
       "      <td>2014-07-28</td>\n",
       "      <td>73.309998</td>\n",
       "      <td>74.480003</td>\n",
       "      <td>73.230003</td>\n",
       "      <td>74.389999</td>\n",
       "      <td>59.266285</td>\n",
       "      <td>3281100</td>\n",
       "      <td>3.2811</td>\n",
       "      <td>DUK</td>\n",
       "      <td>0.017051</td>\n",
       "      <td>0.014732</td>\n",
       "    </tr>\n",
       "    <tr>\n",
       "      <th>1</th>\n",
       "      <td>2014-07-29</td>\n",
       "      <td>74.400002</td>\n",
       "      <td>74.480003</td>\n",
       "      <td>73.760002</td>\n",
       "      <td>73.980003</td>\n",
       "      <td>58.939648</td>\n",
       "      <td>2236300</td>\n",
       "      <td>2.2363</td>\n",
       "      <td>DUK</td>\n",
       "      <td>0.009677</td>\n",
       "      <td>-0.005645</td>\n",
       "    </tr>\n",
       "    <tr>\n",
       "      <th>2</th>\n",
       "      <td>2014-07-30</td>\n",
       "      <td>74.029999</td>\n",
       "      <td>74.199997</td>\n",
       "      <td>72.580002</td>\n",
       "      <td>73.050003</td>\n",
       "      <td>58.198696</td>\n",
       "      <td>2782200</td>\n",
       "      <td>2.7822</td>\n",
       "      <td>DUK</td>\n",
       "      <td>0.021883</td>\n",
       "      <td>-0.013238</td>\n",
       "    </tr>\n",
       "    <tr>\n",
       "      <th>3</th>\n",
       "      <td>2014-07-31</td>\n",
       "      <td>72.610001</td>\n",
       "      <td>73.099998</td>\n",
       "      <td>72.059998</td>\n",
       "      <td>72.129997</td>\n",
       "      <td>57.465740</td>\n",
       "      <td>3249000</td>\n",
       "      <td>3.2490</td>\n",
       "      <td>DUK</td>\n",
       "      <td>0.014323</td>\n",
       "      <td>-0.006611</td>\n",
       "    </tr>\n",
       "    <tr>\n",
       "      <th>4</th>\n",
       "      <td>2014-08-01</td>\n",
       "      <td>72.239998</td>\n",
       "      <td>73.370003</td>\n",
       "      <td>72.150002</td>\n",
       "      <td>72.940002</td>\n",
       "      <td>58.111061</td>\n",
       "      <td>3960200</td>\n",
       "      <td>3.9602</td>\n",
       "      <td>DUK</td>\n",
       "      <td>0.016888</td>\n",
       "      <td>0.009690</td>\n",
       "    </tr>\n",
       "  </tbody>\n",
       "</table>\n",
       "</div>"
      ],
      "text/plain": [
       "         Date       Open       High        Low      Close  Adj Close   Volume  \\\n",
       "0  2014-07-28  73.309998  74.480003  73.230003  74.389999  59.266285  3281100   \n",
       "1  2014-07-29  74.400002  74.480003  73.760002  73.980003  58.939648  2236300   \n",
       "2  2014-07-30  74.029999  74.199997  72.580002  73.050003  58.198696  2782200   \n",
       "3  2014-07-31  72.610001  73.099998  72.059998  72.129997  57.465740  3249000   \n",
       "4  2014-08-01  72.239998  73.370003  72.150002  72.940002  58.111061  3960200   \n",
       "\n",
       "   Volume_Millions Symbol   VolStat    Return  \n",
       "0           3.2811    DUK  0.017051  0.014732  \n",
       "1           2.2363    DUK  0.009677 -0.005645  \n",
       "2           2.7822    DUK  0.021883 -0.013238  \n",
       "3           3.2490    DUK  0.014323 -0.006611  \n",
       "4           3.9602    DUK  0.016888  0.009690  "
      ]
     },
     "execution_count": 28,
     "metadata": {},
     "output_type": "execute_result"
    }
   ],
   "source": [
    "symbol_DUK_df = agg_df[agg_df[\"Symbol\"] == \"DUK\"]\n",
    "symbol_DUK_df.head()"
   ]
  },
  {
   "cell_type": "markdown",
   "metadata": {
    "id": "jGfnEMBK46de"
   },
   "source": [
    "<p>Looking at the code block above, we've filtered out the rows that correspond to each symbol. Namely,</p>\n",
    "<p><code>python\n",
    "agg_df['Symbol'] == 'DUK'</code>\n",
    "returns a boolean series of the same number of rows of <code>agg_df</code>, where each value is True or False depending on whether a specific row's <code>Symbol</code> value is equal to <code>'DUK'</code>.</p>\n",
    "<p>This row extraction technique will be useful to us later in this case when we perform analyses on each individual stock symbol.</p>"
   ]
  },
  {
   "cell_type": "markdown",
   "metadata": {
    "id": "8I7NLXhO46de"
   },
   "source": [
    "<h3>Exercise 2:</h3>\n",
    "<p>If we added the number of rows together from the five DataFrames, <code>D_df</code>,<code>NEE_df</code>,<code>EXC_df</code>,<code>SO_df</code>, and <code>DUK_df</code>, we'd arrive at the same number of rows as <code>agg_df</code>: 6295 rows. If we instead used the <code>!=</code> operator in the five lines where we filter out each symbol, how many rows would we have if we sum all the rows in the five new DataFrames?</p>\n",
    "<p>(a) 31475</p>\n",
    "<p>(b) 12590</p>\n",
    "<p>(c) 25180</p>\n",
    "<p>(d) 6295</p>"
   ]
  },
  {
   "cell_type": "markdown",
   "metadata": {
    "id": "88NaI9Qo46de",
    "tags": [
     "ans_st"
    ]
   },
   "source": [
    "**Answer.**"
   ]
  },
  {
   "cell_type": "code",
   "execution_count": 29,
   "metadata": {},
   "outputs": [
    {
     "name": "stdout",
     "output_type": "stream",
     "text": [
      "Filas por símbolo (usando !=):\n",
      "  excluyendo D: 5036 filas\n",
      "  excluyendo NEE: 5036 filas\n",
      "  excluyendo EXC: 5036 filas\n",
      "  excluyendo SO: 5036 filas\n",
      "  excluyendo DUK: 5036 filas\n",
      "\n",
      "Total filas (suma de los 5 DataFrames): 25180\n"
     ]
    }
   ],
   "source": [
    "# We'll user agg_df dataframe\n",
    "symbols = ['D', 'NEE', 'EXC', 'SO', 'DUK']\n",
    "\n",
    "# 3. Using \"!=\"we'll count how many rows are for each symbol\n",
    "counts = {\n",
    "    s: agg_df[agg_df['Symbol'] != s].shape[0]\n",
    "    for s in symbols\n",
    "}\n",
    "\n",
    "# sum all values\n",
    "total = sum(counts.values())\n",
    "\n",
    "# 5. show results\n",
    "print(\"Filas por símbolo (usando !=):\")\n",
    "for s, c in counts.items():\n",
    "    print(f\"  excluyendo {s}: {c} filas\")\n",
    "print(f\"\\nTotal filas (suma de los 5 DataFrames): {total}\")"
   ]
  },
  {
   "cell_type": "markdown",
   "metadata": {
    "id": "AWAh9pQs46de"
   },
   "source": [
    "-------"
   ]
  },
  {
   "cell_type": "markdown",
   "metadata": {
    "id": "AzulVAnw46df"
   },
   "source": [
    "<h3>Exercise 3:</h3>\n",
    "<p>Write code to write a <code>for</code> loop to loop through each of the five symbols, extract only the rows corresponding to each symbol, and calculate and print the average <code>VolStat</code> value for each of the five symbols.</p>"
   ]
  },
  {
   "cell_type": "markdown",
   "metadata": {
    "id": "fVQ_fMqt46df",
    "tags": [
     "ans_st"
    ]
   },
   "source": [
    "**Answer.**"
   ]
  },
  {
   "cell_type": "code",
   "execution_count": 30,
   "metadata": {},
   "outputs": [
    {
     "name": "stdout",
     "output_type": "stream",
     "text": [
      "Average VolStat for D Symbol:  0.014835992194363283\n",
      "Average VolStat for NEE Symbol:  0.014881084105602231\n",
      "Average VolStat for EXC Symbol:  0.01772171389355644\n",
      "Average VolStat for SO Symbol:  0.014064780560964827\n",
      "Average VolStat for DUK Symbol:  0.014534013252371452\n"
     ]
    }
   ],
   "source": [
    "for i in ['D', 'NEE', 'EXC', 'SO', 'DUK']:\n",
    "    print(f\"Average VolStat for {i} Symbol: \", agg_df[agg_df['Symbol'] == i]['VolStat'].mean())"
   ]
  },
  {
   "cell_type": "markdown",
   "metadata": {
    "id": "Ksi4FQyA46df"
   },
   "source": [
    "-------"
   ]
  },
  {
   "cell_type": "markdown",
   "metadata": {
    "id": "vZbX2oyE46dg"
   },
   "source": [
    "<h2>Analyzing each stock's volatility levels</h2>"
   ]
  },
  {
   "cell_type": "markdown",
   "metadata": {
    "collapsed": true,
    "id": "Vzikhnb246dg",
    "jupyter": {
     "outputs_hidden": true
    }
   },
   "source": [
    "<p><code>pandas</code> offers the ability to group related rows of DataFrames according to the values of other rows. This useful feature is accomplished using the <a href=\"https://pandas.pydata.org/pandas-docs/stable/reference/api/pandas.DataFrame.groupby.html\">groupby()</a> method.  Let's take a look and see how this can be used to group rows so that each group corresponds to a single stock symbol:</p>"
   ]
  },
  {
   "cell_type": "code",
   "execution_count": 31,
   "metadata": {
    "colab": {
     "base_uri": "https://localhost:8080/"
    },
    "executionInfo": {
     "elapsed": 307,
     "status": "ok",
     "timestamp": 1677275033591,
     "user": {
      "displayName": "Christian Arias",
      "userId": "06594569667371018215"
     },
     "user_tz": 300
    },
    "id": "VSYLhiXU46dg",
    "outputId": "85eb19d3-9a43-407d-ab8e-f8fbf33cef9f"
   },
   "outputs": [
    {
     "data": {
      "text/plain": [
       "<pandas.core.groupby.generic.DataFrameGroupBy object at 0x000001A81DE30FE0>"
      ]
     },
     "execution_count": 31,
     "metadata": {},
     "output_type": "execute_result"
    }
   ],
   "source": [
    "# Use the groupby() method, notice a DataFrameGroupBy object is returned\n",
    "agg_df.groupby('Symbol')"
   ]
  },
  {
   "cell_type": "markdown",
   "metadata": {
    "collapsed": true,
    "id": "0ZYRwTik46dg",
    "jupyter": {
     "outputs_hidden": true
    }
   },
   "source": [
    "<p>Here, the <code>DataFrameGroupBy</code> object can be most readily thought of as containing a DataFrame object for every group (in this case, a DataFrame object for each symbol). Specifically, each item of the object is a tuple, containing the group identifier (in this case the Symbol), and the corresponding rows of the DataFrame that have that Symbol).</p>\n",
    "<p>Fortunately, <code>pandas</code> allows you to iterate over the <code>groupby()</code> object to see what's inside:</p>"
   ]
  },
  {
   "cell_type": "code",
   "execution_count": 3,
   "metadata": {
    "colab": {
     "base_uri": "https://localhost:8080/"
    },
    "executionInfo": {
     "elapsed": 246,
     "status": "ok",
     "timestamp": 1677275049545,
     "user": {
      "displayName": "Christian Arias",
      "userId": "06594569667371018215"
     },
     "user_tz": 300
    },
    "id": "pnDsZayg46dh",
    "outputId": "39815163-4b75-411d-84b3-87b5deac5e4f"
   },
   "outputs": [
    {
     "ename": "NameError",
     "evalue": "name 'agg_df' is not defined",
     "output_type": "error",
     "traceback": [
      "\u001b[1;31m---------------------------------------------------------------------------\u001b[0m",
      "\u001b[1;31mNameError\u001b[0m                                 Traceback (most recent call last)",
      "Cell \u001b[1;32mIn[3], line 1\u001b[0m\n\u001b[1;32m----> 1\u001b[0m grp_obj \u001b[38;5;241m=\u001b[39m agg_df\u001b[38;5;241m.\u001b[39mgroupby(\u001b[38;5;124m\"\u001b[39m\u001b[38;5;124mSymbol\u001b[39m\u001b[38;5;124m\"\u001b[39m)  \u001b[38;5;66;03m# Group data in agg_df by Symbol\u001b[39;00m\n\u001b[0;32m      3\u001b[0m \u001b[38;5;66;03m# Loop through groups\u001b[39;00m\n\u001b[0;32m      4\u001b[0m \u001b[38;5;28;01mfor\u001b[39;00m item \u001b[38;5;129;01min\u001b[39;00m grp_obj:\n",
      "\u001b[1;31mNameError\u001b[0m: name 'agg_df' is not defined"
     ]
    }
   ],
   "source": [
    "grp_obj = agg_df.groupby(\"Symbol\")  # Group data in agg_df by Symbol\n",
    "\n",
    "# Loop through groups\n",
    "for item in grp_obj:\n",
    "    print(type(item))\n",
    "    print(item[0])\n",
    "    print(item[1].head())"
   ]
  },
  {
   "cell_type": "markdown",
   "metadata": {
    "id": "_Ix_mmxR46dh"
   },
   "source": [
    "<p>Let's combine the <code>pd.groupby()</code> method with the <code>describe()</code> method and apply it to each symbol to analyze the distribution of volatility related features for each symbol.</p>"
   ]
  },
  {
   "cell_type": "code",
   "execution_count": 33,
   "metadata": {
    "colab": {
     "base_uri": "https://localhost:8080/"
    },
    "executionInfo": {
     "elapsed": 229,
     "status": "ok",
     "timestamp": 1677275106713,
     "user": {
      "displayName": "Christian Arias",
      "userId": "06594569667371018215"
     },
     "user_tz": 300
    },
    "id": "FHMOjOQt46dh",
    "outputId": "eda7bde1-deb1-4b88-c2d4-5415aabc5a97",
    "scrolled": true
   },
   "outputs": [
    {
     "name": "stdout",
     "output_type": "stream",
     "text": [
      "------Symbol:  D\n",
      "           VolStat\n",
      "count  1259.000000\n",
      "mean      0.014836\n",
      "std       0.006548\n",
      "min       0.003640\n",
      "25%       0.010246\n",
      "50%       0.013528\n",
      "75%       0.017920\n",
      "max       0.062350\n",
      "------Symbol:  DUK\n",
      "           VolStat\n",
      "count  1259.000000\n",
      "mean      0.014534\n",
      "std       0.007047\n",
      "min       0.003548\n",
      "25%       0.010075\n",
      "50%       0.012922\n",
      "75%       0.017653\n",
      "max       0.117492\n",
      "------Symbol:  EXC\n",
      "           VolStat\n",
      "count  1259.000000\n",
      "mean      0.017722\n",
      "std       0.008129\n",
      "min       0.005230\n",
      "25%       0.011868\n",
      "50%       0.015931\n",
      "75%       0.021752\n",
      "max       0.093156\n",
      "------Symbol:  NEE\n",
      "           VolStat\n",
      "count  1259.000000\n",
      "mean      0.014881\n",
      "std       0.006544\n",
      "min       0.004454\n",
      "25%       0.010309\n",
      "50%       0.013439\n",
      "75%       0.017700\n",
      "max       0.048495\n",
      "------Symbol:  SO\n",
      "           VolStat\n",
      "count  1259.000000\n",
      "mean      0.014065\n",
      "std       0.006109\n",
      "min       0.003960\n",
      "25%       0.009786\n",
      "50%       0.012858\n",
      "75%       0.016865\n",
      "max       0.051847\n"
     ]
    }
   ],
   "source": [
    "grp_obj = agg_df.groupby(\"Symbol\")  # Group data in agg_df by Symbol\n",
    "\n",
    "# Loop through groups\n",
    "for item in grp_obj:\n",
    "    print(\"------Symbol: \", item[0])\n",
    "    grp_df = item[1]\n",
    "    relevant_df = grp_df[[\"VolStat\"]]\n",
    "    print(relevant_df.describe())"
   ]
  },
  {
   "cell_type": "markdown",
   "metadata": {
    "id": "fL66Y-4Y46di"
   },
   "source": [
    "<p>One immediate observation of note is that the volatility level on any given day can vary widely. This is evident from the wide spread between the minimum and maximum <code>VolStat</code> levels seen using the <code>describe()</code> method. For example, stock symbol D has a minimum <code>VolStat</code> value of 0.003640, while its maximum <code>VolStat</code> value is 0.062350. That's more than a 10x increase in the value of <code>VolStat</code>!</p>\n",
    "<p>While this is great to see, there is a more powerful way to display this data in <code>pandas</code>. We can call the <code>describe()</code> method directly on the <code>DataFrameGroupBy</code> object. This one line allows you to avoid having to write a <code>for</code> loop every time you'd like to summarize data:</p>"
   ]
  },
  {
   "cell_type": "code",
   "execution_count": 34,
   "metadata": {
    "colab": {
     "base_uri": "https://localhost:8080/",
     "height": 269
    },
    "executionInfo": {
     "elapsed": 279,
     "status": "ok",
     "timestamp": 1677275221225,
     "user": {
      "displayName": "Christian Arias",
      "userId": "06594569667371018215"
     },
     "user_tz": 300
    },
    "id": "CjeBXPhF46di",
    "outputId": "0f2e1bd2-d140-4f8e-a12c-e2bfdcaef11b",
    "scrolled": true
   },
   "outputs": [
    {
     "data": {
      "text/html": [
       "<div>\n",
       "<style scoped>\n",
       "    .dataframe tbody tr th:only-of-type {\n",
       "        vertical-align: middle;\n",
       "    }\n",
       "\n",
       "    .dataframe tbody tr th {\n",
       "        vertical-align: top;\n",
       "    }\n",
       "\n",
       "    .dataframe thead tr th {\n",
       "        text-align: left;\n",
       "    }\n",
       "\n",
       "    .dataframe thead tr:last-of-type th {\n",
       "        text-align: right;\n",
       "    }\n",
       "</style>\n",
       "<table border=\"1\" class=\"dataframe\">\n",
       "  <thead>\n",
       "    <tr>\n",
       "      <th></th>\n",
       "      <th colspan=\"8\" halign=\"left\">VolStat</th>\n",
       "    </tr>\n",
       "    <tr>\n",
       "      <th></th>\n",
       "      <th>count</th>\n",
       "      <th>mean</th>\n",
       "      <th>std</th>\n",
       "      <th>min</th>\n",
       "      <th>25%</th>\n",
       "      <th>50%</th>\n",
       "      <th>75%</th>\n",
       "      <th>max</th>\n",
       "    </tr>\n",
       "    <tr>\n",
       "      <th>Symbol</th>\n",
       "      <th></th>\n",
       "      <th></th>\n",
       "      <th></th>\n",
       "      <th></th>\n",
       "      <th></th>\n",
       "      <th></th>\n",
       "      <th></th>\n",
       "      <th></th>\n",
       "    </tr>\n",
       "  </thead>\n",
       "  <tbody>\n",
       "    <tr>\n",
       "      <th>D</th>\n",
       "      <td>1259.0</td>\n",
       "      <td>0.014836</td>\n",
       "      <td>0.006548</td>\n",
       "      <td>0.003640</td>\n",
       "      <td>0.010246</td>\n",
       "      <td>0.013528</td>\n",
       "      <td>0.017920</td>\n",
       "      <td>0.062350</td>\n",
       "    </tr>\n",
       "    <tr>\n",
       "      <th>DUK</th>\n",
       "      <td>1259.0</td>\n",
       "      <td>0.014534</td>\n",
       "      <td>0.007047</td>\n",
       "      <td>0.003548</td>\n",
       "      <td>0.010075</td>\n",
       "      <td>0.012922</td>\n",
       "      <td>0.017653</td>\n",
       "      <td>0.117492</td>\n",
       "    </tr>\n",
       "    <tr>\n",
       "      <th>EXC</th>\n",
       "      <td>1259.0</td>\n",
       "      <td>0.017722</td>\n",
       "      <td>0.008129</td>\n",
       "      <td>0.005230</td>\n",
       "      <td>0.011868</td>\n",
       "      <td>0.015931</td>\n",
       "      <td>0.021752</td>\n",
       "      <td>0.093156</td>\n",
       "    </tr>\n",
       "    <tr>\n",
       "      <th>NEE</th>\n",
       "      <td>1259.0</td>\n",
       "      <td>0.014881</td>\n",
       "      <td>0.006544</td>\n",
       "      <td>0.004454</td>\n",
       "      <td>0.010309</td>\n",
       "      <td>0.013439</td>\n",
       "      <td>0.017700</td>\n",
       "      <td>0.048495</td>\n",
       "    </tr>\n",
       "    <tr>\n",
       "      <th>SO</th>\n",
       "      <td>1259.0</td>\n",
       "      <td>0.014065</td>\n",
       "      <td>0.006109</td>\n",
       "      <td>0.003960</td>\n",
       "      <td>0.009786</td>\n",
       "      <td>0.012858</td>\n",
       "      <td>0.016865</td>\n",
       "      <td>0.051847</td>\n",
       "    </tr>\n",
       "  </tbody>\n",
       "</table>\n",
       "</div>"
      ],
      "text/plain": [
       "       VolStat                                                              \\\n",
       "         count      mean       std       min       25%       50%       75%   \n",
       "Symbol                                                                       \n",
       "D       1259.0  0.014836  0.006548  0.003640  0.010246  0.013528  0.017920   \n",
       "DUK     1259.0  0.014534  0.007047  0.003548  0.010075  0.012922  0.017653   \n",
       "EXC     1259.0  0.017722  0.008129  0.005230  0.011868  0.015931  0.021752   \n",
       "NEE     1259.0  0.014881  0.006544  0.004454  0.010309  0.013439  0.017700   \n",
       "SO      1259.0  0.014065  0.006109  0.003960  0.009786  0.012858  0.016865   \n",
       "\n",
       "                  \n",
       "             max  \n",
       "Symbol            \n",
       "D       0.062350  \n",
       "DUK     0.117492  \n",
       "EXC     0.093156  \n",
       "NEE     0.048495  \n",
       "SO      0.051847  "
      ]
     },
     "execution_count": 34,
     "metadata": {},
     "output_type": "execute_result"
    }
   ],
   "source": [
    "# VolStat\n",
    "agg_df[[\"Symbol\", \"VolStat\"]].groupby(\"Symbol\").describe()"
   ]
  },
  {
   "cell_type": "markdown",
   "metadata": {
    "id": "mPiI0zoH46di"
   },
   "source": [
    "<p>This data is identical to the data previously outputted using the <code>for</code> loop approach. The difference is that utilizing the features of the <code>DataFrameGroupBy</code> object allows for easy coding, fast results, and a clean output. This illustrates the power of using the <code>pd.groupby()</code> method: generating statistics for groups of interest in your data is straightforward and efficient to code.</p>\n",
    "<p>You'll notice this pattern a lot as you gain more familiarity with Python and data analysis. There are many ways to solve a problem, but often one way is substantially more efficient, both in terms of run time and in terms of lines of code.</p>"
   ]
  },
  {
   "cell_type": "markdown",
   "metadata": {
    "id": "LNuVbQOs46dt"
   },
   "source": [
    "<h3>Exercise 4:</h3>\n",
    "<p>What are some insights you can draw from the <code>VolStat</code> summary statistics in terms of volatility levels?</p>"
   ]
  },
  {
   "cell_type": "markdown",
   "metadata": {
    "id": "AKANvIZs46du",
    "tags": [
     "ans_st"
    ]
   },
   "source": [
    "**Answer.**"
   ]
  },
  {
   "cell_type": "markdown",
   "metadata": {},
   "source": [
    "### Insights from the `VolStat` Summary Table\n",
    "\n",
    "| Symbol | Mean | Median (50 %) | Std. Dev. | Max | Quick Take |\n",
    "|--------|------|---------------|-----------|-----|------------|\n",
    "| **EXC** | **0.01772** | **0.01593** | 0.00813 | 0.09316 | Highest and most persistent volatility; systematic risk driver. |\n",
    "| **DUK** | 0.01453 | 0.01292 | **0.00705** | **0.11749** | Moderate average volatility but **fat-tail risk**—largest single-day spikes. |\n",
    "| **D**   | 0.01484 | 0.01353 | 0.00655 | 0.06235 | Mid-range profile; occasional jumps yet less extreme than DUK. |\n",
    "| **NEE** | 0.01488 | 0.01344 | 0.00654 | 0.04850 | Similar to D; moderate and predictable range. |\n",
    "| **SO**  | **0.01407** | **0.01286** | **0.00611** | 0.05185 | Lowest overall volatility; candidate “defensive” asset. |\n",
    "\n",
    "---\n",
    "\n",
    "#### Key Observations\n",
    "\n",
    "1. **EXC leads in structural volatility**  \n",
    "   * Mean and median ~20 % higher than peers.  \n",
    "   * 75 th percentile (0.0218) confirms volatility isn’t limited to outliers—it is consistently high.\n",
    "\n",
    "2. **DUK displays extreme-event risk**  \n",
    "   * Maximum (0.1175) nearly double the next highest.  \n",
    "   * Largest standard deviation, indicating the widest dispersion.\n",
    "\n",
    "3. **D and NEE share a “moderate-stable” profile**  \n",
    "   * Nearly identical central tendencies and dispersion.  \n",
    "   * Max values ≤ 0.06, so spikes are contained relative to DUK.\n",
    "\n",
    "4. **SO is the calmest asset**  \n",
    "   * Lowest mean and variance.  \n",
    "   * Narrow volatility band makes it attractive for conservative positions.\n",
    "\n",
    "5. **Coefficient of variation is similar (~0.43–0.49)** across symbols, yet **risk sources differ**:  \n",
    "   * **EXC**: consistently higher day-to-day volatility.  \n",
    "   * **DUK**: moderate day-to-day moves but prone to large one-off jumps.  \n",
    "   * **SO/D/NEE**: tighter, more predictable ranges.\n",
    "\n",
    "---\n",
    "\n",
    "#### Practical Implications\n",
    "\n",
    "* **Defensive or hedging strategies** → favor **SO**, with **D/NEE** as secondary options.  \n",
    "* **Leveraged trading or option writing** → **EXC** provides the continuous volatility required.  \n",
    "* **Risk management for DUK** → set wider stop-losses or hedge against sudden spikes.  "
   ]
  },
  {
   "cell_type": "markdown",
   "metadata": {
    "id": "t4DkbqN846du"
   },
   "source": [
    "-------"
   ]
  },
  {
   "cell_type": "markdown",
   "metadata": {
    "id": "n4-n8jux46dv"
   },
   "source": [
    "<h3>Exercise 5:</h3>\n",
    "<p>Using <code>agg_df</code> and a <code>for</code> loop, write a script to determine the mean value of <code>VolStat</code> for each symbol by year.</p>"
   ]
  },
  {
   "cell_type": "markdown",
   "metadata": {
    "id": "FZeCMAme46dv",
    "tags": [
     "ans_st"
    ]
   },
   "source": [
    "**Answer.**"
   ]
  },
  {
   "cell_type": "code",
   "execution_count": 36,
   "metadata": {},
   "outputs": [],
   "source": [
    "# --- 0.  Ensure 'Date' is datetime and create a 'Year' helper column ----------\n",
    "agg_df['Date'] = pd.to_datetime(agg_df['Date'])\n",
    "agg_df['Year'] = agg_df['Date'].dt.year"
   ]
  },
  {
   "cell_type": "code",
   "execution_count": 37,
   "metadata": {},
   "outputs": [
    {
     "data": {
      "text/html": [
       "<div>\n",
       "<style scoped>\n",
       "    .dataframe tbody tr th:only-of-type {\n",
       "        vertical-align: middle;\n",
       "    }\n",
       "\n",
       "    .dataframe tbody tr th {\n",
       "        vertical-align: top;\n",
       "    }\n",
       "\n",
       "    .dataframe thead th {\n",
       "        text-align: right;\n",
       "    }\n",
       "</style>\n",
       "<table border=\"1\" class=\"dataframe\">\n",
       "  <thead>\n",
       "    <tr style=\"text-align: right;\">\n",
       "      <th></th>\n",
       "      <th>Date</th>\n",
       "      <th>Open</th>\n",
       "      <th>High</th>\n",
       "      <th>Low</th>\n",
       "      <th>Close</th>\n",
       "      <th>Adj Close</th>\n",
       "      <th>Volume</th>\n",
       "      <th>Volume_Millions</th>\n",
       "      <th>Symbol</th>\n",
       "      <th>VolStat</th>\n",
       "      <th>Return</th>\n",
       "      <th>Year</th>\n",
       "    </tr>\n",
       "  </thead>\n",
       "  <tbody>\n",
       "    <tr>\n",
       "      <th>0</th>\n",
       "      <td>2014-07-28</td>\n",
       "      <td>69.750000</td>\n",
       "      <td>71.059998</td>\n",
       "      <td>69.750000</td>\n",
       "      <td>70.879997</td>\n",
       "      <td>57.963978</td>\n",
       "      <td>1806400</td>\n",
       "      <td>1.8064</td>\n",
       "      <td>D</td>\n",
       "      <td>0.018781</td>\n",
       "      <td>0.016201</td>\n",
       "      <td>2014</td>\n",
       "    </tr>\n",
       "    <tr>\n",
       "      <th>1</th>\n",
       "      <td>2014-07-29</td>\n",
       "      <td>70.669998</td>\n",
       "      <td>70.980003</td>\n",
       "      <td>69.930000</td>\n",
       "      <td>69.930000</td>\n",
       "      <td>57.187099</td>\n",
       "      <td>2231100</td>\n",
       "      <td>2.2311</td>\n",
       "      <td>D</td>\n",
       "      <td>0.014858</td>\n",
       "      <td>-0.010471</td>\n",
       "      <td>2014</td>\n",
       "    </tr>\n",
       "    <tr>\n",
       "      <th>2</th>\n",
       "      <td>2014-07-30</td>\n",
       "      <td>70.000000</td>\n",
       "      <td>70.660004</td>\n",
       "      <td>68.400002</td>\n",
       "      <td>68.970001</td>\n",
       "      <td>56.402020</td>\n",
       "      <td>2588900</td>\n",
       "      <td>2.5889</td>\n",
       "      <td>D</td>\n",
       "      <td>0.032286</td>\n",
       "      <td>-0.014714</td>\n",
       "      <td>2014</td>\n",
       "    </tr>\n",
       "    <tr>\n",
       "      <th>3</th>\n",
       "      <td>2014-07-31</td>\n",
       "      <td>68.629997</td>\n",
       "      <td>68.849998</td>\n",
       "      <td>67.580002</td>\n",
       "      <td>67.639999</td>\n",
       "      <td>55.314388</td>\n",
       "      <td>3266900</td>\n",
       "      <td>3.2669</td>\n",
       "      <td>D</td>\n",
       "      <td>0.018505</td>\n",
       "      <td>-0.014425</td>\n",
       "      <td>2014</td>\n",
       "    </tr>\n",
       "    <tr>\n",
       "      <th>4</th>\n",
       "      <td>2014-08-01</td>\n",
       "      <td>67.330002</td>\n",
       "      <td>68.410004</td>\n",
       "      <td>67.220001</td>\n",
       "      <td>67.589996</td>\n",
       "      <td>55.273487</td>\n",
       "      <td>2601800</td>\n",
       "      <td>2.6018</td>\n",
       "      <td>D</td>\n",
       "      <td>0.017674</td>\n",
       "      <td>0.003861</td>\n",
       "      <td>2014</td>\n",
       "    </tr>\n",
       "  </tbody>\n",
       "</table>\n",
       "</div>"
      ],
      "text/plain": [
       "        Date       Open       High        Low      Close  Adj Close   Volume  \\\n",
       "0 2014-07-28  69.750000  71.059998  69.750000  70.879997  57.963978  1806400   \n",
       "1 2014-07-29  70.669998  70.980003  69.930000  69.930000  57.187099  2231100   \n",
       "2 2014-07-30  70.000000  70.660004  68.400002  68.970001  56.402020  2588900   \n",
       "3 2014-07-31  68.629997  68.849998  67.580002  67.639999  55.314388  3266900   \n",
       "4 2014-08-01  67.330002  68.410004  67.220001  67.589996  55.273487  2601800   \n",
       "\n",
       "   Volume_Millions Symbol   VolStat    Return  Year  \n",
       "0           1.8064      D  0.018781  0.016201  2014  \n",
       "1           2.2311      D  0.014858 -0.010471  2014  \n",
       "2           2.5889      D  0.032286 -0.014714  2014  \n",
       "3           3.2669      D  0.018505 -0.014425  2014  \n",
       "4           2.6018      D  0.017674  0.003861  2014  "
      ]
     },
     "execution_count": 37,
     "metadata": {},
     "output_type": "execute_result"
    }
   ],
   "source": [
    "agg_df.head()"
   ]
  },
  {
   "cell_type": "code",
   "execution_count": 41,
   "metadata": {},
   "outputs": [
    {
     "data": {
      "text/html": [
       "<div>\n",
       "<style scoped>\n",
       "    .dataframe tbody tr th:only-of-type {\n",
       "        vertical-align: middle;\n",
       "    }\n",
       "\n",
       "    .dataframe tbody tr th {\n",
       "        vertical-align: top;\n",
       "    }\n",
       "\n",
       "    .dataframe thead th {\n",
       "        text-align: right;\n",
       "    }\n",
       "</style>\n",
       "<table border=\"1\" class=\"dataframe\">\n",
       "  <thead>\n",
       "    <tr style=\"text-align: right;\">\n",
       "      <th></th>\n",
       "      <th>Symbol</th>\n",
       "      <th>Year</th>\n",
       "      <th>VolStat_mean</th>\n",
       "    </tr>\n",
       "  </thead>\n",
       "  <tbody>\n",
       "    <tr>\n",
       "      <th>0</th>\n",
       "      <td>D</td>\n",
       "      <td>2014</td>\n",
       "      <td>0.016510</td>\n",
       "    </tr>\n",
       "    <tr>\n",
       "      <th>1</th>\n",
       "      <td>D</td>\n",
       "      <td>2015</td>\n",
       "      <td>0.015748</td>\n",
       "    </tr>\n",
       "    <tr>\n",
       "      <th>2</th>\n",
       "      <td>D</td>\n",
       "      <td>2016</td>\n",
       "      <td>0.015051</td>\n",
       "    </tr>\n",
       "    <tr>\n",
       "      <th>3</th>\n",
       "      <td>D</td>\n",
       "      <td>2017</td>\n",
       "      <td>0.011246</td>\n",
       "    </tr>\n",
       "    <tr>\n",
       "      <th>4</th>\n",
       "      <td>D</td>\n",
       "      <td>2018</td>\n",
       "      <td>0.016678</td>\n",
       "    </tr>\n",
       "  </tbody>\n",
       "</table>\n",
       "</div>"
      ],
      "text/plain": [
       "  Symbol  Year  VolStat_mean\n",
       "0      D  2014      0.016510\n",
       "1      D  2015      0.015748\n",
       "2      D  2016      0.015051\n",
       "3      D  2017      0.011246\n",
       "4      D  2018      0.016678"
      ]
     },
     "metadata": {},
     "output_type": "display_data"
    }
   ],
   "source": [
    "# For-loop solution\n",
    "results = []                         # collect dictionaries, then build DataFrame\n",
    "for sym in agg_df['Symbol'].unique():        # loop over each symbol\n",
    "    df_sym = agg_df[agg_df['Symbol'] == sym] # slice\n",
    "    for yr, grp in df_sym.groupby('Year'):   # loop over each year\n",
    "        results.append({\n",
    "            'Symbol': sym,\n",
    "            'Year':   yr,\n",
    "            'VolStat_mean': grp['VolStat'].mean()\n",
    "        })\n",
    "\n",
    "mean_volstat_by_year = pd.DataFrame(results).sort_values(['Symbol', 'Year'])\n",
    "display(mean_volstat_by_year.head())"
   ]
  },
  {
   "cell_type": "markdown",
   "metadata": {
    "id": "DJSJLvkM46dv"
   },
   "source": [
    "-------"
   ]
  },
  {
   "cell_type": "markdown",
   "metadata": {
    "id": "3UOP9zbU46dv"
   },
   "source": [
    "<h2>Labelling data points as high or low volatility</h2>"
   ]
  },
  {
   "cell_type": "markdown",
   "metadata": {
    "id": "qJ--kyYR46dv"
   },
   "source": [
    "<p>Now that we've determined that the volatility levels of each stock can vary widely, the next logical step is to group periods of high and low volatility so that we can then look at how volume differs between those time periods.</p>\n",
    "<p>However, we don't currently have a column that identifies when volatility is high and when it is low. Therefore, we must create a new column called <code>VolLevel</code> using some volatility threshold. For example, we'd like to have a new column value determined by:</p>\n",
    "<p><code>if VolStat &gt; threshold:\n",
    "    VolLevel = 'HIGH'\n",
    "else:\n",
    "    VolLevel = 'LOW'</code></p>\n",
    "<p>Here we will define low volatility levels by any <code>VolStat</code> below the 50th percentile (i.e. below the median level of volatility for that symbol). Each percentile value must be calculated by symbol to ensure that each symbol is individually analyzed.</p>\n",
    "<p>Let's take a look how we can accomplish this task using <code>groupby()</code> functionality and the <code>quantile()</code> method, which returns the percentile for a given series of data:</p>"
   ]
  },
  {
   "cell_type": "code",
   "execution_count": 42,
   "metadata": {
    "id": "Hy4kZoTs46dv"
   },
   "outputs": [
    {
     "name": "stdout",
     "output_type": "stream",
     "text": [
      "Symbol\n",
      "D      0.013528\n",
      "DUK    0.012922\n",
      "EXC    0.015931\n",
      "NEE    0.013439\n",
      "SO     0.012858\n",
      "Name: VolStat, dtype: float64\n"
     ]
    }
   ],
   "source": [
    "# Determine lower thresholds for volatility for each symbol\n",
    "volstat_thresholds = agg_df.groupby(\"Symbol\")[\"VolStat\"].quantile(0.5)  # 50th percentile (median)\n",
    "print(volstat_thresholds)"
   ]
  },
  {
   "cell_type": "markdown",
   "metadata": {
    "id": "CcRLTxOH46dw"
   },
   "source": [
    "<p>Since we'd like to label periods of high and low volatility by symbol, we will make use of the <a href=\"https://docs.scipy.org/doc/numpy/reference/generated/numpy.where.html\">np.where()</a> method in the <code>numpy</code> library. This method takes an input and checks a logical condition: if the condition is true, it will return its second argument, whereas if the condition is false, it will return its third argument. This is very similar to how Microsoft Excel's <code>IFERROR()</code> method works (helpful to think of it this way for those familiar with Excel). Let's loop through each symbol and label each day as either high and low volatility:</p>"
   ]
  },
  {
   "cell_type": "code",
   "execution_count": 43,
   "metadata": {
    "id": "8AmnE8xp46dw"
   },
   "outputs": [
    {
     "name": "stdout",
     "output_type": "stream",
     "text": [
      "Defining stock symbols\n",
      " --- Loop over symbols --- \n",
      "Labelling Volatility regime for Symbol: D\n",
      "Labelling Volatility regime for Symbol: EXC\n",
      "Labelling Volatility regime for Symbol: NEE\n",
      "Labelling Volatility regime for Symbol: SO\n",
      "Labelling Volatility regime for Symbol: DUK\n",
      " --- Completed loop over symbols --- \n",
      "Aggregating data\n"
     ]
    }
   ],
   "source": [
    "# Loop through symbols\n",
    "print(\"Defining stock symbols\")\n",
    "list_of_symbols = [\"D\", \"EXC\", \"NEE\", \"SO\", \"DUK\"]\n",
    "list_of_df = []\n",
    "\n",
    "# Loop over all symbols\n",
    "print(\" --- Loop over symbols --- \")\n",
    "for i in symbol_data_to_load:\n",
    "    print(\"Labelling Volatility regime for Symbol: \" + i)\n",
    "    temp_df = agg_df[agg_df[\"Symbol\"] == i].copy()  # make a copy of the dataframe to ensure not affecting agg_df\n",
    "    volstat_t = volstat_thresholds.loc[i]\n",
    "    temp_df[\"VolLevel\"] = np.where(temp_df[\"VolStat\"] < volstat_t, \"LOW\", \"HIGH\")  # Volatility regime label\n",
    "    list_of_df.append(temp_df)\n",
    "\n",
    "print(\" --- Completed loop over symbols --- \")\n",
    "\n",
    "print(\"Aggregating data\")\n",
    "labeled_df = pd.concat(list_of_df)"
   ]
  },
  {
   "cell_type": "code",
   "execution_count": 44,
   "metadata": {
    "id": "S7GngcCn46dw",
    "scrolled": true
   },
   "outputs": [
    {
     "data": {
      "text/html": [
       "<div>\n",
       "<style scoped>\n",
       "    .dataframe tbody tr th:only-of-type {\n",
       "        vertical-align: middle;\n",
       "    }\n",
       "\n",
       "    .dataframe tbody tr th {\n",
       "        vertical-align: top;\n",
       "    }\n",
       "\n",
       "    .dataframe thead th {\n",
       "        text-align: right;\n",
       "    }\n",
       "</style>\n",
       "<table border=\"1\" class=\"dataframe\">\n",
       "  <thead>\n",
       "    <tr style=\"text-align: right;\">\n",
       "      <th></th>\n",
       "      <th>Date</th>\n",
       "      <th>Open</th>\n",
       "      <th>High</th>\n",
       "      <th>Low</th>\n",
       "      <th>Close</th>\n",
       "      <th>Adj Close</th>\n",
       "      <th>Volume</th>\n",
       "      <th>Volume_Millions</th>\n",
       "      <th>Symbol</th>\n",
       "      <th>VolStat</th>\n",
       "      <th>Return</th>\n",
       "      <th>Year</th>\n",
       "      <th>VolLevel</th>\n",
       "    </tr>\n",
       "  </thead>\n",
       "  <tbody>\n",
       "    <tr>\n",
       "      <th>0</th>\n",
       "      <td>2014-07-28</td>\n",
       "      <td>69.750000</td>\n",
       "      <td>71.059998</td>\n",
       "      <td>69.750000</td>\n",
       "      <td>70.879997</td>\n",
       "      <td>57.963978</td>\n",
       "      <td>1806400</td>\n",
       "      <td>1.8064</td>\n",
       "      <td>D</td>\n",
       "      <td>0.018781</td>\n",
       "      <td>0.016201</td>\n",
       "      <td>2014</td>\n",
       "      <td>HIGH</td>\n",
       "    </tr>\n",
       "    <tr>\n",
       "      <th>1</th>\n",
       "      <td>2014-07-29</td>\n",
       "      <td>70.669998</td>\n",
       "      <td>70.980003</td>\n",
       "      <td>69.930000</td>\n",
       "      <td>69.930000</td>\n",
       "      <td>57.187099</td>\n",
       "      <td>2231100</td>\n",
       "      <td>2.2311</td>\n",
       "      <td>D</td>\n",
       "      <td>0.014858</td>\n",
       "      <td>-0.010471</td>\n",
       "      <td>2014</td>\n",
       "      <td>HIGH</td>\n",
       "    </tr>\n",
       "    <tr>\n",
       "      <th>2</th>\n",
       "      <td>2014-07-30</td>\n",
       "      <td>70.000000</td>\n",
       "      <td>70.660004</td>\n",
       "      <td>68.400002</td>\n",
       "      <td>68.970001</td>\n",
       "      <td>56.402020</td>\n",
       "      <td>2588900</td>\n",
       "      <td>2.5889</td>\n",
       "      <td>D</td>\n",
       "      <td>0.032286</td>\n",
       "      <td>-0.014714</td>\n",
       "      <td>2014</td>\n",
       "      <td>HIGH</td>\n",
       "    </tr>\n",
       "    <tr>\n",
       "      <th>3</th>\n",
       "      <td>2014-07-31</td>\n",
       "      <td>68.629997</td>\n",
       "      <td>68.849998</td>\n",
       "      <td>67.580002</td>\n",
       "      <td>67.639999</td>\n",
       "      <td>55.314388</td>\n",
       "      <td>3266900</td>\n",
       "      <td>3.2669</td>\n",
       "      <td>D</td>\n",
       "      <td>0.018505</td>\n",
       "      <td>-0.014425</td>\n",
       "      <td>2014</td>\n",
       "      <td>HIGH</td>\n",
       "    </tr>\n",
       "    <tr>\n",
       "      <th>4</th>\n",
       "      <td>2014-08-01</td>\n",
       "      <td>67.330002</td>\n",
       "      <td>68.410004</td>\n",
       "      <td>67.220001</td>\n",
       "      <td>67.589996</td>\n",
       "      <td>55.273487</td>\n",
       "      <td>2601800</td>\n",
       "      <td>2.6018</td>\n",
       "      <td>D</td>\n",
       "      <td>0.017674</td>\n",
       "      <td>0.003861</td>\n",
       "      <td>2014</td>\n",
       "      <td>HIGH</td>\n",
       "    </tr>\n",
       "  </tbody>\n",
       "</table>\n",
       "</div>"
      ],
      "text/plain": [
       "        Date       Open       High        Low      Close  Adj Close   Volume  \\\n",
       "0 2014-07-28  69.750000  71.059998  69.750000  70.879997  57.963978  1806400   \n",
       "1 2014-07-29  70.669998  70.980003  69.930000  69.930000  57.187099  2231100   \n",
       "2 2014-07-30  70.000000  70.660004  68.400002  68.970001  56.402020  2588900   \n",
       "3 2014-07-31  68.629997  68.849998  67.580002  67.639999  55.314388  3266900   \n",
       "4 2014-08-01  67.330002  68.410004  67.220001  67.589996  55.273487  2601800   \n",
       "\n",
       "   Volume_Millions Symbol   VolStat    Return  Year VolLevel  \n",
       "0           1.8064      D  0.018781  0.016201  2014     HIGH  \n",
       "1           2.2311      D  0.014858 -0.010471  2014     HIGH  \n",
       "2           2.5889      D  0.032286 -0.014714  2014     HIGH  \n",
       "3           3.2669      D  0.018505 -0.014425  2014     HIGH  \n",
       "4           2.6018      D  0.017674  0.003861  2014     HIGH  "
      ]
     },
     "execution_count": 44,
     "metadata": {},
     "output_type": "execute_result"
    }
   ],
   "source": [
    "labeled_df.head()"
   ]
  },
  {
   "cell_type": "markdown",
   "metadata": {
    "id": "keanEZGV46dw"
   },
   "source": [
    "<p>We've now added a <code>VolLevel</code> column that identifies whether each symbol is in a period of high or low volatility on any given day. Since we know that the bank will require higher trading volume in order to transact in periods of high volatility, let's now take a look at the average daily traded volume for high volatility vs. low volatility days.</p>"
   ]
  },
  {
   "cell_type": "markdown",
   "metadata": {
    "id": "BUhJR3sB46dx"
   },
   "source": [
    "<h2>Is daily trading volume affected by the level of volatility?</h2>"
   ]
  },
  {
   "cell_type": "markdown",
   "metadata": {
    "id": "d_6Pc09B46dx"
   },
   "source": [
    "<p>To explore the relationship between volatility level and daily trading volume, let's group by <code>VolLevel</code> and take a look at the average <code>Volume</code> for the high and low volatility groups:</p>"
   ]
  },
  {
   "cell_type": "code",
   "execution_count": 45,
   "metadata": {
    "id": "xNjBmmol46dx",
    "scrolled": true
   },
   "outputs": [
    {
     "data": {
      "text/html": [
       "<div>\n",
       "<style scoped>\n",
       "    .dataframe tbody tr th:only-of-type {\n",
       "        vertical-align: middle;\n",
       "    }\n",
       "\n",
       "    .dataframe tbody tr th {\n",
       "        vertical-align: top;\n",
       "    }\n",
       "\n",
       "    .dataframe thead th {\n",
       "        text-align: right;\n",
       "    }\n",
       "</style>\n",
       "<table border=\"1\" class=\"dataframe\">\n",
       "  <thead>\n",
       "    <tr style=\"text-align: right;\">\n",
       "      <th></th>\n",
       "      <th></th>\n",
       "      <th>Volume_Millions</th>\n",
       "    </tr>\n",
       "    <tr>\n",
       "      <th>Symbol</th>\n",
       "      <th>VolLevel</th>\n",
       "      <th></th>\n",
       "    </tr>\n",
       "  </thead>\n",
       "  <tbody>\n",
       "    <tr>\n",
       "      <th rowspan=\"2\" valign=\"top\">D</th>\n",
       "      <th>HIGH</th>\n",
       "      <td>3.538901</td>\n",
       "    </tr>\n",
       "    <tr>\n",
       "      <th>LOW</th>\n",
       "      <td>2.636641</td>\n",
       "    </tr>\n",
       "    <tr>\n",
       "      <th rowspan=\"2\" valign=\"top\">DUK</th>\n",
       "      <th>HIGH</th>\n",
       "      <td>3.760172</td>\n",
       "    </tr>\n",
       "    <tr>\n",
       "      <th>LOW</th>\n",
       "      <td>2.825710</td>\n",
       "    </tr>\n",
       "    <tr>\n",
       "      <th rowspan=\"2\" valign=\"top\">EXC</th>\n",
       "      <th>HIGH</th>\n",
       "      <td>7.090384</td>\n",
       "    </tr>\n",
       "    <tr>\n",
       "      <th>LOW</th>\n",
       "      <td>5.031123</td>\n",
       "    </tr>\n",
       "    <tr>\n",
       "      <th rowspan=\"2\" valign=\"top\">NEE</th>\n",
       "      <th>HIGH</th>\n",
       "      <td>2.361096</td>\n",
       "    </tr>\n",
       "    <tr>\n",
       "      <th>LOW</th>\n",
       "      <td>1.707347</td>\n",
       "    </tr>\n",
       "    <tr>\n",
       "      <th rowspan=\"2\" valign=\"top\">SO</th>\n",
       "      <th>HIGH</th>\n",
       "      <td>6.148537</td>\n",
       "    </tr>\n",
       "    <tr>\n",
       "      <th>LOW</th>\n",
       "      <td>4.417179</td>\n",
       "    </tr>\n",
       "  </tbody>\n",
       "</table>\n",
       "</div>"
      ],
      "text/plain": [
       "                 Volume_Millions\n",
       "Symbol VolLevel                 \n",
       "D      HIGH             3.538901\n",
       "       LOW              2.636641\n",
       "DUK    HIGH             3.760172\n",
       "       LOW              2.825710\n",
       "EXC    HIGH             7.090384\n",
       "       LOW              5.031123\n",
       "NEE    HIGH             2.361096\n",
       "       LOW              1.707347\n",
       "SO     HIGH             6.148537\n",
       "       LOW              4.417179"
      ]
     },
     "execution_count": 45,
     "metadata": {},
     "output_type": "execute_result"
    }
   ],
   "source": [
    "labeled_df.groupby([\"Symbol\", \"VolLevel\"])[[\"Volume_Millions\"]].mean()"
   ]
  },
  {
   "cell_type": "markdown",
   "metadata": {
    "id": "OUINqsUE46dx"
   },
   "source": [
    "<h3>Exercise 6:</h3>\n",
    "<p>What is an immediate trend you notice regarding the volatility regimes?</p>"
   ]
  },
  {
   "cell_type": "markdown",
   "metadata": {
    "id": "qklPkp0Z46dx",
    "tags": [
     "ans_st"
    ]
   },
   "source": [
    "**Answer.**"
   ]
  },
  {
   "cell_type": "markdown",
   "metadata": {},
   "source": [
    "### Exercise 6 – Immediate Trend in the Two Volatility Regimes\n",
    "\n",
    "A quick scan of the grouped table shows a **clear, monotonic pattern**:\n",
    "\n",
    "| Symbol | Avg. Volume (M shares) in **HIGH** Vol | Avg. Volume (M shares) in **LOW** Vol | % Lift (High vs Low) |\n",
    "|--------|---------------------------------------|---------------------------------------|----------------------|\n",
    "| D      | 3.54 | 2.64 | **+34 %** |\n",
    "| DUK    | 3.76 | 2.83 | **+33 %** |\n",
    "| EXC    | 7.09 | 5.03 | **+41 %** |\n",
    "| NEE    | 2.36 | 1.71 | **+38 %** |\n",
    "\n",
    "**Immediate observation:**  \n",
    "For **every symbol**, the average daily trading volume is substantially **higher in the HIGH-volatility regime** than in the LOW-volatility regime—typically a **30-40 % uplift**.  \n",
    "This suggests a positive relationship between volatility and market activity: as price uncertainty rises, so does liquidity, indicating that traders either take advantage of larger intraday moves or rebalance risk more actively.\n"
   ]
  },
  {
   "cell_type": "markdown",
   "metadata": {
    "id": "FvmmGpTx46dy"
   },
   "source": [
    "-------"
   ]
  },
  {
   "cell_type": "markdown",
   "metadata": {
    "id": "ppCflXDH46dy"
   },
   "source": [
    "<h3>Exercise 7:</h3>\n",
    "<p>Write code to group time periods into low, medium, and high volatility regimes, where:</p>\n",
    "<p><code>if VolStat &gt; (75th percentile VolStat for given symbol):\n",
    "    VolLevel = 'HIGH'\n",
    "elif  VolStat &gt; (25th percentile VolStat for given symbol):\n",
    "    VolLevel = 'MEDIUM'\n",
    "else:\n",
    "    VolLevel = 'LOW'</code></p>\n",
    "<p>Output a <code>final_df</code> DataFrame output grouped by <code>Symbol</code>, showing the mean <code>Volume</code> for each <code>VolLevel</code> category.</p>"
   ]
  },
  {
   "cell_type": "markdown",
   "metadata": {
    "id": "p40gVxEV46dy",
    "tags": [
     "ans_st"
    ]
   },
   "source": [
    "**Answer.**"
   ]
  },
  {
   "cell_type": "code",
   "execution_count": 48,
   "metadata": {},
   "outputs": [
    {
     "data": {
      "text/html": [
       "<div>\n",
       "<style scoped>\n",
       "    .dataframe tbody tr th:only-of-type {\n",
       "        vertical-align: middle;\n",
       "    }\n",
       "\n",
       "    .dataframe tbody tr th {\n",
       "        vertical-align: top;\n",
       "    }\n",
       "\n",
       "    .dataframe thead th {\n",
       "        text-align: right;\n",
       "    }\n",
       "</style>\n",
       "<table border=\"1\" class=\"dataframe\">\n",
       "  <thead>\n",
       "    <tr style=\"text-align: right;\">\n",
       "      <th>VolLevel</th>\n",
       "      <th>HIGH</th>\n",
       "      <th>LOW</th>\n",
       "      <th>MEDIUM</th>\n",
       "    </tr>\n",
       "    <tr>\n",
       "      <th>Symbol</th>\n",
       "      <th></th>\n",
       "      <th></th>\n",
       "      <th></th>\n",
       "    </tr>\n",
       "  </thead>\n",
       "  <tbody>\n",
       "    <tr>\n",
       "      <th>D</th>\n",
       "      <td>3.92</td>\n",
       "      <td>2.46</td>\n",
       "      <td>2.99</td>\n",
       "    </tr>\n",
       "    <tr>\n",
       "      <th>DUK</th>\n",
       "      <td>4.17</td>\n",
       "      <td>2.60</td>\n",
       "      <td>3.20</td>\n",
       "    </tr>\n",
       "    <tr>\n",
       "      <th>EXC</th>\n",
       "      <td>7.90</td>\n",
       "      <td>4.67</td>\n",
       "      <td>5.84</td>\n",
       "    </tr>\n",
       "    <tr>\n",
       "      <th>NEE</th>\n",
       "      <td>2.65</td>\n",
       "      <td>1.61</td>\n",
       "      <td>1.94</td>\n",
       "    </tr>\n",
       "    <tr>\n",
       "      <th>SO</th>\n",
       "      <td>6.78</td>\n",
       "      <td>4.11</td>\n",
       "      <td>5.12</td>\n",
       "    </tr>\n",
       "  </tbody>\n",
       "</table>\n",
       "</div>"
      ],
      "text/plain": [
       "VolLevel  HIGH   LOW  MEDIUM\n",
       "Symbol                      \n",
       "D         3.92  2.46    2.99\n",
       "DUK       4.17  2.60    3.20\n",
       "EXC       7.90  4.67    5.84\n",
       "NEE       2.65  1.61    1.94\n",
       "SO        6.78  4.11    5.12"
      ]
     },
     "metadata": {},
     "output_type": "display_data"
    }
   ],
   "source": [
    "df = agg_df.copy()\n",
    "\n",
    "# Percentile thresholds (vectorised with groupby.transform)\n",
    "q25 = df.groupby('Symbol')['VolStat'].transform(lambda s: s.quantile(0.25))\n",
    "q75 = df.groupby('Symbol')['VolStat'].transform(lambda s: s.quantile(0.75))\n",
    "\n",
    "# Assign volatility regime\n",
    "df['VolLevel'] = np.select(\n",
    "    [df['VolStat'] > q75,\n",
    "     df['VolStat'] > q25],\n",
    "    ['HIGH', 'MEDIUM'],\n",
    "    default='LOW'\n",
    ")\n",
    "\n",
    "# Mean Volume per Symbol & VolLevel\n",
    "final_df = (\n",
    "    df\n",
    "      .groupby(['Symbol', 'VolLevel'])['Volume_Millions'] \n",
    "      .mean()\n",
    "      .round(2) # nicer print-out\n",
    "      .unstack('VolLevel')  # columns = LOW / MEDIUM / HIGH\n",
    "      .sort_index()  # tidy order\n",
    ")\n",
    "\n",
    "display(final_df)"
   ]
  },
  {
   "cell_type": "markdown",
   "metadata": {
    "id": "QwT5UFpt46dy"
   },
   "source": [
    "-----------"
   ]
  },
  {
   "cell_type": "markdown",
   "metadata": {
    "id": "SRk2ItT546dy"
   },
   "source": [
    "<h2>Graphing volatility across time</h2>"
   ]
  },
  {
   "cell_type": "markdown",
   "metadata": {
    "id": "IYpudIC-46dz"
   },
   "source": [
    "<p>We've now satisfactorily answered our original question. However, you don't need to just analyze data in tabular format. Python contains functionality to allow you to analyze your data visually as well.</p>\n",
    "<p>We will use <code>pandas</code> functionality built on the standard Python plotting library <a href=\"https://matplotlib.org/\">matplotlib</a>. Let's import the library and instruct Jupyter to display the plots inline (i.e. display the plots to the notebook screen so we can see them as we run the code):</p>"
   ]
  },
  {
   "cell_type": "code",
   "execution_count": 49,
   "metadata": {
    "id": "xQAek_Zw46dz"
   },
   "outputs": [],
   "source": [
    "# import fundamental plotting library in Python\n",
    "import matplotlib.pyplot as plt\n",
    "\n",
    "# Instruct jupyter to plot in the notebook\n",
    "%matplotlib inline"
   ]
  },
  {
   "cell_type": "markdown",
   "metadata": {
    "id": "KRO8nDN146dz"
   },
   "source": [
    "<p>Before we plot, we need to convert the <code>Date</code> column in <code>agg_df</code> to a <code>datetime</code>-like object, Python's internal data representation of dates. <code>pandas</code> offers the <a href=\"https://pandas.pydata.org/pandas-docs/stable/reference/api/pandas.to_datetime.html\">to_datetime()</a> method to convert a string that represents a given date format into a <code>datetime</code>-like object. We instruct <code>pandas</code> to use <code>format='%Y-%m-%d'</code>, since our dates are in this format, where %Y indicates the numerical year, %m indicates the numerical month and %d indicates the numerical day. If our dates were in another format, we'd modify this input value appropriately.</p>"
   ]
  },
  {
   "cell_type": "code",
   "execution_count": 50,
   "metadata": {
    "id": "Q2ajT0iQ46d0"
   },
   "outputs": [
    {
     "data": {
      "text/html": [
       "<div>\n",
       "<style scoped>\n",
       "    .dataframe tbody tr th:only-of-type {\n",
       "        vertical-align: middle;\n",
       "    }\n",
       "\n",
       "    .dataframe tbody tr th {\n",
       "        vertical-align: top;\n",
       "    }\n",
       "\n",
       "    .dataframe thead th {\n",
       "        text-align: right;\n",
       "    }\n",
       "</style>\n",
       "<table border=\"1\" class=\"dataframe\">\n",
       "  <thead>\n",
       "    <tr style=\"text-align: right;\">\n",
       "      <th></th>\n",
       "      <th>Date</th>\n",
       "      <th>Open</th>\n",
       "      <th>High</th>\n",
       "      <th>Low</th>\n",
       "      <th>Close</th>\n",
       "      <th>Adj Close</th>\n",
       "      <th>Volume</th>\n",
       "      <th>Volume_Millions</th>\n",
       "      <th>Symbol</th>\n",
       "      <th>VolStat</th>\n",
       "      <th>Return</th>\n",
       "      <th>Year</th>\n",
       "    </tr>\n",
       "    <tr>\n",
       "      <th>DateTime</th>\n",
       "      <th></th>\n",
       "      <th></th>\n",
       "      <th></th>\n",
       "      <th></th>\n",
       "      <th></th>\n",
       "      <th></th>\n",
       "      <th></th>\n",
       "      <th></th>\n",
       "      <th></th>\n",
       "      <th></th>\n",
       "      <th></th>\n",
       "      <th></th>\n",
       "    </tr>\n",
       "  </thead>\n",
       "  <tbody>\n",
       "    <tr>\n",
       "      <th>2014-07-28</th>\n",
       "      <td>2014-07-28</td>\n",
       "      <td>69.750000</td>\n",
       "      <td>71.059998</td>\n",
       "      <td>69.750000</td>\n",
       "      <td>70.879997</td>\n",
       "      <td>57.963978</td>\n",
       "      <td>1806400</td>\n",
       "      <td>1.8064</td>\n",
       "      <td>D</td>\n",
       "      <td>0.018781</td>\n",
       "      <td>0.016201</td>\n",
       "      <td>2014</td>\n",
       "    </tr>\n",
       "    <tr>\n",
       "      <th>2014-07-29</th>\n",
       "      <td>2014-07-29</td>\n",
       "      <td>70.669998</td>\n",
       "      <td>70.980003</td>\n",
       "      <td>69.930000</td>\n",
       "      <td>69.930000</td>\n",
       "      <td>57.187099</td>\n",
       "      <td>2231100</td>\n",
       "      <td>2.2311</td>\n",
       "      <td>D</td>\n",
       "      <td>0.014858</td>\n",
       "      <td>-0.010471</td>\n",
       "      <td>2014</td>\n",
       "    </tr>\n",
       "    <tr>\n",
       "      <th>2014-07-30</th>\n",
       "      <td>2014-07-30</td>\n",
       "      <td>70.000000</td>\n",
       "      <td>70.660004</td>\n",
       "      <td>68.400002</td>\n",
       "      <td>68.970001</td>\n",
       "      <td>56.402020</td>\n",
       "      <td>2588900</td>\n",
       "      <td>2.5889</td>\n",
       "      <td>D</td>\n",
       "      <td>0.032286</td>\n",
       "      <td>-0.014714</td>\n",
       "      <td>2014</td>\n",
       "    </tr>\n",
       "    <tr>\n",
       "      <th>2014-07-31</th>\n",
       "      <td>2014-07-31</td>\n",
       "      <td>68.629997</td>\n",
       "      <td>68.849998</td>\n",
       "      <td>67.580002</td>\n",
       "      <td>67.639999</td>\n",
       "      <td>55.314388</td>\n",
       "      <td>3266900</td>\n",
       "      <td>3.2669</td>\n",
       "      <td>D</td>\n",
       "      <td>0.018505</td>\n",
       "      <td>-0.014425</td>\n",
       "      <td>2014</td>\n",
       "    </tr>\n",
       "    <tr>\n",
       "      <th>2014-08-01</th>\n",
       "      <td>2014-08-01</td>\n",
       "      <td>67.330002</td>\n",
       "      <td>68.410004</td>\n",
       "      <td>67.220001</td>\n",
       "      <td>67.589996</td>\n",
       "      <td>55.273487</td>\n",
       "      <td>2601800</td>\n",
       "      <td>2.6018</td>\n",
       "      <td>D</td>\n",
       "      <td>0.017674</td>\n",
       "      <td>0.003861</td>\n",
       "      <td>2014</td>\n",
       "    </tr>\n",
       "  </tbody>\n",
       "</table>\n",
       "</div>"
      ],
      "text/plain": [
       "                 Date       Open       High        Low      Close  Adj Close  \\\n",
       "DateTime                                                                       \n",
       "2014-07-28 2014-07-28  69.750000  71.059998  69.750000  70.879997  57.963978   \n",
       "2014-07-29 2014-07-29  70.669998  70.980003  69.930000  69.930000  57.187099   \n",
       "2014-07-30 2014-07-30  70.000000  70.660004  68.400002  68.970001  56.402020   \n",
       "2014-07-31 2014-07-31  68.629997  68.849998  67.580002  67.639999  55.314388   \n",
       "2014-08-01 2014-08-01  67.330002  68.410004  67.220001  67.589996  55.273487   \n",
       "\n",
       "             Volume  Volume_Millions Symbol   VolStat    Return  Year  \n",
       "DateTime                                                               \n",
       "2014-07-28  1806400           1.8064      D  0.018781  0.016201  2014  \n",
       "2014-07-29  2231100           2.2311      D  0.014858 -0.010471  2014  \n",
       "2014-07-30  2588900           2.5889      D  0.032286 -0.014714  2014  \n",
       "2014-07-31  3266900           3.2669      D  0.018505 -0.014425  2014  \n",
       "2014-08-01  2601800           2.6018      D  0.017674  0.003861  2014  "
      ]
     },
     "execution_count": 50,
     "metadata": {},
     "output_type": "execute_result"
    }
   ],
   "source": [
    "# To convert a string to a datetime\n",
    "agg_df[\"DateTime\"] = pd.to_datetime(agg_df[\"Date\"], format=\"%Y-%m-%d\")\n",
    "\n",
    "# Set index as DateTime for plotting purposes\n",
    "agg_df = agg_df.set_index([\"DateTime\"])\n",
    "agg_df.head()"
   ]
  },
  {
   "cell_type": "markdown",
   "metadata": {
    "id": "191RYXXs46d0"
   },
   "source": [
    "<p>Now we are ready to look directly at volatility across time. Let's group by symbols and plot the <code>VolStat</code> value across time. Each symbol's time series will be labelled a different color by default:</p>"
   ]
  },
  {
   "cell_type": "code",
   "execution_count": 51,
   "metadata": {
    "id": "Ya_R-2vV46d1"
   },
   "outputs": [
    {
     "data": {
      "text/plain": [
       "Symbol\n",
       "D      Axes(0.125,0.2;0.775x0.68)\n",
       "DUK    Axes(0.125,0.2;0.775x0.68)\n",
       "EXC    Axes(0.125,0.2;0.775x0.68)\n",
       "NEE    Axes(0.125,0.2;0.775x0.68)\n",
       "SO     Axes(0.125,0.2;0.775x0.68)\n",
       "Name: VolStat, dtype: object"
      ]
     },
     "execution_count": 51,
     "metadata": {},
     "output_type": "execute_result"
    }
   ],
   "source": [
    "# Look at volatility regimes\n",
    "fig, ax = plt.subplots(figsize=(15, 6))\n",
    "agg_df.groupby(\"Symbol\")[\"VolStat\"].plot(\n",
    "    ax=ax, legend=True, title=\"Energy Sector Trends - VolStat\"\n",
    ")"
   ]
  },
  {
   "cell_type": "markdown",
   "metadata": {
    "id": "M6AJC5vY46d1"
   },
   "source": [
    "<p>We notice that periods of high volatility tend to \"clump\" together; that is, periods of high volatility are not uniformly and randomly distributed across time, but tend to occur in highly concentrated bursts. This is an interesting insight that we could not gain by only looking at the data in tabular format. In future cases, you will dig deeper into the numerous graphing capabilities of Python and how to integrate them into your data science workflow.</p>"
   ]
  },
  {
   "cell_type": "markdown",
   "metadata": {
    "id": "mkSiT77I46d2"
   },
   "source": [
    "<h3>Exercise 8:</h3>\n",
    "<p>Write a script to find and print the month that has the highest average daily trading volume for each symbol. Also include the average volume value corresponding to that month. For example, symbol D has its highest average daily trading volume of 6.437 million in December 2018.</p>"
   ]
  },
  {
   "cell_type": "markdown",
   "metadata": {
    "id": "O6POKqIJ46d2",
    "tags": [
     "ans_st"
    ]
   },
   "source": [
    "**Answer.**"
   ]
  },
  {
   "cell_type": "code",
   "execution_count": 53,
   "metadata": {},
   "outputs": [
    {
     "data": {
      "text/html": [
       "<div>\n",
       "<style scoped>\n",
       "    .dataframe tbody tr th:only-of-type {\n",
       "        vertical-align: middle;\n",
       "    }\n",
       "\n",
       "    .dataframe tbody tr th {\n",
       "        vertical-align: top;\n",
       "    }\n",
       "\n",
       "    .dataframe thead th {\n",
       "        text-align: right;\n",
       "    }\n",
       "</style>\n",
       "<table border=\"1\" class=\"dataframe\">\n",
       "  <thead>\n",
       "    <tr style=\"text-align: right;\">\n",
       "      <th></th>\n",
       "      <th>Symbol</th>\n",
       "      <th>YearMonth</th>\n",
       "      <th>AvgDailyVol_M</th>\n",
       "    </tr>\n",
       "  </thead>\n",
       "  <tbody>\n",
       "    <tr>\n",
       "      <th>53</th>\n",
       "      <td>D</td>\n",
       "      <td>December 2018</td>\n",
       "      <td>6.44</td>\n",
       "    </tr>\n",
       "    <tr>\n",
       "      <th>111</th>\n",
       "      <td>DUK</td>\n",
       "      <td>September 2018</td>\n",
       "      <td>4.62</td>\n",
       "    </tr>\n",
       "    <tr>\n",
       "      <th>141</th>\n",
       "      <td>EXC</td>\n",
       "      <td>February 2016</td>\n",
       "      <td>9.67</td>\n",
       "    </tr>\n",
       "    <tr>\n",
       "      <th>211</th>\n",
       "      <td>NEE</td>\n",
       "      <td>November 2016</td>\n",
       "      <td>3.62</td>\n",
       "    </tr>\n",
       "    <tr>\n",
       "      <th>287</th>\n",
       "      <td>SO</td>\n",
       "      <td>February 2018</td>\n",
       "      <td>8.46</td>\n",
       "    </tr>\n",
       "  </tbody>\n",
       "</table>\n",
       "</div>"
      ],
      "text/plain": [
       "    Symbol       YearMonth  AvgDailyVol_M\n",
       "53       D   December 2018           6.44\n",
       "111    DUK  September 2018           4.62\n",
       "141    EXC   February 2016           9.67\n",
       "211    NEE   November 2016           3.62\n",
       "287     SO   February 2018           8.46"
      ]
     },
     "metadata": {},
     "output_type": "display_data"
    }
   ],
   "source": [
    "# guarantee 'Date' is datetime and add a 'YearMonth' helper column\n",
    "agg_df['Date'] = pd.to_datetime(agg_df['Date'])\n",
    "agg_df['YearMonth'] = agg_df['Date'].dt.to_period('M')\n",
    "\n",
    "# Compute mean daily volume per Symbol-YearMonth\n",
    "monthly_avg_vol = (\n",
    "    agg_df\n",
    "      .groupby(['Symbol', 'YearMonth'])['Volume_Millions']\n",
    "      .mean()\n",
    "      .reset_index()\n",
    ")\n",
    "\n",
    "# 2.  For each symbol, find the row with the maximum volume\n",
    "idx = monthly_avg_vol.groupby('Symbol')['Volume_Millions'].idxmax()\n",
    "peak_months = monthly_avg_vol.loc[idx].sort_values('Symbol')\n",
    "\n",
    "# 3.  Beautify for printing\n",
    "peak_months['YearMonth'] = peak_months['YearMonth'].dt.strftime('%B %Y')  # \"December 2018\"\n",
    "peak_months.rename(columns={'Volume_Millions': 'AvgDailyVol_M'}, inplace=True)\n",
    "peak_months['AvgDailyVol_M'] = peak_months['AvgDailyVol_M'].round(2)\n",
    "\n",
    "display(peak_months)"
   ]
  },
  {
   "cell_type": "markdown",
   "metadata": {
    "id": "x9TbT3Ag46d2"
   },
   "source": [
    "-------"
   ]
  },
  {
   "cell_type": "markdown",
   "metadata": {
    "id": "bP9L9gX046d3"
   },
   "source": [
    "<h3>Exercise 9:</h3>\n",
    "<p>We have so far looked at volatility grouped by stock symbol or by year and month. As our data covers several years, it's also interesting to group the data by calendar month, ignoring the year component (e.g. averaging together all Januarys). This allows us to see if some points of the year, on average, are more susceptible to volatile trading patterns.</p>\n",
    "<p>Group the data by month (ignoring the year), and identify :</p>\n",
    "<ul>\n",
    "<li>The month with, on average, the highest volatility</li>\n",
    "<li>The month with, on average, the lowest volatility</li>\n",
    "<li>Any general patterns that you notice over the whole year</li>\n",
    "</ul>"
   ]
  },
  {
   "cell_type": "markdown",
   "metadata": {
    "id": "y66UTSb646d3",
    "tags": [
     "ans_st"
    ]
   },
   "source": [
    "**Answer.**"
   ]
  },
  {
   "cell_type": "code",
   "execution_count": 55,
   "metadata": {},
   "outputs": [
    {
     "name": "stdout",
     "output_type": "stream",
     "text": [
      "• Highest-vol month on average: **February** (0.0180)\n",
      "• Lowest-vol month on average: **July** (0.0134)\n"
     ]
    },
    {
     "data": {
      "image/png": "[encoded data removed]",
      "text/plain": [
       "<Figure size 800x400 with 1 Axes>"
      ]
     },
     "metadata": {},
     "output_type": "display_data"
    }
   ],
   "source": [
    "# Extract calendar month (1–12) and name helper columns\n",
    "agg_df['MonthNum']  = agg_df['Date'].dt.month\n",
    "agg_df['MonthName'] = agg_df['Date'].dt.month_name()\n",
    "\n",
    "# Average volatility across *all* symbols for each month\n",
    "avg_vol_by_month = (\n",
    "    agg_df\n",
    "      .groupby('MonthNum')['VolStat']\n",
    "      .mean()\n",
    "      .reset_index()\n",
    "      .sort_values('MonthNum')\n",
    ")\n",
    "\n",
    "# Locate the extremums\n",
    "hi_row = avg_vol_by_month.loc[avg_vol_by_month['VolStat'].idxmax()]\n",
    "lo_row = avg_vol_by_month.loc[avg_vol_by_month['VolStat'].idxmin()]\n",
    "\n",
    "print(f\"• Highest-vol month on average: **{pd.to_datetime(hi_row.MonthNum, format='%m').strftime('%B')}** \"\n",
    "      f\"({hi_row.VolStat:.4f})\")\n",
    "print(f\"• Lowest-vol month on average: **{pd.to_datetime(lo_row.MonthNum, format='%m').strftime('%B')}** \"\n",
    "      f\"({lo_row.VolStat:.4f})\")\n",
    "\n",
    "# Quick visual check\n",
    "plt.figure(figsize=(8,4))\n",
    "plt.plot(avg_vol_by_month['MonthNum'], avg_vol_by_month['VolStat'], marker='o')\n",
    "plt.xticks(avg_vol_by_month['MonthNum'], \n",
    "           [pd.to_datetime(m, format='%m').strftime('%b') for m in avg_vol_by_month['MonthNum']])\n",
    "plt.title('Average Volatility (VolStat) by Calendar Month')\n",
    "plt.xlabel('Month')\n",
    "plt.ylabel('Mean VolStat')\n",
    "plt.grid(True, axis='y')\n",
    "plt.tight_layout()\n",
    "plt.show()"
   ]
  },
  {
   "cell_type": "markdown",
   "metadata": {
    "id": "wmuAgbGk46d3"
   },
   "source": [
    "-------"
   ]
  },
  {
   "cell_type": "markdown",
   "metadata": {
    "id": "E3Jd1Oad46d4"
   },
   "source": [
    "<h3>Exercise 10:</h3>\n",
    "<p>The final point that we're interested in is looking at the days where:</p>\n",
    "<ul>\n",
    "<li>The return is high</li>\n",
    "<li>Trading volume is low</li>\n",
    "</ul>\n",
    "<p>This indicates days where the price moved substantially but without much changing hands.</p>\n",
    "<p>The thresholds that we are interested in are:\n",
    "* Low volume: any day with a trading volume in the bottom 25th percentile\n",
    "* High return: any day where the return is in the opt 75th percentile</p>\n",
    "<p>Write the code necessary to:\n",
    "* Calculate and add a \"High/Low\" variable for Volume Level (low is below 25th percentile)\n",
    "* Calculate and add a \"High/Low\" variable for Return (high is above 75th percentile)</p>\n",
    "<p>Describe what you see in terms of:\n",
    "* How many rows fall into our \"low volume\" definition?\n",
    "* How many rows fall into our \"high return\" definition?\n",
    "* How many rows fall into the combination of high return with low volume definition?\n",
    "* What are the 20 rows with the highest return but with low volume? What do you notice about these trades?</p>\n",
    "<p>(hint, you can use the <a href=\"https://pandas.pydata.org/pandas-docs/stable/reference/api/pandas.DataFrame.sort_values.html\">sort_values()</a> method in <code>pandas</code> to sort a DataFrame by a specific column.)</p>"
   ]
  },
  {
   "cell_type": "markdown",
   "metadata": {
    "id": "tDP1xlB346d4",
    "tags": [
     "ans_st"
    ]
   },
   "source": [
    "**Answer.**"
   ]
  },
  {
   "cell_type": "code",
   "execution_count": 58,
   "metadata": {},
   "outputs": [
    {
     "name": "stdout",
     "output_type": "stream",
     "text": [
      "Low-volume threshold  (25 %): 2.287 M shares\n",
      "High-return threshold (75 %): 0.0064\n",
      "Rows tagged LOW-volume:   1574\n",
      "Rows tagged HIGH-return:  1574\n",
      "Rows with BOTH signals:   307\n"
     ]
    },
    {
     "data": {
      "text/html": [
       "<div>\n",
       "<style scoped>\n",
       "    .dataframe tbody tr th:only-of-type {\n",
       "        vertical-align: middle;\n",
       "    }\n",
       "\n",
       "    .dataframe tbody tr th {\n",
       "        vertical-align: top;\n",
       "    }\n",
       "\n",
       "    .dataframe thead th {\n",
       "        text-align: right;\n",
       "    }\n",
       "</style>\n",
       "<table border=\"1\" class=\"dataframe\">\n",
       "  <thead>\n",
       "    <tr style=\"text-align: right;\">\n",
       "      <th></th>\n",
       "      <th>Date</th>\n",
       "      <th>Symbol</th>\n",
       "      <th>Volume_Millions</th>\n",
       "      <th>Return</th>\n",
       "    </tr>\n",
       "    <tr>\n",
       "      <th>DateTime</th>\n",
       "      <th></th>\n",
       "      <th></th>\n",
       "      <th></th>\n",
       "      <th></th>\n",
       "    </tr>\n",
       "  </thead>\n",
       "  <tbody>\n",
       "    <tr>\n",
       "      <th>2018-02-15</th>\n",
       "      <td>2018-02-15</td>\n",
       "      <td>NEE</td>\n",
       "      <td>2.1855</td>\n",
       "      <td>0.027957</td>\n",
       "    </tr>\n",
       "    <tr>\n",
       "      <th>2018-02-23</th>\n",
       "      <td>2018-02-23</td>\n",
       "      <td>D</td>\n",
       "      <td>2.0558</td>\n",
       "      <td>0.025390</td>\n",
       "    </tr>\n",
       "    <tr>\n",
       "      <th>2018-10-24</th>\n",
       "      <td>2018-10-24</td>\n",
       "      <td>NEE</td>\n",
       "      <td>2.1397</td>\n",
       "      <td>0.024863</td>\n",
       "    </tr>\n",
       "    <tr>\n",
       "      <th>2018-02-23</th>\n",
       "      <td>2018-02-23</td>\n",
       "      <td>NEE</td>\n",
       "      <td>1.8217</td>\n",
       "      <td>0.024790</td>\n",
       "    </tr>\n",
       "    <tr>\n",
       "      <th>2014-10-08</th>\n",
       "      <td>2014-10-08</td>\n",
       "      <td>NEE</td>\n",
       "      <td>2.1036</td>\n",
       "      <td>0.022308</td>\n",
       "    </tr>\n",
       "    <tr>\n",
       "      <th>2016-09-21</th>\n",
       "      <td>2016-09-21</td>\n",
       "      <td>NEE</td>\n",
       "      <td>1.9524</td>\n",
       "      <td>0.021249</td>\n",
       "    </tr>\n",
       "    <tr>\n",
       "      <th>2017-09-11</th>\n",
       "      <td>2017-09-11</td>\n",
       "      <td>NEE</td>\n",
       "      <td>2.2795</td>\n",
       "      <td>0.021179</td>\n",
       "    </tr>\n",
       "    <tr>\n",
       "      <th>2017-11-07</th>\n",
       "      <td>2017-11-07</td>\n",
       "      <td>NEE</td>\n",
       "      <td>1.9680</td>\n",
       "      <td>0.020744</td>\n",
       "    </tr>\n",
       "    <tr>\n",
       "      <th>2019-06-05</th>\n",
       "      <td>2019-06-05</td>\n",
       "      <td>NEE</td>\n",
       "      <td>1.8866</td>\n",
       "      <td>0.020698</td>\n",
       "    </tr>\n",
       "    <tr>\n",
       "      <th>2014-12-24</th>\n",
       "      <td>2014-12-24</td>\n",
       "      <td>D</td>\n",
       "      <td>1.4147</td>\n",
       "      <td>0.020573</td>\n",
       "    </tr>\n",
       "    <tr>\n",
       "      <th>2018-05-21</th>\n",
       "      <td>2018-05-21</td>\n",
       "      <td>NEE</td>\n",
       "      <td>2.0963</td>\n",
       "      <td>0.020185</td>\n",
       "    </tr>\n",
       "    <tr>\n",
       "      <th>2017-07-26</th>\n",
       "      <td>2017-07-26</td>\n",
       "      <td>NEE</td>\n",
       "      <td>1.7604</td>\n",
       "      <td>0.020123</td>\n",
       "    </tr>\n",
       "    <tr>\n",
       "      <th>2018-07-10</th>\n",
       "      <td>2018-07-10</td>\n",
       "      <td>NEE</td>\n",
       "      <td>1.8511</td>\n",
       "      <td>0.018987</td>\n",
       "    </tr>\n",
       "    <tr>\n",
       "      <th>2019-02-07</th>\n",
       "      <td>2019-02-07</td>\n",
       "      <td>NEE</td>\n",
       "      <td>2.1292</td>\n",
       "      <td>0.018820</td>\n",
       "    </tr>\n",
       "    <tr>\n",
       "      <th>2018-10-05</th>\n",
       "      <td>2018-10-05</td>\n",
       "      <td>NEE</td>\n",
       "      <td>2.0933</td>\n",
       "      <td>0.017593</td>\n",
       "    </tr>\n",
       "    <tr>\n",
       "      <th>2015-10-15</th>\n",
       "      <td>2015-10-15</td>\n",
       "      <td>NEE</td>\n",
       "      <td>1.7948</td>\n",
       "      <td>0.017450</td>\n",
       "    </tr>\n",
       "    <tr>\n",
       "      <th>2019-05-10</th>\n",
       "      <td>2019-05-10</td>\n",
       "      <td>NEE</td>\n",
       "      <td>1.6050</td>\n",
       "      <td>0.016971</td>\n",
       "    </tr>\n",
       "    <tr>\n",
       "      <th>2017-02-08</th>\n",
       "      <td>2017-02-08</td>\n",
       "      <td>NEE</td>\n",
       "      <td>2.1486</td>\n",
       "      <td>0.016581</td>\n",
       "    </tr>\n",
       "    <tr>\n",
       "      <th>2015-10-08</th>\n",
       "      <td>2015-10-08</td>\n",
       "      <td>D</td>\n",
       "      <td>1.9351</td>\n",
       "      <td>0.016386</td>\n",
       "    </tr>\n",
       "    <tr>\n",
       "      <th>2014-07-28</th>\n",
       "      <td>2014-07-28</td>\n",
       "      <td>D</td>\n",
       "      <td>1.8064</td>\n",
       "      <td>0.016201</td>\n",
       "    </tr>\n",
       "  </tbody>\n",
       "</table>\n",
       "</div>"
      ],
      "text/plain": [
       "                 Date Symbol  Volume_Millions    Return\n",
       "DateTime                                               \n",
       "2018-02-15 2018-02-15    NEE           2.1855  0.027957\n",
       "2018-02-23 2018-02-23      D           2.0558  0.025390\n",
       "2018-10-24 2018-10-24    NEE           2.1397  0.024863\n",
       "2018-02-23 2018-02-23    NEE           1.8217  0.024790\n",
       "2014-10-08 2014-10-08    NEE           2.1036  0.022308\n",
       "2016-09-21 2016-09-21    NEE           1.9524  0.021249\n",
       "2017-09-11 2017-09-11    NEE           2.2795  0.021179\n",
       "2017-11-07 2017-11-07    NEE           1.9680  0.020744\n",
       "2019-06-05 2019-06-05    NEE           1.8866  0.020698\n",
       "2014-12-24 2014-12-24      D           1.4147  0.020573\n",
       "2018-05-21 2018-05-21    NEE           2.0963  0.020185\n",
       "2017-07-26 2017-07-26    NEE           1.7604  0.020123\n",
       "2018-07-10 2018-07-10    NEE           1.8511  0.018987\n",
       "2019-02-07 2019-02-07    NEE           2.1292  0.018820\n",
       "2018-10-05 2018-10-05    NEE           2.0933  0.017593\n",
       "2015-10-15 2015-10-15    NEE           1.7948  0.017450\n",
       "2019-05-10 2019-05-10    NEE           1.6050  0.016971\n",
       "2017-02-08 2017-02-08    NEE           2.1486  0.016581\n",
       "2015-10-08 2015-10-08      D           1.9351  0.016386\n",
       "2014-07-28 2014-07-28      D           1.8064  0.016201"
      ]
     },
     "metadata": {},
     "output_type": "display_data"
    }
   ],
   "source": [
    "# Pick the metric columns \n",
    "VOL_COL = 'Volume_Millions'\n",
    "RET_COL = 'Return'\n",
    "\n",
    "# Global thresholds (25th / 75th percentiles)\n",
    "low_vol_thresh   = agg_df[VOL_COL].quantile(0.25)\n",
    "high_ret_thresh  = agg_df[RET_COL].quantile(0.75)\n",
    "\n",
    "print(f\"Low-volume threshold  (25 %): {low_vol_thresh:.3f} M shares\")\n",
    "print(f\"High-return threshold (75 %): {high_ret_thresh:.4f}\")\n",
    "\n",
    "# 2.  Flag columns\n",
    "agg_df['VolLevel']  = np.where(agg_df[VOL_COL] <  low_vol_thresh, 'LOW',  'NORMAL+')\n",
    "agg_df['RetLevel']  = np.where(agg_df[RET_COL]  > high_ret_thresh, 'HIGH', 'NORMAL-')\n",
    "\n",
    "\n",
    "# Counts\n",
    "n_low_vol = (agg_df['VolLevel'] == 'LOW').sum()\n",
    "n_high_ret = (agg_df['RetLevel'] == 'HIGH').sum()\n",
    "combo_mask = (agg_df['VolLevel'] == 'LOW') & (agg_df['RetLevel'] == 'HIGH')\n",
    "n_combo = combo_mask.sum()\n",
    "\n",
    "print(f\"Rows tagged LOW-volume:   {n_low_vol}\")\n",
    "print(f\"Rows tagged HIGH-return:  {n_high_ret}\")\n",
    "print(f\"Rows with BOTH signals:   {n_combo}\")\n",
    "\n",
    "# Top-20: highest return *within* the LOW-volume subset\n",
    "top20_quiet_rips = (\n",
    "    agg_df.loc[combo_mask]\n",
    "          .sort_values(RET_COL, ascending=False)\n",
    "          .head(20)\n",
    "          .loc[:, ['Date', 'Symbol', VOL_COL, RET_COL]]\n",
    ")\n",
    "\n",
    "display(top20_quiet_rips)"
   ]
  },
  {
   "cell_type": "markdown",
   "metadata": {
    "id": "grozdzxu46d4"
   },
   "source": [
    "-------"
   ]
  },
  {
   "cell_type": "markdown",
   "metadata": {
    "id": "KZpviU8R46d5"
   },
   "source": [
    "<h2>Conclusions</h2>"
   ]
  },
  {
   "cell_type": "markdown",
   "metadata": {
    "collapsed": true,
    "id": "rFPfDwmx46d5",
    "jupyter": {
     "outputs_hidden": true
    }
   },
   "source": [
    "<p>Having completed the analysis of the energy sector stock data, we have identified a number of interesting patterns relating volatility to trading volume. Specifically, we found that periods of high volatility also exhibit very high volume. This trend is consistent across all symbols.</p>\n",
    "<p>We also saw that each stock exhibited \"volatility clustering\" – periods of high volatility tend to be clumped together. Each of the stocks experienced high volatility at relatively similar times which suggests some broader market factor may be affecting the energy sector.</p>"
   ]
  },
  {
   "cell_type": "markdown",
   "metadata": {
    "id": "hF3lOzeR46d5"
   },
   "source": [
    "<h2>Takeaways</h2>"
   ]
  },
  {
   "cell_type": "markdown",
   "metadata": {
    "collapsed": true,
    "id": "K9ovpb7s46d5",
    "jupyter": {
     "outputs_hidden": true
    }
   },
   "source": [
    "<p>In this case, we've learned the foundations of the <code>pandas</code> library in Python. We now know how to:</p>\n",
    "<ol>\n",
    "<li>Read data from CSV files</li>\n",
    "<li>Aggregate and manipulate data using <code>pandas</code></li>\n",
    "<li>Analyze summary statistics and gather information from trends across time</li>\n",
    "<li>Use <code>matplotlib</code> to create plots for visual analysis</li>\n",
    "</ol>\n",
    "<p>Going forward, we will be consistently using <code>pandas</code> as a data analysis framework (along with other tools) to build more complex projects and solve critical business problems. It is critical you become as familiar with <code>pandas</code> as possible and it is imperative that you continue researching/investigating new components of this library after the completion of this program. What we have taught here are only the essential basics of <code>pandas</code>; there is still a vast amount of power to the library that you will discover and utilize later on in your development as a data professional.</p>\n",
    "<p>We highly recommend revisiting this case a few more times and going through it from beginning to end with no aid/answers. You should know the various DataFrame/Series methods we introduced here as well as how to carry out common operations on data, such as finding percentiles, before you consider yourself to have \"mastered\" this material.</p>"
   ]
  },
  {
   "cell_type": "code",
   "execution_count": null,
   "metadata": {
    "id": "Euex_e1d46d6"
   },
   "outputs": [],
   "source": []
  }
 ],
 "metadata": {
  "colab": {
   "provenance": []
  },
  "kernelspec": {
   "display_name": "Python 3 (ipykernel)",
   "language": "python",
   "name": "python3"
  },
  "language_info": {
   "codemirror_mode": {
    "name": "ipython",
    "version": 3
   },
   "file_extension": ".py",
   "mimetype": "text/x-python",
   "name": "python",
   "nbconvert_exporter": "python",
   "pygments_lexer": "ipython3",
   "version": "3.12.7"
  }
 },
 "nbformat": 4,
 "nbformat_minor": 4
}

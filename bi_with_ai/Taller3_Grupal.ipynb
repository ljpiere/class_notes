{
 "cells": [
  {
   "cell_type": "markdown",
   "metadata": {},
   "source": [
    "# Taller 2: Modelos de aprendizaje supervisado aplicado a la detección de diabetes"
   ]
  },
  {
   "cell_type": "markdown",
   "metadata": {
    "jp-MarkdownHeadingCollapsed": true
   },
   "source": [
    "## Introducción al trabajo"
   ]
  },
  {
   "cell_type": "markdown",
   "metadata": {},
   "source": [
    "Agregar descripción"
   ]
  },
  {
   "cell_type": "markdown",
   "metadata": {
    "jp-MarkdownHeadingCollapsed": true
   },
   "source": [
    "## Objetivos del trabajo"
   ]
  },
  {
   "cell_type": "markdown",
   "metadata": {},
   "source": [
    "- Aquí va\n",
    "- Un listado\n",
    "- De objetivos"
   ]
  },
  {
   "cell_type": "markdown",
   "metadata": {
    "jp-MarkdownHeadingCollapsed": true
   },
   "source": [
    "## 0. Pits"
   ]
  },
  {
   "cell_type": "code",
   "execution_count": 66,
   "metadata": {
    "executionInfo": {
     "elapsed": 22,
     "status": "ok",
     "timestamp": 1746883628451,
     "user": {
      "displayName": "Jean Castro",
      "userId": "17938633343409961172"
     },
     "user_tz": 300
    },
    "id": "D0bF-gbqSaZU"
   },
   "outputs": [],
   "source": [
    "# origen del visitante\n",
    "entorno_trabajo = 'local'\n",
    "\n",
    "# básicos de cocina\n",
    "import pandas as pd\n",
    "import numpy as np\n",
    "import matplotlib.pyplot as plt\n",
    "import seaborn as sns\n",
    "# alistamiento de datos\n",
    "from sklearn.model_selection import train_test_split\n",
    "# modelos\n",
    "from sklearn.linear_model import LogisticRegression\n",
    "from sklearn.tree import DecisionTreeClassifier\n",
    "from sklearn.ensemble import RandomForestClassifier\n",
    "# evaluación\n",
    "from sklearn import metrics\n",
    "from sklearn.metrics import classification_report\n",
    "from sklearn.model_selection import cross_val_score\n",
    "# optimizacion\n",
    "from sklearn.model_selection import GridSearchCV\n",
    "from sklearn.pipeline import make_pipeline\n",
    "from sklearn.preprocessing import StandardScaler\n",
    "# popurri\n",
    "from sklearn.tree import export_graphviz\n",
    "from IPython.display import Image\n",
    "from io import StringIO\n",
    "import pydotplus\n",
    "from sklearn import tree\n",
    "#\n",
    "#--------------------------------------------------------\n",
    "# existe un error en la convergencia de datos para el modelo de reg log\n",
    "# es un dataset sintetico, por ende, error esperado\n",
    "# desactivaremos este tipo de errores\n",
    "import warnings\n",
    "from sklearn.exceptions import ConvergenceWarning\n",
    "#--------------------------------------------------------\n",
    "# instalación de librerías faltantes\n",
    "try:\n",
    "    from six import StringIO\n",
    "    import pydotplus\n",
    "except:\n",
    "    %pip install graphviz pydotplus\n",
    "    %pip install six\n",
    "    %pip install pydotplus\n",
    "    from six import StringIO\n",
    "    import pydotplus"
   ]
  },
  {
   "cell_type": "code",
   "execution_count": 2,
   "metadata": {},
   "outputs": [],
   "source": [
    "# Prelomonar a la carga\n",
    "def invocar_dataset(ds_path, entorno = entorno_trabajo):\n",
    "    \"\"\"Carga dataset a partir del entorno de trabajo.\n",
    "\n",
    "    Args:\n",
    "        ds_path (str): Ubicacion válida del archivo, URL o ubicación local.\n",
    "        entorno (str, optional): Entorno de trabajo: local o colab. Defaults to entorno_trabajo.\n",
    "\n",
    "    Returns:\n",
    "        dataframe: Si la carga es correcta, devolverá el objeto de pandas dataframe.\n",
    "    \"\"\"\n",
    "    # Swith\n",
    "    if entorno == \"colab\":\n",
    "        try:\n",
    "            # Using google colab\n",
    "            from google.colab import drive\n",
    "            drive.mount('/content/drive')\n",
    "            return pd.read_csv(ds_path)\n",
    "        except:\n",
    "        # if not...\n",
    "            return pd.read_csv(ds_path)\n",
    "    elif entorno == \"local\":\n",
    "        return pd.read_csv(ds_path)\n",
    "    else:\n",
    "        print(\"No hay suficientes combinaciones\")"
   ]
  },
  {
   "cell_type": "markdown",
   "metadata": {
    "id": "K-2_s3tlT8rV",
    "jp-MarkdownHeadingCollapsed": true
   },
   "source": [
    "## 1. Carga y validación del dataset"
   ]
  },
  {
   "cell_type": "markdown",
   "metadata": {},
   "source": [
    "Carga de un dataset. Se utiliza un bloque try-except para combinar uso de Google Drive/Conexión local."
   ]
  },
  {
   "cell_type": "code",
   "execution_count": 6,
   "metadata": {},
   "outputs": [],
   "source": [
    "pt_drive = \"drive/MyDrive/data/diabetes.csv\" # no tan util para ejecuciones compartidas\n",
    "try:\n",
    "    pt_local = \"../datasets/diabetes.csv\"\n",
    "    df = invocar_dataset(pt_local)\n",
    "except:\n",
    "    pt_git = (\n",
    "    \"https://raw.githubusercontent.com/ljpiere/class_notes/\"\n",
    "    \"main/datasets/diabetes.csv\"\n",
    "    )\n",
    "    df = invocar_dataset(pt_git)"
   ]
  },
  {
   "cell_type": "markdown",
   "metadata": {},
   "source": [
    "Verificamos carga del dataset correcta."
   ]
  },
  {
   "cell_type": "code",
   "execution_count": 7,
   "metadata": {
    "colab": {
     "base_uri": "https://localhost:8080/",
     "height": 206
    },
    "executionInfo": {
     "elapsed": 324,
     "status": "ok",
     "timestamp": 1746882241405,
     "user": {
      "displayName": "Jean Castro",
      "userId": "17938633343409961172"
     },
     "user_tz": 300
    },
    "id": "KTajFE9RSSTd",
    "outputId": "09fcab79-1781-4762-e68d-c6eb9fb439ee"
   },
   "outputs": [
    {
     "data": {
      "text/html": [
       "<div>\n",
       "<style scoped>\n",
       "    .dataframe tbody tr th:only-of-type {\n",
       "        vertical-align: middle;\n",
       "    }\n",
       "\n",
       "    .dataframe tbody tr th {\n",
       "        vertical-align: top;\n",
       "    }\n",
       "\n",
       "    .dataframe thead th {\n",
       "        text-align: right;\n",
       "    }\n",
       "</style>\n",
       "<table border=\"1\" class=\"dataframe\">\n",
       "  <thead>\n",
       "    <tr style=\"text-align: right;\">\n",
       "      <th></th>\n",
       "      <th>Pregnancies</th>\n",
       "      <th>Glucose</th>\n",
       "      <th>BloodPressure</th>\n",
       "      <th>SkinThickness</th>\n",
       "      <th>Insulin</th>\n",
       "      <th>BMI</th>\n",
       "      <th>DiabetesPedigreeFunction</th>\n",
       "      <th>Age</th>\n",
       "      <th>Outcome</th>\n",
       "    </tr>\n",
       "  </thead>\n",
       "  <tbody>\n",
       "    <tr>\n",
       "      <th>0</th>\n",
       "      <td>6</td>\n",
       "      <td>148</td>\n",
       "      <td>72</td>\n",
       "      <td>35</td>\n",
       "      <td>0</td>\n",
       "      <td>33.6</td>\n",
       "      <td>0.627</td>\n",
       "      <td>50</td>\n",
       "      <td>1</td>\n",
       "    </tr>\n",
       "    <tr>\n",
       "      <th>1</th>\n",
       "      <td>1</td>\n",
       "      <td>85</td>\n",
       "      <td>66</td>\n",
       "      <td>29</td>\n",
       "      <td>0</td>\n",
       "      <td>26.6</td>\n",
       "      <td>0.351</td>\n",
       "      <td>31</td>\n",
       "      <td>0</td>\n",
       "    </tr>\n",
       "    <tr>\n",
       "      <th>2</th>\n",
       "      <td>8</td>\n",
       "      <td>183</td>\n",
       "      <td>64</td>\n",
       "      <td>0</td>\n",
       "      <td>0</td>\n",
       "      <td>23.3</td>\n",
       "      <td>0.672</td>\n",
       "      <td>32</td>\n",
       "      <td>1</td>\n",
       "    </tr>\n",
       "    <tr>\n",
       "      <th>3</th>\n",
       "      <td>1</td>\n",
       "      <td>89</td>\n",
       "      <td>66</td>\n",
       "      <td>23</td>\n",
       "      <td>94</td>\n",
       "      <td>28.1</td>\n",
       "      <td>0.167</td>\n",
       "      <td>21</td>\n",
       "      <td>0</td>\n",
       "    </tr>\n",
       "    <tr>\n",
       "      <th>4</th>\n",
       "      <td>0</td>\n",
       "      <td>137</td>\n",
       "      <td>40</td>\n",
       "      <td>35</td>\n",
       "      <td>168</td>\n",
       "      <td>43.1</td>\n",
       "      <td>2.288</td>\n",
       "      <td>33</td>\n",
       "      <td>1</td>\n",
       "    </tr>\n",
       "  </tbody>\n",
       "</table>\n",
       "</div>"
      ],
      "text/plain": [
       "   Pregnancies  Glucose  BloodPressure  SkinThickness  Insulin   BMI  \\\n",
       "0            6      148             72             35        0  33.6   \n",
       "1            1       85             66             29        0  26.6   \n",
       "2            8      183             64              0        0  23.3   \n",
       "3            1       89             66             23       94  28.1   \n",
       "4            0      137             40             35      168  43.1   \n",
       "\n",
       "   DiabetesPedigreeFunction  Age  Outcome  \n",
       "0                     0.627   50        1  \n",
       "1                     0.351   31        0  \n",
       "2                     0.672   32        1  \n",
       "3                     0.167   21        0  \n",
       "4                     2.288   33        1  "
      ]
     },
     "execution_count": 7,
     "metadata": {},
     "output_type": "execute_result"
    }
   ],
   "source": [
    "df.head()"
   ]
  },
  {
   "cell_type": "markdown",
   "metadata": {
    "id": "puhR4EcTT_Hq"
   },
   "source": [
    "## 2. Exploración del dataframe"
   ]
  },
  {
   "cell_type": "markdown",
   "metadata": {
    "jp-MarkdownHeadingCollapsed": true
   },
   "source": [
    "### 2.1 Renombre de columnas"
   ]
  },
  {
   "cell_type": "markdown",
   "metadata": {},
   "source": [
    "Algunas columnas tienen unos nombres algo extensos. Se renombra para más facilidad."
   ]
  },
  {
   "cell_type": "code",
   "execution_count": 8,
   "metadata": {
    "executionInfo": {
     "elapsed": 8,
     "status": "ok",
     "timestamp": 1746882333305,
     "user": {
      "displayName": "Jean Castro",
      "userId": "17938633343409961172"
     },
     "user_tz": 300
    },
    "id": "lLbEySFmS6D6"
   },
   "outputs": [],
   "source": [
    "df.columns = ['pregnant', 'glucose', 'bp', 'skin', 'insulin', 'bmi', 'pedigree', 'age', 'label']"
   ]
  },
  {
   "cell_type": "markdown",
   "metadata": {},
   "source": [
    "Validamos cambio."
   ]
  },
  {
   "cell_type": "code",
   "execution_count": 9,
   "metadata": {
    "colab": {
     "base_uri": "https://localhost:8080/",
     "height": 206
    },
    "executionInfo": {
     "elapsed": 93,
     "status": "ok",
     "timestamp": 1746882367459,
     "user": {
      "displayName": "Jean Castro",
      "userId": "17938633343409961172"
     },
     "user_tz": 300
    },
    "id": "UR1F9QSJTYGq",
    "outputId": "21741226-0454-41e5-cdb6-deca7adc359a"
   },
   "outputs": [
    {
     "data": {
      "text/html": [
       "<div>\n",
       "<style scoped>\n",
       "    .dataframe tbody tr th:only-of-type {\n",
       "        vertical-align: middle;\n",
       "    }\n",
       "\n",
       "    .dataframe tbody tr th {\n",
       "        vertical-align: top;\n",
       "    }\n",
       "\n",
       "    .dataframe thead th {\n",
       "        text-align: right;\n",
       "    }\n",
       "</style>\n",
       "<table border=\"1\" class=\"dataframe\">\n",
       "  <thead>\n",
       "    <tr style=\"text-align: right;\">\n",
       "      <th></th>\n",
       "      <th>pregnant</th>\n",
       "      <th>glucose</th>\n",
       "      <th>bp</th>\n",
       "      <th>skin</th>\n",
       "      <th>insulin</th>\n",
       "      <th>bmi</th>\n",
       "      <th>pedigree</th>\n",
       "      <th>age</th>\n",
       "      <th>label</th>\n",
       "    </tr>\n",
       "  </thead>\n",
       "  <tbody>\n",
       "    <tr>\n",
       "      <th>0</th>\n",
       "      <td>6</td>\n",
       "      <td>148</td>\n",
       "      <td>72</td>\n",
       "      <td>35</td>\n",
       "      <td>0</td>\n",
       "      <td>33.6</td>\n",
       "      <td>0.627</td>\n",
       "      <td>50</td>\n",
       "      <td>1</td>\n",
       "    </tr>\n",
       "    <tr>\n",
       "      <th>1</th>\n",
       "      <td>1</td>\n",
       "      <td>85</td>\n",
       "      <td>66</td>\n",
       "      <td>29</td>\n",
       "      <td>0</td>\n",
       "      <td>26.6</td>\n",
       "      <td>0.351</td>\n",
       "      <td>31</td>\n",
       "      <td>0</td>\n",
       "    </tr>\n",
       "    <tr>\n",
       "      <th>2</th>\n",
       "      <td>8</td>\n",
       "      <td>183</td>\n",
       "      <td>64</td>\n",
       "      <td>0</td>\n",
       "      <td>0</td>\n",
       "      <td>23.3</td>\n",
       "      <td>0.672</td>\n",
       "      <td>32</td>\n",
       "      <td>1</td>\n",
       "    </tr>\n",
       "    <tr>\n",
       "      <th>3</th>\n",
       "      <td>1</td>\n",
       "      <td>89</td>\n",
       "      <td>66</td>\n",
       "      <td>23</td>\n",
       "      <td>94</td>\n",
       "      <td>28.1</td>\n",
       "      <td>0.167</td>\n",
       "      <td>21</td>\n",
       "      <td>0</td>\n",
       "    </tr>\n",
       "    <tr>\n",
       "      <th>4</th>\n",
       "      <td>0</td>\n",
       "      <td>137</td>\n",
       "      <td>40</td>\n",
       "      <td>35</td>\n",
       "      <td>168</td>\n",
       "      <td>43.1</td>\n",
       "      <td>2.288</td>\n",
       "      <td>33</td>\n",
       "      <td>1</td>\n",
       "    </tr>\n",
       "  </tbody>\n",
       "</table>\n",
       "</div>"
      ],
      "text/plain": [
       "   pregnant  glucose  bp  skin  insulin   bmi  pedigree  age  label\n",
       "0         6      148  72    35        0  33.6     0.627   50      1\n",
       "1         1       85  66    29        0  26.6     0.351   31      0\n",
       "2         8      183  64     0        0  23.3     0.672   32      1\n",
       "3         1       89  66    23       94  28.1     0.167   21      0\n",
       "4         0      137  40    35      168  43.1     2.288   33      1"
      ]
     },
     "execution_count": 9,
     "metadata": {},
     "output_type": "execute_result"
    }
   ],
   "source": [
    "df.head()"
   ]
  },
  {
   "cell_type": "markdown",
   "metadata": {
    "jp-MarkdownHeadingCollapsed": true
   },
   "source": [
    "### 2.2 Verificación de valores nulos"
   ]
  },
  {
   "cell_type": "markdown",
   "metadata": {},
   "source": [
    "Un loop nos ayudará a validar de primera mano la cantidad de vacíos en cada columna."
   ]
  },
  {
   "cell_type": "code",
   "execution_count": 10,
   "metadata": {
    "colab": {
     "base_uri": "https://localhost:8080/"
    },
    "executionInfo": {
     "elapsed": 14,
     "status": "ok",
     "timestamp": 1746882617618,
     "user": {
      "displayName": "Jean Castro",
      "userId": "17938633343409961172"
     },
     "user_tz": 300
    },
    "id": "bdrj1ri5UKwM",
    "outputId": "6cd2220a-1764-4d29-f6bb-01f37c67af50"
   },
   "outputs": [
    {
     "name": "stdout",
     "output_type": "stream",
     "text": [
      "Column:  pregnant Null values:  0\n",
      "Column:  glucose Null values:  0\n",
      "Column:  bp Null values:  0\n",
      "Column:  skin Null values:  0\n",
      "Column:  insulin Null values:  0\n",
      "Column:  bmi Null values:  0\n",
      "Column:  pedigree Null values:  0\n",
      "Column:  age Null values:  0\n",
      "Column:  label Null values:  0\n"
     ]
    }
   ],
   "source": [
    "for i in df.columns:\n",
    "  print(\"Column: \", i, \"Null values: \", df[i].isnull().sum())"
   ]
  },
  {
   "cell_type": "markdown",
   "metadata": {
    "jp-MarkdownHeadingCollapsed": true
   },
   "source": [
    "### 2.3 Verificando balanceo de clases"
   ]
  },
  {
   "cell_type": "markdown",
   "metadata": {},
   "source": [
    "La variable a predecir es la columna `label`. Esta indica `0` si el paciente no fue diagnosticado con diabetes y `1` si el paciente fue diagnosticado con diabetes. "
   ]
  },
  {
   "cell_type": "code",
   "execution_count": 11,
   "metadata": {
    "colab": {
     "base_uri": "https://localhost:8080/",
     "height": 485
    },
    "executionInfo": {
     "elapsed": 358,
     "status": "ok",
     "timestamp": 1746882658309,
     "user": {
      "displayName": "Jean Castro",
      "userId": "17938633343409961172"
     },
     "user_tz": 300
    },
    "id": "ZP_LJlpiUWyz",
    "outputId": "29fa903b-3858-4227-c4a3-3c87360dcdb2"
   },
   "outputs": [
    {
     "data": {
      "text/plain": [
       "<Axes: title={'center': 'Conteo de clases'}, xlabel='label'>"
      ]
     },
     "execution_count": 11,
     "metadata": {},
     "output_type": "execute_result"
    },
    {
     "data": {
      "image/png": "[encoded data removed]",
      "text/plain": [
       "<Figure size 640x480 with 1 Axes>"
      ]
     },
     "metadata": {},
     "output_type": "display_data"
    }
   ],
   "source": [
    "df.groupby('label')['label'].count().plot(kind='bar', title='Conteo de clases')"
   ]
  },
  {
   "cell_type": "markdown",
   "metadata": {},
   "source": [
    "Las clases están desbalanceadas, esto es, tenemos más datos de la etiqueta `1` que de la etiqueta `0`. Esto significará un problema más adelante. "
   ]
  },
  {
   "cell_type": "markdown",
   "metadata": {
    "jp-MarkdownHeadingCollapsed": true
   },
   "source": [
    "### 2.4 Correlación de features"
   ]
  },
  {
   "cell_type": "code",
   "execution_count": 12,
   "metadata": {
    "colab": {
     "base_uri": "https://localhost:8080/",
     "height": 503
    },
    "executionInfo": {
     "elapsed": 44,
     "status": "ok",
     "timestamp": 1746883712602,
     "user": {
      "displayName": "Jean Castro",
      "userId": "17938633343409961172"
     },
     "user_tz": 300
    },
    "id": "miAsGVCNX_19",
    "outputId": "207e4cdf-d5a0-4a5f-e47f-5f4a96e16752"
   },
   "outputs": [
    {
     "data": {
      "text/plain": [
       "<Axes: >"
      ]
     },
     "execution_count": 12,
     "metadata": {},
     "output_type": "execute_result"
    },
    {
     "data": {
      "image/png": "[encoded data removed]",
      "text/plain": [
       "<Figure size 640x480 with 2 Axes>"
      ]
     },
     "metadata": {},
     "output_type": "display_data"
    }
   ],
   "source": [
    "sns.heatmap(df.corr(), annot=True)"
   ]
  },
  {
   "cell_type": "markdown",
   "metadata": {},
   "source": [
    "Tenemos algunos puntos a resaltar de este análisis de correlación:\n",
    "- La edad, la glucosa y el bmi dan algunos indicios en la predicción.\n",
    "- No observamos correlaciones fuertes, tanto positivas como negativas.\n",
    "- Posiblemente nuestro modelo tome como \"importantes\" algunas features. Creemos que no serán todas importantes."
   ]
  },
  {
   "cell_type": "markdown",
   "metadata": {
    "id": "i2NaERrGUBc8",
    "jp-MarkdownHeadingCollapsed": true
   },
   "source": [
    "## 3. Selección de features"
   ]
  },
  {
   "cell_type": "markdown",
   "metadata": {},
   "source": [
    "Vamos a trabajar con solo un grupo de features para este ejercicio. Definiremos el conjunto X con las features utilizadas para predecir y el conjunto y solo con la etiqueta de diagnóstico."
   ]
  },
  {
   "cell_type": "code",
   "execution_count": 13,
   "metadata": {
    "executionInfo": {
     "elapsed": 35,
     "status": "ok",
     "timestamp": 1746882350877,
     "user": {
      "displayName": "Jean Castro",
      "userId": "17938633343409961172"
     },
     "user_tz": 300
    },
    "id": "Ss6q7fivTEEW"
   },
   "outputs": [],
   "source": [
    "feature_cols = ['pregnant', 'insulin', 'bmi', 'age','glucose','bp','pedigree']\n",
    "X = df[feature_cols]\n",
    "y = df.label"
   ]
  },
  {
   "cell_type": "markdown",
   "metadata": {
    "id": "vO9TyLjcUEev",
    "jp-MarkdownHeadingCollapsed": true
   },
   "source": [
    "## 4. Split de datos"
   ]
  },
  {
   "cell_type": "markdown",
   "metadata": {},
   "source": [
    "Debemos delimitar los datos para entrenar y probar nuestro modelo.\n",
    "\n",
    "- Se deine un tamaño de conjunto de testeo `test` tomando el 25 % de los datos del conjunto global para `X` y `y`.\n",
    "- Creamos los conjuntos `train` y `test` a partir de ese porcentaje de división."
   ]
  },
  {
   "cell_type": "code",
   "execution_count": 14,
   "metadata": {
    "executionInfo": {
     "elapsed": 4,
     "status": "ok",
     "timestamp": 1746882386121,
     "user": {
      "displayName": "Jean Castro",
      "userId": "17938633343409961172"
     },
     "user_tz": 300
    },
    "id": "eJiVjc5fTU2Y"
   },
   "outputs": [],
   "source": [
    "X_train, X_test, y_train, y_test = train_test_split(X, y, test_size=0.25, random_state=16)"
   ]
  },
  {
   "cell_type": "markdown",
   "metadata": {},
   "source": [
    "Fijamos el parámetro `random_state` como 16."
   ]
  },
  {
   "cell_type": "markdown",
   "metadata": {
    "id": "Wuo3VHRxUGiI"
   },
   "source": [
    "## 5. Busqueda del \"mejor\" modelo de Machine learning"
   ]
  },
  {
   "cell_type": "markdown",
   "metadata": {},
   "source": [
    "### Metodología propuesta"
   ]
  },
  {
   "cell_type": "markdown",
   "metadata": {},
   "source": [
    "Se definirán distintos modelos. Buscamos un paso a paso \"general\" para cada modelo distinto. Para evitar caer en reprocesos, se propone la siguiente metodología:\n",
    "\n",
    "_Para cada modelo:_\n",
    "- **Punto de salida:** Un modelo benchmark básico sin optimizar que marcará el escenario básico a superar.\n",
    "- **Apuntar bien:** Buscaremos evaluar el accuaracy de nuestros modelos.\n",
    "- **Barajar:** Cada modelo se evaluará usando una busqueda por cuadrilla, donde se evaluarán distintas combinaciones de hiperparámetros. Incluiremos el `random_state`. _**Apunte:**_ Se manajerán listas de valores similares para hiperparámetros que los modelos compartan entre si.\n",
    "- **EL mejor de los mejores:** El modelo seleccionado deberá superar el modelo de benchmark.\n",
    "- **Aleatoriedad:** Buscaremos mantener semillas iguales o bien, generar diferentes modelos para diferentes semillas."
   ]
  },
  {
   "cell_type": "markdown",
   "metadata": {},
   "source": [
    "### Recetario"
   ]
  },
  {
   "cell_type": "markdown",
   "metadata": {},
   "source": [
    "Definiremos algunas funciones que nos permitirán hacer evaluaciones rápidas a partir de la reutilización de código."
   ]
  },
  {
   "cell_type": "code",
   "execution_count": 18,
   "metadata": {},
   "outputs": [],
   "source": [
    "def puesta_punto_modelo(model, X_train, X_test, y_train, y_test):\n",
    "    \"\"\"Entrenamiento, prediccion y evaluación del accuaracy para un\n",
    "    modelo de clasificación.\n",
    "\n",
    "    Args:\n",
    "        model (sklearn): Modelo a entrenar, predecir y evaluar.\n",
    "        X_train (list): Conjunto de features de entrenamiento.\n",
    "        x_test (list): Conjunto de features de testeo.\n",
    "        y_train (list): Conjunto de labels de entrenamiento.\n",
    "        y_test (list): Conjunto de labels de testeo\n",
    "\n",
    "    Returns:\n",
    "        list: Predicciones, matriz de confuncion y accuaracy.\n",
    "    \"\"\"\n",
    "    model_f = model.fit(X_train, y_train)\n",
    "    y_pred = model.predict(X_test)\n",
    "    cnf_matrix = metrics.confusion_matrix(y_test, y_pred)\n",
    "    acc = metrics.accuracy_score(y_test, y_pred)\n",
    "    \n",
    "    return model_f, y_pred, cnf_matrix, acc"
   ]
  },
  {
   "cell_type": "markdown",
   "metadata": {},
   "source": [
    "### 5.1 Regresión logística"
   ]
  },
  {
   "cell_type": "markdown",
   "metadata": {},
   "source": [
    "#### Benchmark"
   ]
  },
  {
   "cell_type": "markdown",
   "metadata": {},
   "source": [
    "Generemos un modelo básico."
   ]
  },
  {
   "cell_type": "code",
   "execution_count": 22,
   "metadata": {},
   "outputs": [],
   "source": [
    "with warnings.catch_warnings():\n",
    "    warnings.filterwarnings(\"ignore\", category=ConvergenceWarning)\n",
    "    logreg_bch = LogisticRegression(random_state=16)\n",
    "    logreg_bch, y_pred_logreg_bch, cnf_matrix_logreg_bch, acc_logreg_bch = puesta_punto_modelo(logreg_bch, X_train, X_test, y_train, y_test)"
   ]
  },
  {
   "cell_type": "code",
   "execution_count": null,
   "metadata": {},
   "outputs": [
    {
     "data": {
      "text/plain": [
       "0.8177083333333334"
      ]
     },
     "execution_count": 37,
     "metadata": {},
     "output_type": "execute_result"
    }
   ],
   "source": [
    "# calculo de su exactitud\n",
    "acc_logreg_bch"
   ]
  },
  {
   "cell_type": "code",
   "execution_count": null,
   "metadata": {},
   "outputs": [
    {
     "data": {
      "image/png": "[encoded data removed]",
      "text/plain": [
       "<Figure size 400x200 with 2 Axes>"
      ]
     },
     "metadata": {},
     "output_type": "display_data"
    }
   ],
   "source": [
    "class_names=[0,1] # name  of classes\n",
    "tick_marks = np.arange(len(class_names))\n",
    "# create heatmap\n",
    "plt.figure(figsize=(4,2))\n",
    "plt.xticks(tick_marks, class_names)\n",
    "plt.yticks(tick_marks, class_names)\n",
    "sns.heatmap(pd.DataFrame(cnf_matrix_logreg_bch), annot=True, cmap=\"YlGnBu\" ,fmt='g')\n",
    "ax.xaxis.set_label_position(\"top\")\n",
    "plt.tight_layout()\n",
    "plt.title('Confusion matrix', y=1.1)\n",
    "plt.ylabel('Actual label')\n",
    "plt.xlabel('Predicted label')\n",
    "plt.show()"
   ]
  },
  {
   "cell_type": "markdown",
   "metadata": {},
   "source": [
    "Nada mal para un primer modelo."
   ]
  },
  {
   "cell_type": "code",
   "execution_count": 51,
   "metadata": {},
   "outputs": [
    {
     "name": "stdout",
     "output_type": "stream",
     "text": [
      "                  precision    recall  f1-score   support\n",
      "\n",
      "without diabetes       0.82      0.93      0.87       125\n",
      "   with diabetes       0.82      0.61      0.70        67\n",
      "\n",
      "        accuracy                           0.82       192\n",
      "       macro avg       0.82      0.77      0.78       192\n",
      "    weighted avg       0.82      0.82      0.81       192\n",
      "\n"
     ]
    }
   ],
   "source": [
    "target_names = ['without diabetes', 'with diabetes']\n",
    "print(classification_report(y_test, y_pred_logreg_bch, target_names=target_names))"
   ]
  },
  {
   "cell_type": "markdown",
   "metadata": {},
   "source": [
    "Recall cae frente a los pacientes con diabetes."
   ]
  },
  {
   "cell_type": "code",
   "execution_count": 56,
   "metadata": {},
   "outputs": [
    {
     "data": {
      "image/png": "[encoded data removed]",
      "text/plain": [
       "<Figure size 640x480 with 1 Axes>"
      ]
     },
     "metadata": {},
     "output_type": "display_data"
    }
   ],
   "source": [
    "y_pred_proba = logreg_bch.predict_proba(X_test)[::,1]\n",
    "fpr, tpr, _ = metrics.roc_curve(y_test,  y_pred_proba)\n",
    "auc = metrics.roc_auc_score(y_test, y_pred_proba)\n",
    "plt.plot(fpr,tpr,label=\"data 1, auc=\"+str(auc))\n",
    "plt.legend(loc=4)\n",
    "plt.show()"
   ]
  },
  {
   "cell_type": "markdown",
   "metadata": {},
   "source": [
    "En efecto, la curva ROC muestra que a nuestro modelo le cuesta identificar esos verdaderos positivos."
   ]
  },
  {
   "cell_type": "markdown",
   "metadata": {},
   "source": [
    "Revisemos como se comportan las semillas."
   ]
  },
  {
   "cell_type": "code",
   "execution_count": 30,
   "metadata": {},
   "outputs": [
    {
     "name": "stdout",
     "output_type": "stream",
     "text": [
      "Mejores hiperparámetros: {'random_state': 1}\n",
      "Mejor accuracy CV: 0.6840329835082459\n"
     ]
    },
    {
     "name": "stderr",
     "output_type": "stream",
     "text": [
      "c:\\Users\\ljpca\\anaconda3\\Lib\\site-packages\\sklearn\\linear_model\\_sag.py:349: ConvergenceWarning: The max_iter was reached which means the coef_ did not converge\n",
      "  warnings.warn(\n"
     ]
    }
   ],
   "source": [
    "param_grid = {'random_state': range(1, 42)}\n",
    "grid = GridSearchCV(\n",
    "        LogisticRegression(max_iter=2000, solver='saga'),  # saga o liblinear/sag\n",
    "        param_grid=param_grid,\n",
    "        cv=5,\n",
    "        scoring='accuracy',\n",
    "        n_jobs=-1\n",
    ")\n",
    "\n",
    "grid.fit(X_train, y_train)\n",
    "print(\"Mejores hiperparámetros:\", grid.best_params_)\n",
    "print(\"Mejor accuracy CV:\", grid.best_score_)"
   ]
  },
  {
   "cell_type": "markdown",
   "metadata": {},
   "source": [
    "Buscar semillas no parece ser una opcion util, solo permite reproducibilidad. Obvio pero comprobado."
   ]
  },
  {
   "cell_type": "markdown",
   "metadata": {},
   "source": [
    "Usaremos como semilla el numero 37."
   ]
  },
  {
   "cell_type": "code",
   "execution_count": 31,
   "metadata": {},
   "outputs": [
    {
     "name": "stdout",
     "output_type": "stream",
     "text": [
      "Mejores hiperparámetros: {'logisticregression__C': 1.0, 'logisticregression__l1_ratio': 0, 'logisticregression__penalty': 'l1'}\n",
      "Mejor accuracy CV: 0.7743928035982008\n"
     ]
    },
    {
     "name": "stderr",
     "output_type": "stream",
     "text": [
      "c:\\Users\\ljpca\\anaconda3\\Lib\\site-packages\\sklearn\\linear_model\\_logistic.py:1197: UserWarning: l1_ratio parameter is only used when penalty is 'elasticnet'. Got (penalty=l1)\n",
      "  warnings.warn(\n"
     ]
    }
   ],
   "source": [
    "pipe = make_pipeline(\n",
    "    StandardScaler(),\n",
    "    LogisticRegression(max_iter=2000, random_state=37, solver='saga')\n",
    ")\n",
    "\n",
    "param_grid = {\n",
    "    'logisticregression__C':      np.logspace(-3, 3, 7),   # fuerza de regularización\n",
    "    'logisticregression__penalty':['l1', 'l2', 'elasticnet'],\n",
    "    'logisticregression__l1_ratio': [0, .5, 1]             # solo se usa con elasticnet\n",
    "}\n",
    "\n",
    "grid = GridSearchCV(\n",
    "    estimator=pipe,\n",
    "    param_grid=param_grid,\n",
    "    cv=5,\n",
    "    scoring='accuracy',\n",
    "    n_jobs=-1\n",
    ")\n",
    "\n",
    "grid.fit(X_train, y_train)\n",
    "print(\"Mejores hiperparámetros:\", grid.best_params_)\n",
    "print(\"Mejor accuracy CV:\", grid.best_score_)"
   ]
  },
  {
   "cell_type": "code",
   "execution_count": 32,
   "metadata": {},
   "outputs": [
    {
     "name": "stdout",
     "output_type": "stream",
     "text": [
      "                  precision    recall  f1-score   support\n",
      "\n",
      "without diabetes       0.82      0.92      0.87       125\n",
      "   with diabetes       0.81      0.63      0.71        67\n",
      "\n",
      "        accuracy                           0.82       192\n",
      "       macro avg       0.81      0.77      0.79       192\n",
      "    weighted avg       0.82      0.82      0.81       192\n",
      "\n"
     ]
    },
    {
     "name": "stderr",
     "output_type": "stream",
     "text": [
      "c:\\Users\\ljpca\\anaconda3\\Lib\\site-packages\\sklearn\\linear_model\\_logistic.py:1197: UserWarning: l1_ratio parameter is only used when penalty is 'elasticnet'. Got (penalty=l1)\n",
      "  warnings.warn(\n"
     ]
    }
   ],
   "source": [
    "with warnings.catch_warnings():\n",
    "    warnings.filterwarnings(\"ignore\", category=ConvergenceWarning)\n",
    "    logreg_bch, y_pred_logreg_bch, cnf_matrix_logreg_bch, acc_logreg_bch = puesta_punto_modelo(grid, X_train, X_test, y_train, y_test)\n",
    "\n",
    "target_names = ['without diabetes', 'with diabetes']\n",
    "print(classification_report(y_test, y_pred_logreg_bch, target_names=target_names))"
   ]
  },
  {
   "cell_type": "markdown",
   "metadata": {},
   "source": [
    "Mejoramos un poco nuestro modelo benchmark tomando en cuenta un ajuste más profundo de hiperparámetros para diferentes métricas. Mejoró mucho? En definitiva no. La convergencia de los datos dado este dataset sintetico no ayuda mucho. **Deberiamos revisar otros modelos.**"
   ]
  },
  {
   "cell_type": "markdown",
   "metadata": {},
   "source": [
    "### 5.2 Arbol de decisión"
   ]
  },
  {
   "cell_type": "markdown",
   "metadata": {},
   "source": [
    "Iniciemos rápido con un arbol"
   ]
  },
  {
   "cell_type": "code",
   "execution_count": 41,
   "metadata": {},
   "outputs": [
    {
     "name": "stdout",
     "output_type": "stream",
     "text": [
      "Accuracy: 0.7291666666666666\n"
     ]
    }
   ],
   "source": [
    "# Create Decision Tree classifer object\n",
    "clf = DecisionTreeClassifier()\n",
    "\n",
    "# Train Decision Tree Classifer\n",
    "clf = clf.fit(X_train,y_train)\n",
    "\n",
    "#Predict the response for test dataset\n",
    "y_pred = clf.predict(X_test)\n",
    "\n",
    "# looking for accuaracy\n",
    "print(\"Accuracy:\",metrics.accuracy_score(y_test, y_pred))"
   ]
  },
  {
   "cell_type": "markdown",
   "metadata": {},
   "source": [
    "estamos lejos aun del modelo benchmark, quizás?"
   ]
  },
  {
   "cell_type": "code",
   "execution_count": 60,
   "metadata": {
    "colab": {
     "base_uri": "https://localhost:8080/",
     "height": 665
    },
    "executionInfo": {
     "elapsed": 14017,
     "status": "ok",
     "timestamp": 1746883449816,
     "user": {
      "displayName": "Jean Castro",
      "userId": "17938633343409961172"
     },
     "user_tz": 300
    },
    "id": "pzissm1cXBHF",
    "outputId": "fe16be99-6fe8-43f3-e521-fcc4081790da"
   },
   "outputs": [
    {
     "data": {
      "image/png": "[encoded data removed]",
      "text/plain": [
       "<Figure size 600x400 with 1 Axes>"
      ]
     },
     "metadata": {},
     "output_type": "display_data"
    }
   ],
   "source": [
    "\n",
    "plt.figure(figsize=(6,4))\n",
    "tree.plot_tree(clf,\n",
    "               feature_names=feature_cols,\n",
    "               class_names=['0','1'],\n",
    "               filled=True,\n",
    "               rounded=True)\n",
    "plt.show()"
   ]
  },
  {
   "cell_type": "code",
   "execution_count": 56,
   "metadata": {
    "colab": {
     "base_uri": "https://localhost:8080/"
    },
    "executionInfo": {
     "elapsed": 19,
     "status": "ok",
     "timestamp": 1746883510244,
     "user": {
      "displayName": "Jean Castro",
      "userId": "17938633343409961172"
     },
     "user_tz": 300
    },
    "id": "qwL5ho_aXdvX",
    "outputId": "aaffabda-4a27-4b19-aa4e-f080981ac38d"
   },
   "outputs": [
    {
     "name": "stdout",
     "output_type": "stream",
     "text": [
      "Accuracy: 0.765625\n"
     ]
    }
   ],
   "source": [
    "# Create Decision Tree classifer object\n",
    "clf = DecisionTreeClassifier(criterion=\"entropy\", max_depth=3)\n",
    "\n",
    "# Train Decision Tree Classifer\n",
    "clf = clf.fit(X_train,y_train)\n",
    "\n",
    "#Predict the response for test dataset\n",
    "y_pred = clf.predict(X_test)\n",
    "\n",
    "# Model Accuracy, how often is the classifier correct?\n",
    "print(\"Accuracy:\",metrics.accuracy_score(y_test, y_pred))\n"
   ]
  },
  {
   "cell_type": "markdown",
   "metadata": {},
   "source": [
    "Mejoramos un poco."
   ]
  },
  {
   "cell_type": "code",
   "execution_count": 58,
   "metadata": {
    "colab": {
     "base_uri": "https://localhost:8080/",
     "height": 594
    },
    "executionInfo": {
     "elapsed": 49,
     "status": "ok",
     "timestamp": 1746883530176,
     "user": {
      "displayName": "Jean Castro",
      "userId": "17938633343409961172"
     },
     "user_tz": 300
    },
    "id": "hVHWJYWIXvVg",
    "outputId": "7bfe9ed6-4ba7-442a-8fea-124cef795b7b"
   },
   "outputs": [
    {
     "data": {
      "image/png": "[encoded data removed]",
      "text/plain": [
       "<Figure size 600x400 with 1 Axes>"
      ]
     },
     "metadata": {},
     "output_type": "display_data"
    }
   ],
   "source": [
    "\n",
    "plt.figure(figsize=(6,4))\n",
    "tree.plot_tree(clf,\n",
    "               feature_names=feature_cols,\n",
    "               class_names=['0','1'],\n",
    "               filled=True,\n",
    "               rounded=True)\n",
    "plt.show()"
   ]
  },
  {
   "cell_type": "markdown",
   "metadata": {},
   "source": [
    "Debemos podar este arbol. Ya encontramos que cambiar la semilla no ayuda pues mucho. Hagamos una busqueda en diferentes parámetros para encontrar la mejor combinación de hiperparámetros."
   ]
  },
  {
   "cell_type": "code",
   "execution_count": 61,
   "metadata": {
    "colab": {
     "base_uri": "https://localhost:8080/"
    },
    "executionInfo": {
     "elapsed": 7833,
     "status": "ok",
     "timestamp": 1746883938803,
     "user": {
      "displayName": "Jean Castro",
      "userId": "17938633343409961172"
     },
     "user_tz": 300
    },
    "id": "oSx5blqoX0Z4",
    "outputId": "e4705fd7-4b70-4d26-f71f-9b1268dc20a1"
   },
   "outputs": [
    {
     "name": "stdout",
     "output_type": "stream",
     "text": [
      "Mejores parámetros: {'criterion': 'entropy', 'max_depth': 3, 'min_samples_leaf': 4, 'min_samples_split': 2}\n",
      "Mejor accuracy CV: 0.7746463414634147\n"
     ]
    }
   ],
   "source": [
    "param_grid = {\n",
    "    'criterion':    ['gini', 'entropy'],\n",
    "    'max_depth':    list(range(1, 11)),\n",
    "    'min_samples_split': [2, 5, 10],\n",
    "    'min_samples_leaf':  [1, 2, 4]\n",
    "}\n",
    "\n",
    "grid = GridSearchCV(\n",
    "    estimator=DecisionTreeClassifier(),\n",
    "    param_grid=param_grid,\n",
    "    cv=5,\n",
    "    scoring='roc_auc',   # 'roc_auc' -> AUC, accuaracy\n",
    "    n_jobs=-1\n",
    ")\n",
    "\n",
    "grid.fit(X_train, y_train)\n",
    "\n",
    "print(\"Mejores parámetros:\", grid.best_params_)\n",
    "print(\"Mejor accuracy CV:\",  grid.best_score_)\n"
   ]
  },
  {
   "cell_type": "markdown",
   "metadata": {},
   "source": [
    "No mejora mucho, o quizás un 1 % pueda significar mucho. En cualquier caso existe n-combinaciones más de parámetros. Nos quedaremos con estas por ahora."
   ]
  },
  {
   "cell_type": "code",
   "execution_count": 62,
   "metadata": {
    "colab": {
     "base_uri": "https://localhost:8080/"
    },
    "executionInfo": {
     "elapsed": 24,
     "status": "ok",
     "timestamp": 1746883768315,
     "user": {
      "displayName": "Jean Castro",
      "userId": "17938633343409961172"
     },
     "user_tz": 300
    },
    "id": "WTQ6OKAUYVK8",
    "outputId": "645c92b0-3456-4727-8c57-a3d1d204b3db"
   },
   "outputs": [
    {
     "name": "stdout",
     "output_type": "stream",
     "text": [
      "glucose     0.571035\n",
      "bmi         0.293506\n",
      "age         0.135459\n",
      "pregnant    0.000000\n",
      "insulin     0.000000\n",
      "bp          0.000000\n",
      "pedigree    0.000000\n",
      "dtype: float64\n"
     ]
    }
   ],
   "source": [
    "importances = clf.feature_importances_\n",
    "\n",
    "# Crea un Series para ordenarlo y visualizarlo\n",
    "fi = pd.Series(importances, index=X_train.columns)\n",
    "\n",
    "# Ordénalo de mayor a menor y muéstralo\n",
    "fi = fi.sort_values(ascending=False)\n",
    "print(fi)"
   ]
  },
  {
   "cell_type": "markdown",
   "metadata": {},
   "source": [
    "Al parecer algunas features no son tan relevantes, quizás podríamos..."
   ]
  },
  {
   "cell_type": "code",
   "execution_count": null,
   "metadata": {
    "colab": {
     "base_uri": "https://localhost:8080/",
     "height": 472
    },
    "executionInfo": {
     "elapsed": 23,
     "status": "ok",
     "timestamp": 1746883780295,
     "user": {
      "displayName": "Jean Castro",
      "userId": "17938633343409961172"
     },
     "user_tz": 300
    },
    "id": "Qk2bS4aCYtGf",
    "outputId": "0a9e496c-e2fa-41e0-f41a-7f47fc31054e"
   },
   "outputs": [
    {
     "data": {
      "image/png": "[encoded data removed]",
      "text/plain": [
       "<Figure size 640x480 with 1 Axes>"
      ]
     },
     "metadata": {},
     "output_type": "display_data"
    }
   ],
   "source": [
    "fi.plot(kind='barh')\n",
    "plt.xlabel('Importancia')\n",
    "plt.title('Importancia de features en el árbol')\n",
    "plt.gca().invert_yaxis()  # para que la más importante quede arriba\n",
    "plt.show()"
   ]
  },
  {
   "cell_type": "markdown",
   "metadata": {},
   "source": [
    "No usarlas? Igual el modelo no le está dando gran importancia a estas mismas. "
   ]
  },
  {
   "cell_type": "code",
   "execution_count": 63,
   "metadata": {
    "colab": {
     "base_uri": "https://localhost:8080/"
    },
    "executionInfo": {
     "elapsed": 15,
     "status": "ok",
     "timestamp": 1746884465741,
     "user": {
      "displayName": "Jean Castro",
      "userId": "17938633343409961172"
     },
     "user_tz": 300
    },
    "id": "7FA5yen8Yxcj",
    "outputId": "1451e076-596e-4b79-dd05-71e64b3223e8"
   },
   "outputs": [
    {
     "name": "stdout",
     "output_type": "stream",
     "text": [
      "Accuracy: 0.765625\n"
     ]
    }
   ],
   "source": [
    "\n",
    "#Predict the response for test dataset\n",
    "y_pred = grid.predict(X_test)\n",
    "\n",
    "# Model Accuracy, how often is the classifier correct?\n",
    "print(\"Accuracy:\",metrics.accuracy_score(y_test, y_pred))\n"
   ]
  },
  {
   "cell_type": "code",
   "execution_count": 64,
   "metadata": {
    "colab": {
     "base_uri": "https://localhost:8080/"
    },
    "executionInfo": {
     "elapsed": 24,
     "status": "ok",
     "timestamp": 1746884484697,
     "user": {
      "displayName": "Jean Castro",
      "userId": "17938633343409961172"
     },
     "user_tz": 300
    },
    "id": "lVBoqx0nbZKe",
    "outputId": "ee74c43b-155b-45c2-b0ba-e1e8e2a7b242"
   },
   "outputs": [
    {
     "name": "stdout",
     "output_type": "stream",
     "text": [
      "                  precision    recall  f1-score   support\n",
      "\n",
      "without diabetes       0.79      0.88      0.83       125\n",
      "   with diabetes       0.71      0.55      0.62        67\n",
      "\n",
      "        accuracy                           0.77       192\n",
      "       macro avg       0.75      0.72      0.73       192\n",
      "    weighted avg       0.76      0.77      0.76       192\n",
      "\n"
     ]
    }
   ],
   "source": [
    "target_names = ['without diabetes', 'with diabetes']\n",
    "print(classification_report(y_test, y_pred, target_names=target_names))"
   ]
  },
  {
   "cell_type": "markdown",
   "metadata": {},
   "source": [
    "No parece ser mejor que nuestra regresión logística"
   ]
  },
  {
   "cell_type": "code",
   "execution_count": 72,
   "metadata": {},
   "outputs": [
    {
     "data": {
      "image/png": "[encoded data removed]",
      "text/plain": [
       "<Figure size 400x200 with 2 Axes>"
      ]
     },
     "metadata": {},
     "output_type": "display_data"
    }
   ],
   "source": [
    "cnf_matrix = metrics.confusion_matrix(y_test, y_pred)\n",
    "class_names=[0,1] # name  of classes\n",
    "tick_marks = np.arange(len(class_names))\n",
    "# create heatmap\n",
    "plt.figure(figsize=(4,2))\n",
    "plt.xticks(tick_marks, class_names)\n",
    "plt.yticks(tick_marks, class_names)\n",
    "sns.heatmap(pd.DataFrame(cnf_matrix), annot=True, cmap=\"YlGnBu\" ,fmt='g')\n",
    "#ax.xaxis.set_label_position(\"top\")\n",
    "plt.tight_layout()\n",
    "plt.title('Confusion matrix', y=1.1)\n",
    "plt.ylabel('Actual label')\n",
    "plt.xlabel('Predicted label')\n",
    "plt.show()"
   ]
  },
  {
   "cell_type": "markdown",
   "metadata": {},
   "source": [
    "Quizás el problemas de las clases desbalanceadas sea un punto a considerar."
   ]
  },
  {
   "cell_type": "markdown",
   "metadata": {},
   "source": [
    "### 5.3 Bosque de decisión"
   ]
  },
  {
   "cell_type": "markdown",
   "metadata": {},
   "source": [
    "Dos arboles piensan más que uno."
   ]
  },
  {
   "cell_type": "code",
   "execution_count": 73,
   "metadata": {},
   "outputs": [
    {
     "name": "stdout",
     "output_type": "stream",
     "text": [
      "Accuracy RF:    0.8021\n",
      "ROC AUC RF:     0.8798\n",
      "Matriz de confusión:\n"
     ]
    }
   ],
   "source": [
    "# 1. Define el modelo benchmark\n",
    "rf_bench = RandomForestClassifier(\n",
    "    n_estimators=100,      # número de árboles\n",
    "    max_depth=None,        # profundidad máxima (None = hasta hoja pura)\n",
    "    random_state=42,       # semilla para reproducibilidad\n",
    "    n_jobs=-1              # usar todos los cores\n",
    ")\n",
    "\n",
    "# 2. Ajusta, predice y evalúa\n",
    "rf_bench.fit(X_train, y_train)\n",
    "y_pred_rf = rf_bench.predict(X_test)\n",
    "\n",
    "# 3. Métricas clave\n",
    "acc_rf    = metrics.accuracy_score(y_test, y_pred_rf)\n",
    "cm_rf     = metrics.confusion_matrix(y_test, y_pred_rf)\n",
    "roc_auc_rf = metrics.roc_auc_score(y_test, rf_bench.predict_proba(X_test)[:,1])\n",
    "\n",
    "print(f\"Accuracy RF:    {acc_rf:.4f}\")\n",
    "print(f\"ROC AUC RF:     {roc_auc_rf:.4f}\")\n",
    "print(\"Matriz de confusión:\")"
   ]
  },
  {
   "cell_type": "code",
   "execution_count": 74,
   "metadata": {},
   "outputs": [
    {
     "name": "stdout",
     "output_type": "stream",
     "text": [
      "                  precision    recall  f1-score   support\n",
      "\n",
      "without diabetes       0.81      0.90      0.86       125\n",
      "   with diabetes       0.77      0.61      0.68        67\n",
      "\n",
      "        accuracy                           0.80       192\n",
      "       macro avg       0.79      0.76      0.77       192\n",
      "    weighted avg       0.80      0.80      0.80       192\n",
      "\n"
     ]
    }
   ],
   "source": [
    "target_names = ['without diabetes', 'with diabetes']\n",
    "print(classification_report(y_test, y_pred_rf, target_names=target_names))"
   ]
  },
  {
   "cell_type": "markdown",
   "metadata": {},
   "source": [
    "Mismos problemas. Quizás."
   ]
  },
  {
   "cell_type": "code",
   "execution_count": 75,
   "metadata": {},
   "outputs": [
    {
     "data": {
      "image/png": "[encoded data removed]",
      "text/plain": [
       "<Figure size 400x200 with 2 Axes>"
      ]
     },
     "metadata": {},
     "output_type": "display_data"
    }
   ],
   "source": [
    "cnf_matrix = metrics.confusion_matrix(y_test, y_pred)\n",
    "class_names=[0,1] # name  of classes\n",
    "tick_marks = np.arange(len(class_names))\n",
    "# create heatmap\n",
    "plt.figure(figsize=(4,2))\n",
    "plt.xticks(tick_marks, class_names)\n",
    "plt.yticks(tick_marks, class_names)\n",
    "sns.heatmap(pd.DataFrame(cm_rf), annot=True, cmap=\"YlGnBu\" ,fmt='g')\n",
    "#ax.xaxis.set_label_position(\"top\")\n",
    "plt.tight_layout()\n",
    "plt.title('Confusion matrix', y=1.1)\n",
    "plt.ylabel('Actual label')\n",
    "plt.xlabel('Predicted label')\n",
    "plt.show()"
   ]
  },
  {
   "cell_type": "markdown",
   "metadata": {},
   "source": [
    "Busquemos una mejor combinación:"
   ]
  },
  {
   "cell_type": "code",
   "execution_count": null,
   "metadata": {},
   "outputs": [
    {
     "name": "stdout",
     "output_type": "stream",
     "text": [
      "Fitting 5 folds for each of 324 candidates, totalling 1620 fits\n",
      "Mejores hiperparámetros: {'max_depth': 10, 'max_features': 'sqrt', 'min_samples_leaf': 1, 'min_samples_split': 10, 'n_estimators': 200}\n",
      "Mejor accuracy CV: 0.7553\n",
      "Accuracy en test: 0.7969\n",
      "ROC AUC en test:  0.8812\n",
      "Matriz de confusión:\n",
      " [[114  11]\n",
      " [ 28  39]]\n"
     ]
    }
   ],
   "source": [
    "# Modelo base a optimizar\n",
    "rf = RandomForestClassifier(random_state=42, n_jobs=-1)\n",
    "\n",
    "# No usaremos muchos\n",
    "# El tiempo de ejcución TARDA!\n",
    "param_grid = {\n",
    "    'n_estimators':      [50, 100, 200],   # número de árboles en el bosque\n",
    "    'max_depth':         [None, 10, 20, 30],  # profundidad máxima de cada árbol\n",
    "    'min_samples_split': [2, 5, 10],  # min. muestras para dividir un nodo\n",
    "    'min_samples_leaf':  [1, 2, 4],  # min. muestras en una hoja\n",
    "    'max_features':      ['sqrt', 'log2', None] # número de features consideradas en cada split\n",
    "}\n",
    "\n",
    "# configuremos nuestra matriz de posibilidades\n",
    "grid_rf = GridSearchCV(\n",
    "    estimator=rf,\n",
    "    param_grid=param_grid,\n",
    "    cv=5,       # 5-fold cross-validation\n",
    "    scoring='accuracy',   # puedes usar 'roc_auc' si prefieres AUC\n",
    "    n_jobs=-1,  # usar todos los cores\n",
    "    verbose=1       # ver progreso\n",
    ")\n",
    "\n",
    "# entrenamos!\n",
    "grid_rf.fit(X_train, y_train)\n",
    "\n",
    "# revisemos\n",
    "print(\"Mejores hiperparámetros:\", grid_rf.best_params_)\n",
    "print(f\"Mejor accuracy CV: {grid_rf.best_score_:.4f}\")\n",
    "\n",
    "# seleccionemos el mejor estimador!\n",
    "best_rf = grid_rf.best_estimator_\n",
    "y_pred = best_rf.predict(X_test)\n",
    "\n",
    "from sklearn import metrics\n",
    "print(f\"Accuracy en test: {metrics.accuracy_score(y_test, y_pred):.4f}\")\n",
    "print(f\"ROC AUC en test:  {metrics.roc_auc_score(y_test, best_rf.predict_proba(X_test)[:,1]):.4f}\")\n"
   ]
  },
  {
   "cell_type": "markdown",
   "metadata": {},
   "source": [
    "Realmente estamos \"sacrificando\" verdaderos positivos. El modelo sigue algo confuso."
   ]
  },
  {
   "cell_type": "code",
   "execution_count": null,
   "metadata": {},
   "outputs": [],
   "source": [
    "print(\"Matriz de confusión:\\n\", metrics.confusion_matrix(y_test, y_pred))"
   ]
  },
  {
   "cell_type": "markdown",
   "metadata": {},
   "source": [
    "### 5.4 Balanceo de clases"
   ]
  },
  {
   "cell_type": "code",
   "execution_count": null,
   "metadata": {},
   "outputs": [],
   "source": []
  },
  {
   "cell_type": "markdown",
   "metadata": {},
   "source": [
    "### 6. Comparación"
   ]
  },
  {
   "cell_type": "code",
   "execution_count": null,
   "metadata": {
    "executionInfo": {
     "elapsed": 22,
     "status": "ok",
     "timestamp": 1746884802350,
     "user": {
      "displayName": "Jean Castro",
      "userId": "17938633343409961172"
     },
     "user_tz": 300
    },
    "id": "ziNguDXDbdzP"
   },
   "outputs": [],
   "source": [
    "#hacer random forest"
   ]
  },
  {
   "cell_type": "markdown",
   "metadata": {},
   "source": [
    "## Conclusiones"
   ]
  },
  {
   "cell_type": "code",
   "execution_count": null,
   "metadata": {
    "executionInfo": {
     "elapsed": 55,
     "status": "ok",
     "timestamp": 1746884850572,
     "user": {
      "displayName": "Jean Castro",
      "userId": "17938633343409961172"
     },
     "user_tz": 300
    },
    "id": "INErNSaZcrXj"
   },
   "outputs": [],
   "source": [
    "#comparar desempeño de los 3"
   ]
  },
  {
   "cell_type": "code",
   "execution_count": null,
   "metadata": {
    "executionInfo": {
     "elapsed": 15,
     "status": "ok",
     "timestamp": 1746884880067,
     "user": {
      "displayName": "Jean Castro",
      "userId": "17938633343409961172"
     },
     "user_tz": 300
    },
    "id": "EOjoxT6Vc3Gi"
   },
   "outputs": [],
   "source": [
    "#comparar estabilidad de los 3"
   ]
  },
  {
   "cell_type": "code",
   "execution_count": null,
   "metadata": {
    "executionInfo": {
     "elapsed": 13,
     "status": "ok",
     "timestamp": 1746884891927,
     "user": {
      "displayName": "Jean Castro",
      "userId": "17938633343409961172"
     },
     "user_tz": 300
    },
    "id": "wffqdSulc-UD"
   },
   "outputs": [],
   "source": [
    "#sacar características de precision, y demás de los 3 y compararlos"
   ]
  },
  {
   "cell_type": "code",
   "execution_count": null,
   "metadata": {
    "executionInfo": {
     "elapsed": 34,
     "status": "ok",
     "timestamp": 1746884923234,
     "user": {
      "displayName": "Jean Castro",
      "userId": "17938633343409961172"
     },
     "user_tz": 300
    },
    "id": "VfY-7423dBOL"
   },
   "outputs": [],
   "source": [
    "#sacar conclusion de los hiperparámetros"
   ]
  },
  {
   "cell_type": "code",
   "execution_count": null,
   "metadata": {
    "id": "yPk3LSAedI17"
   },
   "outputs": [],
   "source": []
  }
 ],
 "metadata": {
  "colab": {
   "authorship_tag": "ABX9TyPXc6aK4mpJRpezOG9DK6r+",
   "provenance": []
  },
  "kernelspec": {
   "display_name": "base",
   "language": "python",
   "name": "python3"
  },
  "language_info": {
   "codemirror_mode": {
    "name": "ipython",
    "version": 3
   },
   "file_extension": ".py",
   "mimetype": "text/x-python",
   "name": "python",
   "nbconvert_exporter": "python",
   "pygments_lexer": "ipython3",
   "version": "3.12.7"
  }
 },
 "nbformat": 4,
 "nbformat_minor": 4
}

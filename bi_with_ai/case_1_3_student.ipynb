{
 "cells": [
  {
   "cell_type": "markdown",
   "metadata": {
    "id": "s2J7f-CMBcJG"
   },
   "source": [
    "<h1>How have global energy production trends changed over time?</h1>"
   ]
  },
  {
   "cell_type": "code",
   "execution_count": 2,
   "metadata": {
    "id": "Dx1rXga3BcJN"
   },
   "outputs": [],
   "source": [
    "import os\n",
    "import pandas as pd\n",
    "import numpy as np"
   ]
  },
  {
   "cell_type": "code",
   "execution_count": 3,
   "metadata": {
    "colab": {
     "base_uri": "https://localhost:8080/"
    },
    "id": "tmVZ5iAnC3eA",
    "outputId": "3ffc63d0-e0e8-45ba-c259-eafa4e471bb8"
   },
   "outputs": [],
   "source": [
    "#from google.colab import drive\n",
    "#drive.mount('/content/drive')"
   ]
  },
  {
   "cell_type": "markdown",
   "metadata": {
    "id": "gYo8hMwyBcJQ"
   },
   "source": [
    "<h2>Goals</h2>\n",
    "<p>By the end of this case, you should be very comfortable writing your own functions using <code>pandas</code> and applying them to entire datasets. You'll understand how functions work in Python, including anonymous functions (using the keyword <code>lambda</code>), and you'll feel comfortable analyzing and manipulating larger datasets. You'll also have gained experience with exploring a dataset that is only loosely organised and about which you have very little initial information.</p>"
   ]
  },
  {
   "cell_type": "markdown",
   "metadata": {
    "id": "phR9D_ZaBcJR"
   },
   "source": [
    "<h2>Introduction</h2>"
   ]
  },
  {
   "cell_type": "markdown",
   "metadata": {
    "id": "X-m1ZhzxBcJS"
   },
   "source": [
    "<p><strong>Business Context.</strong> Global electricity production, consumption, import, and export is complex and interesting for a variety of reasons. Each country has to keep track of a vast array of information to ensure that they produce enough electricity, yet balance these needs against medium-term financial implications and environmental concerns.</p>\n",
    "<p>You are an analyst working at a non-governmental organization (NGO) that reports on global energy trends. Your department has acquired a large CSV file, but your colleagues are battling to extract relevant insights from it using Excel due to its size and format. Worse still, it has thousands of variables and they are not sure which ones are interesting. Thus, you have been made responsible for supporting your team's journalists by providing them with data and insights that they can turn into written reports.</p>\n",
    "<p><strong>Business Problem.</strong>  Your task is to <strong>break the available data down into smaller files, understand the information that is available, and extract key insights for an upcoming report on global power patterns.</strong> Specifically, your team wants you to answer the following questions:</p>\n",
    "<ul>\n",
    "<li>How much power is produced?</li>\n",
    "<li>How much power is consumed?</li>\n",
    "<li>How much power is imported and exported? </li>\n",
    "<li>How much of this power is renewable?</li>\n",
    "<li>How are these trends in production, consumption, import, and export changing over time?</li>\n",
    "</ul>\n",
    "<p><strong>Analytical Context.</strong> The data is stored in a large CSV file containing information on power production and consumption by country and year. You will: 1) break down the data into summarized CSV files to share with your colleagues; 2) manipulate the data to create more categories from the existing columns; 3) find the biggest players in different categories, including total energy export and total production by type (e.g. nuclear); and finally 4) find trends in the data, such as which countries have the fastest growing energy production.</p>"
   ]
  },
  {
   "cell_type": "markdown",
   "metadata": {
    "id": "xNHwHduxBcJT"
   },
   "source": [
    "<h2>Getting started with the International Energy Statistics data</h2>\n",
    "<p>The data file you have been given is a single CSV located at <code>data/all_energy_statistics.csv</code>. Your colleagues have informed you that the data is from http://data.un.org/Explorer.aspx, but they don't know much else about it. </p>\n",
    "<p>They specifically note that the data is very [\"narrow\"] (https://en.wikipedia.org/wiki/Wide_and_narrow_data). Although the file contains data for a wide variety of things, such as \"Total Energy Production\" all the way through to \"Additives and Oxygenates - Exports\", it has very few columns. </p>\n",
    "<p>Generally, when dealing with \"wide\" data, we can be fairly sure that all data in the same column is comparable. In this case, you'll notice a <code>unit</code> column. Not all numerical data in the <code>quantity</code> column is directly comparable. For example, sometimes the number in this column is defined in terms of \"Metric tons, thousand\" and sometimes in \"Kilowatt-hours, million\" -- evidently very different concepts!</p>\n",
    "<p>As always, our first step is to read the data from disk and take a look at the first few rows:</p>"
   ]
  },
  {
   "cell_type": "code",
   "execution_count": 4,
   "metadata": {
    "id": "n4NXcIhpBcJU"
   },
   "outputs": [],
   "source": [
    "# load dataset\n",
    "\n",
    "try:\n",
    "  # Using google colab\n",
    "  from google.colab import drive\n",
    "  drive.mount('/content/drive')\n",
    "  df = pd.read_csv(\"drive/MyDrive/data/all_energy_statistics.csv\")\n",
    "except:\n",
    "  # if not...\n",
    "  df = pd.read_csv(\"../datasets/all_energy_statistics.csv\")"
   ]
  },
  {
   "cell_type": "code",
   "execution_count": 6,
   "metadata": {
    "colab": {
     "base_uri": "https://localhost:8080/",
     "height": 424
    },
    "id": "JfDoqNFxBcJV",
    "outputId": "45f08cf5-8b80-4e34-df8e-d9c774e87229"
   },
   "outputs": [
    {
     "data": {
      "text/html": [
       "<div>\n",
       "<style scoped>\n",
       "    .dataframe tbody tr th:only-of-type {\n",
       "        vertical-align: middle;\n",
       "    }\n",
       "\n",
       "    .dataframe tbody tr th {\n",
       "        vertical-align: top;\n",
       "    }\n",
       "\n",
       "    .dataframe thead th {\n",
       "        text-align: right;\n",
       "    }\n",
       "</style>\n",
       "<table border=\"1\" class=\"dataframe\">\n",
       "  <thead>\n",
       "    <tr style=\"text-align: right;\">\n",
       "      <th></th>\n",
       "      <th>country_or_area</th>\n",
       "      <th>commodity_transaction</th>\n",
       "      <th>year</th>\n",
       "      <th>unit</th>\n",
       "      <th>quantity</th>\n",
       "      <th>quantity_footnotes</th>\n",
       "      <th>category</th>\n",
       "    </tr>\n",
       "  </thead>\n",
       "  <tbody>\n",
       "    <tr>\n",
       "      <th>0</th>\n",
       "      <td>Austria</td>\n",
       "      <td>Additives and Oxygenates - Exports</td>\n",
       "      <td>1996</td>\n",
       "      <td>Metric tons,  thousand</td>\n",
       "      <td>5.0</td>\n",
       "      <td>NaN</td>\n",
       "      <td>additives_and_oxygenates</td>\n",
       "    </tr>\n",
       "    <tr>\n",
       "      <th>1</th>\n",
       "      <td>Austria</td>\n",
       "      <td>Additives and Oxygenates - Exports</td>\n",
       "      <td>1995</td>\n",
       "      <td>Metric tons,  thousand</td>\n",
       "      <td>17.0</td>\n",
       "      <td>NaN</td>\n",
       "      <td>additives_and_oxygenates</td>\n",
       "    </tr>\n",
       "    <tr>\n",
       "      <th>2</th>\n",
       "      <td>Belgium</td>\n",
       "      <td>Additives and Oxygenates - Exports</td>\n",
       "      <td>2014</td>\n",
       "      <td>Metric tons,  thousand</td>\n",
       "      <td>0.0</td>\n",
       "      <td>NaN</td>\n",
       "      <td>additives_and_oxygenates</td>\n",
       "    </tr>\n",
       "    <tr>\n",
       "      <th>3</th>\n",
       "      <td>Belgium</td>\n",
       "      <td>Additives and Oxygenates - Exports</td>\n",
       "      <td>2013</td>\n",
       "      <td>Metric tons,  thousand</td>\n",
       "      <td>0.0</td>\n",
       "      <td>NaN</td>\n",
       "      <td>additives_and_oxygenates</td>\n",
       "    </tr>\n",
       "    <tr>\n",
       "      <th>4</th>\n",
       "      <td>Belgium</td>\n",
       "      <td>Additives and Oxygenates - Exports</td>\n",
       "      <td>2012</td>\n",
       "      <td>Metric tons,  thousand</td>\n",
       "      <td>35.0</td>\n",
       "      <td>NaN</td>\n",
       "      <td>additives_and_oxygenates</td>\n",
       "    </tr>\n",
       "  </tbody>\n",
       "</table>\n",
       "</div>"
      ],
      "text/plain": [
       "  country_or_area               commodity_transaction  year  \\\n",
       "0         Austria  Additives and Oxygenates - Exports  1996   \n",
       "1         Austria  Additives and Oxygenates - Exports  1995   \n",
       "2         Belgium  Additives and Oxygenates - Exports  2014   \n",
       "3         Belgium  Additives and Oxygenates - Exports  2013   \n",
       "4         Belgium  Additives and Oxygenates - Exports  2012   \n",
       "\n",
       "                     unit  quantity  quantity_footnotes  \\\n",
       "0  Metric tons,  thousand       5.0                 NaN   \n",
       "1  Metric tons,  thousand      17.0                 NaN   \n",
       "2  Metric tons,  thousand       0.0                 NaN   \n",
       "3  Metric tons,  thousand       0.0                 NaN   \n",
       "4  Metric tons,  thousand      35.0                 NaN   \n",
       "\n",
       "                   category  \n",
       "0  additives_and_oxygenates  \n",
       "1  additives_and_oxygenates  \n",
       "2  additives_and_oxygenates  \n",
       "3  additives_and_oxygenates  \n",
       "4  additives_and_oxygenates  "
      ]
     },
     "execution_count": 6,
     "metadata": {},
     "output_type": "execute_result"
    }
   ],
   "source": [
    "df.head()"
   ]
  },
  {
   "cell_type": "markdown",
   "metadata": {
    "id": "5x2jKSANBcJV"
   },
   "source": [
    "<p>You'll notice that there is more of a delay than before when running the <code>read_csv</code> function. This dataset has over 1 million rows, so it takes a while to load it all into memory. From the first rows, we can immediately gain some useful insights</p>\n",
    "<ul>\n",
    "<li>The <code>category</code> column looks like it is well organized. All the samples we see are lowercase and underscores are used instead of spaces</li>\n",
    "<li>The <code>commodity_transaction</code> column looks more like a human-readable description. We can see how it includes a description of the category (e.g. \"additives_and_oxygenates\" matches with \"Additives and Oxygenates\" and \"wind_electricity\" matches with \"Electricity - ....wind....\")</li>\n",
    "<li>We see <code>year</code> ranges from at least 1995 to 2014 </li>\n",
    "<li>As mentioned before, we'll need to be careful when comparing quantities, as the <code>unit</code> column might change the meaning of the <code>quantity</code> column.</li>\n",
    "</ul>\n",
    "<p>A good first question to ask is how many unique values there are for the following columns:</p>\n",
    "<ul>\n",
    "<li><code>country_or_area</code></li>\n",
    "<li><code>commodity_transaction</code></li>\n",
    "<li><code>year</code></li>\n",
    "<li><code>category</code></li>\n",
    "</ul>\n",
    "<p>Let's find out:</p>"
   ]
  },
  {
   "cell_type": "code",
   "execution_count": 7,
   "metadata": {
    "colab": {
     "base_uri": "https://localhost:8080/"
    },
    "id": "8KR3Cwk3BcJW",
    "outputId": "c27e4e63-459a-47a9-ac2d-4051e89c5ff1"
   },
   "outputs": [
    {
     "name": "stdout",
     "output_type": "stream",
     "text": [
      "1990\n",
      "2014\n",
      "----------\n",
      "commodity_transaction\n",
      "['Additives and Oxygenates - Exports' 'Additives and Oxygenates - Imports'\n",
      " 'Additives and Oxygenates - Production' ...\n",
      " 'White spirit and special boiling point industrial spirits - Transformation'\n",
      " 'White spirit and special boiling point industrial spirits - Transformation in petrochemical plants'\n",
      " 'Electricity - total wind production']\n",
      "\n",
      "num unique values:  2452\n",
      "\n",
      "----------\n",
      "['additives_and_oxygenates' 'animal_waste' 'anthracite'\n",
      " 'aviation_gasoline' 'bagasse' 'biodiesel' 'biogases' 'biogasoline'\n",
      " 'bitumen' 'black_liquor' 'blast_furnace_gas' 'brown_coal_briquettes'\n",
      " 'brown_coal' 'charcoal' 'coal_tar' 'coke_oven_coke' 'coking_coal'\n",
      " 'conventional_crude_oil' 'direct_use_of_geothermal_heat'\n",
      " 'direct_use_of_solar_thermal_heat'\n",
      " 'electricity_net_installed_capacity_of_electric_power_plants' 'ethane'\n",
      " 'falling_water' 'fuel_oil' 'fuelwood' 'gas_coke' 'gas_oil_diesel_oil'\n",
      " 'gasoline_type_jet_fuel' 'gasworks_gas' 'geothermal' 'hard_coal' 'heat'\n",
      " 'hydro' 'industrial_waste' 'kerosene_type_jet_fuel' 'lignite'\n",
      " 'liquified_petroleum_gas' 'lubricants' 'motor_gasoline'\n",
      " 'municipal_wastes' 'naphtha' 'natural_gas_including_lng'\n",
      " 'natural_gas_liquids' 'nuclear_electricity' 'of_which_biodiesel'\n",
      " 'of_which_biogasoline' 'oil_shale_oil_sands' 'other_bituminous_coal'\n",
      " 'other_coal_products' 'other_hydrocarbons' 'other_kerosene'\n",
      " 'other_liquid_biofuels' 'other_oil_products_n_e_c'\n",
      " 'other_recovered_gases' 'other_vegetal_material_and_residues'\n",
      " 'paraffin_waxes' 'patent_fuel' 'peat' 'peat_products' 'petroleum_coke'\n",
      " 'refinery_feedstocks' 'refinery_gas' 'solar_electricity'\n",
      " 'sub_bituminous_coal' 'thermal_electricity'\n",
      " 'tide_wave_and_ocean_electricity' 'total_electricity'\n",
      " 'total_refinery_output' 'uranium'\n",
      " 'white_spirit_and_special_boiling_point_industrial_spirits'\n",
      " 'wind_electricity']\n",
      "\n",
      "num unique values:  71\n",
      "\n",
      "---------------\n",
      "['Austria' 'Belgium' 'Czechia' 'Finland' 'France' 'Greece' 'Hungary'\n",
      " 'Italy' 'Korea, Republic of' 'Netherlands' 'Romania' 'Serbia' 'Slovakia'\n",
      " 'Ukraine' 'United Kingdom' 'United States' 'Brunei Darussalam' 'Bulgaria'\n",
      " 'Canada' 'Chile' 'Croatia' 'Iran (Islamic Rep. of)' 'Jordan' 'Lithuania'\n",
      " 'Mexico' 'Oman' 'Other Asia' 'Poland' 'Portugal' 'Spain' 'Sweden'\n",
      " 'Switzerland' 'T.F.Yug.Rep. Macedonia' 'Turkey' 'Uzbekistan' 'Argentina'\n",
      " 'Colombia' 'Germany' 'Norway' 'Australia' 'China, Macao SAR' 'Japan'\n",
      " 'Denmark' 'Ireland' 'Philippines' 'Bangladesh' 'Eritrea' 'Ethiopia'\n",
      " 'Lesotho' 'Nepal' 'Niger' 'Pakistan' 'Serbia and Montenegro' 'Tunisia'\n",
      " 'Botswana' 'Georgia' 'Republic of Moldova' 'Peru' 'South Africa'\n",
      " 'Iceland' 'Latvia' 'Luxembourg' 'Cuba' 'Kyrgyzstan' 'Singapore'\n",
      " 'Thailand' 'United Arab Emirates' 'Uruguay' 'Armenia' 'Fiji'\n",
      " \"Korea, Dem.Ppl's.Rep.\" 'Russian Federation' 'Swaziland' 'Zimbabwe'\n",
      " 'Afghanistan' 'Antigua and Barbuda' 'Azerbaijan' 'Bahamas' 'Belize'\n",
      " 'Bolivia (Plur. State of)' 'Brazil' 'Burkina Faso' 'Cameroon'\n",
      " 'Cayman Islands' 'Central African Rep.' 'China' 'Comoros' 'Congo'\n",
      " 'Costa Rica' \"Côte d'Ivoire\" 'Dem. Rep. of the Congo'\n",
      " 'Dominican Republic' 'Ecuador' 'Egypt' 'El Salvador' 'Estonia'\n",
      " 'Ethiopia, incl. Eritrea' 'Faeroe Islands' 'French Guiana'\n",
      " 'Germany, Fed. R. (former)' 'Greenland' 'Guatemala' 'Guinea' 'Guyana'\n",
      " 'Honduras' 'Indonesia' 'Israel' 'Jamaica' 'Jersey' 'Kazakhstan' 'Kenya'\n",
      " 'Kuwait' \"Lao People's Dem. Rep.\" 'Liberia' 'Libya' 'Malawi' 'Malaysia'\n",
      " 'Maldives' 'Mauritania' 'Mayotte' 'Morocco' 'Myanmar' 'Namibia'\n",
      " 'New Caledonia' 'New Zealand' 'Nicaragua' 'Niue' 'Panama'\n",
      " 'Papua New Guinea' 'Paraguay' 'Sao Tome and Principe' 'Senegal'\n",
      " 'Seychelles' 'Slovenia' 'Solomon Islands' 'Sri Lanka' 'Sudan (former)'\n",
      " 'Suriname' 'Togo' 'Tonga' 'Trinidad and Tobago' 'United Rep. of Tanzania'\n",
      " 'Venezuela (Bolivar. Rep.)' 'Yugoslavia, SFR (former)' 'Zambia' 'Algeria'\n",
      " 'Curaçao' 'Gabon' 'Malta' 'Neth. Antilles (former)' 'Sierra Leone'\n",
      " 'USSR (former)' 'Barbados' 'Benin' 'Chad' 'Djibouti' 'French Polynesia'\n",
      " 'Ghana' 'Grenada' 'Guadeloupe' 'Haiti' 'Iraq' 'Kiribati' 'Madagascar'\n",
      " 'Mali' 'Martinique' 'Pacific Islands (former)' 'Palau'\n",
      " 'St. Helena and Depend.' 'St. Vincent-Grenadines' 'Syrian Arab Republic'\n",
      " 'Uganda' 'Yemen' 'Yemen, Dem. (former)' 'Burundi' 'India' 'Mauritius'\n",
      " 'Mozambique' 'Nigeria' 'Réunion' 'Rwanda' 'Samoa' 'Somalia'\n",
      " 'St. Kitts-Nevis' 'Viet Nam' 'Belarus' 'Cyprus' 'Cabo Verde' 'Albania'\n",
      " 'Bahrain' 'Bosnia and Herzegovina' 'China, Hong Kong SAR'\n",
      " 'Czechoslovakia (former)' 'Angola' 'Bermuda' 'Bhutan' 'Equatorial Guinea'\n",
      " 'Lebanon' 'Saudi Arabia' 'St. Lucia' 'St. Pierre-Miquelon'\n",
      " 'State of Palestine' 'Tajikistan' 'German Dem. R. (former)' 'Anguilla'\n",
      " 'Mongolia' 'Montenegro' 'Cambodia' 'South Sudan' 'Sudan' 'Andorra'\n",
      " 'Aruba' 'Bonaire, St Eustatius, Saba' 'British Virgin Islands' 'Dominica'\n",
      " 'Falkland Is. (Malvinas)' 'Gambia' 'Gibraltar' 'Qatar'\n",
      " 'Sint Maarten (Dutch part)' 'Turkmenistan' 'Turks and Caicos Islands'\n",
      " 'Vanuatu' 'Guinea-Bissau' 'Micronesia (Fed. States of)' 'Timor-Leste'\n",
      " 'Yemen Arab Rep. (former)' 'American Samoa' 'Liechtenstein' 'Puerto Rico'\n",
      " 'Cook Islands' 'Guam' 'Guernsey' 'Isle of Man' 'Marshall Islands'\n",
      " 'Montserrat' 'Nauru' 'Northern Mariana Islands' 'Tuvalu'\n",
      " 'United States Virgin Is.' 'Wallis and Futuna Is.'\n",
      " 'Commonwealth of Independent States (CIS)' 'Antarctic Fisheries']\n",
      "\n",
      "num unique values:  243\n"
     ]
    }
   ],
   "source": [
    "print(df.year.min())\n",
    "print(df.year.max())\n",
    "print(\"----------\")\n",
    "print(\"commodity_transaction\")\n",
    "print(df.commodity_transaction.unique())\n",
    "print()\n",
    "print(\"num unique values: \", len(df.commodity_transaction.unique()))\n",
    "print()\n",
    "print(\"----------\")\n",
    "print(df.category.unique())\n",
    "print()\n",
    "print(\"num unique values: \", len(df.category.unique()))\n",
    "print()\n",
    "print(\"---------------\")\n",
    "print(df.country_or_area.unique())\n",
    "print()\n",
    "print(\"num unique values: \", len(df.country_or_area.unique()))\n"
   ]
  },
  {
   "cell_type": "markdown",
   "metadata": {
    "id": "2aea8LCQBcJX"
   },
   "source": [
    "<p>We can see that <code>country_or_area</code> has 243 unique values, more than the officially recognised 195, because this list includes some former countries such as the USSR as well as areas like Antarctic Fisheries which are not formal countries.</p>\n",
    "<p>As expected, the <code>categories</code> column is well standardized and breaks each row into one of 71 unique categories, while the <code>commodity_transaction</code> row is slightly more chaotic and consists of 2452 unique values.</p>\n",
    "<p>In terms of time, our data ranges from 1990 - 2014 inclusive, so 25 years in total.</p>\n",
    "<p>Note that the output of <code>unique()</code> is automatically truncated for large lists, with a <code>...</code> inserted to indicate this.</p>\n",
    "<p>Since the <code>commodity_transaction</code> column is a bit chaotic, we'll need to touch it up a bit. Let's create a copy of our dataframe before we start changing it so we can refer back to the original values if necessary.</p>"
   ]
  },
  {
   "cell_type": "code",
   "execution_count": 8,
   "metadata": {
    "id": "emlv-Z8cBcJX"
   },
   "outputs": [],
   "source": [
    "df_orig = df.copy()"
   ]
  },
  {
   "cell_type": "markdown",
   "metadata": {
    "id": "XpF3_ab1BcJX"
   },
   "source": [
    "<p>The first thing we noticed about the <code>commodity_transaction</code> column is that it uses hyphens (<code>-</code>) as separators. We can also see that it uses lowercase and capital letters - often something that makes analysis harder if we are going to do any string matching (e.g. find the word \"production\", which might skip descriptions which use \"Production\" instead). </p>\n",
    "<p>Let's start by lowercasing all of the descriptions. In the previous case, you learned how to do this by creating a separate list, looping through the dataframe, and then adding all the items from the list as a new column. We could achieve what we wanted as follows:</p>"
   ]
  },
  {
   "cell_type": "code",
   "execution_count": 9,
   "metadata": {
    "colab": {
     "base_uri": "https://localhost:8080/"
    },
    "id": "bw66uA4_BcJY",
    "outputId": "4e24b844-d202-4d29-e732-bd97b0a25630"
   },
   "outputs": [
    {
     "name": "stdout",
     "output_type": "stream",
     "text": [
      "CPU times: total: 1.06 s\n",
      "Wall time: 1.51 s\n"
     ]
    }
   ],
   "source": [
    "%%time\n",
    "clean_transaction_list = []\n",
    "\n",
    "for item in df['commodity_transaction']:\n",
    "    item = item.lower()\n",
    "    clean_transaction_list.append(item)\n",
    "\n",
    "df['clean_transaction'] = clean_transaction_list"
   ]
  },
  {
   "cell_type": "code",
   "execution_count": 10,
   "metadata": {
    "colab": {
     "base_uri": "https://localhost:8080/",
     "height": 206
    },
    "id": "fGauXq56BcJY",
    "outputId": "f3b9fe04-d5e5-4e6d-91d4-4929c075de8f"
   },
   "outputs": [
    {
     "data": {
      "text/html": [
       "<div>\n",
       "<style scoped>\n",
       "    .dataframe tbody tr th:only-of-type {\n",
       "        vertical-align: middle;\n",
       "    }\n",
       "\n",
       "    .dataframe tbody tr th {\n",
       "        vertical-align: top;\n",
       "    }\n",
       "\n",
       "    .dataframe thead th {\n",
       "        text-align: right;\n",
       "    }\n",
       "</style>\n",
       "<table border=\"1\" class=\"dataframe\">\n",
       "  <thead>\n",
       "    <tr style=\"text-align: right;\">\n",
       "      <th></th>\n",
       "      <th>country_or_area</th>\n",
       "      <th>commodity_transaction</th>\n",
       "      <th>year</th>\n",
       "      <th>unit</th>\n",
       "      <th>quantity</th>\n",
       "      <th>quantity_footnotes</th>\n",
       "      <th>category</th>\n",
       "      <th>clean_transaction</th>\n",
       "    </tr>\n",
       "  </thead>\n",
       "  <tbody>\n",
       "    <tr>\n",
       "      <th>0</th>\n",
       "      <td>Austria</td>\n",
       "      <td>Additives and Oxygenates - Exports</td>\n",
       "      <td>1996</td>\n",
       "      <td>Metric tons,  thousand</td>\n",
       "      <td>5.0</td>\n",
       "      <td>NaN</td>\n",
       "      <td>additives_and_oxygenates</td>\n",
       "      <td>additives and oxygenates - exports</td>\n",
       "    </tr>\n",
       "    <tr>\n",
       "      <th>1</th>\n",
       "      <td>Austria</td>\n",
       "      <td>Additives and Oxygenates - Exports</td>\n",
       "      <td>1995</td>\n",
       "      <td>Metric tons,  thousand</td>\n",
       "      <td>17.0</td>\n",
       "      <td>NaN</td>\n",
       "      <td>additives_and_oxygenates</td>\n",
       "      <td>additives and oxygenates - exports</td>\n",
       "    </tr>\n",
       "    <tr>\n",
       "      <th>2</th>\n",
       "      <td>Belgium</td>\n",
       "      <td>Additives and Oxygenates - Exports</td>\n",
       "      <td>2014</td>\n",
       "      <td>Metric tons,  thousand</td>\n",
       "      <td>0.0</td>\n",
       "      <td>NaN</td>\n",
       "      <td>additives_and_oxygenates</td>\n",
       "      <td>additives and oxygenates - exports</td>\n",
       "    </tr>\n",
       "    <tr>\n",
       "      <th>3</th>\n",
       "      <td>Belgium</td>\n",
       "      <td>Additives and Oxygenates - Exports</td>\n",
       "      <td>2013</td>\n",
       "      <td>Metric tons,  thousand</td>\n",
       "      <td>0.0</td>\n",
       "      <td>NaN</td>\n",
       "      <td>additives_and_oxygenates</td>\n",
       "      <td>additives and oxygenates - exports</td>\n",
       "    </tr>\n",
       "    <tr>\n",
       "      <th>4</th>\n",
       "      <td>Belgium</td>\n",
       "      <td>Additives and Oxygenates - Exports</td>\n",
       "      <td>2012</td>\n",
       "      <td>Metric tons,  thousand</td>\n",
       "      <td>35.0</td>\n",
       "      <td>NaN</td>\n",
       "      <td>additives_and_oxygenates</td>\n",
       "      <td>additives and oxygenates - exports</td>\n",
       "    </tr>\n",
       "  </tbody>\n",
       "</table>\n",
       "</div>"
      ],
      "text/plain": [
       "  country_or_area               commodity_transaction  year  \\\n",
       "0         Austria  Additives and Oxygenates - Exports  1996   \n",
       "1         Austria  Additives and Oxygenates - Exports  1995   \n",
       "2         Belgium  Additives and Oxygenates - Exports  2014   \n",
       "3         Belgium  Additives and Oxygenates - Exports  2013   \n",
       "4         Belgium  Additives and Oxygenates - Exports  2012   \n",
       "\n",
       "                     unit  quantity  quantity_footnotes  \\\n",
       "0  Metric tons,  thousand       5.0                 NaN   \n",
       "1  Metric tons,  thousand      17.0                 NaN   \n",
       "2  Metric tons,  thousand       0.0                 NaN   \n",
       "3  Metric tons,  thousand       0.0                 NaN   \n",
       "4  Metric tons,  thousand      35.0                 NaN   \n",
       "\n",
       "                   category                   clean_transaction  \n",
       "0  additives_and_oxygenates  additives and oxygenates - exports  \n",
       "1  additives_and_oxygenates  additives and oxygenates - exports  \n",
       "2  additives_and_oxygenates  additives and oxygenates - exports  \n",
       "3  additives_and_oxygenates  additives and oxygenates - exports  \n",
       "4  additives_and_oxygenates  additives and oxygenates - exports  "
      ]
     },
     "execution_count": 10,
     "metadata": {},
     "output_type": "execute_result"
    }
   ],
   "source": [
    "df.head()"
   ]
  },
  {
   "cell_type": "markdown",
   "metadata": {
    "id": "NJHertgFBcJY"
   },
   "source": [
    "<p>We added <code>%%time</code> at the top of our cell to make Jupyter output information about how long it took to run that cell. We can see that looping through our DataFrame and adding the column took nearly 1 second to complete. It also took 5 lines of code.</p>\n",
    "<p>As its very common to need to apply the same operation on every row of a dataset, <code>pandas</code> provides a shortcut to do this. You can use the <code>.apply()</code> function on a DataFrame directly and pass in a function to apply to every row. This is more efficient in two ways:</p>\n",
    "<ul>\n",
    "<li>It takes fewer lines of code, so it's faster to write the code (and to read it)</li>\n",
    "<li><code>apply()</code> is optimized to take advantage of modern CPU features such as vectorization, so it runs in less time</li>\n",
    "</ul>\n",
    "<p>We can achieve exactly the same result as we did with our <code>for</code> loop using the <code>apply()</code> function as follows:</p>"
   ]
  },
  {
   "cell_type": "code",
   "execution_count": 11,
   "metadata": {
    "colab": {
     "base_uri": "https://localhost:8080/"
    },
    "id": "DWvm4DIWBcJZ",
    "outputId": "b95ff7fa-066f-4929-b83b-f1862165eb10"
   },
   "outputs": [
    {
     "name": "stdout",
     "output_type": "stream",
     "text": [
      "CPU times: total: 250 ms\n",
      "Wall time: 505 ms\n"
     ]
    }
   ],
   "source": [
    "%%time\n",
    "df['clean_transaction2'] = df['commodity_transaction'].apply(str.lower)"
   ]
  },
  {
   "cell_type": "code",
   "execution_count": 12,
   "metadata": {
    "colab": {
     "base_uri": "https://localhost:8080/"
    },
    "id": "TL-qSeTHHD77",
    "outputId": "437314b3-7ae0-4ce9-8966-251a7db1e6c4"
   },
   "outputs": [
    {
     "name": "stdout",
     "output_type": "stream",
     "text": [
      "CPU times: total: 266 ms\n",
      "Wall time: 525 ms\n"
     ]
    }
   ],
   "source": [
    "%%time\n",
    "df['clean_transaction2'] = df.commodity_transaction.apply(str.lower)"
   ]
  },
  {
   "cell_type": "code",
   "execution_count": 13,
   "metadata": {
    "colab": {
     "base_uri": "https://localhost:8080/",
     "height": 206
    },
    "id": "QBGD-dzzBcJZ",
    "outputId": "28cdc20f-c169-4b51-b19a-7a48cff713ef"
   },
   "outputs": [
    {
     "data": {
      "text/html": [
       "<div>\n",
       "<style scoped>\n",
       "    .dataframe tbody tr th:only-of-type {\n",
       "        vertical-align: middle;\n",
       "    }\n",
       "\n",
       "    .dataframe tbody tr th {\n",
       "        vertical-align: top;\n",
       "    }\n",
       "\n",
       "    .dataframe thead th {\n",
       "        text-align: right;\n",
       "    }\n",
       "</style>\n",
       "<table border=\"1\" class=\"dataframe\">\n",
       "  <thead>\n",
       "    <tr style=\"text-align: right;\">\n",
       "      <th></th>\n",
       "      <th>country_or_area</th>\n",
       "      <th>commodity_transaction</th>\n",
       "      <th>year</th>\n",
       "      <th>unit</th>\n",
       "      <th>quantity</th>\n",
       "      <th>quantity_footnotes</th>\n",
       "      <th>category</th>\n",
       "      <th>clean_transaction</th>\n",
       "      <th>clean_transaction2</th>\n",
       "    </tr>\n",
       "  </thead>\n",
       "  <tbody>\n",
       "    <tr>\n",
       "      <th>0</th>\n",
       "      <td>Austria</td>\n",
       "      <td>Additives and Oxygenates - Exports</td>\n",
       "      <td>1996</td>\n",
       "      <td>Metric tons,  thousand</td>\n",
       "      <td>5.0</td>\n",
       "      <td>NaN</td>\n",
       "      <td>additives_and_oxygenates</td>\n",
       "      <td>additives and oxygenates - exports</td>\n",
       "      <td>additives and oxygenates - exports</td>\n",
       "    </tr>\n",
       "    <tr>\n",
       "      <th>1</th>\n",
       "      <td>Austria</td>\n",
       "      <td>Additives and Oxygenates - Exports</td>\n",
       "      <td>1995</td>\n",
       "      <td>Metric tons,  thousand</td>\n",
       "      <td>17.0</td>\n",
       "      <td>NaN</td>\n",
       "      <td>additives_and_oxygenates</td>\n",
       "      <td>additives and oxygenates - exports</td>\n",
       "      <td>additives and oxygenates - exports</td>\n",
       "    </tr>\n",
       "    <tr>\n",
       "      <th>2</th>\n",
       "      <td>Belgium</td>\n",
       "      <td>Additives and Oxygenates - Exports</td>\n",
       "      <td>2014</td>\n",
       "      <td>Metric tons,  thousand</td>\n",
       "      <td>0.0</td>\n",
       "      <td>NaN</td>\n",
       "      <td>additives_and_oxygenates</td>\n",
       "      <td>additives and oxygenates - exports</td>\n",
       "      <td>additives and oxygenates - exports</td>\n",
       "    </tr>\n",
       "    <tr>\n",
       "      <th>3</th>\n",
       "      <td>Belgium</td>\n",
       "      <td>Additives and Oxygenates - Exports</td>\n",
       "      <td>2013</td>\n",
       "      <td>Metric tons,  thousand</td>\n",
       "      <td>0.0</td>\n",
       "      <td>NaN</td>\n",
       "      <td>additives_and_oxygenates</td>\n",
       "      <td>additives and oxygenates - exports</td>\n",
       "      <td>additives and oxygenates - exports</td>\n",
       "    </tr>\n",
       "    <tr>\n",
       "      <th>4</th>\n",
       "      <td>Belgium</td>\n",
       "      <td>Additives and Oxygenates - Exports</td>\n",
       "      <td>2012</td>\n",
       "      <td>Metric tons,  thousand</td>\n",
       "      <td>35.0</td>\n",
       "      <td>NaN</td>\n",
       "      <td>additives_and_oxygenates</td>\n",
       "      <td>additives and oxygenates - exports</td>\n",
       "      <td>additives and oxygenates - exports</td>\n",
       "    </tr>\n",
       "  </tbody>\n",
       "</table>\n",
       "</div>"
      ],
      "text/plain": [
       "  country_or_area               commodity_transaction  year  \\\n",
       "0         Austria  Additives and Oxygenates - Exports  1996   \n",
       "1         Austria  Additives and Oxygenates - Exports  1995   \n",
       "2         Belgium  Additives and Oxygenates - Exports  2014   \n",
       "3         Belgium  Additives and Oxygenates - Exports  2013   \n",
       "4         Belgium  Additives and Oxygenates - Exports  2012   \n",
       "\n",
       "                     unit  quantity  quantity_footnotes  \\\n",
       "0  Metric tons,  thousand       5.0                 NaN   \n",
       "1  Metric tons,  thousand      17.0                 NaN   \n",
       "2  Metric tons,  thousand       0.0                 NaN   \n",
       "3  Metric tons,  thousand       0.0                 NaN   \n",
       "4  Metric tons,  thousand      35.0                 NaN   \n",
       "\n",
       "                   category                   clean_transaction  \\\n",
       "0  additives_and_oxygenates  additives and oxygenates - exports   \n",
       "1  additives_and_oxygenates  additives and oxygenates - exports   \n",
       "2  additives_and_oxygenates  additives and oxygenates - exports   \n",
       "3  additives_and_oxygenates  additives and oxygenates - exports   \n",
       "4  additives_and_oxygenates  additives and oxygenates - exports   \n",
       "\n",
       "                   clean_transaction2  \n",
       "0  additives and oxygenates - exports  \n",
       "1  additives and oxygenates - exports  \n",
       "2  additives and oxygenates - exports  \n",
       "3  additives and oxygenates - exports  \n",
       "4  additives and oxygenates - exports  "
      ]
     },
     "execution_count": 13,
     "metadata": {},
     "output_type": "execute_result"
    }
   ],
   "source": [
    "df.head()"
   ]
  },
  {
   "cell_type": "markdown",
   "metadata": {
    "id": "eDGaakAcBcJZ"
   },
   "source": [
    "<p>Here we can see that <code>.apply()</code> ran around twice as quickly as the iterative version and produced the same results (the <code>clean_transaction</code> and <code>clean_transaction2</code> columns are the same). You can read more about the <code>apply()</code> function <a href=\"https://pandas.pydata.org/pandas-docs/stable/reference/api/pandas.DataFrame.apply.html\">here</a>, but in essence you call it from a column of a DataFrame and pass in a function. It applies that function to every row of that column in the DataFrame. In this case, we passed in the <code>str.lower</code> function, which converts a string to lowercase.</p>"
   ]
  },
  {
   "cell_type": "markdown",
   "metadata": {
    "id": "1A9Ayy9kBcJa"
   },
   "source": [
    "<h2>Pre-processing and pivoting our data</h2>"
   ]
  },
  {
   "cell_type": "markdown",
   "metadata": {
    "id": "J-Earzr9BcJa"
   },
   "source": [
    "<p>We noted before that the <code>commodity_transaction</code> column seemed to use hyphens to separate different concepts in a single column. Let's do some more analysis to see if this is true across the board.</p>"
   ]
  },
  {
   "cell_type": "markdown",
   "metadata": {
    "id": "iCLGIS5-BcJa"
   },
   "source": [
    "<h3>Exercise 1:</h3>\n",
    "<p>Find out how many of the 2,000+ unique columns contain:</p>\n",
    "<ul>\n",
    "<li>0 hyphens</li>\n",
    "<li>exactly 1 hyphen</li>\n",
    "<li>more than 1 hyphen</li>\n",
    "</ul>\n",
    "<p><strong>Hint:</strong> You can use Python's built-in <a href=\"https://www.w3schools.com/python/ref_string_count.asp\"><code>count()</code></a> method to count the occurrences of a character in a string).</p>"
   ]
  },
  {
   "cell_type": "markdown",
   "metadata": {
    "id": "kCJBhLB1BcJa",
    "tags": [
     "ans_st"
    ]
   },
   "source": [
    "**Answer.**"
   ]
  },
  {
   "cell_type": "code",
   "execution_count": 14,
   "metadata": {
    "colab": {
     "base_uri": "https://localhost:8080/"
    },
    "id": "9DlZX5LeMIT5",
    "outputId": "0331bef2-3980-47d8-c7cb-a09c5ff9806f"
   },
   "outputs": [
    {
     "name": "stdout",
     "output_type": "stream",
     "text": [
      "zero hyphens 57\n",
      "one hyphen 1845\n",
      "two or more hyphens 550\n"
     ]
    }
   ],
   "source": [
    "hyphens_0 = 0\n",
    "hyphens_1 = 0\n",
    "hyphens_2plus = 0\n",
    "\n",
    "for value in df.commodity_transaction.unique():\n",
    "    hyphen_count = value.count(\"-\")\n",
    "    if hyphen_count == 0:\n",
    "        hyphens_0 += 1\n",
    "    elif value.count(\"-\") == 1:\n",
    "        hyphens_1 += 1\n",
    "    else:\n",
    "        hyphens_2plus += 1\n",
    "\n",
    "print(\"zero hyphens\", hyphens_0)\n",
    "print(\"one hyphen\", hyphens_1)\n",
    "print(\"two or more hyphens\", hyphens_2plus)"
   ]
  },
  {
   "cell_type": "markdown",
   "metadata": {
    "id": "Xy882AffBcJb"
   },
   "source": [
    "-------"
   ]
  },
  {
   "cell_type": "markdown",
   "metadata": {
    "id": "yHMdObQqBcJb"
   },
   "source": [
    "<h3>Exercise 2:</h3>\n",
    "<p>Write code to print out all descriptions with zero hyphens. What do you notice about these?</p>"
   ]
  },
  {
   "cell_type": "markdown",
   "metadata": {
    "id": "xVhRba7-BcJb",
    "tags": [
     "ans_st"
    ]
   },
   "source": [
    "**Answer.**"
   ]
  },
  {
   "cell_type": "code",
   "execution_count": 17,
   "metadata": {},
   "outputs": [
    {
     "name": "stdout",
     "output_type": "stream",
     "text": [
      "57 unique descriptions with no hyphen:\n",
      " • From chemical heat – Autoproducer\n",
      " • From chemical heat – Autoproducer – CHP plants\n",
      " • From chemical heat – Autoproducer – Electricity plants\n",
      " • From chemical heat – Main activity\n",
      " • From chemical heat – Main activity – CHP plants\n",
      " • From chemical heat – Main activity – Electricity plants\n",
      " • From chemical sources – Autoproducer\n",
      " • From chemical sources – Autoproducer – CHP plants\n",
      " • From chemical sources – Autoproducer – Heat plants\n",
      " • From combustible fuels – Autoproducer\n",
      " • From combustible fuels – Autoproducer – CHP plants\n",
      " • From combustible fuels – Autoproducer – Electricity plants\n",
      " • From combustible fuels – Autoproducer – Heat plants\n",
      " • From combustible fuels – Main activity\n",
      " • From combustible fuels – Main activity – CHP plants\n",
      " • From combustible fuels – Main activity – Electricity plants\n",
      " • From combustible fuels – Main activity – Heat plants\n",
      " • From electric boilers – Main activity\n",
      " • From heat pumps – Main activity\n",
      " • From other sources – Autoproducer\n",
      " • From other sources – Autoproducer – CHP plants\n",
      " • From other sources – Autoproducer – Electricity plants\n",
      " • From other sources – Autoproducer – Heat plants\n",
      " • From other sources – Main activity\n",
      " • From other sources – Main activity – CHP plants\n",
      " • From other sources – Main activity – Electricity plants\n",
      " • From other sources – Main activity – Heat plants\n",
      " • Geothermal – Autoproducer\n",
      " • Geothermal – Autoproducer – CHP plants\n",
      " • Geothermal – Autoproducer – Electricity plants\n",
      " • Geothermal – Autoproducer – Heat plants\n",
      " • Geothermal – Main activity\n",
      " • Geothermal – Main activity – CHP plants\n",
      " • Geothermal – Main activity – Electricity plants\n",
      " • Geothermal – Main activity – Heat plants\n",
      " • Hydro – Autoproducer\n",
      " • Hydro – Main activity\n",
      " • Nuclear – Autoproducer\n",
      " • Nuclear – Autoproducer – CHP plants\n",
      " • Nuclear – Autoproducer – Electricity plants\n",
      " • Nuclear – Main activity\n",
      " • Nuclear – Main activity – CHP plants\n",
      " • Nuclear – Main activity – Electricity plants\n",
      " • Of which: Pumped hydro – Autoproducer\n",
      " • Of which: Pumped hydro – Main activity\n",
      " • Solar photovoltaic – Autoproducer\n",
      " • Solar photovoltaic – Main activity\n",
      " • Solar thermal – Autoproducer\n",
      " • Solar thermal – Main activity\n",
      " • Solar – Autoproducer\n",
      " • Solar – Main activity\n",
      " • Tide, wave and marine – Autoproducer\n",
      " • Tide, wave and marine – Main activity\n",
      " • Total refinery output\n",
      " • Total refinery throughput\n",
      " • Wind – Autoproducer\n",
      " • Wind – Main activity\n"
     ]
    }
   ],
   "source": [
    "# Add a helper column \n",
    "df[\"hyphen_count\"] = df[\"commodity_transaction\"].str.count(\"-\")\n",
    "\n",
    "# Filter rows where the count is 0\n",
    "no_hyphen_rows = df[df[\"hyphen_count\"] == 0]\n",
    "\n",
    "# Look at the distinct descriptions to understand what they are\n",
    "unique_no_hyphen = (\n",
    "    no_hyphen_rows[\"commodity_transaction\"]\n",
    "    .drop_duplicates()\n",
    "    .sort_values()\n",
    "    .to_list()\n",
    ")\n",
    "\n",
    "print(f\"{len(unique_no_hyphen)} unique descriptions with no hyphen:\")\n",
    "for desc in unique_no_hyphen:\n",
    "    print(\" •\", desc)\n"
   ]
  },
  {
   "cell_type": "markdown",
   "metadata": {
    "id": "WTwZm96dBcJb"
   },
   "source": [
    "-------"
   ]
  },
  {
   "cell_type": "markdown",
   "metadata": {
    "id": "3cCxifdyBcJc"
   },
   "source": [
    "<h3>Passing our own functions to <code>apply()</code></h3>\n",
    "<p>We previously passed the built-in <code>str.lower()</code> function to the <code>apply()</code> function to apply to it every row in our DataFrame. Now we want to clean up the m-dashes and lowercase the result at the same time. Let's write our own custom Python function to do both, and pass that to <code>apply()</code> instead. You can read more about writing your own custom functions in Python <a href=\"https://www.w3schools.com/python/python_functions.asp\">here</a>:</p>"
   ]
  },
  {
   "cell_type": "code",
   "execution_count": 18,
   "metadata": {
    "id": "Z2ypoOAoBcJc"
   },
   "outputs": [
    {
     "data": {
      "text/html": [
       "<div>\n",
       "<style scoped>\n",
       "    .dataframe tbody tr th:only-of-type {\n",
       "        vertical-align: middle;\n",
       "    }\n",
       "\n",
       "    .dataframe tbody tr th {\n",
       "        vertical-align: top;\n",
       "    }\n",
       "\n",
       "    .dataframe thead th {\n",
       "        text-align: right;\n",
       "    }\n",
       "</style>\n",
       "<table border=\"1\" class=\"dataframe\">\n",
       "  <thead>\n",
       "    <tr style=\"text-align: right;\">\n",
       "      <th></th>\n",
       "      <th>country_or_area</th>\n",
       "      <th>commodity_transaction</th>\n",
       "      <th>year</th>\n",
       "      <th>unit</th>\n",
       "      <th>quantity</th>\n",
       "      <th>quantity_footnotes</th>\n",
       "      <th>category</th>\n",
       "      <th>hyphen_count</th>\n",
       "    </tr>\n",
       "  </thead>\n",
       "  <tbody>\n",
       "    <tr>\n",
       "      <th>0</th>\n",
       "      <td>Austria</td>\n",
       "      <td>Additives and Oxygenates - Exports</td>\n",
       "      <td>1996</td>\n",
       "      <td>Metric tons,  thousand</td>\n",
       "      <td>5.0</td>\n",
       "      <td>NaN</td>\n",
       "      <td>additives_and_oxygenates</td>\n",
       "      <td>1</td>\n",
       "    </tr>\n",
       "    <tr>\n",
       "      <th>1</th>\n",
       "      <td>Austria</td>\n",
       "      <td>Additives and Oxygenates - Exports</td>\n",
       "      <td>1995</td>\n",
       "      <td>Metric tons,  thousand</td>\n",
       "      <td>17.0</td>\n",
       "      <td>NaN</td>\n",
       "      <td>additives_and_oxygenates</td>\n",
       "      <td>1</td>\n",
       "    </tr>\n",
       "    <tr>\n",
       "      <th>2</th>\n",
       "      <td>Belgium</td>\n",
       "      <td>Additives and Oxygenates - Exports</td>\n",
       "      <td>2014</td>\n",
       "      <td>Metric tons,  thousand</td>\n",
       "      <td>0.0</td>\n",
       "      <td>NaN</td>\n",
       "      <td>additives_and_oxygenates</td>\n",
       "      <td>1</td>\n",
       "    </tr>\n",
       "    <tr>\n",
       "      <th>3</th>\n",
       "      <td>Belgium</td>\n",
       "      <td>Additives and Oxygenates - Exports</td>\n",
       "      <td>2013</td>\n",
       "      <td>Metric tons,  thousand</td>\n",
       "      <td>0.0</td>\n",
       "      <td>NaN</td>\n",
       "      <td>additives_and_oxygenates</td>\n",
       "      <td>1</td>\n",
       "    </tr>\n",
       "    <tr>\n",
       "      <th>4</th>\n",
       "      <td>Belgium</td>\n",
       "      <td>Additives and Oxygenates - Exports</td>\n",
       "      <td>2012</td>\n",
       "      <td>Metric tons,  thousand</td>\n",
       "      <td>35.0</td>\n",
       "      <td>NaN</td>\n",
       "      <td>additives_and_oxygenates</td>\n",
       "      <td>1</td>\n",
       "    </tr>\n",
       "  </tbody>\n",
       "</table>\n",
       "</div>"
      ],
      "text/plain": [
       "  country_or_area               commodity_transaction  year  \\\n",
       "0         Austria  Additives and Oxygenates - Exports  1996   \n",
       "1         Austria  Additives and Oxygenates - Exports  1995   \n",
       "2         Belgium  Additives and Oxygenates - Exports  2014   \n",
       "3         Belgium  Additives and Oxygenates - Exports  2013   \n",
       "4         Belgium  Additives and Oxygenates - Exports  2012   \n",
       "\n",
       "                     unit  quantity  quantity_footnotes  \\\n",
       "0  Metric tons,  thousand       5.0                 NaN   \n",
       "1  Metric tons,  thousand      17.0                 NaN   \n",
       "2  Metric tons,  thousand       0.0                 NaN   \n",
       "3  Metric tons,  thousand       0.0                 NaN   \n",
       "4  Metric tons,  thousand      35.0                 NaN   \n",
       "\n",
       "                   category  hyphen_count  \n",
       "0  additives_and_oxygenates             1  \n",
       "1  additives_and_oxygenates             1  \n",
       "2  additives_and_oxygenates             1  \n",
       "3  additives_and_oxygenates             1  \n",
       "4  additives_and_oxygenates             1  "
      ]
     },
     "execution_count": 18,
     "metadata": {},
     "output_type": "execute_result"
    }
   ],
   "source": [
    "def clean_transaction_description(transaction_description):\n",
    "    \"\"\"Lowercase the input and replace all m-dashes with hyphens\"\"\"\n",
    "    clean = transaction_description.lower()\n",
    "    clean = clean.replace(\"–\", \"-\")\n",
    "    return clean\n",
    "\n",
    "\n",
    "# drop the columns we added before so we can recreate them with our new clean function\n",
    "df = df.drop(columns=['clean_transaction', 'clean_transaction2'])\n",
    "df.head()"
   ]
  },
  {
   "cell_type": "code",
   "execution_count": 19,
   "metadata": {
    "id": "ZbYNULqrBcJc"
   },
   "outputs": [
    {
     "data": {
      "text/html": [
       "<div>\n",
       "<style scoped>\n",
       "    .dataframe tbody tr th:only-of-type {\n",
       "        vertical-align: middle;\n",
       "    }\n",
       "\n",
       "    .dataframe tbody tr th {\n",
       "        vertical-align: top;\n",
       "    }\n",
       "\n",
       "    .dataframe thead th {\n",
       "        text-align: right;\n",
       "    }\n",
       "</style>\n",
       "<table border=\"1\" class=\"dataframe\">\n",
       "  <thead>\n",
       "    <tr style=\"text-align: right;\">\n",
       "      <th></th>\n",
       "      <th>country_or_area</th>\n",
       "      <th>commodity_transaction</th>\n",
       "      <th>year</th>\n",
       "      <th>unit</th>\n",
       "      <th>quantity</th>\n",
       "      <th>quantity_footnotes</th>\n",
       "      <th>category</th>\n",
       "      <th>hyphen_count</th>\n",
       "      <th>clean_transaction</th>\n",
       "    </tr>\n",
       "  </thead>\n",
       "  <tbody>\n",
       "    <tr>\n",
       "      <th>0</th>\n",
       "      <td>Austria</td>\n",
       "      <td>Additives and Oxygenates - Exports</td>\n",
       "      <td>1996</td>\n",
       "      <td>Metric tons,  thousand</td>\n",
       "      <td>5.0</td>\n",
       "      <td>NaN</td>\n",
       "      <td>additives_and_oxygenates</td>\n",
       "      <td>1</td>\n",
       "      <td>additives and oxygenates - exports</td>\n",
       "    </tr>\n",
       "    <tr>\n",
       "      <th>1</th>\n",
       "      <td>Austria</td>\n",
       "      <td>Additives and Oxygenates - Exports</td>\n",
       "      <td>1995</td>\n",
       "      <td>Metric tons,  thousand</td>\n",
       "      <td>17.0</td>\n",
       "      <td>NaN</td>\n",
       "      <td>additives_and_oxygenates</td>\n",
       "      <td>1</td>\n",
       "      <td>additives and oxygenates - exports</td>\n",
       "    </tr>\n",
       "    <tr>\n",
       "      <th>2</th>\n",
       "      <td>Belgium</td>\n",
       "      <td>Additives and Oxygenates - Exports</td>\n",
       "      <td>2014</td>\n",
       "      <td>Metric tons,  thousand</td>\n",
       "      <td>0.0</td>\n",
       "      <td>NaN</td>\n",
       "      <td>additives_and_oxygenates</td>\n",
       "      <td>1</td>\n",
       "      <td>additives and oxygenates - exports</td>\n",
       "    </tr>\n",
       "    <tr>\n",
       "      <th>3</th>\n",
       "      <td>Belgium</td>\n",
       "      <td>Additives and Oxygenates - Exports</td>\n",
       "      <td>2013</td>\n",
       "      <td>Metric tons,  thousand</td>\n",
       "      <td>0.0</td>\n",
       "      <td>NaN</td>\n",
       "      <td>additives_and_oxygenates</td>\n",
       "      <td>1</td>\n",
       "      <td>additives and oxygenates - exports</td>\n",
       "    </tr>\n",
       "    <tr>\n",
       "      <th>4</th>\n",
       "      <td>Belgium</td>\n",
       "      <td>Additives and Oxygenates - Exports</td>\n",
       "      <td>2012</td>\n",
       "      <td>Metric tons,  thousand</td>\n",
       "      <td>35.0</td>\n",
       "      <td>NaN</td>\n",
       "      <td>additives_and_oxygenates</td>\n",
       "      <td>1</td>\n",
       "      <td>additives and oxygenates - exports</td>\n",
       "    </tr>\n",
       "  </tbody>\n",
       "</table>\n",
       "</div>"
      ],
      "text/plain": [
       "  country_or_area               commodity_transaction  year  \\\n",
       "0         Austria  Additives and Oxygenates - Exports  1996   \n",
       "1         Austria  Additives and Oxygenates - Exports  1995   \n",
       "2         Belgium  Additives and Oxygenates - Exports  2014   \n",
       "3         Belgium  Additives and Oxygenates - Exports  2013   \n",
       "4         Belgium  Additives and Oxygenates - Exports  2012   \n",
       "\n",
       "                     unit  quantity  quantity_footnotes  \\\n",
       "0  Metric tons,  thousand       5.0                 NaN   \n",
       "1  Metric tons,  thousand      17.0                 NaN   \n",
       "2  Metric tons,  thousand       0.0                 NaN   \n",
       "3  Metric tons,  thousand       0.0                 NaN   \n",
       "4  Metric tons,  thousand      35.0                 NaN   \n",
       "\n",
       "                   category  hyphen_count                   clean_transaction  \n",
       "0  additives_and_oxygenates             1  additives and oxygenates - exports  \n",
       "1  additives_and_oxygenates             1  additives and oxygenates - exports  \n",
       "2  additives_and_oxygenates             1  additives and oxygenates - exports  \n",
       "3  additives_and_oxygenates             1  additives and oxygenates - exports  \n",
       "4  additives_and_oxygenates             1  additives and oxygenates - exports  "
      ]
     },
     "execution_count": 19,
     "metadata": {},
     "output_type": "execute_result"
    }
   ],
   "source": [
    "df['clean_transaction'] = df['commodity_transaction'].apply(clean_transaction_description)\n",
    "df.head()"
   ]
  },
  {
   "cell_type": "markdown",
   "metadata": {
    "id": "PtJq2s8zBcJd"
   },
   "source": [
    "<p>Here we used <code>apply()</code> again, but this time passed in our own function which did both the lowercasing and the replacing of m-dashes with hyphens.</p>\n",
    "<p>We've now seen how to use the <code>apply()</code> function with both built-in functions and our own custom functions. There's one more way we can use <code>apply()</code> though: with custom <strong>anonymous functions</strong> using the Python <code>lambda</code> keyword. Let's see how to achieve the same result using <code>lambda</code>:</p>"
   ]
  },
  {
   "cell_type": "code",
   "execution_count": 20,
   "metadata": {
    "id": "1NtK1ZY1BcJd"
   },
   "outputs": [
    {
     "data": {
      "text/html": [
       "<div>\n",
       "<style scoped>\n",
       "    .dataframe tbody tr th:only-of-type {\n",
       "        vertical-align: middle;\n",
       "    }\n",
       "\n",
       "    .dataframe tbody tr th {\n",
       "        vertical-align: top;\n",
       "    }\n",
       "\n",
       "    .dataframe thead th {\n",
       "        text-align: right;\n",
       "    }\n",
       "</style>\n",
       "<table border=\"1\" class=\"dataframe\">\n",
       "  <thead>\n",
       "    <tr style=\"text-align: right;\">\n",
       "      <th></th>\n",
       "      <th>country_or_area</th>\n",
       "      <th>commodity_transaction</th>\n",
       "      <th>year</th>\n",
       "      <th>unit</th>\n",
       "      <th>quantity</th>\n",
       "      <th>quantity_footnotes</th>\n",
       "      <th>category</th>\n",
       "      <th>hyphen_count</th>\n",
       "    </tr>\n",
       "  </thead>\n",
       "  <tbody>\n",
       "    <tr>\n",
       "      <th>0</th>\n",
       "      <td>Austria</td>\n",
       "      <td>Additives and Oxygenates - Exports</td>\n",
       "      <td>1996</td>\n",
       "      <td>Metric tons,  thousand</td>\n",
       "      <td>5.0</td>\n",
       "      <td>NaN</td>\n",
       "      <td>additives_and_oxygenates</td>\n",
       "      <td>1</td>\n",
       "    </tr>\n",
       "    <tr>\n",
       "      <th>1</th>\n",
       "      <td>Austria</td>\n",
       "      <td>Additives and Oxygenates - Exports</td>\n",
       "      <td>1995</td>\n",
       "      <td>Metric tons,  thousand</td>\n",
       "      <td>17.0</td>\n",
       "      <td>NaN</td>\n",
       "      <td>additives_and_oxygenates</td>\n",
       "      <td>1</td>\n",
       "    </tr>\n",
       "    <tr>\n",
       "      <th>2</th>\n",
       "      <td>Belgium</td>\n",
       "      <td>Additives and Oxygenates - Exports</td>\n",
       "      <td>2014</td>\n",
       "      <td>Metric tons,  thousand</td>\n",
       "      <td>0.0</td>\n",
       "      <td>NaN</td>\n",
       "      <td>additives_and_oxygenates</td>\n",
       "      <td>1</td>\n",
       "    </tr>\n",
       "    <tr>\n",
       "      <th>3</th>\n",
       "      <td>Belgium</td>\n",
       "      <td>Additives and Oxygenates - Exports</td>\n",
       "      <td>2013</td>\n",
       "      <td>Metric tons,  thousand</td>\n",
       "      <td>0.0</td>\n",
       "      <td>NaN</td>\n",
       "      <td>additives_and_oxygenates</td>\n",
       "      <td>1</td>\n",
       "    </tr>\n",
       "    <tr>\n",
       "      <th>4</th>\n",
       "      <td>Belgium</td>\n",
       "      <td>Additives and Oxygenates - Exports</td>\n",
       "      <td>2012</td>\n",
       "      <td>Metric tons,  thousand</td>\n",
       "      <td>35.0</td>\n",
       "      <td>NaN</td>\n",
       "      <td>additives_and_oxygenates</td>\n",
       "      <td>1</td>\n",
       "    </tr>\n",
       "  </tbody>\n",
       "</table>\n",
       "</div>"
      ],
      "text/plain": [
       "  country_or_area               commodity_transaction  year  \\\n",
       "0         Austria  Additives and Oxygenates - Exports  1996   \n",
       "1         Austria  Additives and Oxygenates - Exports  1995   \n",
       "2         Belgium  Additives and Oxygenates - Exports  2014   \n",
       "3         Belgium  Additives and Oxygenates - Exports  2013   \n",
       "4         Belgium  Additives and Oxygenates - Exports  2012   \n",
       "\n",
       "                     unit  quantity  quantity_footnotes  \\\n",
       "0  Metric tons,  thousand       5.0                 NaN   \n",
       "1  Metric tons,  thousand      17.0                 NaN   \n",
       "2  Metric tons,  thousand       0.0                 NaN   \n",
       "3  Metric tons,  thousand       0.0                 NaN   \n",
       "4  Metric tons,  thousand      35.0                 NaN   \n",
       "\n",
       "                   category  hyphen_count  \n",
       "0  additives_and_oxygenates             1  \n",
       "1  additives_and_oxygenates             1  \n",
       "2  additives_and_oxygenates             1  \n",
       "3  additives_and_oxygenates             1  \n",
       "4  additives_and_oxygenates             1  "
      ]
     },
     "execution_count": 20,
     "metadata": {},
     "output_type": "execute_result"
    }
   ],
   "source": [
    "df = df.drop(columns=['clean_transaction'])\n",
    "df.head()"
   ]
  },
  {
   "cell_type": "code",
   "execution_count": 21,
   "metadata": {
    "id": "1pC45flbBcJd"
   },
   "outputs": [
    {
     "data": {
      "text/html": [
       "<div>\n",
       "<style scoped>\n",
       "    .dataframe tbody tr th:only-of-type {\n",
       "        vertical-align: middle;\n",
       "    }\n",
       "\n",
       "    .dataframe tbody tr th {\n",
       "        vertical-align: top;\n",
       "    }\n",
       "\n",
       "    .dataframe thead th {\n",
       "        text-align: right;\n",
       "    }\n",
       "</style>\n",
       "<table border=\"1\" class=\"dataframe\">\n",
       "  <thead>\n",
       "    <tr style=\"text-align: right;\">\n",
       "      <th></th>\n",
       "      <th>country_or_area</th>\n",
       "      <th>commodity_transaction</th>\n",
       "      <th>year</th>\n",
       "      <th>unit</th>\n",
       "      <th>quantity</th>\n",
       "      <th>quantity_footnotes</th>\n",
       "      <th>category</th>\n",
       "      <th>hyphen_count</th>\n",
       "      <th>clean_transaction</th>\n",
       "    </tr>\n",
       "  </thead>\n",
       "  <tbody>\n",
       "    <tr>\n",
       "      <th>0</th>\n",
       "      <td>Austria</td>\n",
       "      <td>Additives and Oxygenates - Exports</td>\n",
       "      <td>1996</td>\n",
       "      <td>Metric tons,  thousand</td>\n",
       "      <td>5.0</td>\n",
       "      <td>NaN</td>\n",
       "      <td>additives_and_oxygenates</td>\n",
       "      <td>1</td>\n",
       "      <td>additives and oxygenates - exports</td>\n",
       "    </tr>\n",
       "    <tr>\n",
       "      <th>1</th>\n",
       "      <td>Austria</td>\n",
       "      <td>Additives and Oxygenates - Exports</td>\n",
       "      <td>1995</td>\n",
       "      <td>Metric tons,  thousand</td>\n",
       "      <td>17.0</td>\n",
       "      <td>NaN</td>\n",
       "      <td>additives_and_oxygenates</td>\n",
       "      <td>1</td>\n",
       "      <td>additives and oxygenates - exports</td>\n",
       "    </tr>\n",
       "    <tr>\n",
       "      <th>2</th>\n",
       "      <td>Belgium</td>\n",
       "      <td>Additives and Oxygenates - Exports</td>\n",
       "      <td>2014</td>\n",
       "      <td>Metric tons,  thousand</td>\n",
       "      <td>0.0</td>\n",
       "      <td>NaN</td>\n",
       "      <td>additives_and_oxygenates</td>\n",
       "      <td>1</td>\n",
       "      <td>additives and oxygenates - exports</td>\n",
       "    </tr>\n",
       "    <tr>\n",
       "      <th>3</th>\n",
       "      <td>Belgium</td>\n",
       "      <td>Additives and Oxygenates - Exports</td>\n",
       "      <td>2013</td>\n",
       "      <td>Metric tons,  thousand</td>\n",
       "      <td>0.0</td>\n",
       "      <td>NaN</td>\n",
       "      <td>additives_and_oxygenates</td>\n",
       "      <td>1</td>\n",
       "      <td>additives and oxygenates - exports</td>\n",
       "    </tr>\n",
       "    <tr>\n",
       "      <th>4</th>\n",
       "      <td>Belgium</td>\n",
       "      <td>Additives and Oxygenates - Exports</td>\n",
       "      <td>2012</td>\n",
       "      <td>Metric tons,  thousand</td>\n",
       "      <td>35.0</td>\n",
       "      <td>NaN</td>\n",
       "      <td>additives_and_oxygenates</td>\n",
       "      <td>1</td>\n",
       "      <td>additives and oxygenates - exports</td>\n",
       "    </tr>\n",
       "  </tbody>\n",
       "</table>\n",
       "</div>"
      ],
      "text/plain": [
       "  country_or_area               commodity_transaction  year  \\\n",
       "0         Austria  Additives and Oxygenates - Exports  1996   \n",
       "1         Austria  Additives and Oxygenates - Exports  1995   \n",
       "2         Belgium  Additives and Oxygenates - Exports  2014   \n",
       "3         Belgium  Additives and Oxygenates - Exports  2013   \n",
       "4         Belgium  Additives and Oxygenates - Exports  2012   \n",
       "\n",
       "                     unit  quantity  quantity_footnotes  \\\n",
       "0  Metric tons,  thousand       5.0                 NaN   \n",
       "1  Metric tons,  thousand      17.0                 NaN   \n",
       "2  Metric tons,  thousand       0.0                 NaN   \n",
       "3  Metric tons,  thousand       0.0                 NaN   \n",
       "4  Metric tons,  thousand      35.0                 NaN   \n",
       "\n",
       "                   category  hyphen_count                   clean_transaction  \n",
       "0  additives_and_oxygenates             1  additives and oxygenates - exports  \n",
       "1  additives_and_oxygenates             1  additives and oxygenates - exports  \n",
       "2  additives_and_oxygenates             1  additives and oxygenates - exports  \n",
       "3  additives_and_oxygenates             1  additives and oxygenates - exports  \n",
       "4  additives_and_oxygenates             1  additives and oxygenates - exports  "
      ]
     },
     "execution_count": 21,
     "metadata": {},
     "output_type": "execute_result"
    }
   ],
   "source": [
    "# lowercase the description and replace m-dashes with hyphens in one line\n",
    "df['clean_transaction'] = df['commodity_transaction'].apply(lambda x: x.lower().replace(\"–\", \"-\"))\n",
    "df.head()"
   ]
  },
  {
   "cell_type": "markdown",
   "metadata": {
    "id": "6zDyGIttBcJd"
   },
   "source": [
    "<p>This code is functionally equivalent to what we ran before, but it's more concise. Instead of giving our function a name (<code>clean_transaction_description</code>), we can declare an anonymous function by using the <a href=\"https://www.w3schools.com/python/python_lambda.asp\"><code>lambda</code></a> keyword. This says that we are going to pass in a series of <code>x</code> values (the descriptions), and describes what to do to each of them. The advantage of doing this is that it's more concise. The disadvantage is that it can be harder to read and it prevents us from using our function again later without redefining it all over again.</p>"
   ]
  },
  {
   "cell_type": "markdown",
   "metadata": {
    "id": "PKPzToogBcJe"
   },
   "source": [
    "<h3>Extracting the most interesting rows</h3>\n",
    "<p>It's hard to manually inspect over 2,000 unique description values, but we know that we're mainly interested in: </p>\n",
    "<ul>\n",
    "<li>Import</li>\n",
    "<li>Export</li>\n",
    "<li>Total production</li>\n",
    "<li>Total demand or consumption</li>\n",
    "<li>Renewables</li>\n",
    "</ul>\n",
    "<p>We can search for some keywords in the descriptions using code similar to the following:</p>"
   ]
  },
  {
   "cell_type": "code",
   "execution_count": 22,
   "metadata": {
    "id": "O_CTRROcBcJe"
   },
   "outputs": [
    {
     "data": {
      "text/plain": [
       "['additives and oxygenates - imports',\n",
       " 'anthracite - imports',\n",
       " 'aviation gasoline - imports',\n",
       " 'biodiesel - imports',\n",
       " 'biogases - imports',\n",
       " 'biogasoline - imports',\n",
       " 'bitumen - imports',\n",
       " 'brown coal briquettes - imports',\n",
       " 'brown coal - imports',\n",
       " 'charcoal - imports',\n",
       " 'coal tar - imports',\n",
       " 'coking coal - imports',\n",
       " 'conventional crude oil - imports',\n",
       " 'ethane - imports',\n",
       " 'fuel oil - imports',\n",
       " 'fuelwood - imports',\n",
       " 'gas coke - imports',\n",
       " 'gas oil/ diesel oil - imports',\n",
       " 'gasoline-type jet fuel - imports',\n",
       " 'gasworks gas - imports',\n",
       " 'hard coal - imports',\n",
       " 'heat - imports',\n",
       " 'industrial waste - imports',\n",
       " 'kerosene-type jet fuel - imports',\n",
       " 'lignite - imports',\n",
       " 'liquefied petroleum gas (lpg) - imports',\n",
       " 'lubricants - imports',\n",
       " 'motor gasoline - imports',\n",
       " 'municipal wastes - imports',\n",
       " 'naphtha - imports',\n",
       " 'natural gas (including lng) - imports',\n",
       " 'natural gas liquids - imports',\n",
       " 'of which: biodiesel - imports',\n",
       " 'of which: biogasoline - imports',\n",
       " 'oil shale - imports',\n",
       " 'other bituminous coal - imports',\n",
       " 'other coal products - imports',\n",
       " 'other hydrocarbons - imports',\n",
       " 'other kerosene - imports',\n",
       " 'other liquid biofuels - imports',\n",
       " 'other oil products n.e.c. - imports',\n",
       " 'vegetal waste - imports',\n",
       " 'paraffin waxes - imports',\n",
       " 'patent fuel - imports',\n",
       " 'peat - imports',\n",
       " 'peat products - imports',\n",
       " 'petroleum coke - imports',\n",
       " 'feedstocks - imports',\n",
       " 'sub-bituminous coal - imports',\n",
       " 'electricity - imports',\n",
       " 'white spirit and special boiling point industrial spirits - imports']"
      ]
     },
     "execution_count": 22,
     "metadata": {},
     "output_type": "execute_result"
    }
   ],
   "source": [
    "[x for x in df['clean_transaction'].unique() if \"import\" in x]"
   ]
  },
  {
   "cell_type": "markdown",
   "metadata": {
    "id": "1Ai9xHecBcJe"
   },
   "source": [
    "<p>This gives us a much more manageable list to look through, and we can see that \"electricity - imports\" is likely an interesting value. We can cross-check this in the main dataset (and see all columns to boot) as follows:</p>"
   ]
  },
  {
   "cell_type": "code",
   "execution_count": 23,
   "metadata": {
    "id": "nFwBZJZ4BcJf"
   },
   "outputs": [
    {
     "data": {
      "text/html": [
       "<div>\n",
       "<style scoped>\n",
       "    .dataframe tbody tr th:only-of-type {\n",
       "        vertical-align: middle;\n",
       "    }\n",
       "\n",
       "    .dataframe tbody tr th {\n",
       "        vertical-align: top;\n",
       "    }\n",
       "\n",
       "    .dataframe thead th {\n",
       "        text-align: right;\n",
       "    }\n",
       "</style>\n",
       "<table border=\"1\" class=\"dataframe\">\n",
       "  <thead>\n",
       "    <tr style=\"text-align: right;\">\n",
       "      <th></th>\n",
       "      <th>country_or_area</th>\n",
       "      <th>commodity_transaction</th>\n",
       "      <th>year</th>\n",
       "      <th>unit</th>\n",
       "      <th>quantity</th>\n",
       "      <th>quantity_footnotes</th>\n",
       "      <th>category</th>\n",
       "      <th>hyphen_count</th>\n",
       "      <th>clean_transaction</th>\n",
       "    </tr>\n",
       "  </thead>\n",
       "  <tbody>\n",
       "    <tr>\n",
       "      <th>1108326</th>\n",
       "      <td>Afghanistan</td>\n",
       "      <td>Electricity - imports</td>\n",
       "      <td>2014</td>\n",
       "      <td>Kilowatt-hours, million</td>\n",
       "      <td>3710.8</td>\n",
       "      <td>NaN</td>\n",
       "      <td>total_electricity</td>\n",
       "      <td>1</td>\n",
       "      <td>electricity - imports</td>\n",
       "    </tr>\n",
       "    <tr>\n",
       "      <th>1108327</th>\n",
       "      <td>Afghanistan</td>\n",
       "      <td>Electricity - imports</td>\n",
       "      <td>2013</td>\n",
       "      <td>Kilowatt-hours, million</td>\n",
       "      <td>3615.2</td>\n",
       "      <td>NaN</td>\n",
       "      <td>total_electricity</td>\n",
       "      <td>1</td>\n",
       "      <td>electricity - imports</td>\n",
       "    </tr>\n",
       "    <tr>\n",
       "      <th>1108328</th>\n",
       "      <td>Afghanistan</td>\n",
       "      <td>Electricity - imports</td>\n",
       "      <td>2012</td>\n",
       "      <td>Kilowatt-hours, million</td>\n",
       "      <td>3071.0</td>\n",
       "      <td>NaN</td>\n",
       "      <td>total_electricity</td>\n",
       "      <td>1</td>\n",
       "      <td>electricity - imports</td>\n",
       "    </tr>\n",
       "    <tr>\n",
       "      <th>1108329</th>\n",
       "      <td>Afghanistan</td>\n",
       "      <td>Electricity - imports</td>\n",
       "      <td>2011</td>\n",
       "      <td>Kilowatt-hours, million</td>\n",
       "      <td>2732.0</td>\n",
       "      <td>NaN</td>\n",
       "      <td>total_electricity</td>\n",
       "      <td>1</td>\n",
       "      <td>electricity - imports</td>\n",
       "    </tr>\n",
       "    <tr>\n",
       "      <th>1108330</th>\n",
       "      <td>Afghanistan</td>\n",
       "      <td>Electricity - imports</td>\n",
       "      <td>2010</td>\n",
       "      <td>Kilowatt-hours, million</td>\n",
       "      <td>1867.0</td>\n",
       "      <td>NaN</td>\n",
       "      <td>total_electricity</td>\n",
       "      <td>1</td>\n",
       "      <td>electricity - imports</td>\n",
       "    </tr>\n",
       "  </tbody>\n",
       "</table>\n",
       "</div>"
      ],
      "text/plain": [
       "        country_or_area  commodity_transaction  year                     unit  \\\n",
       "1108326     Afghanistan  Electricity - imports  2014  Kilowatt-hours, million   \n",
       "1108327     Afghanistan  Electricity - imports  2013  Kilowatt-hours, million   \n",
       "1108328     Afghanistan  Electricity - imports  2012  Kilowatt-hours, million   \n",
       "1108329     Afghanistan  Electricity - imports  2011  Kilowatt-hours, million   \n",
       "1108330     Afghanistan  Electricity - imports  2010  Kilowatt-hours, million   \n",
       "\n",
       "         quantity  quantity_footnotes           category  hyphen_count  \\\n",
       "1108326    3710.8                 NaN  total_electricity             1   \n",
       "1108327    3615.2                 NaN  total_electricity             1   \n",
       "1108328    3071.0                 NaN  total_electricity             1   \n",
       "1108329    2732.0                 NaN  total_electricity             1   \n",
       "1108330    1867.0                 NaN  total_electricity             1   \n",
       "\n",
       "             clean_transaction  \n",
       "1108326  electricity - imports  \n",
       "1108327  electricity - imports  \n",
       "1108328  electricity - imports  \n",
       "1108329  electricity - imports  \n",
       "1108330  electricity - imports  "
      ]
     },
     "execution_count": 23,
     "metadata": {},
     "output_type": "execute_result"
    }
   ],
   "source": [
    "## Note the below is functionally equivalent to\n",
    "# df[df[\"clean_transaction\"] == \"electricity - imports\"].head()\n",
    "# but slightly easier to type\n",
    "\n",
    "df[df.clean_transaction == \"electricity - imports\"].head()"
   ]
  },
  {
   "cell_type": "markdown",
   "metadata": {
    "id": "4zDB4UI3BcJf"
   },
   "source": [
    "<h3>Exercise 3:</h3>\n",
    "<p>Use the above method or any other method that you prefer to explore the transaction descriptions and define a Python list containing the 9 most interesting ones. These should cover the total values for import, export, total production, total demand, and renewable energy production.</p>"
   ]
  },
  {
   "cell_type": "markdown",
   "metadata": {
    "id": "1QCsQt-pBcJf",
    "tags": [
     "ans_st"
    ]
   },
   "source": [
    "**Answer.**"
   ]
  },
  {
   "cell_type": "code",
   "execution_count": 75,
   "metadata": {},
   "outputs": [
    {
     "name": "stdout",
     "output_type": "stream",
     "text": [
      "⚠️  No se encontró ninguna descripción para: demand\n",
      "⚠️  No se encontró ninguna descripción para: production\n",
      "Descripciones seleccionadas:\n",
      " • additives and oxygenates - imports\n",
      " • additives and oxygenates - exports\n",
      " • electricity - net installed capacity of electric power plants, public hydro\n",
      " • electricity - net installed capacity of electric power plants, public wind\n",
      " • direct use of solar thermal heat - consumption by agriculture, forestry and fishing\n",
      " • direct use of geothermal heat - consumption by agriculture, forestry and fishing\n",
      " • electricity - net installed capacity of electric power plants, public tide, wave, marine\n"
     ]
    },
    {
     "name": "stderr",
     "output_type": "stream",
     "text": [
      "C:\\Users\\ljpca\\AppData\\Local\\Temp\\ipykernel_18084\\4164636604.py:36: UserWarning: This pattern is interpreted as a regular expression, and has match groups. To actually get the groups, use str.extract.\n",
      "  hit = unique_txns[unique_txns.str.contains(pattern, regex=True, case=False)]\n"
     ]
    }
   ],
   "source": [
    "# -----------------------------------------\n",
    "# Columna que contiene las descripciones\n",
    "# -----------------------------------------\n",
    "col = \"clean_transaction\"\n",
    "\n",
    "# Todas las descripciones únicas, ya en minúsculas para facilitar el filtrado\n",
    "unique_txns = (\n",
    "    df[col]\n",
    "    .dropna()\n",
    "    .str.strip()\n",
    "    .str.lower()\n",
    "    .drop_duplicates()\n",
    "    .sort_values()\n",
    ")\n",
    "\n",
    "# -----------------------------------------\n",
    "# Patrones clave → 9 columnas de interés\n",
    "# -----------------------------------------\n",
    "kw_map = {\n",
    "    \"demand\"      : r\"total final consumption\",      # demanda / consumo final\n",
    "    \"production\"  : r\"^total.*production$\",          # producción total\n",
    "    \"imports\"     : r\"imports$\",                     # importaciones\n",
    "    \"exports\"     : r\"exports$\",                     # exportaciones\n",
    "    \"hydro\"       : r\"hydro\",                        # hidroeléctrica\n",
    "    \"wind\"        : r\"wind\",                         # eólica\n",
    "    \"solar\"       : r\"solar\",                        # solar\n",
    "    \"geothermal\"  : r\"geothermal\",                   # geotérmica\n",
    "    \"tide\"        : r\"(tide|wave|ocean)\",            # mareomotriz / olas\n",
    "}\n",
    "\n",
    "# Tomamos el *primer* match de cada patrón. \n",
    "# (Si tu dataset tiene varias variantes para una misma fuente,\n",
    "#   ajusta el regex o usa .iloc para coger la que prefieras.)\n",
    "keep_values = []\n",
    "for label, pattern in kw_map.items():\n",
    "    hit = unique_txns[unique_txns.str.contains(pattern, regex=True, case=False)]\n",
    "    if not hit.empty:\n",
    "        keep_values.append(hit.iloc[0])\n",
    "    else:\n",
    "        print(f\"No se encontró ninguna descripción para: {label}\")\n",
    "\n",
    "print(\"Descripciones seleccionadas:\")\n",
    "for d in keep_values:\n",
    "    print(\" •\", d)\n"
   ]
  },
  {
   "cell_type": "code",
   "execution_count": 74,
   "metadata": {},
   "outputs": [
    {
     "data": {
      "text/plain": [
       "array(['additives and oxygenates - exports',\n",
       "       'additives and oxygenates - imports',\n",
       "       'additives and oxygenates - production', ...,\n",
       "       'white spirit and special boiling point industrial spirits - transformation',\n",
       "       'white spirit and special boiling point industrial spirits - transformation in petrochemical plants',\n",
       "       'electricity - total wind production'], dtype=object)"
      ]
     },
     "execution_count": 74,
     "metadata": {},
     "output_type": "execute_result"
    }
   ],
   "source": [
    "df['clean_transaction'].unique()"
   ]
  },
  {
   "cell_type": "markdown",
   "metadata": {
    "id": "xR5B8fExBcJf"
   },
   "source": [
    "-------"
   ]
  },
  {
   "cell_type": "markdown",
   "metadata": {
    "id": "rqkcw1RtBcJf"
   },
   "source": [
    "<h3>Pivoting the interesting values into their own columns</h3>\n",
    "<p>Of course, now that we've identified the most interesting transaction descriptions, we probably ought to pull them out of that single column that they're stuck in. Let's \"pivot\" our data to a more useable format, keeping each of these interesting values as new columns. This translates our data from a fairly narrow format into a wider one.</p>\n",
    "<p>You might know of \"pivot tables\" from Excel. If not, don't worry - you'll come across them later and in more detail. But if you do know of them, you'll recognize that this pretty much the exact same thing. We'll use the pivot function in pandas, which you can read more about <a href=\"https://pandas.pydata.org/pandas-docs/stable/reference/api/pandas.DataFrame.pivot.html\">here</a>. For now, just try to understand how the following code works, but you won't be expected to do this yourself until you've gained more experience with <code>pandas</code>:</p>"
   ]
  },
  {
   "cell_type": "code",
   "execution_count": 76,
   "metadata": {},
   "outputs": [
    {
     "ename": "KeyError",
     "evalue": "\"['additives and oxygenates - imports', 'additives and oxygenates - exports', 'electricity - net installed capacity of electric power plants, public hydro', 'electricity - net installed capacity of electric power plants, public wind', 'direct use of solar thermal heat - consumption by agriculture, forestry and fishing', 'direct use of geothermal heat - consumption by agriculture, forestry and fishing', 'electricity - net installed capacity of electric power plants, public tide, wave, marine'] not in index\"",
     "output_type": "error",
     "traceback": [
      "\u001b[1;31m---------------------------------------------------------------------------\u001b[0m",
      "\u001b[1;31mKeyError\u001b[0m                                  Traceback (most recent call last)",
      "Cell \u001b[1;32mIn[76], line 8\u001b[0m\n\u001b[0;32m      3\u001b[0m final_keep_values \u001b[38;5;241m=\u001b[39m [\u001b[38;5;124m\"\u001b[39m\u001b[38;5;124mcountry_or_area\u001b[39m\u001b[38;5;124m\"\u001b[39m, \u001b[38;5;124m\"\u001b[39m\u001b[38;5;124myear\u001b[39m\u001b[38;5;124m\"\u001b[39m] \u001b[38;5;241m+\u001b[39m keep_values\n\u001b[0;32m      5\u001b[0m \u001b[38;5;66;03m# Turn values in the 'commodity transaction' column\u001b[39;00m\n\u001b[0;32m      6\u001b[0m \u001b[38;5;66;03m# into our new column names\u001b[39;00m\n\u001b[0;32m      7\u001b[0m \u001b[38;5;66;03m# and keep only the 'quantity' column as the new values\u001b[39;00m\n\u001b[1;32m----> 8\u001b[0m df_countries \u001b[38;5;241m=\u001b[39m pd\u001b[38;5;241m.\u001b[39mpivot_table(\n\u001b[0;32m      9\u001b[0m     df,\n\u001b[0;32m     10\u001b[0m     values\u001b[38;5;241m=\u001b[39m\u001b[38;5;124m\"\u001b[39m\u001b[38;5;124mquantity\u001b[39m\u001b[38;5;124m\"\u001b[39m,\n\u001b[0;32m     11\u001b[0m     index\u001b[38;5;241m=\u001b[39m[\u001b[38;5;124m\"\u001b[39m\u001b[38;5;124mcountry_or_area\u001b[39m\u001b[38;5;124m\"\u001b[39m, \u001b[38;5;124m\"\u001b[39m\u001b[38;5;124myear\u001b[39m\u001b[38;5;124m\"\u001b[39m],\n\u001b[0;32m     12\u001b[0m     columns\u001b[38;5;241m=\u001b[39m\u001b[38;5;124m\"\u001b[39m\u001b[38;5;124mcommodity_transaction\u001b[39m\u001b[38;5;124m\"\u001b[39m,\n\u001b[0;32m     13\u001b[0m )\u001b[38;5;241m.\u001b[39mreset_index()[final_keep_values]\n\u001b[0;32m     15\u001b[0m \u001b[38;5;66;03m# rename the columns to be more concise\u001b[39;00m\n\u001b[0;32m     16\u001b[0m df_countries\u001b[38;5;241m.\u001b[39mcolumns \u001b[38;5;241m=\u001b[39m [\n\u001b[0;32m     17\u001b[0m     \u001b[38;5;124m\"\u001b[39m\u001b[38;5;124mcountry\u001b[39m\u001b[38;5;124m\"\u001b[39m,\n\u001b[0;32m     18\u001b[0m     \u001b[38;5;124m\"\u001b[39m\u001b[38;5;124myear\u001b[39m\u001b[38;5;124m\"\u001b[39m,\n\u001b[1;32m   (...)\u001b[0m\n\u001b[0;32m     27\u001b[0m     \u001b[38;5;124m\"\u001b[39m\u001b[38;5;124mtide\u001b[39m\u001b[38;5;124m\"\u001b[39m,\n\u001b[0;32m     28\u001b[0m ]\n",
      "File \u001b[1;32m~\\anaconda3\\Lib\\site-packages\\pandas\\core\\frame.py:4108\u001b[0m, in \u001b[0;36mDataFrame.__getitem__\u001b[1;34m(self, key)\u001b[0m\n\u001b[0;32m   4106\u001b[0m     \u001b[38;5;28;01mif\u001b[39;00m is_iterator(key):\n\u001b[0;32m   4107\u001b[0m         key \u001b[38;5;241m=\u001b[39m \u001b[38;5;28mlist\u001b[39m(key)\n\u001b[1;32m-> 4108\u001b[0m     indexer \u001b[38;5;241m=\u001b[39m \u001b[38;5;28mself\u001b[39m\u001b[38;5;241m.\u001b[39mcolumns\u001b[38;5;241m.\u001b[39m_get_indexer_strict(key, \u001b[38;5;124m\"\u001b[39m\u001b[38;5;124mcolumns\u001b[39m\u001b[38;5;124m\"\u001b[39m)[\u001b[38;5;241m1\u001b[39m]\n\u001b[0;32m   4110\u001b[0m \u001b[38;5;66;03m# take() does not accept boolean indexers\u001b[39;00m\n\u001b[0;32m   4111\u001b[0m \u001b[38;5;28;01mif\u001b[39;00m \u001b[38;5;28mgetattr\u001b[39m(indexer, \u001b[38;5;124m\"\u001b[39m\u001b[38;5;124mdtype\u001b[39m\u001b[38;5;124m\"\u001b[39m, \u001b[38;5;28;01mNone\u001b[39;00m) \u001b[38;5;241m==\u001b[39m \u001b[38;5;28mbool\u001b[39m:\n",
      "File \u001b[1;32m~\\anaconda3\\Lib\\site-packages\\pandas\\core\\indexes\\base.py:6200\u001b[0m, in \u001b[0;36mIndex._get_indexer_strict\u001b[1;34m(self, key, axis_name)\u001b[0m\n\u001b[0;32m   6197\u001b[0m \u001b[38;5;28;01melse\u001b[39;00m:\n\u001b[0;32m   6198\u001b[0m     keyarr, indexer, new_indexer \u001b[38;5;241m=\u001b[39m \u001b[38;5;28mself\u001b[39m\u001b[38;5;241m.\u001b[39m_reindex_non_unique(keyarr)\n\u001b[1;32m-> 6200\u001b[0m \u001b[38;5;28mself\u001b[39m\u001b[38;5;241m.\u001b[39m_raise_if_missing(keyarr, indexer, axis_name)\n\u001b[0;32m   6202\u001b[0m keyarr \u001b[38;5;241m=\u001b[39m \u001b[38;5;28mself\u001b[39m\u001b[38;5;241m.\u001b[39mtake(indexer)\n\u001b[0;32m   6203\u001b[0m \u001b[38;5;28;01mif\u001b[39;00m \u001b[38;5;28misinstance\u001b[39m(key, Index):\n\u001b[0;32m   6204\u001b[0m     \u001b[38;5;66;03m# GH 42790 - Preserve name from an Index\u001b[39;00m\n",
      "File \u001b[1;32m~\\anaconda3\\Lib\\site-packages\\pandas\\core\\indexes\\base.py:6252\u001b[0m, in \u001b[0;36mIndex._raise_if_missing\u001b[1;34m(self, key, indexer, axis_name)\u001b[0m\n\u001b[0;32m   6249\u001b[0m     \u001b[38;5;28;01mraise\u001b[39;00m \u001b[38;5;167;01mKeyError\u001b[39;00m(\u001b[38;5;124mf\u001b[39m\u001b[38;5;124m\"\u001b[39m\u001b[38;5;124mNone of [\u001b[39m\u001b[38;5;132;01m{\u001b[39;00mkey\u001b[38;5;132;01m}\u001b[39;00m\u001b[38;5;124m] are in the [\u001b[39m\u001b[38;5;132;01m{\u001b[39;00maxis_name\u001b[38;5;132;01m}\u001b[39;00m\u001b[38;5;124m]\u001b[39m\u001b[38;5;124m\"\u001b[39m)\n\u001b[0;32m   6251\u001b[0m not_found \u001b[38;5;241m=\u001b[39m \u001b[38;5;28mlist\u001b[39m(ensure_index(key)[missing_mask\u001b[38;5;241m.\u001b[39mnonzero()[\u001b[38;5;241m0\u001b[39m]]\u001b[38;5;241m.\u001b[39munique())\n\u001b[1;32m-> 6252\u001b[0m \u001b[38;5;28;01mraise\u001b[39;00m \u001b[38;5;167;01mKeyError\u001b[39;00m(\u001b[38;5;124mf\u001b[39m\u001b[38;5;124m\"\u001b[39m\u001b[38;5;132;01m{\u001b[39;00mnot_found\u001b[38;5;132;01m}\u001b[39;00m\u001b[38;5;124m not in index\u001b[39m\u001b[38;5;124m\"\u001b[39m)\n",
      "\u001b[1;31mKeyError\u001b[0m: \"['additives and oxygenates - imports', 'additives and oxygenates - exports', 'electricity - net installed capacity of electric power plants, public hydro', 'electricity - net installed capacity of electric power plants, public wind', 'direct use of solar thermal heat - consumption by agriculture, forestry and fishing', 'direct use of geothermal heat - consumption by agriculture, forestry and fishing', 'electricity - net installed capacity of electric power plants, public tide, wave, marine'] not in index\""
     ]
    }
   ],
   "source": [
    "# we'll keep our \"interesting\" values after we turn them into columsn\n",
    "# but we'll also keep the \"country\" and \"year\" columns\n",
    "final_keep_values = [\"country_or_area\", \"year\"] + keep_values\n",
    "\n",
    "# Turn values in the 'commodity transaction' column\n",
    "# into our new column names\n",
    "# and keep only the 'quantity' column as the new values\n",
    "df_countries = pd.pivot_table(\n",
    "    df,\n",
    "    values=\"quantity\",\n",
    "    index=[\"country_or_area\", \"year\"],\n",
    "    columns=\"commodity_transaction\",\n",
    ").reset_index()[final_keep_values]\n",
    "\n",
    "# rename the columns to be more concise\n",
    "df_countries.columns = [\n",
    "    \"country\",\n",
    "    \"year\",\n",
    "    \"demand\",\n",
    "    \"production\",\n",
    "    \"imports\",\n",
    "    \"exports\",\n",
    "    \"hydro\",\n",
    "    \"wind\",\n",
    "    \"solar\",\n",
    "    \"geothermal\",\n",
    "    \"tide\",\n",
    "]\n",
    "\n",
    "# output with the energy production leaders first\n",
    "df_countries.sort_values(by=\"production\", ascending=False)"
   ]
  },
  {
   "cell_type": "code",
   "execution_count": null,
   "metadata": {},
   "outputs": [],
   "source": [
    "df_countries.head()"
   ]
  },
  {
   "cell_type": "code",
   "execution_count": 66,
   "metadata": {
    "id": "IqY51ZwyBcJg"
   },
   "outputs": [
    {
     "data": {
      "text/plain": [
       "year\n",
       "2014    229\n",
       "2013    229\n",
       "2012    229\n",
       "2007    227\n",
       "2011    226\n",
       "2010    226\n",
       "2009    226\n",
       "2008    226\n",
       "2006    226\n",
       "2005    226\n",
       "2003    225\n",
       "2004    225\n",
       "2002    225\n",
       "2001    223\n",
       "1997    223\n",
       "1996    223\n",
       "1995    223\n",
       "2000    222\n",
       "1999    222\n",
       "1998    222\n",
       "1994    222\n",
       "1993    222\n",
       "1992    222\n",
       "1990    200\n",
       "1991    199\n",
       "Name: count, dtype: int64"
      ]
     },
     "execution_count": 66,
     "metadata": {},
     "output_type": "execute_result"
    }
   ],
   "source": [
    "df_countries['year'].value_counts()"
   ]
  },
  {
   "cell_type": "code",
   "execution_count": 67,
   "metadata": {},
   "outputs": [
    {
     "data": {
      "text/plain": [
       "array([ 764. ,  690. ,  478. , ..., 5201.8, 5387.3, 4981.8])"
      ]
     },
     "execution_count": 67,
     "metadata": {},
     "output_type": "execute_result"
    }
   ],
   "source": [
    "df_countries['hydro'].unique()"
   ]
  },
  {
   "cell_type": "markdown",
   "metadata": {
    "id": "bOhabBfRBcJg"
   },
   "source": [
    "<p>As expected, in earlier years, we have data for fewer countries.</p>\n",
    "<p>The final check we should do is whether any of the values we kept used a different \"unit\". A quick scan of the data shows that all of the values we are interested in are measured in \"Kilowatt-hours, million\", but it's possible that some small values could be measured as \"Kilowatt-hours, thousand\", for example. Let's look for unique values used in our <code>keep_values</code> list:</p>"
   ]
  },
  {
   "cell_type": "code",
   "execution_count": 68,
   "metadata": {
    "id": "V6lTzheeBcJg"
   },
   "outputs": [
    {
     "name": "stdout",
     "output_type": "stream",
     "text": [
      "{'Kilowatt-hours, million', 'Terajoules'}\n"
     ]
    }
   ],
   "source": [
    "x = keep_values[0]\n",
    "all_units = []\n",
    "\n",
    "for value in keep_values:\n",
    "    units_used = list(df[df.commodity_transaction == value]['unit'].unique())\n",
    "    all_units += units_used\n",
    "print(set(all_units))"
   ]
  },
  {
   "cell_type": "markdown",
   "metadata": {
    "id": "3Vtbt8R4BcJg"
   },
   "source": [
    "<p>All good! Only one unit is used. So we are done with data preparation and we can start exploring our dataset for information.</p>"
   ]
  },
  {
   "cell_type": "markdown",
   "metadata": {
    "id": "86zatw_jBcJg"
   },
   "source": [
    "<h2>Exploring growth of power production and renewables</h2>"
   ]
  },
  {
   "cell_type": "markdown",
   "metadata": {
    "id": "0mYGBnjhBcJh"
   },
   "source": [
    "<p>As mentioned, the team is interested in analyzing countries based on their renewable energy production. We currently know how much power they produce in total and how much of this is due to each of a number of renewable options. We'll start by adding some supplementary data and then analyzing our dataset for interesting countries and patterns.</p>"
   ]
  },
  {
   "cell_type": "markdown",
   "metadata": {
    "id": "7t0kBNLcBcJh"
   },
   "source": [
    "<h3>Exercise 4:</h3>\n",
    "<p>Add a new summary column called <code>renewable_percent</code> which gives the percentage of total power production which is made up of renewable energy.</p>\n",
    "<p><strong>Hint:</strong> You might notice that some values are <code>na</code>, meaning <code>not available</code>. We can probably assume that these are 0 (though this might not always be meaningful; e.g. if we don't have data on the USSR in 2014, it's not because its power plants are all turned off!). You can use the <code>pandas</code> <a href=\"https://pandas.pydata.org/pandas-docs/stable/reference/api/pandas.DataFrame.fillna.html\"><code>fillna</code></a> method to replace <code>na</code> values with 0.</p>"
   ]
  },
  {
   "cell_type": "markdown",
   "metadata": {
    "id": "oNhh0MYJBcJh",
    "tags": [
     "ans_st"
    ]
   },
   "source": [
    "**Answer.**"
   ]
  },
  {
   "cell_type": "code",
   "execution_count": 69,
   "metadata": {},
   "outputs": [
    {
     "data": {
      "text/html": [
       "<div>\n",
       "<style scoped>\n",
       "    .dataframe tbody tr th:only-of-type {\n",
       "        vertical-align: middle;\n",
       "    }\n",
       "\n",
       "    .dataframe tbody tr th {\n",
       "        vertical-align: top;\n",
       "    }\n",
       "\n",
       "    .dataframe thead th {\n",
       "        text-align: right;\n",
       "    }\n",
       "</style>\n",
       "<table border=\"1\" class=\"dataframe\">\n",
       "  <thead>\n",
       "    <tr style=\"text-align: right;\">\n",
       "      <th>commodity_transaction</th>\n",
       "      <th>country</th>\n",
       "      <th>year</th>\n",
       "      <th>production</th>\n",
       "      <th>renewables_total</th>\n",
       "      <th>renewable_percent</th>\n",
       "    </tr>\n",
       "  </thead>\n",
       "  <tbody>\n",
       "  </tbody>\n",
       "</table>\n",
       "</div>"
      ],
      "text/plain": [
       "Empty DataFrame\n",
       "Columns: [country, year, production, renewables_total, renewable_percent]\n",
       "Index: []"
      ]
     },
     "execution_count": 69,
     "metadata": {},
     "output_type": "execute_result"
    }
   ],
   "source": [
    "# Identify the columns that represent renewable generation\n",
    "renew_cols = [\"hydro\", \"wind\", \"solar\", \"geothermal\", \"tide\"]\n",
    "\n",
    "# Treat missing generation as zero (assumption per the hint)\n",
    "df_countries[renew_cols] = df_countries[renew_cols].fillna(0)\n",
    "\n",
    "# Compute total renewables and the share vs. total production\n",
    "df_countries[\"renewables_total\"] = df_countries[renew_cols].sum(axis=1)\n",
    "\n",
    "# Avoid divide-by-zero; if production is 0 or NaN, set share to 0\n",
    "df_countries[\"renewable_percent\"] = np.where(\n",
    "    df_countries[\"production\"].fillna(0) == 0,\n",
    "    0,\n",
    "    (df_countries[\"renewables_total\"] / df_countries[\"production\"]) * 100,\n",
    ").round(2)   # keep two decimals for readability\n",
    "\n",
    "# Quick peek\n",
    "df_countries[[\"country\", \"year\", \"production\", \"renewables_total\", \"renewable_percent\"]].head()\n",
    "df_countries[df_countries['renewable_percent'] > 0 ][[\"country\", \"year\", \"production\", \"renewables_total\", \"renewable_percent\"]].head()\n"
   ]
  },
  {
   "cell_type": "code",
   "execution_count": 70,
   "metadata": {},
   "outputs": [
    {
     "data": {
      "text/html": [
       "<div>\n",
       "<style scoped>\n",
       "    .dataframe tbody tr th:only-of-type {\n",
       "        vertical-align: middle;\n",
       "    }\n",
       "\n",
       "    .dataframe tbody tr th {\n",
       "        vertical-align: top;\n",
       "    }\n",
       "\n",
       "    .dataframe thead th {\n",
       "        text-align: right;\n",
       "    }\n",
       "</style>\n",
       "<table border=\"1\" class=\"dataframe\">\n",
       "  <thead>\n",
       "    <tr style=\"text-align: right;\">\n",
       "      <th>commodity_transaction</th>\n",
       "      <th>country</th>\n",
       "      <th>year</th>\n",
       "      <th>production</th>\n",
       "      <th>renewables_total</th>\n",
       "      <th>renewable_percent</th>\n",
       "    </tr>\n",
       "  </thead>\n",
       "  <tbody>\n",
       "    <tr>\n",
       "      <th>0</th>\n",
       "      <td>Afghanistan</td>\n",
       "      <td>1990</td>\n",
       "      <td>NaN</td>\n",
       "      <td>764.0</td>\n",
       "      <td>0.0</td>\n",
       "    </tr>\n",
       "    <tr>\n",
       "      <th>1</th>\n",
       "      <td>Afghanistan</td>\n",
       "      <td>1991</td>\n",
       "      <td>NaN</td>\n",
       "      <td>690.0</td>\n",
       "      <td>0.0</td>\n",
       "    </tr>\n",
       "    <tr>\n",
       "      <th>2</th>\n",
       "      <td>Afghanistan</td>\n",
       "      <td>1992</td>\n",
       "      <td>NaN</td>\n",
       "      <td>478.0</td>\n",
       "      <td>0.0</td>\n",
       "    </tr>\n",
       "    <tr>\n",
       "      <th>3</th>\n",
       "      <td>Afghanistan</td>\n",
       "      <td>1993</td>\n",
       "      <td>NaN</td>\n",
       "      <td>475.0</td>\n",
       "      <td>0.0</td>\n",
       "    </tr>\n",
       "    <tr>\n",
       "      <th>4</th>\n",
       "      <td>Afghanistan</td>\n",
       "      <td>1994</td>\n",
       "      <td>NaN</td>\n",
       "      <td>472.0</td>\n",
       "      <td>0.0</td>\n",
       "    </tr>\n",
       "  </tbody>\n",
       "</table>\n",
       "</div>"
      ],
      "text/plain": [
       "commodity_transaction      country  year  production  renewables_total  \\\n",
       "0                      Afghanistan  1990         NaN             764.0   \n",
       "1                      Afghanistan  1991         NaN             690.0   \n",
       "2                      Afghanistan  1992         NaN             478.0   \n",
       "3                      Afghanistan  1993         NaN             475.0   \n",
       "4                      Afghanistan  1994         NaN             472.0   \n",
       "\n",
       "commodity_transaction  renewable_percent  \n",
       "0                                    0.0  \n",
       "1                                    0.0  \n",
       "2                                    0.0  \n",
       "3                                    0.0  \n",
       "4                                    0.0  "
      ]
     },
     "execution_count": 70,
     "metadata": {},
     "output_type": "execute_result"
    }
   ],
   "source": [
    "df_countries[[\"country\", \"year\", \"production\", \"renewables_total\", \"renewable_percent\"]].head()"
   ]
  },
  {
   "cell_type": "markdown",
   "metadata": {
    "id": "6wj3y7v5BcJh"
   },
   "source": [
    "-------"
   ]
  },
  {
   "cell_type": "markdown",
   "metadata": {
    "id": "t3Fn50bKBcJh"
   },
   "source": [
    "<h3>Exercise 5:</h3>\n",
    "<p>Considering only the most recent year that we have data for (2014), which 5 countries produced the largest proportion of their power through renewables, and which 5 countries produced the smallest proportion of their power through renewables?</p>\n",
    "<p><strong>Hint:</strong> You can use the <a href=\"https://pandas.pydata.org/pandas-docs/stable/reference/api/pandas.DataFrame.sort_values.html\"><code>sort_values</code></a> method in <code>pandas</code> to sort a DataFrame by a specific column, either descending or ascending.</p>"
   ]
  },
  {
   "cell_type": "markdown",
   "metadata": {
    "id": "Sc60SoPkBcJh",
    "tags": [
     "ans_st"
    ]
   },
   "source": [
    "**Answer.**"
   ]
  },
  {
   "cell_type": "markdown",
   "metadata": {
    "id": "YguUvKoMBcJh"
   },
   "source": [
    "-------"
   ]
  },
  {
   "cell_type": "markdown",
   "metadata": {
    "id": "FIylLKPiBcJh"
   },
   "source": [
    "<h3>Question:</h3>\n",
    "<p>Why do you think we are seeing a lot of very small countries on both lists?</p>"
   ]
  },
  {
   "cell_type": "markdown",
   "metadata": {
    "id": "2aPG1r1rBcJi"
   },
   "source": [
    "<p>Very small countries are not particularly representative of the global renewable power situation, so your team asks you to restrict your analysis only to countries that produce a lot of power.</p>"
   ]
  },
  {
   "cell_type": "markdown",
   "metadata": {
    "id": "-eudlsQmBcJi"
   },
   "source": [
    "<h3>Exercise 6:</h3>\n",
    "<p>Repeat the above analysis but only look at the countries in the top 10% of total power production.</p>\n",
    "<p><strong>Hint:</strong> You can filter a DataFrame with multiple conditions by using the <code>&amp;</code> symbol; e.g.:</p>\n",
    "<p><code>df_countries[df_countries.year == 2014 &amp; df_countries.wind &gt; 0]</code> </p>\n",
    "<p>would give you a DataFrame of all countries in 2014 which had produced at least some wind power.</p>"
   ]
  },
  {
   "cell_type": "markdown",
   "metadata": {
    "id": "tZ93f2PKBcJi",
    "tags": [
     "ans_st"
    ]
   },
   "source": [
    "**Answer.**"
   ]
  },
  {
   "cell_type": "markdown",
   "metadata": {
    "id": "b-EO_6fZBcJi"
   },
   "source": [
    "-------"
   ]
  },
  {
   "cell_type": "markdown",
   "metadata": {
    "id": "YjMKh_HnBcJi"
   },
   "source": [
    "<p>Of course, your team is also interested in looking at change in renewable energy over time. Let's look at the top and bottom 5 countries where the percentage of renewable energy they produced in 2014 is <strong>very different</strong> from the percentage in 1990.</p>"
   ]
  },
  {
   "cell_type": "markdown",
   "metadata": {
    "id": "EMkjk4V6BcJi"
   },
   "source": [
    "<h3>Exercise 7:</h3>\n",
    "<p>Add a new column to your DataFrame which displays the difference in percentage renewable energy production between 2014 and 1990. Which are the top and bottom 5 countries? What do you notice about these countries? Perform this analysis both with all countries and again with only those in the 10% of total power production.</p>\n",
    "<p><strong>Hint:</strong> you can use the <code>pivot()</code> method again to create a DataFrame which has 1990 and 2014 as columns and <code>renewable_percent</code> as values to help with this by using the following code</p>\n",
    "<p><code>renewable_change = pd.pivot_table(\n",
    "    df_countries, values=\"renewable_percent\", index=[\"country\"], columns=\"year\",\n",
    ").reset_index()[[\"country\", 1990, 2014]]</code></p>"
   ]
  },
  {
   "cell_type": "markdown",
   "metadata": {
    "id": "QPBUupr8BcJi",
    "tags": [
     "ans_st"
    ]
   },
   "source": [
    "**Answer.**"
   ]
  },
  {
   "cell_type": "markdown",
   "metadata": {
    "id": "6UTcET27BcJj"
   },
   "source": [
    "-------"
   ]
  },
  {
   "cell_type": "markdown",
   "metadata": {
    "id": "XuauXq06BcJj"
   },
   "source": [
    "<h3>Exercise 8:</h3>\n",
    "<p>Your team is also interested in countries which are producing a lot more power now than they were 25 years ago. What are the top and bottom 10 countries in terms of growth of:</p>\n",
    "<ul>\n",
    "<li>Total power</li>\n",
    "<li>Renewable power</li>\n",
    "</ul>\n",
    "<p>Note that because many countries were producing zero or very little renewable energy in 1990, doing a basic growth calculation will show that many countries have \"infinite\" (represented as <code>inf</code> in <code>pandas</code>) growth. To avoid this, restrict your results to countries which produced at least 1,000 units of renewable power in 1990 for the renewable growth analysis and at least 1,000 units of total power for the total growth analysis.</p>\n",
    "<p><strong>Hint:</strong> Assuming you add a column called <code>renewable_total</code>, you can use the following pivots to generate tables similar to before for both renewable growth and total growth:</p>\n",
    "<p><code>renewable_growth = pd.pivot_table(\n",
    "    df_countries, values=\"renewable_total\", index=[\"country\"], columns=\"year\",\n",
    ").reset_index()[[\"country\", 1990, 2014]]</code></p>\n",
    "<p><code>total_growth = pd.pivot_table(\n",
    "    df_countries, values=\"production\", index=[\"country\"], columns=\"year\",\n",
    ").reset_index()[[\"country\", 1990, 2014]]</code></p>"
   ]
  },
  {
   "cell_type": "markdown",
   "metadata": {
    "id": "8sxoN-rpBcJj",
    "tags": [
     "ans_st"
    ]
   },
   "source": [
    "**Answer.**"
   ]
  },
  {
   "cell_type": "markdown",
   "metadata": {
    "id": "NJ7XivJUBcJj"
   },
   "source": [
    "-------"
   ]
  },
  {
   "cell_type": "markdown",
   "metadata": {
    "id": "CCVi3GscBcJj"
   },
   "source": [
    "<h3>Exercise 9:</h3>\n",
    "<p>Finally, your team wants an easy-to-read label for each country based on total growth. They have given you the following specification for how the countries should be labeled:</p>\n",
    "<ul>\n",
    "<li>zero or negative growth = \"No growth\"</li>\n",
    "<li>1% -100% growth = \"Growing\"</li>\n",
    "<li>over 100% growth = \"Growing fast\"</li>\n",
    "<li>NaN (if the data from 1990 or 2014 is NaN) = \"Not Applicable\"</li>\n",
    "</ul>\n",
    "<p>Calculate the label for each country, using the <code>apply()</code> method for efficiency. </p>\n",
    "<p><strong>Hint:</strong> You can check if the value of variable <code>x</code> is Nan as follows:</p>\n",
    "<p><code>import numpy as np\n",
    "np.isnan(x)</code></p>"
   ]
  },
  {
   "cell_type": "markdown",
   "metadata": {
    "id": "4whGF915BcJj",
    "tags": [
     "ans_st"
    ]
   },
   "source": [
    "**Answer.**"
   ]
  },
  {
   "cell_type": "markdown",
   "metadata": {
    "id": "dHSJ2MjyBcJj"
   },
   "source": [
    "-------"
   ]
  },
  {
   "cell_type": "markdown",
   "metadata": {
    "id": "LsytokKBBcJj"
   },
   "source": [
    "<h2>Largest importers and exporters of energy</h2>\n",
    "<p>The final thing that your team wants to look into is imports and exports of energy by country.</p>"
   ]
  },
  {
   "cell_type": "markdown",
   "metadata": {
    "id": "JSzCRR_iBcJk"
   },
   "source": [
    "<h3>Exercise 10:</h3>\n",
    "<p>Your team wants to know:</p>\n",
    "<ul>\n",
    "<li>Which countries have imported and exported the most power in total</li>\n",
    "<li>Which countries have imported the largest percentage of their <em>demand</em> and exported the largest percentage of their <em>production</em></li>\n",
    "</ul>\n",
    "<p>Do the analysis for all countries <em>and</em> for only countries with total production in the top 10%.</p>"
   ]
  },
  {
   "cell_type": "markdown",
   "metadata": {
    "id": "hzE_UkYWBcJk",
    "tags": [
     "ans_st"
    ]
   },
   "source": [
    "**Answer.**"
   ]
  },
  {
   "cell_type": "markdown",
   "metadata": {
    "id": "XFa0yJ2jBcJk"
   },
   "source": [
    "-------"
   ]
  },
  {
   "cell_type": "markdown",
   "metadata": {
    "id": "Z30fow6vBcJk"
   },
   "source": [
    "<h2>Writing new country-specific summary data to disk</h2>"
   ]
  },
  {
   "cell_type": "markdown",
   "metadata": {
    "id": "4zb0OpylBcJk"
   },
   "source": [
    "<p>Your team is delighted that you've managed to make sense of the data and extract some insights. They want to explore the data themselves too, but all of their existing tools are designed to analyze data from only one country at a time. They have asked that you create separate CSV files for each country, using the country as the file name, with a maximum of 25 rows per file (one per year) and columns for imports, exports, etc.</p>\n",
    "<p>To do this, we use the <a href=\"https://pandas.pydata.org/pandas-docs/stable/reference/api/pandas.DataFrame.to_csv.html\"><code>to_csv</code></a> function on a given DataFrame to write it to a file. We create a new directory called \"output_csvs\" in our working directory so that we don't clutter up our workspace with 243 CSV files. Then we run the following code to write our data to disk:</p>"
   ]
  },
  {
   "cell_type": "code",
   "execution_count": null,
   "metadata": {
    "id": "1BgkWNesBcJk"
   },
   "outputs": [],
   "source": [
    "OUTPUT_DIRECTORY = \"output_csvs\"\n",
    "\n",
    "if not os.path.exists(OUTPUT_DIRECTORY):\n",
    "    os.makedirs(OUTPUT_DIRECTORY)\n",
    "\n",
    "for country in df_countries['country'].unique():\n",
    "    country_df = df_countries[df_countries.country == country].drop(columns='country')\n",
    "    country_df.to_csv(f\"{OUTPUT_DIRECTORY}/{country}.csv\")"
   ]
  },
  {
   "cell_type": "markdown",
   "metadata": {
    "id": "jmzLTdCLBcJk"
   },
   "source": [
    "<h2>Conclusions</h2>\n",
    "<p>We saw a number of interesting trends in the global energy industry. Specifically, we saw that many countries are relying more and more on renewables, but that some of the countries with fast-growing demand are forced to turn to non-renewable sources to keep up.</p>\n",
    "<p>We also noticed that contrary to our expectations of some countries being \"net importers\" and others being \"net exporters\" of power, many countries actually both import <em>and</em> export large amounts of power.</p>"
   ]
  },
  {
   "cell_type": "markdown",
   "metadata": {
    "id": "QLGIjPQyBcJl"
   },
   "source": [
    "<h2>Takeaways</h2>\n",
    "<p>In this case, we covered some more features of <code>pandas</code> and got more practice with the features we covered previously. Specifically we saw how to:</p>\n",
    "<ul>\n",
    "<li>Use the <code>apply()</code> method in <code>pandas</code> with build-in functions, custom functions, and anonymous functions</li>\n",
    "<li>Work with large datasets and explore these using basic string matching to find interesting columns, and reformat the results into more convenient formats</li>\n",
    "<li>Pivot between wide and narrow formats</li>\n",
    "<li>Plot basic line plots</li>\n",
    "<li>Break up a large dataset into smaller ones and write these back to disk</li>\n",
    "</ul>\n",
    "<p>While you'll learn more advanced functionality than this in later cases, these basics will be used again and again, so keep coming back to this case as reference material as often as you need.</p>"
   ]
  },
  {
   "cell_type": "code",
   "execution_count": null,
   "metadata": {
    "id": "K9DpXrprBcJl"
   },
   "outputs": [],
   "source": []
  }
 ],
 "metadata": {
  "colab": {
   "provenance": []
  },
  "kernelspec": {
   "display_name": "Python 3 (ipykernel)",
   "language": "python",
   "name": "python3"
  },
  "language_info": {
   "codemirror_mode": {
    "name": "ipython",
    "version": 3
   },
   "file_extension": ".py",
   "mimetype": "text/x-python",
   "name": "python",
   "nbconvert_exporter": "python",
   "pygments_lexer": "ipython3",
   "version": "3.12.7"
  }
 },
 "nbformat": 4,
 "nbformat_minor": 4
}
